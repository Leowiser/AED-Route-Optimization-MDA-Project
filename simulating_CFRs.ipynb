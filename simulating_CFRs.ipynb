{
 "cells": [
  {
   "cell_type": "markdown",
   "id": "8f037017-ffd7-45aa-a018-84882ed51e31",
   "metadata": {},
   "source": [
    "# Leuven - Simulating Community First Responders"
   ]
  },
  {
   "cell_type": "markdown",
   "id": "ae07560f-3482-4670-86f6-5180e0d31c69",
   "metadata": {},
   "source": [
    "To create a realistic distribution of potential first responders, we need to get an approximate distribution of where people of working-age are located in Leuven. We must have an accurate perception of how many working-age people are located in the city, and where they are located. After doing this, when running the algorithm, we can randomly sample CFR locations in a way which reflects where they are likely to be: higher sampling probability in areas of the city with more working-age people.\n",
    "\n",
    "#### Data sources:\n",
    "- **Population age distribution by statistical sector**: https://publish.geo.be/geonetwork/IGiLJUGB/api/records/0202b8dd-1c7e-4331-8ba7-35e1fef4037a?language=eng\n",
    "| Number of Leuven residents in the 0-14, 15-64 and 65+ age groups.\n",
    "- **Flemish kotlabel**: https://www.vlaanderen.be/datavindplaats/catalogus/vlaams-kotlabel-via-poi-service\n",
    "| Location of student rooms which have requested, received or been refused the Flemish kotlabel.\n",
    "- **Student statistics**: https://onderwijs.vlaanderen.be/nl/onderwijsstatistieken/dataloep-aan-de-slag-met-cijfers-over-onderwijs\n",
    "| Contains information on the number of student at institutions registered in each municipality in Flanders, and their place of residence.\n",
    "- **KUL associated residences**: https://www.kuleuven.be/english/life-at-ku-leuven/housing/find-housing/students/residences\n",
    "| Data on number of students in each residence, and their locations, attained manually from their respective webpages.\n",
    "- **Municipality workers data, municipality of employment**: https://statbel.fgov.be/nl/themas/census/arbeidsmarkt/jobkenmerken#panel-13\n",
    "| (file: T01_BE_LPW_REFNIS_07JAN25_NL.xlsx)\n",
    "| Where Leuven workers are commuting from, and where Leuven workers are commuting to.\n",
    "- **Municipality workers data, employment status**: https://statbel.fgov.be/nl/themas/census/arbeidsmarkt/jobkenmerken#panel-13\n",
    "| (file: T01_CAS_AGE_BE_NL.xlsx)\n",
    "| Gives us the number of Leuven residents who are working, unemployed, or registered as students (15-64, or 20-64).\n",
    "\n"
   ]
  },
  {
   "cell_type": "code",
   "execution_count": null,
   "id": "871df33f-3bf6-4516-a878-7c378f918bb0",
   "metadata": {},
   "outputs": [],
   "source": [
    "import numpy as np\n",
    "import geopandas as gpd\n",
    "import pandas as pd\n",
    "from shapely.geometry import Point \n",
    "import matplotlib.pyplot as plt\n",
    "import folium"
   ]
  },
  {
   "cell_type": "markdown",
   "id": "b253e233-be77-4ef0-845d-f2fb85b809fb",
   "metadata": {},
   "source": [
    "### Nighttime population\n",
    "We want to calculate the number of working-age actually residing in the city.\n",
    "\n",
    "The first step in this process involves using publicly available data on residents of the city. This is easily obtained from Statistics Flanders and geo.be. We will use data on individuals in the 15-64 age group, who may be eligible for becoming a community first responder, and will supplement these numbers by accounting for students who live in Leuven.\n",
    "\n"
   ]
  },
  {
   "cell_type": "markdown",
   "id": "6826453b-2fe3-4c87-8b05-c85b37d57db4",
   "metadata": {},
   "source": [
    "#### Population age breakdown by statistical sector"
   ]
  },
  {
   "cell_type": "code",
   "execution_count": null,
   "id": "38acf673-b02a-48da-9ba7-ca03a8770ea2",
   "metadata": {},
   "outputs": [],
   "source": [
    "## load in the data\n",
    "pop_dist_stat_sector_gdf = gpd.read_file(\"Data/BE_SB_TF_PD_STATDIS_2024.gpkg\")"
   ]
  },
  {
   "cell_type": "code",
   "execution_count": null,
   "id": "51635d1e-c8fa-4411-b37c-89b6f6f961f5",
   "metadata": {},
   "outputs": [],
   "source": [
    "## take the NIS code corresponding to leuven municipality (24062)\n",
    "leuven_gdf = pop_dist_stat_sector_gdf[pop_dist_stat_sector_gdf[\"CNIS5_2024\"]==\"24062\"]\n",
    "# Replace NaN values with 0 for sectors with no residents\n",
    "leuven_gdf.fillna(0, inplace=True)"
   ]
  },
  {
   "cell_type": "code",
   "execution_count": null,
   "id": "1509d732-9fe4-4c48-975c-a9846f8dd09e",
   "metadata": {},
   "outputs": [],
   "source": [
    "leuven_gdf.head()"
   ]
  },
  {
   "cell_type": "code",
   "execution_count": null,
   "id": "8fb9ca9d-a9e5-40cf-aedb-0afd097c3bc1",
   "metadata": {},
   "outputs": [],
   "source": [
    "## calculate the propotion of people of working age (possible CFRs)\n",
    "leuven_gdf[\"working_age_prop\"] = leuven_gdf[\"group15_64\"]/leuven_gdf[\"TOTAL\"];"
   ]
  },
  {
   "cell_type": "code",
   "execution_count": null,
   "id": "f6e60566-e40d-4cdb-b212-6826bba2d088",
   "metadata": {},
   "outputs": [],
   "source": [
    "## You can get an nice interactive plot using \"geodataframe_name\".explore(\"attribute_of_interest\")\n",
    "# leuven_gdf.explore(\"group15_64\")"
   ]
  },
  {
   "cell_type": "markdown",
   "id": "bac0d4fc-b8df-4d64-91f6-c341cb3bcc72",
   "metadata": {},
   "source": [
    "\n",
    "\n",
    "### Student Population\n",
    "\n",
    "The municipality has a very high student population. Most of these students are not registered as city residents. This is because Belgian students, and students from neighbouring counntries (annex 33), remain officially resident in their hometown while studying. Only other international students must register at the town hall (annex 19). It is assumed that international PhD students must register in the city. Anecdotally, it is known that some other international students do not officially register during their time as a student in the city. \n",
    "\n",
    "## ----------\n",
    "## OBSOLETE\n",
    "\n",
    "#### Census data\n",
    "\n",
    "We calculate the number of university students registered as residents in the city using a combination of the two datasets:\n",
    "- Employment data between 15-64\n",
    "- Population age data\n",
    "\n",
    "We assume that approximately all students under 18 remain in full time education. We take the number of students aged over 15, and subtract the number of people aged between 15 and 17 => we get the number of students aged 18 or older.\n",
    "## ----------"
   ]
  },
  {
   "cell_type": "code",
   "execution_count": null,
   "id": "3688456b-2c1a-415a-9756-7ec7d07393db",
   "metadata": {},
   "outputs": [],
   "source": [
    "## Obsolete\n",
    "\n",
    "# ## calculating number of students over 18\n",
    "# # reading in population employment data 15-64\n",
    "# employment_15_64 = pd.read_excel(\"Data/T01_CAS_AGE_BE_NL.XLSX\", \"CENSUS_T01_2021_BE_CAS1564_2021\", skiprows=3)\n",
    "# # Create a new list of headers, keeping the existing non-unnamed headers\n",
    "# new_columns = []\n",
    "# for current_col, new_col in zip(employment_15_64.columns, employment_15_64.iloc[0]):\n",
    "#     if \"Unnamed\" in current_col:  # Replace only Unnamed headers\n",
    "#         new_columns.append(new_col)\n",
    "#     else:  # Keep the current non-unnamed header\n",
    "#         new_columns.append(current_col)\n",
    "# # Update the DataFrame headers\n",
    "# new_columns[2] = \"Gender\"\n",
    "# employment_15_64.columns = new_columns\n",
    "# # drop first row (used to update headers)\n",
    "# employment_15_64 = employment_15_64.drop(0).reset_index(drop=True)\n",
    "# ## just take the totals, ignore gender\n",
    "# ## fill in the NaNs\n",
    "# employment_15_64[['CODE-NIS', 'Verblijfplaats']] = employment_15_64[['CODE-NIS', 'Verblijfplaats']].ffill()\n",
    "# ## just take the totals, ignore gender\n",
    "# totals_employment_15_64 = employment_15_64.loc[(employment_15_64[\"Gender\"] == \"Totaal\")]\n",
    "# ## filter Leuven\n",
    "# leuven_students_over_15 = totals_employment_15_64.loc[(totals_employment_15_64[\"CODE-NIS\"] == \"24062\")]\n",
    "\n",
    "# ## count the number of people in leuven between 15 and 17\n",
    "# # reading in statistical sector data which contains populations counts\n",
    "# pop_df = pd.read_csv(\"Data/TF_SOC_POP_STRUCT_2024.txt\", sep = '|')\n",
    "# pop_df_leuven = pop_df[pop_df[\"TX_DESCR_NL\"] == \"Leuven\"]\n",
    "# pop_df_leuven_age = pop_df_leuven.groupby(\"CD_AGE\")[\"MS_POPULATION\"].sum().reset_index()\n",
    "# minors_over_15 = sum(pop_df_leuven_age.loc[\n",
    "#                     (pop_df_leuven_age[\"CD_AGE\"] == 15)| \n",
    "#                     (pop_df_leuven_age[\"CD_AGE\"] == 16)|\n",
    "#                     (pop_df_leuven_age[\"CD_AGE\"] == 17), \n",
    "#                     \"MS_POPULATION\"])\n",
    "\n",
    "# leuven_students_over_18 = leuven_students_over_15[\"2.3 Studenten\"] - minors_over_15\n",
    "# leuven_students_over_18"
   ]
  },
  {
   "cell_type": "markdown",
   "id": "4c413adf-5557-42de-badb-745ab2eb556e",
   "metadata": {},
   "source": [
    "#### Calculating number of students who live in Leuven, but who are not officially resident there\n",
    "To try to account for distribution of unregistered students, we will estimate their number and rescale the number of student rooms throughout the city so that each student is accommodated."
   ]
  },
  {
   "cell_type": "code",
   "execution_count": null,
   "id": "944d4486-fde8-4d16-a080-8aa150e0749e",
   "metadata": {},
   "outputs": [],
   "source": [
    "## data taken from https://onderwijs.vlaanderen.be/nl/onderwijsstatistieken/dataloep-aan-de-slag-met-cijfers-over-onderwijs\n",
    "## total leuven students\n",
    "total_leuven_students = 59399\n",
    "## total number of students in Leuven registered as residents of Leuven\n",
    "leuven_resident_students = 8902\n",
    "## total unregistered leuven students residents\n",
    "unreg_leuven_students = total_leuven_students - leuven_resident_students\n",
    "print(unreg_leuven_students)\n",
    "\n",
    "unreg_prop = leuven_resident_students/total_leuven_students\n",
    "\n",
    "##\n",
    "#### Obsolete below, found better data, no need to approximate anymore\n",
    "##\n",
    "\n",
    "# ## taken from https://www.kuleuven.be/prodstudinfo/v2/50000050/aant_det_en_v2.html\n",
    "# ## total number of ku leuven students\n",
    "# total_ku_leuven_students = 65535\n",
    "# ## total number of students at the leuven campus\n",
    "# leuven_campus_students = 50133\n",
    "# ## number of UCLL students in Leuven (rough estimate, half of UCLL campuses in leuven => half of students in Leuven)\n",
    "# ucll_students = 17000/2\n",
    "# ## number of students at LUCA school of arts in Leuven\n",
    "# luca_students = 572\n",
    "# ## total number of KUL (degree-seeing and exchange) international students\n",
    "# kul_internationals = 7259 + 2055\n",
    "# ## number of LUCA internationals in Leuven\n",
    "# luca_internationals = 103\n",
    "# ## most international students are (supposed to be) registered at the city hall, except those from neighbouring countries\n",
    "# ## (subtract number of dutch, german, french students (no data on luxembourgers))\n",
    "# reg_kul_internationals = kul_internationals-(1168+616+439)()\n",
    "# ## calculating total proportion of students who are international and registered as living in the city out of ALL INTERNATIONALS\n",
    "# ## (assume similar proportion for UCLL and LUCA school of arts)\n",
    "# reg_international_prop = reg_kul_internationals/kul_internationals\n",
    "# ## calculating total proportion of students who are international and registered as living in the city OUT OF TOTAL\n",
    "# ## (assume similar proportion for UCLL and LUCA school of arts)\n",
    "# reg_student_prop = reg_kul_internationals/total_ku_leuven_students\n",
    "# ## calculating proportion of unregistered students\n",
    "# unreg_prop = 1-reg_student_prop \n",
    "# unreg_leuven_students = round((leuven_campus_students + ucll_students + luca_students)*(unreg_prop))\n",
    "# unreg_leuven_students"
   ]
  },
  {
   "cell_type": "markdown",
   "id": "912df684-a0f6-4dd1-ad22-26a2312b8591",
   "metadata": {},
   "source": [
    "This is the estimated number of students in Leuven who are not registered as living in the city. They are unaccounted for in the statistical sector data. After accounting for those who are unregistered and living in KUL associated residences, we will rescale the number of kots in each statistical sector to get a realistic nighttime population distribution"
   ]
  },
  {
   "cell_type": "markdown",
   "id": "75633c2c-76df-451e-abaa-7b6cfaa192ff",
   "metadata": {},
   "source": [
    "#### Flemish Kotlabel"
   ]
  },
  {
   "cell_type": "markdown",
   "id": "8b6951ea-8908-44df-b941-40c16dc2fe36",
   "metadata": {},
   "source": [
    "Using data from geopunt.be on locations of student rooms, we can see where many students in the city live."
   ]
  },
  {
   "cell_type": "code",
   "execution_count": null,
   "id": "bb8d70bd-0fca-4715-ab8f-fdf9d3c6f235",
   "metadata": {},
   "outputs": [],
   "source": [
    "## load in the data\n",
    "std_rooms_df = pd.read_csv(\"Data/student_rooms.csv\", sep=';')"
   ]
  },
  {
   "cell_type": "code",
   "execution_count": null,
   "id": "075cf93f-ba83-4f8c-b658-113f4eb119ec",
   "metadata": {
    "scrolled": true
   },
   "outputs": [],
   "source": [
    "# Display the first few rows of the dataframe to verify\n",
    "std_rooms_df.iloc[1]\n",
    "# Create a 'geometry' column with shapely Points using the longitude and latitude\n",
    "std_rooms_df['geometry'] = std_rooms_df.apply(lambda row: Point(row['WGS84_LONGITUDE'], row['WGS84_LATITUDE']), axis=1)\n",
    "\n",
    "# Convert the DataFrame to a GeoDataFrame\n",
    "std_rooms_gdf = gpd.GeoDataFrame(std_rooms_df, geometry='geometry')\n",
    "\n",
    "# Set the coordinate reference system (CRS) to WGS84 (EPSG:4326)\n",
    "std_rooms_gdf.set_crs(epsg=4326, inplace=True)\n",
    "\n",
    "## change the coordinate reference system of our student room geodataframe to match census one\n",
    "std_rooms_gdf = std_rooms_gdf.to_crs(leuven_gdf.crs)\n",
    "\n",
    "print(std_rooms_gdf.head())"
   ]
  },
  {
   "cell_type": "code",
   "execution_count": null,
   "id": "a92e6280-2229-4af2-831f-84fc93f623a0",
   "metadata": {
    "scrolled": true
   },
   "outputs": [],
   "source": [
    "### rooms vary according to if they have requested, been approved for, or been rejected for getting the flemish kotlabel\n",
    "std_rooms_gdf.OMSCHR.unique()"
   ]
  },
  {
   "cell_type": "code",
   "execution_count": null,
   "id": "47f6b23e-e2e5-420a-b61c-abb27ad28e66",
   "metadata": {},
   "outputs": [],
   "source": [
    "# std_rooms_gdf.explore()"
   ]
  },
  {
   "cell_type": "code",
   "execution_count": null,
   "id": "60e2ca3c-c729-48ec-8a4a-ab91b873662d",
   "metadata": {},
   "outputs": [],
   "source": [
    "known_kots = std_rooms_gdf.shape[0]\n",
    "known_kots"
   ]
  },
  {
   "cell_type": "markdown",
   "id": "25289538-8e7d-4e25-b87e-5e580fc72b5e",
   "metadata": {},
   "source": [
    "The geodataframe has _point_ geometry objects, indicating the location of the student room. Many of the student room points are overlapping. We would like to sum the number of kots at each address to get the number of students living at each address."
   ]
  },
  {
   "cell_type": "code",
   "execution_count": null,
   "id": "22295fac-4751-4157-b137-739576c103f9",
   "metadata": {},
   "outputs": [],
   "source": [
    "## each room can house one student, add a population column for this\n",
    "std_rooms_gdf[\"pop\"] = np.ones(std_rooms_gdf.shape[0])\n",
    "std_rooms_gdf = std_rooms_gdf[[\"pop\",\"geometry\"]]\n",
    "std_rooms_gdf.head()"
   ]
  },
  {
   "cell_type": "code",
   "execution_count": null,
   "id": "435b37ad-44c0-4865-86dc-9982c440f567",
   "metadata": {},
   "outputs": [],
   "source": [
    "# Group by 'geometry' and sum the 'pop' column to get the total number of rooms at each location\n",
    "grouped_std_rooms_gdf = std_rooms_gdf.groupby('geometry').agg({'pop': 'sum'}).reset_index()\n",
    "grouped_std_rooms_gdf\n",
    "# Convert back to a GeoDataFrame if needed\n",
    "grouped_std_rooms_gdf = gpd.GeoDataFrame(grouped_std_rooms_gdf, geometry='geometry')"
   ]
  },
  {
   "cell_type": "markdown",
   "id": "5fea7d3a-8907-41ee-b6ac-09bce0d08154",
   "metadata": {},
   "source": [
    "There are **12257 student rooms** accounted for in the kotlabel dataset, spread across **1095 locations** in the municipality of Leuven. We _could_ add these numbers to the working age population of each statistical sector to get a more realistic nighttime population distribution. However, this is not all of the students rooms in Leuven. Also, these rooms may be registered to international students, who may be officially registered in the municipality already. We can rescale this value to match the number of unregistered students in Leuven, and reweight the number of student rooms in each statistical sector (proxy variable for the number of unregistered students in each statistical sector) accordingly.\n",
    "\n",
    "Many student residences are missing. They account for thousands more student rooms. It should be easy to obtain these locations, and add these to our current student room information. This will slightly decrease the numebr of students who are unaccounted for, and thus we will not reweight the numebr of student rooms by as much."
   ]
  },
  {
   "cell_type": "markdown",
   "id": "2b2388b3-0ce2-4c8f-b05b-76a4f2284df5",
   "metadata": {},
   "source": [
    "### Residence halls"
   ]
  },
  {
   "cell_type": "code",
   "execution_count": null,
   "id": "d13027c7-22e8-4dc9-b630-a5f48ce03707",
   "metadata": {},
   "outputs": [],
   "source": [
    "## data on number of residence halls from the KU Leuven official webpage, georeferenced with google maps manually if missing\n",
    "kul_residences = gpd.read_file(\"Data/kul_residence_shapefiles/KU Leuven residenties.shp\")\n",
    "stuvo_residences = gpd.read_file(\"Data/kul_residence_shapefiles/KU Leuven Stuvo Residence Halls.shp\")\n",
    "other_residences = gpd.read_file(\"Data/kul_residence_shapefiles/SWO residenties KU Leuven.shp\")"
   ]
  },
  {
   "cell_type": "code",
   "execution_count": null,
   "id": "3f149b01-e28f-4cac-9cef-eab9048ad5c3",
   "metadata": {},
   "outputs": [],
   "source": [
    "kul_residences.head()"
   ]
  },
  {
   "cell_type": "code",
   "execution_count": null,
   "id": "18f057db-0652-4a3e-b4c5-81d0f8951177",
   "metadata": {},
   "outputs": [],
   "source": [
    "# take columns of interest\n",
    "kul_residences = kul_residences[[\"Name\", \"geometry\"]]\n",
    "## change CRS to correct one\n",
    "kul_residences = kul_residences.to_crs(leuven_gdf.crs)\n",
    "## input pops taken from kuleuven website\n",
    "kul_residences[\"pop\"]= [181, 208, 87, 150, 44, 192, 320, 106, 167, 145, 471, 18, 200, 234, 67, 40]\n",
    "## 50% domestic intake\n",
    "kul_residences[\"unreg_residence_pop\"] = round(kul_residences[\"pop\"]*(0.5))\n",
    "# take columns of interest\n",
    "kul_residences = kul_residences[[\"Name\", \"pop\", \"unreg_residence_pop\", \"geometry\"]]\n",
    "kul_residences"
   ]
  },
  {
   "cell_type": "code",
   "execution_count": null,
   "id": "51ad2464-42ec-4eb9-abfc-316f56092b6a",
   "metadata": {
    "scrolled": true
   },
   "outputs": [],
   "source": [
    "## take columns of interest\n",
    "stuvo_residences = stuvo_residences[[\"Name\", \"geometry\"]]\n",
    "stuvo_residences[\"index\"] = stuvo_residences.index\n",
    "## change CRS to correct one\n",
    "stuvo_residences = stuvo_residences.to_crs(leuven_gdf.crs)\n",
    "## input pops taken from kuleuven website\n",
    "stuvo_residences[\"pop\"]= [35,493,50,72,281,45,820,64,135,95,113,54,102,27,178,26,20,107,60,28,89,94,58,191]\n",
    "## 80% domestic intake\n",
    "stuvo_residences[\"unreg_residence_pop\"] = round(stuvo_residences[\"pop\"]*0.8)\n",
    "# take columns of interest\n",
    "stuvo_residences = stuvo_residences[[\"Name\", \"pop\", \"unreg_residence_pop\", \"geometry\"]]\n",
    "stuvo_residences"
   ]
  },
  {
   "cell_type": "code",
   "execution_count": null,
   "id": "fefb51c3-81d4-41a7-8476-28fce168e482",
   "metadata": {},
   "outputs": [],
   "source": [
    "## take columns of interest\n",
    "other_residences = other_residences[[\"Name\", \"geometry\"]]\n",
    "other_residences[\"index\"] = other_residences.index\n",
    "## change CRS to correct one\n",
    "other_residences = other_residences.to_crs(leuven_gdf.crs)\n",
    "## input pops taken from kuleuven website\n",
    "other_residences[\"pop\"] = [205, 92, 254, 139, 74]\n",
    "## 80% domestic intake\n",
    "other_residences[\"unreg_residence_pop\"] = round(other_residences[\"pop\"]*0.8)\n",
    "# take columns of interest\n",
    "other_residences = other_residences[[\"Name\", \"pop\", \"unreg_residence_pop\", \"geometry\"]]\n",
    "other_residences"
   ]
  },
  {
   "cell_type": "code",
   "execution_count": null,
   "id": "e5eb8b7b-bab0-43c9-ae7c-edd53c353453",
   "metadata": {},
   "outputs": [],
   "source": [
    "all_residences = pd.concat([kul_residences, stuvo_residences])\n",
    "all_residences = pd.concat([all_residences, other_residences])\n",
    "all_residences = all_residences.reset_index()\n",
    "\n",
    "# Convert the geometry column to WKT (Well-Known Text) format for displaying in the tooltip\n",
    "grouped_std_rooms_gdf['index'] = grouped_std_rooms_gdf.index\n",
    "\n",
    "## I used this manually cross-check if a residence was already included via the flemish kotlabel\n",
    "m = all_residences.explore(color = \"red\", name = \"KUL Residences\", tooltip=['Name'])\n",
    "m = grouped_std_rooms_gdf.explore(m = m, color = \"blue\", name = \"Known student rooms\",tooltip=['pop','index'])\n",
    "folium.LayerControl().add_to(m)\n",
    "# m"
   ]
  },
  {
   "cell_type": "code",
   "execution_count": null,
   "id": "e00812cd-459b-47d8-a1b5-7f8eba49178e",
   "metadata": {},
   "outputs": [],
   "source": [
    "print(sum(all_residences[\"pop\"]),sum(all_residences[\"unreg_residence_pop\"]))"
   ]
  },
  {
   "cell_type": "markdown",
   "id": "57b52a8f-795c-4193-ad11-7b9aa99fee89",
   "metadata": {},
   "source": [
    "The population of students in residences associated with KU Leuven is **6631**, with approximately **4516 domestic** students, who will not be registered as residing in the municipality.\n",
    "\n",
    "Some residences are already included in the flemish kotlabel dataset. These residences have much more rooms than the average for a particular address, sometimes containing hundreds of kots. They are essentially outliers in the kotlabel dataset. When scaling the population, if they are left in, they will have an outsized effect on number of student kots added to a statistical sector, unreasonably inflating the number. Therefore, we will delete these rooms from the kotlabel dataset."
   ]
  },
  {
   "cell_type": "markdown",
   "id": "ca3ef17e-7708-4b70-adbd-c4414e52141a",
   "metadata": {},
   "source": [
    "#### Deleting KUL residence kots from the kotlabel dataset"
   ]
  },
  {
   "cell_type": "code",
   "execution_count": null,
   "id": "443d6a5f-38ab-44a9-8bb0-64b8ec56e591",
   "metadata": {},
   "outputs": [],
   "source": [
    "## list of indices of residences duplicated in the flemish kotabel dataset \n",
    "## (carefully manually verified, some residences have multiple instances in the data, slightly differing point location)\n",
    "duplicate_residence_indices = [161,162,163,166,100,101,1091,71,80,457,950,1008]\n",
    "grouped_std_rooms_gdf.iloc[duplicate_residence_indices][\"pop\"]"
   ]
  },
  {
   "cell_type": "code",
   "execution_count": null,
   "id": "f6ddef3e-1770-4f50-bb54-dc35ac13d270",
   "metadata": {},
   "outputs": [],
   "source": [
    "## drop the duplicates\n",
    "grouped_std_rooms_gdf = grouped_std_rooms_gdf.drop(duplicate_residence_indices)"
   ]
  },
  {
   "cell_type": "code",
   "execution_count": null,
   "id": "c6603b9c-69a6-4da1-8aab-015c7bd5d882",
   "metadata": {},
   "outputs": [],
   "source": [
    "grouped_std_rooms_gdf"
   ]
  },
  {
   "cell_type": "code",
   "execution_count": null,
   "id": "d4ff5c39-06fb-43d6-be53-067e1a60f583",
   "metadata": {
    "scrolled": true
   },
   "outputs": [],
   "source": [
    "## we want to exclude the unregistered population which is accounted for in the kul associated residences\n",
    "unreg_scalar = unreg_leuven_students - sum(all_residences[\"unreg_residence_pop\"])\n",
    "unreg_scalar"
   ]
  },
  {
   "cell_type": "markdown",
   "id": "006506a5-e4a8-487f-b62e-47173253b786",
   "metadata": {},
   "source": [
    "Subtracting the approximate number of unregistered students who reside a KU Leuven associated residences, we obtain an estimate of the number of students for whom we need to \"house\" somewhere in the municipality: **45981 unaccounted for students**.\n",
    "\n",
    "To approximate where these students reside, we rescale the number of kots at the locations which we are aware of from the flemish kotlabel dataset. This is under the assumption that their is no spatial correlation of missing data within this dataset."
   ]
  },
  {
   "cell_type": "code",
   "execution_count": null,
   "id": "faa18681-ea69-4f07-979f-31cfdcefb33f",
   "metadata": {
    "scrolled": true
   },
   "outputs": [],
   "source": [
    "## rescale the population of each room so that we get a realistic distribution of student housing locations\n",
    "grouped_std_rooms_gdf[\"scaled_pop\"] = grouped_std_rooms_gdf[\"pop\"]*(unreg_scalar/std_rooms_gdf.shape[0])\n",
    "grouped_std_rooms_gdf=grouped_std_rooms_gdf.drop(\"index\",axis=1)\n",
    "grouped_std_rooms_gdf.head()"
   ]
  },
  {
   "cell_type": "markdown",
   "id": "174c3d08-e399-4668-be19-9d1e84bdf6ba",
   "metadata": {},
   "source": [
    "Now we are finally ready to obtain as estimate of the \"nighttime\" residents of the municipality of Leuven. To do so, we will merge the information of our census data with our dataframes with estimates of the locations of all students."
   ]
  },
  {
   "cell_type": "code",
   "execution_count": null,
   "id": "d38a3d40-9aae-4c34-83ae-857b32233894",
   "metadata": {
    "scrolled": true
   },
   "outputs": [],
   "source": [
    "# Perform spatial join to assign each student room to a statistical sector\n",
    "rooms_with_sectors = gpd.sjoin(grouped_std_rooms_gdf, leuven_gdf, how=\"inner\", op=\"within\")\n",
    "\n",
    "# Sum the scaled student room populations by statistical sector\n",
    "student_room_population_by_sector = rooms_with_sectors.groupby('CS01012024')['scaled_pop'].sum()\n",
    "\n",
    "# Now, merge this summed student population with the sectors dataframe\n",
    "sectors_with_total_population = leuven_gdf.merge(student_room_population_by_sector, on='CS01012024', how='left')\n",
    "\n",
    "# Replace NaN values with 0 for sectors with no student rooms\n",
    "sectors_with_total_population['scaled_pop'].fillna(0, inplace=True)"
   ]
  },
  {
   "cell_type": "code",
   "execution_count": null,
   "id": "f607e2dc-6318-46c4-af83-42c721c4e4d0",
   "metadata": {},
   "outputs": [],
   "source": [
    "## this plot shows which statistical sectors population has been boosted by adding the scaled kot population\n",
    "# sectors_with_total_population.explore(\"scaled_pop\")"
   ]
  },
  {
   "cell_type": "markdown",
   "id": "2d2ef03b-6007-4d3e-979f-e3e15845e7ce",
   "metadata": {},
   "source": [
    "#### Still have to add the residences"
   ]
  },
  {
   "cell_type": "code",
   "execution_count": null,
   "id": "bb4772d3-4043-4660-9712-a2a163bfa51a",
   "metadata": {
    "scrolled": true
   },
   "outputs": [],
   "source": [
    "# Perform spatial join to assign each residence room to a statistical sector\n",
    "residences_with_sectors = gpd.sjoin(all_residences, sectors_with_total_population, how=\"inner\", op=\"within\")\n",
    "\n",
    "# Sum the residences rooms by statistical sector\n",
    "residence_unreg_population_by_sector = residences_with_sectors.groupby('CS01012024')['unreg_residence_pop'].sum()\n",
    "\n",
    "# Now, merge this summed student population with the sectors dataframe\n",
    "res_sectors_with_total_population = sectors_with_total_population.merge(residence_unreg_population_by_sector, on='CS01012024', how='left')\n",
    "\n",
    "# Replace NaN values with 0 for sectors with no residences\n",
    "res_sectors_with_total_population['unreg_residence_pop'].fillna(0, inplace=True)\n",
    "\n",
    "# Add the population from residence rooms to the population of each sector\n",
    "res_sectors_with_total_population['total_possible_CFR'] = round(\n",
    "    res_sectors_with_total_population['group15_64'] + \n",
    "    res_sectors_with_total_population['scaled_pop'] +\n",
    "    res_sectors_with_total_population['unreg_residence_pop']\n",
    ")\n",
    "\n"
   ]
  },
  {
   "cell_type": "markdown",
   "id": "52cb729c-1b4c-4445-a159-8c12842df3f1",
   "metadata": {},
   "source": [
    "### Finally\n",
    "Now the population of each statistical sector has been updated by adding the scaled kot population _and_ unregistered students in residences. All working age people living in the city have been accounted for: non-resident students have been added to the population of each statistical sector."
   ]
  },
  {
   "cell_type": "code",
   "execution_count": null,
   "id": "727cc6be-896d-4f77-9087-921fc276205d",
   "metadata": {},
   "outputs": [],
   "source": [
    "## plotting the raw totals of possible CFRs per statistical sector\n",
    "# res_sectors_with_total_population.explore(\"total_possible_CFR\", tooltip = [\"group15_64\",\"scaled_pop\",\"unreg_residence_pop\",\"total_possible_CFR\"])"
   ]
  },
  {
   "cell_type": "code",
   "execution_count": null,
   "id": "b29e17f0-51bb-429a-8333-52766a23ce2a",
   "metadata": {
    "scrolled": true
   },
   "outputs": [],
   "source": [
    "sum(res_sectors_with_total_population[\"total_possible_CFR\"])"
   ]
  },
  {
   "cell_type": "code",
   "execution_count": null,
   "id": "4bcf10ec-df8e-4023-9121-d6eacca46632",
   "metadata": {},
   "outputs": [],
   "source": [
    "## plots to compare the old and new nighttime CFR sampling probability densities\n",
    "## new sampling density \n",
    "res_sectors_with_total_population[\"new_sampling_density\"] = res_sectors_with_total_population[\"total_possible_CFR\"]/res_sectors_with_total_population[\"geometry\"].area\n",
    "\n",
    "## old sampling density\n",
    "res_sectors_with_total_population[\"old_sampling_density\"] = (res_sectors_with_total_population[\"group0_14\"] + res_sectors_with_total_population[\"group15_64\"] +\n",
    "res_sectors_with_total_population[\"group65ETP\"])/res_sectors_with_total_population[\"geometry\"].area"
   ]
  },
  {
   "cell_type": "code",
   "execution_count": null,
   "id": "b03a2eff-47c8-428c-9361-0c682587f1ae",
   "metadata": {
    "scrolled": true
   },
   "outputs": [],
   "source": [
    "## old sampling density in each statistical sector\n",
    "# res_sectors_with_total_population.explore(\"old_sampling_density\")"
   ]
  },
  {
   "cell_type": "code",
   "execution_count": null,
   "id": "868912db-9b9a-42af-9244-e5b4ea87719c",
   "metadata": {},
   "outputs": [],
   "source": [
    "## new sampling density in each statistical sector\n",
    "# res_sectors_with_total_population.explore(\"new_sampling_density\")"
   ]
  }
 ],
 "metadata": {
  "kernelspec": {
   "display_name": "Python 3 (ipykernel)",
   "language": "python",
   "name": "python3"
  },
  "language_info": {
   "codemirror_mode": {
    "name": "ipython",
    "version": 3
   },
   "file_extension": ".py",
   "mimetype": "text/x-python",
   "name": "python",
   "nbconvert_exporter": "python",
   "pygments_lexer": "ipython3",
   "version": "3.12.9"
  }
 },
 "nbformat": 4,
 "nbformat_minor": 5
}
