{
 "cells": [
  {
   "cell_type": "code",
   "execution_count": 1,
   "metadata": {},
   "outputs": [],
   "source": [
    "# import class\n",
    "from Survival_prob_Class import survival_prob"
   ]
  },
  {
   "cell_type": "code",
   "execution_count": 2,
   "metadata": {},
   "outputs": [],
   "source": [
    "# initialize class\n",
    "test = survival_prob()"
   ]
  },
  {
   "cell_type": "code",
   "execution_count": 3,
   "metadata": {},
   "outputs": [],
   "source": [
    "# generate some data to try the class, some for all cases \n",
    "resp = [100, 200, 300, 400, 500, 600, 700, 300]\n",
    "aed = [200, 500, 300, 300, 400, 700, 1000, 500]\n",
    "vec = [500, 400, 600, 350, 300, 200, 1000, 300]"
   ]
  },
  {
   "cell_type": "code",
   "execution_count": 4,
   "metadata": {},
   "outputs": [
    {
     "name": "stdout",
     "output_type": "stream",
     "text": [
      "<class 'int'>\n"
     ]
    },
    {
     "ename": "TypeError",
     "evalue": "'<=' not supported between instances of 'int' and 'survival_prob'",
     "output_type": "error",
     "traceback": [
      "\u001b[0;31m---------------------------------------------------------------------------\u001b[0m",
      "\u001b[0;31mTypeError\u001b[0m                                 Traceback (most recent call last)",
      "Cell \u001b[0;32mIn[4], line 6\u001b[0m\n\u001b[1;32m      4\u001b[0m \u001b[38;5;28;01mfor\u001b[39;00m r, a, v \u001b[38;5;129;01min\u001b[39;00m \u001b[38;5;28mzip\u001b[39m(resp, aed, vec):\n\u001b[1;32m      5\u001b[0m     \u001b[38;5;28mprint\u001b[39m(\u001b[38;5;28mtype\u001b[39m(r))\n\u001b[0;32m----> 6\u001b[0m     prob_r, prob_v \u001b[38;5;241m=\u001b[39m \u001b[43mtest\u001b[49m\u001b[38;5;241;43m.\u001b[39;49m\u001b[43mprobability_survival\u001b[49m\u001b[43m(\u001b[49m\u001b[43mr\u001b[49m\u001b[43m,\u001b[49m\u001b[43m \u001b[49m\u001b[43ma\u001b[49m\u001b[43m,\u001b[49m\u001b[43m \u001b[49m\u001b[43mv\u001b[49m\u001b[43m)\u001b[49m\n\u001b[1;32m      7\u001b[0m     prob_resp\u001b[38;5;241m.\u001b[39mappend(prob_r)\n\u001b[1;32m      8\u001b[0m     prob_vec\u001b[38;5;241m.\u001b[39mappend(prob_v)\n",
      "File \u001b[0;32m~/MDA/AED-Route-Optimization-MDA-Project/Survival_prob_Class.py:27\u001b[0m, in \u001b[0;36msurvival_prob.probability_survival\u001b[0;34m(duration_responder, duration_AED, duration_vector, decrease_with_cpr, decrease_no_cpr)\u001b[0m\n\u001b[1;32m     24\u001b[0m \u001b[38;5;66;03m# also add vector to calcualtion since we never have only first responder \u001b[39;00m\n\u001b[1;32m     25\u001b[0m fastest_aed \u001b[38;5;241m=\u001b[39m \u001b[38;5;28mmin\u001b[39m(duration_AED, duration_vector) \u001b[38;5;66;03m# get the fastest of the aed and vector that can arrive with aed \u001b[39;00m\n\u001b[0;32m---> 27\u001b[0m \u001b[38;5;28;01mif\u001b[39;00m(\u001b[43mfastest_aed\u001b[49m\u001b[43m \u001b[49m\u001b[38;5;241;43m<\u001b[39;49m\u001b[38;5;241;43m=\u001b[39;49m\u001b[43m \u001b[49m\u001b[43mduration_responder\u001b[49m): \u001b[38;5;66;03m# if AED/vector is faster or as fast as first responder, no cpr is started\u001b[39;00m\n\u001b[1;32m     28\u001b[0m     time_aed_min \u001b[38;5;241m=\u001b[39m fastest_aed\u001b[38;5;241m/\u001b[39m\u001b[38;5;241m60\u001b[39m \u001b[38;5;66;03m# time to aed arrives in min \u001b[39;00m\n\u001b[1;32m     29\u001b[0m     prob_resp \u001b[38;5;241m=\u001b[39m prob_resp \u001b[38;5;241m*\u001b[39m decrease_no_cpr \u001b[38;5;241m*\u001b[39m\u001b[38;5;241m*\u001b[39m time_aed_min\n",
      "\u001b[0;31mTypeError\u001b[0m: '<=' not supported between instances of 'int' and 'survival_prob'"
     ]
    }
   ],
   "source": [
    "# empty vectors\n",
    "prob_resp = []\n",
    "prob_vec = []\n",
    "for r, a, v in zip(resp, aed, vec):\n",
    "    print(type(r))\n",
    "    prob_r, prob_v = test.probability_survival(r, a, v)\n",
    "    prob_resp.append(prob_r)\n",
    "    prob_vec.append(prob_v)"
   ]
  },
  {
   "cell_type": "code",
   "execution_count": 11,
   "metadata": {},
   "outputs": [
    {
     "name": "stdout",
     "output_type": "stream",
     "text": [
      "[]\n",
      "[]\n"
     ]
    }
   ],
   "source": [
    "print(prob_resp)\n",
    "print(prob_vec)"
   ]
  }
 ],
 "metadata": {
  "kernelspec": {
   "display_name": "Python 3",
   "language": "python",
   "name": "python3"
  },
  "language_info": {
   "codemirror_mode": {
    "name": "ipython",
    "version": 3
   },
   "file_extension": ".py",
   "mimetype": "text/x-python",
   "name": "python",
   "nbconvert_exporter": "python",
   "pygments_lexer": "ipython3",
   "version": "3.9.18"
  }
 },
 "nbformat": 4,
 "nbformat_minor": 2
}
