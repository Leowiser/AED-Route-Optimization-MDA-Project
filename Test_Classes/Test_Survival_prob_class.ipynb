{
 "cells": [
  {
   "cell_type": "code",
   "execution_count": 1,
   "metadata": {},
   "outputs": [],
   "source": [
    "# import class\n",
    "from Survival_prob_Class import survival_prob"
   ]
  },
  {
   "cell_type": "code",
   "execution_count": 2,
   "metadata": {},
   "outputs": [],
   "source": [
    "# initialize class\n",
    "test = survival_prob()"
   ]
  },
  {
   "cell_type": "code",
   "execution_count": 3,
   "metadata": {},
   "outputs": [],
   "source": [
    "# generate some data to try the class, some for all cases \n",
    "resp = [100, 200, 300, 400, 500, 600, 700, 300]\n",
    "aed = [200, 500, 300, 300, 400, 700, 1000, 500]\n",
    "vec = [500, 400, 600, 350, 300, 200, 1000, 300]"
   ]
  },
  {
   "cell_type": "code",
   "execution_count": null,
   "metadata": {},
   "outputs": [],
   "source": [
    "# empty vectors\n",
    "prob_resp = []\n",
    "prob_vec = []\n",
    "for r, a, v in zip(resp, aed, vec):\n",
    "    print(type(r))\n",
    "    prob_r, prob_v = test.probability_survival(r, a, v)\n",
    "    prob_resp.append(prob_r)\n",
    "    prob_vec.append(prob_v)"
   ]
  },
  {
   "cell_type": "code",
   "execution_count": 11,
   "metadata": {},
   "outputs": [
    {
     "name": "stdout",
     "output_type": "stream",
     "text": [
      "[]\n",
      "[]\n"
     ]
    }
   ],
   "source": [
    "print(prob_resp)\n",
    "print(prob_vec)"
   ]
  }
 ],
 "metadata": {
  "kernelspec": {
   "display_name": "Python 3",
   "language": "python",
   "name": "python3"
  },
  "language_info": {
   "codemirror_mode": {
    "name": "ipython",
    "version": 3
   },
   "file_extension": ".py",
   "mimetype": "text/x-python",
   "name": "python",
   "nbconvert_exporter": "python",
   "pygments_lexer": "ipython3",
   "version": "3.9.18"
  }
 },
 "nbformat": 4,
 "nbformat_minor": 2
}
