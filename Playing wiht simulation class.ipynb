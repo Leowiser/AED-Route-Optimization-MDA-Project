{
 "cells": [
  {
   "cell_type": "code",
   "execution_count": 1,
   "id": "6a613947-5a29-4e8a-9389-12b899f7e401",
   "metadata": {},
   "outputs": [],
   "source": [
    "import numpy as np\n",
    "import pandas as pd\n",
    "import gzip\n",
    "import os\n",
    "import zipfile\n",
    "import openrouteservice\n",
    "client = openrouteservice.Client(key='5b3ce3597851110001cf624802e069d6633748a5ae4e9842334f1dc2') # Specify your personal API key\n",
    "from openrouteservice import client\n",
    "from openrouteservice.exceptions import ApiError\n",
    "import openrouteservice\n",
    "import geopandas as gpd\n",
    "import matplotlib.pyplot as plt\n",
    "from shapely import geometry\n",
    "import plotly.express as px\n",
    "import time\n",
    "import geopy.distance\n",
    "import plotly.graph_objects as go"
   ]
  },
  {
   "cell_type": "code",
   "execution_count": 2,
   "id": "c02ae415-a9a8-458a-9f53-eadf8a5f9903",
   "metadata": {},
   "outputs": [],
   "source": [
    "# Your directory path\n",
    "directory_path = r\"C:\\Users\\leonw\\OneDrive - KU Leuven\\Datathon\\Data2024\"\n",
    "\n",
    "# Initialize an empty dictionary to hold your data\n",
    "data = {}\n",
    "\n",
    "# List all files and read relevant ones into the dictionary\n",
    "for filename in os.listdir(directory_path):\n",
    "    if filename.endswith(\".parquet\") or filename.endswith(\".parquet.gzip\"):\n",
    "        # Construct the full file path\n",
    "        file_path = os.path.join(directory_path, filename)\n",
    "        # Remove the file extension and replace underscores with spaces for the key\n",
    "        key_name = filename.replace('.parquet.gzip', '').replace('.parquet', '').replace('_', ' ')\n",
    "        # Read the file into a DataFrame\n",
    "        data[key_name] = pd.read_parquet(file_path)"
   ]
  },
  {
   "cell_type": "code",
   "execution_count": 3,
   "id": "5a4e3383-8c99-444a-81fe-9d2dd948f249",
   "metadata": {},
   "outputs": [],
   "source": [
    "aed_loc = data['aed locations']\n",
    "amb_loc = data['ambulance locations']\n",
    "cad9_loc = data['cad9']\n",
    "intvn_bxl1 = data['interventions bxl']\n",
    "intvn_bxl2 = data['interventions bxl2']\n",
    "intvn1 = data['interventions1']\n",
    "intvn2 = data['interventions2']\n",
    "intvn3 = data['interventions3']\n",
    "mug_loc = data['mug locations']\n",
    "pit_loc = data['pit locations']"
   ]
  },
  {
   "cell_type": "code",
   "execution_count": 4,
   "id": "526ca7b2-0ccc-451b-beb9-6c33b3682ea0",
   "metadata": {},
   "outputs": [],
   "source": [
    "df = pd.DataFrame(columns = ['Name', 'longitude', 'latitude'])"
   ]
  },
  {
   "cell_type": "code",
   "execution_count": 5,
   "id": "0280650b-947d-49b6-ad8c-d9eb1ffe3d23",
   "metadata": {},
   "outputs": [
    {
     "name": "stdout",
     "output_type": "stream",
     "text": [
      "<class 'pandas.core.frame.DataFrame'>\n",
      "RangeIndex: 279 entries, 0 to 278\n",
      "Data columns (total 9 columns):\n",
      " #   Column                     Non-Null Count  Dtype  \n",
      "---  ------                     --------------  -----  \n",
      " 0   base                       279 non-null    object \n",
      " 1   medical_resource           279 non-null    object \n",
      " 2   province                   266 non-null    object \n",
      " 3   region                     279 non-null    object \n",
      " 4   departure_location         279 non-null    object \n",
      " 5   departure_location_number  279 non-null    int64  \n",
      " 6   latitude                   279 non-null    float64\n",
      " 7   longitude                  279 non-null    float64\n",
      " 8   occasional_permanence      279 non-null    object \n",
      "dtypes: float64(2), int64(1), object(6)\n",
      "memory usage: 19.7+ KB\n"
     ]
    }
   ],
   "source": [
    "amb_loc.info()"
   ]
  },
  {
   "cell_type": "code",
   "execution_count": 6,
   "id": "b249102a-35fa-462c-9955-f9bece0d4126",
   "metadata": {},
   "outputs": [
    {
     "data": {
      "text/plain": [
       "array(['Antwerpen', None, 'Waals-Brabant', 'Luik', 'Henegouwen',\n",
       "       'Limburg', 'Namen', 'Oost-Vlaanderen', 'Vlaams-Brabant',\n",
       "       'West-Vlaanderen', 'Luxemburg'], dtype=object)"
      ]
     },
     "execution_count": 6,
     "metadata": {},
     "output_type": "execute_result"
    }
   ],
   "source": [
    "pd.unique(amb_loc['province'])"
   ]
  },
  {
   "cell_type": "code",
   "execution_count": 7,
   "id": "4989905c-48b2-4ecf-8d2e-6c385b87b106",
   "metadata": {},
   "outputs": [],
   "source": [
    "Ambulances = amb_loc[amb_loc['province']=='Vlaams-Brabant']"
   ]
  },
  {
   "cell_type": "code",
   "execution_count": 8,
   "id": "9d157925-fa92-46d4-a30a-732735443f9d",
   "metadata": {},
   "outputs": [],
   "source": [
    "# Only keep rows that contain 30 as all postla code of Leuven start with 30\n",
    "Ambulances = Ambulances[Ambulances['departure_location'].str.contains('30')]"
   ]
  },
  {
   "cell_type": "code",
   "execution_count": 9,
   "id": "f4ed668d-b2e6-42fd-a5ad-4661e27aadf8",
   "metadata": {},
   "outputs": [],
   "source": [
    "Ambulances = Ambulances.reset_index(drop = True)"
   ]
  },
  {
   "cell_type": "code",
   "execution_count": 10,
   "id": "734dfead-5060-41ac-a638-8df1c5261aaa",
   "metadata": {},
   "outputs": [],
   "source": [
    "df['Name'] = Ambulances['departure_location_number']\n",
    "df['longitude'] = Ambulances['longitude']\n",
    "df['latitude'] = Ambulances['latitude']"
   ]
  },
  {
   "cell_type": "code",
   "execution_count": 11,
   "id": "8a85b0ff-007b-4c6d-90b2-0057fffe41ca",
   "metadata": {},
   "outputs": [
    {
     "data": {
      "text/plain": [
       "array(['Antwerpen/Anvers', 'Oost-Vlaanderen/Flandre orientale',\n",
       "       'Vlaams Brabant/Brabant flamand',\n",
       "       'West-Vlaanderen/Flandre occidentale', 'Limburg/Limbourg', None,\n",
       "       'Henegouwen/Hainaut', 'Namen/Namur', 'Luik/Liège',\n",
       "       'Luxemburg/Luxembourg'], dtype=object)"
      ]
     },
     "execution_count": 11,
     "metadata": {},
     "output_type": "execute_result"
    }
   ],
   "source": [
    "pd.unique(pit_loc['province'])"
   ]
  },
  {
   "cell_type": "code",
   "execution_count": 12,
   "id": "11c6db28-bec2-4aa1-bd08-db7e306f7fe4",
   "metadata": {},
   "outputs": [],
   "source": [
    "Pit = pit_loc[pit_loc['province']=='Vlaams Brabant/Brabant flamand']\n",
    "Pit = Pit.reset_index()"
   ]
  },
  {
   "cell_type": "code",
   "execution_count": 13,
   "id": "c703074e-269d-4f02-8c1c-613d46a26f16",
   "metadata": {},
   "outputs": [
    {
     "data": {
      "text/html": [
       "<div>\n",
       "<style scoped>\n",
       "    .dataframe tbody tr th:only-of-type {\n",
       "        vertical-align: middle;\n",
       "    }\n",
       "\n",
       "    .dataframe tbody tr th {\n",
       "        vertical-align: top;\n",
       "    }\n",
       "\n",
       "    .dataframe thead th {\n",
       "        text-align: right;\n",
       "    }\n",
       "</style>\n",
       "<table border=\"1\" class=\"dataframe\">\n",
       "  <thead>\n",
       "    <tr style=\"text-align: right;\">\n",
       "      <th></th>\n",
       "      <th>index</th>\n",
       "      <th>unit</th>\n",
       "      <th>campus</th>\n",
       "      <th>province</th>\n",
       "      <th>region</th>\n",
       "      <th>unit_id</th>\n",
       "      <th>ambucode</th>\n",
       "      <th>ambusitecode</th>\n",
       "      <th>link</th>\n",
       "    </tr>\n",
       "  </thead>\n",
       "  <tbody>\n",
       "    <tr>\n",
       "      <th>0</th>\n",
       "      <td>6</td>\n",
       "      <td>210001: PIT ASSE, OLV</td>\n",
       "      <td>Ziekenhuis/Hôpital: 126 - ONZE-LIEVE-VROUW ZIE...</td>\n",
       "      <td>Vlaams Brabant/Brabant flamand</td>\n",
       "      <td>Vlaanderen/Flandre</td>\n",
       "      <td>PVASSE01A</td>\n",
       "      <td>480</td>\n",
       "      <td>48001</td>\n",
       "      <td>None</td>\n",
       "    </tr>\n",
       "    <tr>\n",
       "      <th>1</th>\n",
       "      <td>11</td>\n",
       "      <td>501001: PIT Leuven, Gasthuisberg</td>\n",
       "      <td>Ziekenhuis/Hôpital: 322 - UZ LEUVEN --- Campus...</td>\n",
       "      <td>Vlaams Brabant/Brabant flamand</td>\n",
       "      <td>Vlaanderen/Flandre</td>\n",
       "      <td>PVLEUV01A</td>\n",
       "      <td>288</td>\n",
       "      <td>28801</td>\n",
       "      <td>None</td>\n",
       "    </tr>\n",
       "  </tbody>\n",
       "</table>\n",
       "</div>"
      ],
      "text/plain": [
       "   index                               unit  \\\n",
       "0      6              210001: PIT ASSE, OLV   \n",
       "1     11  501001: PIT Leuven, Gasthuisberg    \n",
       "\n",
       "                                              campus  \\\n",
       "0  Ziekenhuis/Hôpital: 126 - ONZE-LIEVE-VROUW ZIE...   \n",
       "1  Ziekenhuis/Hôpital: 322 - UZ LEUVEN --- Campus...   \n",
       "\n",
       "                         province              region    unit_id  ambucode  \\\n",
       "0  Vlaams Brabant/Brabant flamand  Vlaanderen/Flandre  PVASSE01A       480   \n",
       "1  Vlaams Brabant/Brabant flamand  Vlaanderen/Flandre  PVLEUV01A       288   \n",
       "\n",
       "   ambusitecode  link  \n",
       "0         48001  None  \n",
       "1         28801  None  "
      ]
     },
     "execution_count": 13,
     "metadata": {},
     "output_type": "execute_result"
    }
   ],
   "source": [
    "Pit\n",
    "# Only the second one is in Leuven"
   ]
  },
  {
   "cell_type": "code",
   "execution_count": 14,
   "id": "e8dae305-9076-4608-a9a3-44a36585af15",
   "metadata": {},
   "outputs": [],
   "source": [
    "Pit = Pit[Pit['ambucode']==288]"
   ]
  },
  {
   "cell_type": "code",
   "execution_count": 15,
   "id": "570df2c0-f658-4d4d-80ad-9fdeb94aff36",
   "metadata": {},
   "outputs": [],
   "source": [
    "Pit = Pit.reset_index(drop = True)"
   ]
  },
  {
   "cell_type": "code",
   "execution_count": 16,
   "id": "e09e7a03-2a08-4161-bc6f-37c05c9e6838",
   "metadata": {},
   "outputs": [
    {
     "data": {
      "text/plain": [
       "'Ziekenhuis/Hôpital: 322 - UZ LEUVEN --- Campus/Site: 4230 - GASTHUISBERG'"
      ]
     },
     "execution_count": 16,
     "metadata": {},
     "output_type": "execute_result"
    }
   ],
   "source": [
    "# Getting the coordinates mannualy\n",
    "Pit['campus'][0]"
   ]
  },
  {
   "cell_type": "code",
   "execution_count": 17,
   "id": "eed580fa-325f-4635-a961-063e51ebf58f",
   "metadata": {},
   "outputs": [],
   "source": [
    "df_2 = pd.DataFrame()\n",
    "df_2['Name'] = Pit['unit_id']\n",
    "df_2['longitude'] = 4.671651874790573\n",
    "df_2['latitude'] = 50.879170226125666"
   ]
  },
  {
   "cell_type": "code",
   "execution_count": 18,
   "id": "42cc16e3-adf5-4aec-8c71-1d857a4653db",
   "metadata": {},
   "outputs": [
    {
     "data": {
      "text/plain": [
       "array(['Antwerpen', 'Oost-Vlaanderen', 'West-Vlaanderen', 'Limburg',\n",
       "       'Vlaams-Brabant', 'Brussels Hoofdstedelijk Gewest',\n",
       "       'Waals-Brabant', 'Henegouwen', 'Namen', 'Luik', 'Lüttich',\n",
       "       'Luxemburg'], dtype=object)"
      ]
     },
     "execution_count": 18,
     "metadata": {},
     "output_type": "execute_result"
    }
   ],
   "source": [
    "pd.unique(mug_loc['province'])"
   ]
  },
  {
   "cell_type": "code",
   "execution_count": 37,
   "id": "f315ee5c-3347-4b9d-96eb-24b88ec633f9",
   "metadata": {},
   "outputs": [],
   "source": [
    "Mug = mug_loc[mug_loc['province']=='Vlaams-Brabant']"
   ]
  },
  {
   "cell_type": "code",
   "execution_count": 20,
   "id": "b3ad50d0-1ef9-46e7-aa51-6f531fbdca60",
   "metadata": {},
   "outputs": [],
   "source": [
    "# Only Leuven postal code starts with 3000"
   ]
  },
  {
   "cell_type": "code",
   "execution_count": 21,
   "id": "b2b7432c-1b85-49d3-8ee0-560b6819a8c9",
   "metadata": {},
   "outputs": [],
   "source": [
    "Mug = Mug[Mug['postal_code']==3000]"
   ]
  },
  {
   "cell_type": "code",
   "execution_count": 22,
   "id": "30712cf7-9ddc-417e-9a7c-2915dc188f77",
   "metadata": {},
   "outputs": [],
   "source": [
    "Mug = Mug.reset_index(drop = True)"
   ]
  },
  {
   "cell_type": "code",
   "execution_count": 41,
   "id": "6c524811-d339-42e7-b6f6-666395986d08",
   "metadata": {},
   "outputs": [
    {
     "data": {
      "text/html": [
       "<div>\n",
       "<style scoped>\n",
       "    .dataframe tbody tr th:only-of-type {\n",
       "        vertical-align: middle;\n",
       "    }\n",
       "\n",
       "    .dataframe tbody tr th {\n",
       "        vertical-align: top;\n",
       "    }\n",
       "\n",
       "    .dataframe thead th {\n",
       "        text-align: right;\n",
       "    }\n",
       "</style>\n",
       "<table border=\"1\" class=\"dataframe\">\n",
       "  <thead>\n",
       "    <tr style=\"text-align: right;\">\n",
       "      <th></th>\n",
       "      <th>hospital_id</th>\n",
       "      <th>mug_id</th>\n",
       "      <th>campus_id</th>\n",
       "      <th>name_hospital</th>\n",
       "      <th>name_campus</th>\n",
       "      <th>address_campus</th>\n",
       "      <th>postal_code</th>\n",
       "      <th>municipality</th>\n",
       "      <th>region</th>\n",
       "      <th>province</th>\n",
       "    </tr>\n",
       "  </thead>\n",
       "  <tbody>\n",
       "    <tr>\n",
       "      <th>44</th>\n",
       "      <td>106</td>\n",
       "      <td>500000</td>\n",
       "      <td>1340</td>\n",
       "      <td>ALGEMEEN ZIEKENHUIS SINT-MARIA</td>\n",
       "      <td>None</td>\n",
       "      <td>ZIEKENHUISLAAN 100</td>\n",
       "      <td>1500</td>\n",
       "      <td>HALLE</td>\n",
       "      <td>V</td>\n",
       "      <td>Vlaams-Brabant</td>\n",
       "    </tr>\n",
       "    <tr>\n",
       "      <th>45</th>\n",
       "      <td>322</td>\n",
       "      <td>501000</td>\n",
       "      <td>4230</td>\n",
       "      <td>UZ LEUVEN</td>\n",
       "      <td>GASTHUISBERG</td>\n",
       "      <td>HERESTRAAT 49</td>\n",
       "      <td>3000</td>\n",
       "      <td>LEUVEN</td>\n",
       "      <td>V</td>\n",
       "      <td>Vlaams-Brabant</td>\n",
       "    </tr>\n",
       "    <tr>\n",
       "      <th>46</th>\n",
       "      <td>204</td>\n",
       "      <td>502000</td>\n",
       "      <td>1460</td>\n",
       "      <td>AZ JAN PORTAELS</td>\n",
       "      <td>None</td>\n",
       "      <td>GENDARMERIESTRAAT 65</td>\n",
       "      <td>1800</td>\n",
       "      <td>VILVOORDE</td>\n",
       "      <td>V</td>\n",
       "      <td>Vlaams-Brabant</td>\n",
       "    </tr>\n",
       "    <tr>\n",
       "      <th>47</th>\n",
       "      <td>109</td>\n",
       "      <td>503000</td>\n",
       "      <td>1370</td>\n",
       "      <td>RZ HEILIG HART TIENEN</td>\n",
       "      <td>MARIENDAL</td>\n",
       "      <td>KLINIEKSTRAAT 45</td>\n",
       "      <td>3300</td>\n",
       "      <td>TIENEN</td>\n",
       "      <td>V</td>\n",
       "      <td>Vlaams-Brabant</td>\n",
       "    </tr>\n",
       "    <tr>\n",
       "      <th>48</th>\n",
       "      <td>712</td>\n",
       "      <td>504000</td>\n",
       "      <td>1320</td>\n",
       "      <td>AZ DIEST</td>\n",
       "      <td>None</td>\n",
       "      <td>STATIESTRAAT 65</td>\n",
       "      <td>3290</td>\n",
       "      <td>DIEST</td>\n",
       "      <td>V</td>\n",
       "      <td>Vlaams-Brabant</td>\n",
       "    </tr>\n",
       "  </tbody>\n",
       "</table>\n",
       "</div>"
      ],
      "text/plain": [
       "    hospital_id  mug_id  campus_id                   name_hospital  \\\n",
       "44          106  500000       1340  ALGEMEEN ZIEKENHUIS SINT-MARIA   \n",
       "45          322  501000       4230                       UZ LEUVEN   \n",
       "46          204  502000       1460                 AZ JAN PORTAELS   \n",
       "47          109  503000       1370           RZ HEILIG HART TIENEN   \n",
       "48          712  504000       1320                        AZ DIEST   \n",
       "\n",
       "     name_campus        address_campus  postal_code municipality region  \\\n",
       "44          None    ZIEKENHUISLAAN 100         1500        HALLE      V   \n",
       "45  GASTHUISBERG         HERESTRAAT 49         3000       LEUVEN      V   \n",
       "46          None  GENDARMERIESTRAAT 65         1800    VILVOORDE      V   \n",
       "47     MARIENDAL      KLINIEKSTRAAT 45         3300       TIENEN      V   \n",
       "48          None       STATIESTRAAT 65         3290        DIEST      V   \n",
       "\n",
       "          province  \n",
       "44  Vlaams-Brabant  \n",
       "45  Vlaams-Brabant  \n",
       "46  Vlaams-Brabant  \n",
       "47  Vlaams-Brabant  \n",
       "48  Vlaams-Brabant  "
      ]
     },
     "execution_count": 41,
     "metadata": {},
     "output_type": "execute_result"
    }
   ],
   "source": [
    "Mug.head(10)"
   ]
  },
  {
   "cell_type": "code",
   "execution_count": 23,
   "id": "5a60fa76-6ca9-4a1d-b215-827ec5a3ac44",
   "metadata": {},
   "outputs": [],
   "source": [
    "df_3 = pd.DataFrame()\n",
    "df_3['Name'] = Mug['hospital_id']\n",
    "df_3['longitude'] = 4.669060381545932\n",
    "df_3['latitude'] = 50.87843614224022"
   ]
  },
  {
   "cell_type": "code",
   "execution_count": 24,
   "id": "31889a6e-8144-4092-9e01-969cf4c92b02",
   "metadata": {},
   "outputs": [],
   "source": [
    "# Combine all vectors\n",
    "df_vectors = pd.concat([df, df_2, df_3], ignore_index = True)"
   ]
  },
  {
   "cell_type": "code",
   "execution_count": 25,
   "id": "5b206afe-8772-4065-bb49-25108d2e6cbd",
   "metadata": {},
   "outputs": [],
   "source": [
    "df_vectors['coordinates'] =  list(zip(df_vectors.loc[:,'longitude'], df_vectors.loc[:,'latitude']))"
   ]
  },
  {
   "cell_type": "code",
   "execution_count": 26,
   "id": "ac71cd62-0e9f-43e4-8f51-81bd93a2dc0e",
   "metadata": {},
   "outputs": [],
   "source": [
    "Vectors = df_vectors[['longitude', 'latitude', 'coordinates']]"
   ]
  },
  {
   "cell_type": "code",
   "execution_count": 35,
   "id": "a9bfe72f-86f8-4ffe-bdb3-21bd3cc07d74",
   "metadata": {},
   "outputs": [
    {
     "data": {
      "text/html": [
       "<div>\n",
       "<style scoped>\n",
       "    .dataframe tbody tr th:only-of-type {\n",
       "        vertical-align: middle;\n",
       "    }\n",
       "\n",
       "    .dataframe tbody tr th {\n",
       "        vertical-align: top;\n",
       "    }\n",
       "\n",
       "    .dataframe thead th {\n",
       "        text-align: right;\n",
       "    }\n",
       "</style>\n",
       "<table border=\"1\" class=\"dataframe\">\n",
       "  <thead>\n",
       "    <tr style=\"text-align: right;\">\n",
       "      <th></th>\n",
       "      <th>longitude</th>\n",
       "      <th>latitude</th>\n",
       "      <th>coordinates</th>\n",
       "    </tr>\n",
       "  </thead>\n",
       "  <tbody>\n",
       "    <tr>\n",
       "      <th>0</th>\n",
       "      <td>4.724344</td>\n",
       "      <td>50.869655</td>\n",
       "      <td>(4.7243436, 50.8696549)</td>\n",
       "    </tr>\n",
       "    <tr>\n",
       "      <th>1</th>\n",
       "      <td>4.695398</td>\n",
       "      <td>50.878535</td>\n",
       "      <td>(4.6953981, 50.8785355)</td>\n",
       "    </tr>\n",
       "    <tr>\n",
       "      <th>2</th>\n",
       "      <td>4.098320</td>\n",
       "      <td>50.868004</td>\n",
       "      <td>(4.0983199, 50.8680038)</td>\n",
       "    </tr>\n",
       "    <tr>\n",
       "      <th>3</th>\n",
       "      <td>4.472760</td>\n",
       "      <td>50.879821</td>\n",
       "      <td>(4.4727595, 50.8798215)</td>\n",
       "    </tr>\n",
       "    <tr>\n",
       "      <th>4</th>\n",
       "      <td>4.665862</td>\n",
       "      <td>50.877460</td>\n",
       "      <td>(4.6658621, 50.8774603)</td>\n",
       "    </tr>\n",
       "    <tr>\n",
       "      <th>5</th>\n",
       "      <td>4.527038</td>\n",
       "      <td>50.777013</td>\n",
       "      <td>(4.5270384, 50.7770126)</td>\n",
       "    </tr>\n",
       "    <tr>\n",
       "      <th>6</th>\n",
       "      <td>4.937178</td>\n",
       "      <td>50.823648</td>\n",
       "      <td>(4.9371776, 50.8236483)</td>\n",
       "    </tr>\n",
       "    <tr>\n",
       "      <th>7</th>\n",
       "      <td>4.500188</td>\n",
       "      <td>50.875499</td>\n",
       "      <td>(4.500188, 50.8754995)</td>\n",
       "    </tr>\n",
       "    <tr>\n",
       "      <th>8</th>\n",
       "      <td>4.699833</td>\n",
       "      <td>50.872354</td>\n",
       "      <td>(4.6998331, 50.8723536)</td>\n",
       "    </tr>\n",
       "    <tr>\n",
       "      <th>9</th>\n",
       "      <td>4.673199</td>\n",
       "      <td>50.878079</td>\n",
       "      <td>(4.6731993, 50.8780791)</td>\n",
       "    </tr>\n",
       "    <tr>\n",
       "      <th>10</th>\n",
       "      <td>4.209889</td>\n",
       "      <td>50.908000</td>\n",
       "      <td>(4.2098889, 50.9079997)</td>\n",
       "    </tr>\n",
       "    <tr>\n",
       "      <th>11</th>\n",
       "      <td>4.671652</td>\n",
       "      <td>50.879170</td>\n",
       "      <td>(4.671651874790573, 50.879170226125666)</td>\n",
       "    </tr>\n",
       "    <tr>\n",
       "      <th>12</th>\n",
       "      <td>4.669060</td>\n",
       "      <td>50.878436</td>\n",
       "      <td>(4.669060381545932, 50.87843614224022)</td>\n",
       "    </tr>\n",
       "  </tbody>\n",
       "</table>\n",
       "</div>"
      ],
      "text/plain": [
       "    longitude   latitude                              coordinates\n",
       "0    4.724344  50.869655                  (4.7243436, 50.8696549)\n",
       "1    4.695398  50.878535                  (4.6953981, 50.8785355)\n",
       "2    4.098320  50.868004                  (4.0983199, 50.8680038)\n",
       "3    4.472760  50.879821                  (4.4727595, 50.8798215)\n",
       "4    4.665862  50.877460                  (4.6658621, 50.8774603)\n",
       "5    4.527038  50.777013                  (4.5270384, 50.7770126)\n",
       "6    4.937178  50.823648                  (4.9371776, 50.8236483)\n",
       "7    4.500188  50.875499                   (4.500188, 50.8754995)\n",
       "8    4.699833  50.872354                  (4.6998331, 50.8723536)\n",
       "9    4.673199  50.878079                  (4.6731993, 50.8780791)\n",
       "10   4.209889  50.908000                  (4.2098889, 50.9079997)\n",
       "11   4.671652  50.879170  (4.671651874790573, 50.879170226125666)\n",
       "12   4.669060  50.878436   (4.669060381545932, 50.87843614224022)"
      ]
     },
     "execution_count": 35,
     "metadata": {},
     "output_type": "execute_result"
    }
   ],
   "source": [
    "Vectors"
   ]
  },
  {
   "cell_type": "code",
   "execution_count": 27,
   "id": "b4744a23-ca84-4937-809f-d342b78e22bf",
   "metadata": {},
   "outputs": [],
   "source": [
    "responder_full = pd.read_csv(\"C:/Users/leonw/OneDrive - KU Leuven/2nd Semester/Modern Data Analytics/Assignment/1%_FRs.csv\")\n",
    "responder_full.rename(columns = {'x':'longitude', 'y':'latitude'}, inplace = True)\n",
    "responder_full['coordinates'] = list(zip(responder_full['longitude'], responder_full['latitude']))"
   ]
  },
  {
   "cell_type": "code",
   "execution_count": 28,
   "id": "7cfa60b3-5536-424c-9077-067f3d7664e4",
   "metadata": {},
   "outputs": [],
   "source": [
    "aed = pd.read_csv(\"C:/Users/leonw/Downloads/filtered_AED_loc.csv\")\n",
    "aed_location = aed[['longitude', 'latitude']]\n",
    "aed_location = aed_location.reset_index(drop = True)\n",
    "aed_location['coordinates'] = list(zip(aed_location['longitude'], aed_location['latitude']))"
   ]
  },
  {
   "cell_type": "code",
   "execution_count": 29,
   "id": "fa813616-8043-447b-9d2a-3a99574b751e",
   "metadata": {},
   "outputs": [],
   "source": [
    "# Generate 100 random lat and long\n",
    "N = 4\n",
    "lon = np.random.uniform(4.697659,4.709659,N)\n",
    "lat = np.random.uniform(50.868214,50.880214,N)\n",
    "\n",
    "# Create dataframe from the numpy arrays\n",
    "Patient = pd.DataFrame({'longitude':lon, 'latitude':lat})\n",
    "Patient['coordinates'] = list(zip(Patient['longitude'], Patient['latitude']))"
   ]
  },
  {
   "cell_type": "code",
   "execution_count": 30,
   "id": "a7174370-c70b-420f-a5e5-c8fadded58d9",
   "metadata": {},
   "outputs": [],
   "source": [
    "import openrouteservice\n",
    "from Simulation_Class import simulation"
   ]
  },
  {
   "cell_type": "code",
   "execution_count": 33,
   "id": "2d4760fe-d34e-414a-9d2f-67f61728c7c0",
   "metadata": {},
   "outputs": [],
   "source": [
    "test = simulation()"
   ]
  },
  {
   "cell_type": "code",
   "execution_count": 34,
   "id": "be2f939d-b392-43e3-a773-e0a53ece3779",
   "metadata": {},
   "outputs": [
    {
     "name": "stderr",
     "output_type": "stream",
     "text": [
      "C:\\Users\\leonw\\anaconda3\\Lib\\site-packages\\openrouteservice\\client.py:195: UserWarning: Server down.\n",
      "Retrying for the 1st time.\n",
      "  warnings.warn('Server down.\\nRetrying for the {0}{1} time.'.format(retry_counter + 1,\n"
     ]
    },
    {
     "ename": "KeyboardInterrupt",
     "evalue": "",
     "output_type": "error",
     "traceback": [
      "\u001b[1;31m---------------------------------------------------------------------------\u001b[0m",
      "\u001b[1;31mTimeoutError\u001b[0m                              Traceback (most recent call last)",
      "File \u001b[1;32m~\\anaconda3\\Lib\\http\\client.py:1386\u001b[0m, in \u001b[0;36mHTTPConnection.getresponse\u001b[1;34m(self)\u001b[0m\n\u001b[0;32m   1385\u001b[0m \u001b[38;5;28;01mtry\u001b[39;00m:\n\u001b[1;32m-> 1386\u001b[0m     response\u001b[38;5;241m.\u001b[39mbegin()\n\u001b[0;32m   1387\u001b[0m \u001b[38;5;28;01mexcept\u001b[39;00m \u001b[38;5;167;01mConnectionError\u001b[39;00m:\n",
      "File \u001b[1;32m~\\anaconda3\\Lib\\http\\client.py:325\u001b[0m, in \u001b[0;36mHTTPResponse.begin\u001b[1;34m(self)\u001b[0m\n\u001b[0;32m    324\u001b[0m \u001b[38;5;28;01mwhile\u001b[39;00m \u001b[38;5;28;01mTrue\u001b[39;00m:\n\u001b[1;32m--> 325\u001b[0m     version, status, reason \u001b[38;5;241m=\u001b[39m \u001b[38;5;28mself\u001b[39m\u001b[38;5;241m.\u001b[39m_read_status()\n\u001b[0;32m    326\u001b[0m     \u001b[38;5;28;01mif\u001b[39;00m status \u001b[38;5;241m!=\u001b[39m CONTINUE:\n",
      "File \u001b[1;32m~\\anaconda3\\Lib\\http\\client.py:286\u001b[0m, in \u001b[0;36mHTTPResponse._read_status\u001b[1;34m(self)\u001b[0m\n\u001b[0;32m    285\u001b[0m \u001b[38;5;28;01mdef\u001b[39;00m \u001b[38;5;21m_read_status\u001b[39m(\u001b[38;5;28mself\u001b[39m):\n\u001b[1;32m--> 286\u001b[0m     line \u001b[38;5;241m=\u001b[39m \u001b[38;5;28mstr\u001b[39m(\u001b[38;5;28mself\u001b[39m\u001b[38;5;241m.\u001b[39mfp\u001b[38;5;241m.\u001b[39mreadline(_MAXLINE \u001b[38;5;241m+\u001b[39m \u001b[38;5;241m1\u001b[39m), \u001b[38;5;124m\"\u001b[39m\u001b[38;5;124miso-8859-1\u001b[39m\u001b[38;5;124m\"\u001b[39m)\n\u001b[0;32m    287\u001b[0m     \u001b[38;5;28;01mif\u001b[39;00m \u001b[38;5;28mlen\u001b[39m(line) \u001b[38;5;241m>\u001b[39m _MAXLINE:\n",
      "File \u001b[1;32m~\\anaconda3\\Lib\\socket.py:706\u001b[0m, in \u001b[0;36mSocketIO.readinto\u001b[1;34m(self, b)\u001b[0m\n\u001b[0;32m    705\u001b[0m \u001b[38;5;28;01mtry\u001b[39;00m:\n\u001b[1;32m--> 706\u001b[0m     \u001b[38;5;28;01mreturn\u001b[39;00m \u001b[38;5;28mself\u001b[39m\u001b[38;5;241m.\u001b[39m_sock\u001b[38;5;241m.\u001b[39mrecv_into(b)\n\u001b[0;32m    707\u001b[0m \u001b[38;5;28;01mexcept\u001b[39;00m timeout:\n",
      "File \u001b[1;32m~\\anaconda3\\Lib\\ssl.py:1315\u001b[0m, in \u001b[0;36mSSLSocket.recv_into\u001b[1;34m(self, buffer, nbytes, flags)\u001b[0m\n\u001b[0;32m   1312\u001b[0m         \u001b[38;5;28;01mraise\u001b[39;00m \u001b[38;5;167;01mValueError\u001b[39;00m(\n\u001b[0;32m   1313\u001b[0m           \u001b[38;5;124m\"\u001b[39m\u001b[38;5;124mnon-zero flags not allowed in calls to recv_into() on \u001b[39m\u001b[38;5;132;01m%s\u001b[39;00m\u001b[38;5;124m\"\u001b[39m \u001b[38;5;241m%\u001b[39m\n\u001b[0;32m   1314\u001b[0m           \u001b[38;5;28mself\u001b[39m\u001b[38;5;241m.\u001b[39m\u001b[38;5;18m__class__\u001b[39m)\n\u001b[1;32m-> 1315\u001b[0m     \u001b[38;5;28;01mreturn\u001b[39;00m \u001b[38;5;28mself\u001b[39m\u001b[38;5;241m.\u001b[39mread(nbytes, buffer)\n\u001b[0;32m   1316\u001b[0m \u001b[38;5;28;01melse\u001b[39;00m:\n",
      "File \u001b[1;32m~\\anaconda3\\Lib\\ssl.py:1167\u001b[0m, in \u001b[0;36mSSLSocket.read\u001b[1;34m(self, len, buffer)\u001b[0m\n\u001b[0;32m   1166\u001b[0m \u001b[38;5;28;01mif\u001b[39;00m buffer \u001b[38;5;129;01mis\u001b[39;00m \u001b[38;5;129;01mnot\u001b[39;00m \u001b[38;5;28;01mNone\u001b[39;00m:\n\u001b[1;32m-> 1167\u001b[0m     \u001b[38;5;28;01mreturn\u001b[39;00m \u001b[38;5;28mself\u001b[39m\u001b[38;5;241m.\u001b[39m_sslobj\u001b[38;5;241m.\u001b[39mread(\u001b[38;5;28mlen\u001b[39m, buffer)\n\u001b[0;32m   1168\u001b[0m \u001b[38;5;28;01melse\u001b[39;00m:\n",
      "\u001b[1;31mTimeoutError\u001b[0m: The read operation timed out",
      "\nDuring handling of the above exception, another exception occurred:\n",
      "\u001b[1;31mKeyboardInterrupt\u001b[0m                         Traceback (most recent call last)",
      "Cell \u001b[1;32mIn[34], line 5\u001b[0m\n\u001b[0;32m      1\u001b[0m df_final \u001b[38;5;241m=\u001b[39m pd\u001b[38;5;241m.\u001b[39mDataFrame(columns \u001b[38;5;241m=\u001b[39m [\u001b[38;5;124m'\u001b[39m\u001b[38;5;124mPatient_loc\u001b[39m\u001b[38;5;124m'\u001b[39m, \u001b[38;5;124m'\u001b[39m\u001b[38;5;124mResponder_lon\u001b[39m\u001b[38;5;124m'\u001b[39m, \u001b[38;5;124m'\u001b[39m\u001b[38;5;124mResponder_lat\u001b[39m\u001b[38;5;124m'\u001b[39m, \n\u001b[0;32m      2\u001b[0m         \u001b[38;5;124m'\u001b[39m\u001b[38;5;124mduration_Responder\u001b[39m\u001b[38;5;124m'\u001b[39m, \u001b[38;5;124m'\u001b[39m\u001b[38;5;124mAED_lon\u001b[39m\u001b[38;5;124m'\u001b[39m, \u001b[38;5;124m'\u001b[39m\u001b[38;5;124mAED_lat\u001b[39m\u001b[38;5;124m'\u001b[39m,\u001b[38;5;124m'\u001b[39m\u001b[38;5;124mduration_AED\u001b[39m\u001b[38;5;124m'\u001b[39m,\n\u001b[0;32m      3\u001b[0m         \u001b[38;5;124m'\u001b[39m\u001b[38;5;124mVector_lon\u001b[39m\u001b[38;5;124m'\u001b[39m, \u001b[38;5;124m'\u001b[39m\u001b[38;5;124mVector_lat\u001b[39m\u001b[38;5;124m'\u001b[39m, \u001b[38;5;124m'\u001b[39m\u001b[38;5;124mduration_Vector\u001b[39m\u001b[38;5;124m'\u001b[39m])\n\u001b[0;32m      4\u001b[0m \u001b[38;5;28;01mfor\u001b[39;00m i \u001b[38;5;129;01min\u001b[39;00m \u001b[38;5;28mrange\u001b[39m(\u001b[38;5;28mlen\u001b[39m(Patient)):\n\u001b[1;32m----> 5\u001b[0m     df \u001b[38;5;241m=\u001b[39m test\u001b[38;5;241m.\u001b[39mfastest_time(Patient\u001b[38;5;241m.\u001b[39mloc[i], \n\u001b[0;32m      6\u001b[0m                            responder_full, aed_location, Vectors)\n\u001b[0;32m      7\u001b[0m     df_final \u001b[38;5;241m=\u001b[39m pd\u001b[38;5;241m.\u001b[39mconcat([df_final,df], ignore_index\u001b[38;5;241m=\u001b[39m\u001b[38;5;28;01mTrue\u001b[39;00m)\n",
      "File \u001b[1;32m~\\OneDrive - KU Leuven\\Documents\\GitHub\\AED-Route-Optimization-MDA-Project\\Simulation_Class.py:95\u001b[0m, in \u001b[0;36msimulation.fastest_time\u001b[1;34m(self, Patient, Responders, AEDs, Vectors, Dist_responder, Dist_AED, Dist_Vector, threshold)\u001b[0m\n\u001b[0;32m     93\u001b[0m \u001b[38;5;66;03m# Time that the isochrones covers in seconds\u001b[39;00m\n\u001b[0;32m     94\u001b[0m t_Vector \u001b[38;5;241m=\u001b[39m Dist_Vector\n\u001b[1;32m---> 95\u001b[0m Vector_loc \u001b[38;5;241m=\u001b[39m \u001b[38;5;28mself\u001b[39m\u001b[38;5;241m.\u001b[39mclosest_location(Patient, Vectors, profile \u001b[38;5;241m=\u001b[39m \u001b[38;5;124m'\u001b[39m\u001b[38;5;124mdriving-car\u001b[39m\u001b[38;5;124m'\u001b[39m, threshold \u001b[38;5;241m=\u001b[39m Dist_Vector)\n\u001b[0;32m     97\u001b[0m \u001b[38;5;66;03m# Set empty dictionary to be fillled later\u001b[39;00m\n\u001b[0;32m     98\u001b[0m df_duration \u001b[38;5;241m=\u001b[39m pd\u001b[38;5;241m.\u001b[39mDataFrame(columns \u001b[38;5;241m=\u001b[39m [\u001b[38;5;124m'\u001b[39m\u001b[38;5;124mPatient_loc\u001b[39m\u001b[38;5;124m'\u001b[39m, \u001b[38;5;124m'\u001b[39m\u001b[38;5;124mResponder_lon\u001b[39m\u001b[38;5;124m'\u001b[39m, \u001b[38;5;124m'\u001b[39m\u001b[38;5;124mResponder_lat\u001b[39m\u001b[38;5;124m'\u001b[39m, \n\u001b[0;32m     99\u001b[0m         \u001b[38;5;124m'\u001b[39m\u001b[38;5;124mduration_Responder\u001b[39m\u001b[38;5;124m'\u001b[39m, \u001b[38;5;124m'\u001b[39m\u001b[38;5;124mAED_lon\u001b[39m\u001b[38;5;124m'\u001b[39m, \u001b[38;5;124m'\u001b[39m\u001b[38;5;124mAED_lat\u001b[39m\u001b[38;5;124m'\u001b[39m,\u001b[38;5;124m'\u001b[39m\u001b[38;5;124mduration_AED\u001b[39m\u001b[38;5;124m'\u001b[39m,\u001b[38;5;124m'\u001b[39m\u001b[38;5;124mVector_lon\u001b[39m\u001b[38;5;124m'\u001b[39m, \u001b[38;5;124m'\u001b[39m\u001b[38;5;124mVector_lat\u001b[39m\u001b[38;5;124m'\u001b[39m,\n\u001b[0;32m    100\u001b[0m         \u001b[38;5;124m'\u001b[39m\u001b[38;5;124mduration_Vector\u001b[39m\u001b[38;5;124m'\u001b[39m])\n",
      "File \u001b[1;32m~\\OneDrive - KU Leuven\\Documents\\GitHub\\AED-Route-Optimization-MDA-Project\\Simulation_Class.py:40\u001b[0m, in \u001b[0;36msimulation.closest_location\u001b[1;34m(self, Patient, Location, profile, threshold)\u001b[0m\n\u001b[0;32m     33\u001b[0m ors_client_custom \u001b[38;5;241m=\u001b[39m \u001b[38;5;28mself\u001b[39m\u001b[38;5;241m.\u001b[39mClient_ors\n\u001b[0;32m     35\u001b[0m \u001b[38;5;66;03m# Get the area that can be reached in 10 minutes walking.\u001b[39;00m\n\u001b[0;32m     36\u001b[0m \u001b[38;5;66;03m# This creates an isochrone wich is the whole area surounding the patient that is reachable in 10 minutes by foot.\u001b[39;00m\n\u001b[0;32m     37\u001b[0m \u001b[38;5;66;03m# 10 minutes are taken as most research assumes that 8 minutes is the longest time\u001b[39;00m\n\u001b[0;32m     38\u001b[0m \u001b[38;5;66;03m# first responders should take. As we assume the responders to walk faster than normal,\u001b[39;00m\n\u001b[0;32m     39\u001b[0m \u001b[38;5;66;03m# a 10 minute radius should be fine.\u001b[39;00m\n\u001b[1;32m---> 40\u001b[0m isochrone \u001b[38;5;241m=\u001b[39m ors_client_custom\u001b[38;5;241m.\u001b[39misochrones(\u001b[38;5;241m*\u001b[39m\u001b[38;5;241m*\u001b[39misochrones_parameters)\n\u001b[0;32m     42\u001b[0m \u001b[38;5;66;03m# Transform the isochrone into a polygon and add it to a Geo Data Frame\u001b[39;00m\n\u001b[0;32m     43\u001b[0m gdf \u001b[38;5;241m=\u001b[39m gpd\u001b[38;5;241m.\u001b[39mGeoDataFrame({\u001b[38;5;124m'\u001b[39m\u001b[38;5;124mgeometry\u001b[39m\u001b[38;5;124m'\u001b[39m: [geometry\u001b[38;5;241m.\u001b[39mPolygon(isochrone[\u001b[38;5;124m'\u001b[39m\u001b[38;5;124mfeatures\u001b[39m\u001b[38;5;124m'\u001b[39m][\u001b[38;5;241m0\u001b[39m][\u001b[38;5;124m'\u001b[39m\u001b[38;5;124mgeometry\u001b[39m\u001b[38;5;124m'\u001b[39m][\u001b[38;5;124m'\u001b[39m\u001b[38;5;124mcoordinates\u001b[39m\u001b[38;5;124m'\u001b[39m][\u001b[38;5;241m0\u001b[39m])]})\n",
      "File \u001b[1;32m~\\anaconda3\\Lib\\site-packages\\openrouteservice\\client.py:299\u001b[0m, in \u001b[0;36m_make_api_method.<locals>.wrapper\u001b[1;34m(*args, **kwargs)\u001b[0m\n\u001b[0;32m    296\u001b[0m \u001b[38;5;129m@functools\u001b[39m\u001b[38;5;241m.\u001b[39mwraps(func)\n\u001b[0;32m    297\u001b[0m \u001b[38;5;28;01mdef\u001b[39;00m \u001b[38;5;21mwrapper\u001b[39m(\u001b[38;5;241m*\u001b[39margs, \u001b[38;5;241m*\u001b[39m\u001b[38;5;241m*\u001b[39mkwargs):\n\u001b[0;32m    298\u001b[0m     args[\u001b[38;5;241m0\u001b[39m]\u001b[38;5;241m.\u001b[39m_extra_params \u001b[38;5;241m=\u001b[39m kwargs\u001b[38;5;241m.\u001b[39mpop(\u001b[38;5;124m\"\u001b[39m\u001b[38;5;124mextra_params\u001b[39m\u001b[38;5;124m\"\u001b[39m, \u001b[38;5;28;01mNone\u001b[39;00m)\n\u001b[1;32m--> 299\u001b[0m     result \u001b[38;5;241m=\u001b[39m func(\u001b[38;5;241m*\u001b[39margs, \u001b[38;5;241m*\u001b[39m\u001b[38;5;241m*\u001b[39mkwargs)\n\u001b[0;32m    300\u001b[0m     \u001b[38;5;28;01mtry\u001b[39;00m:\n\u001b[0;32m    301\u001b[0m         \u001b[38;5;28;01mdel\u001b[39;00m args[\u001b[38;5;241m0\u001b[39m]\u001b[38;5;241m.\u001b[39m_extra_params\n",
      "File \u001b[1;32m~\\anaconda3\\Lib\\site-packages\\openrouteservice\\isochrones.py:132\u001b[0m, in \u001b[0;36misochrones\u001b[1;34m(client, locations, profile, range_type, range, intervals, segments, interval, units, location_type, smoothing, attributes, validate, dry_run)\u001b[0m\n\u001b[0;32m    129\u001b[0m \u001b[38;5;28;01mif\u001b[39;00m attributes:\n\u001b[0;32m    130\u001b[0m     params[\u001b[38;5;124m\"\u001b[39m\u001b[38;5;124mattributes\u001b[39m\u001b[38;5;124m\"\u001b[39m] \u001b[38;5;241m=\u001b[39m attributes\n\u001b[1;32m--> 132\u001b[0m \u001b[38;5;28;01mreturn\u001b[39;00m client\u001b[38;5;241m.\u001b[39mrequest(\u001b[38;5;124m\"\u001b[39m\u001b[38;5;124m/v2/isochrones/\u001b[39m\u001b[38;5;124m\"\u001b[39m \u001b[38;5;241m+\u001b[39m profile \u001b[38;5;241m+\u001b[39m \u001b[38;5;124m'\u001b[39m\u001b[38;5;124m/geojson\u001b[39m\u001b[38;5;124m'\u001b[39m, {}, post_json\u001b[38;5;241m=\u001b[39mparams, dry_run\u001b[38;5;241m=\u001b[39mdry_run)\n",
      "File \u001b[1;32m~\\anaconda3\\Lib\\site-packages\\openrouteservice\\client.py:200\u001b[0m, in \u001b[0;36mClient.request\u001b[1;34m(self, url, get_params, first_request_time, retry_counter, requests_kwargs, post_json, dry_run)\u001b[0m\n\u001b[0;32m    193\u001b[0m \u001b[38;5;28;01mif\u001b[39;00m response\u001b[38;5;241m.\u001b[39mstatus_code \u001b[38;5;129;01min\u001b[39;00m _RETRIABLE_STATUSES:\n\u001b[0;32m    194\u001b[0m     \u001b[38;5;66;03m# Retry request.\u001b[39;00m\n\u001b[0;32m    195\u001b[0m     warnings\u001b[38;5;241m.\u001b[39mwarn(\u001b[38;5;124m'\u001b[39m\u001b[38;5;124mServer down.\u001b[39m\u001b[38;5;130;01m\\n\u001b[39;00m\u001b[38;5;124mRetrying for the \u001b[39m\u001b[38;5;132;01m{0}\u001b[39;00m\u001b[38;5;132;01m{1}\u001b[39;00m\u001b[38;5;124m time.\u001b[39m\u001b[38;5;124m'\u001b[39m\u001b[38;5;241m.\u001b[39mformat(retry_counter \u001b[38;5;241m+\u001b[39m \u001b[38;5;241m1\u001b[39m,\n\u001b[0;32m    196\u001b[0m                                                                        get_ordinal(retry_counter \u001b[38;5;241m+\u001b[39m \u001b[38;5;241m1\u001b[39m)),\n\u001b[0;32m    197\u001b[0m                   \u001b[38;5;167;01mUserWarning\u001b[39;00m,\n\u001b[0;32m    198\u001b[0m                   stacklevel\u001b[38;5;241m=\u001b[39m\u001b[38;5;241m1\u001b[39m)\n\u001b[1;32m--> 200\u001b[0m     \u001b[38;5;28;01mreturn\u001b[39;00m \u001b[38;5;28mself\u001b[39m\u001b[38;5;241m.\u001b[39mrequest(url, get_params, first_request_time,\n\u001b[0;32m    201\u001b[0m                         retry_counter \u001b[38;5;241m+\u001b[39m \u001b[38;5;241m1\u001b[39m, requests_kwargs, post_json)\n\u001b[0;32m    203\u001b[0m \u001b[38;5;28;01mtry\u001b[39;00m:\n\u001b[0;32m    204\u001b[0m     result \u001b[38;5;241m=\u001b[39m \u001b[38;5;28mself\u001b[39m\u001b[38;5;241m.\u001b[39m_get_body(response)\n",
      "File \u001b[1;32m~\\anaconda3\\Lib\\site-packages\\openrouteservice\\client.py:186\u001b[0m, in \u001b[0;36mClient.request\u001b[1;34m(self, url, get_params, first_request_time, retry_counter, requests_kwargs, post_json, dry_run)\u001b[0m\n\u001b[0;32m    183\u001b[0m     \u001b[38;5;28;01mreturn\u001b[39;00m\n\u001b[0;32m    185\u001b[0m \u001b[38;5;28;01mtry\u001b[39;00m:\n\u001b[1;32m--> 186\u001b[0m     response \u001b[38;5;241m=\u001b[39m requests_method(\u001b[38;5;28mself\u001b[39m\u001b[38;5;241m.\u001b[39m_base_url \u001b[38;5;241m+\u001b[39m authed_url,\n\u001b[0;32m    187\u001b[0m                                \u001b[38;5;241m*\u001b[39m\u001b[38;5;241m*\u001b[39mfinal_requests_kwargs)\n\u001b[0;32m    188\u001b[0m     \u001b[38;5;28mself\u001b[39m\u001b[38;5;241m.\u001b[39m_req \u001b[38;5;241m=\u001b[39m response\u001b[38;5;241m.\u001b[39mrequest\n\u001b[0;32m    190\u001b[0m \u001b[38;5;28;01mexcept\u001b[39;00m requests\u001b[38;5;241m.\u001b[39mexceptions\u001b[38;5;241m.\u001b[39mTimeout:\n",
      "File \u001b[1;32m~\\anaconda3\\Lib\\site-packages\\requests\\sessions.py:637\u001b[0m, in \u001b[0;36mSession.post\u001b[1;34m(self, url, data, json, **kwargs)\u001b[0m\n\u001b[0;32m    626\u001b[0m \u001b[38;5;28;01mdef\u001b[39;00m \u001b[38;5;21mpost\u001b[39m(\u001b[38;5;28mself\u001b[39m, url, data\u001b[38;5;241m=\u001b[39m\u001b[38;5;28;01mNone\u001b[39;00m, json\u001b[38;5;241m=\u001b[39m\u001b[38;5;28;01mNone\u001b[39;00m, \u001b[38;5;241m*\u001b[39m\u001b[38;5;241m*\u001b[39mkwargs):\n\u001b[0;32m    627\u001b[0m \u001b[38;5;250m    \u001b[39m\u001b[38;5;124mr\u001b[39m\u001b[38;5;124;03m\"\"\"Sends a POST request. Returns :class:`Response` object.\u001b[39;00m\n\u001b[0;32m    628\u001b[0m \n\u001b[0;32m    629\u001b[0m \u001b[38;5;124;03m    :param url: URL for the new :class:`Request` object.\u001b[39;00m\n\u001b[1;32m   (...)\u001b[0m\n\u001b[0;32m    634\u001b[0m \u001b[38;5;124;03m    :rtype: requests.Response\u001b[39;00m\n\u001b[0;32m    635\u001b[0m \u001b[38;5;124;03m    \"\"\"\u001b[39;00m\n\u001b[1;32m--> 637\u001b[0m     \u001b[38;5;28;01mreturn\u001b[39;00m \u001b[38;5;28mself\u001b[39m\u001b[38;5;241m.\u001b[39mrequest(\u001b[38;5;124m\"\u001b[39m\u001b[38;5;124mPOST\u001b[39m\u001b[38;5;124m\"\u001b[39m, url, data\u001b[38;5;241m=\u001b[39mdata, json\u001b[38;5;241m=\u001b[39mjson, \u001b[38;5;241m*\u001b[39m\u001b[38;5;241m*\u001b[39mkwargs)\n",
      "File \u001b[1;32m~\\anaconda3\\Lib\\site-packages\\requests\\sessions.py:589\u001b[0m, in \u001b[0;36mSession.request\u001b[1;34m(self, method, url, params, data, headers, cookies, files, auth, timeout, allow_redirects, proxies, hooks, stream, verify, cert, json)\u001b[0m\n\u001b[0;32m    584\u001b[0m send_kwargs \u001b[38;5;241m=\u001b[39m {\n\u001b[0;32m    585\u001b[0m     \u001b[38;5;124m\"\u001b[39m\u001b[38;5;124mtimeout\u001b[39m\u001b[38;5;124m\"\u001b[39m: timeout,\n\u001b[0;32m    586\u001b[0m     \u001b[38;5;124m\"\u001b[39m\u001b[38;5;124mallow_redirects\u001b[39m\u001b[38;5;124m\"\u001b[39m: allow_redirects,\n\u001b[0;32m    587\u001b[0m }\n\u001b[0;32m    588\u001b[0m send_kwargs\u001b[38;5;241m.\u001b[39mupdate(settings)\n\u001b[1;32m--> 589\u001b[0m resp \u001b[38;5;241m=\u001b[39m \u001b[38;5;28mself\u001b[39m\u001b[38;5;241m.\u001b[39msend(prep, \u001b[38;5;241m*\u001b[39m\u001b[38;5;241m*\u001b[39msend_kwargs)\n\u001b[0;32m    591\u001b[0m \u001b[38;5;28;01mreturn\u001b[39;00m resp\n",
      "File \u001b[1;32m~\\anaconda3\\Lib\\site-packages\\requests\\sessions.py:703\u001b[0m, in \u001b[0;36mSession.send\u001b[1;34m(self, request, **kwargs)\u001b[0m\n\u001b[0;32m    700\u001b[0m start \u001b[38;5;241m=\u001b[39m preferred_clock()\n\u001b[0;32m    702\u001b[0m \u001b[38;5;66;03m# Send the request\u001b[39;00m\n\u001b[1;32m--> 703\u001b[0m r \u001b[38;5;241m=\u001b[39m adapter\u001b[38;5;241m.\u001b[39msend(request, \u001b[38;5;241m*\u001b[39m\u001b[38;5;241m*\u001b[39mkwargs)\n\u001b[0;32m    705\u001b[0m \u001b[38;5;66;03m# Total elapsed time of the request (approximately)\u001b[39;00m\n\u001b[0;32m    706\u001b[0m elapsed \u001b[38;5;241m=\u001b[39m preferred_clock() \u001b[38;5;241m-\u001b[39m start\n",
      "File \u001b[1;32m~\\anaconda3\\Lib\\site-packages\\requests\\adapters.py:486\u001b[0m, in \u001b[0;36mHTTPAdapter.send\u001b[1;34m(self, request, stream, timeout, verify, cert, proxies)\u001b[0m\n\u001b[0;32m    483\u001b[0m     timeout \u001b[38;5;241m=\u001b[39m TimeoutSauce(connect\u001b[38;5;241m=\u001b[39mtimeout, read\u001b[38;5;241m=\u001b[39mtimeout)\n\u001b[0;32m    485\u001b[0m \u001b[38;5;28;01mtry\u001b[39;00m:\n\u001b[1;32m--> 486\u001b[0m     resp \u001b[38;5;241m=\u001b[39m conn\u001b[38;5;241m.\u001b[39murlopen(\n\u001b[0;32m    487\u001b[0m         method\u001b[38;5;241m=\u001b[39mrequest\u001b[38;5;241m.\u001b[39mmethod,\n\u001b[0;32m    488\u001b[0m         url\u001b[38;5;241m=\u001b[39murl,\n\u001b[0;32m    489\u001b[0m         body\u001b[38;5;241m=\u001b[39mrequest\u001b[38;5;241m.\u001b[39mbody,\n\u001b[0;32m    490\u001b[0m         headers\u001b[38;5;241m=\u001b[39mrequest\u001b[38;5;241m.\u001b[39mheaders,\n\u001b[0;32m    491\u001b[0m         redirect\u001b[38;5;241m=\u001b[39m\u001b[38;5;28;01mFalse\u001b[39;00m,\n\u001b[0;32m    492\u001b[0m         assert_same_host\u001b[38;5;241m=\u001b[39m\u001b[38;5;28;01mFalse\u001b[39;00m,\n\u001b[0;32m    493\u001b[0m         preload_content\u001b[38;5;241m=\u001b[39m\u001b[38;5;28;01mFalse\u001b[39;00m,\n\u001b[0;32m    494\u001b[0m         decode_content\u001b[38;5;241m=\u001b[39m\u001b[38;5;28;01mFalse\u001b[39;00m,\n\u001b[0;32m    495\u001b[0m         retries\u001b[38;5;241m=\u001b[39m\u001b[38;5;28mself\u001b[39m\u001b[38;5;241m.\u001b[39mmax_retries,\n\u001b[0;32m    496\u001b[0m         timeout\u001b[38;5;241m=\u001b[39mtimeout,\n\u001b[0;32m    497\u001b[0m         chunked\u001b[38;5;241m=\u001b[39mchunked,\n\u001b[0;32m    498\u001b[0m     )\n\u001b[0;32m    500\u001b[0m \u001b[38;5;28;01mexcept\u001b[39;00m (ProtocolError, \u001b[38;5;167;01mOSError\u001b[39;00m) \u001b[38;5;28;01mas\u001b[39;00m err:\n\u001b[0;32m    501\u001b[0m     \u001b[38;5;28;01mraise\u001b[39;00m \u001b[38;5;167;01mConnectionError\u001b[39;00m(err, request\u001b[38;5;241m=\u001b[39mrequest)\n",
      "File \u001b[1;32m~\\anaconda3\\Lib\\site-packages\\urllib3\\connectionpool.py:791\u001b[0m, in \u001b[0;36mHTTPConnectionPool.urlopen\u001b[1;34m(self, method, url, body, headers, retries, redirect, assert_same_host, timeout, pool_timeout, release_conn, chunked, body_pos, preload_content, decode_content, **response_kw)\u001b[0m\n\u001b[0;32m    788\u001b[0m response_conn \u001b[38;5;241m=\u001b[39m conn \u001b[38;5;28;01mif\u001b[39;00m \u001b[38;5;129;01mnot\u001b[39;00m release_conn \u001b[38;5;28;01melse\u001b[39;00m \u001b[38;5;28;01mNone\u001b[39;00m\n\u001b[0;32m    790\u001b[0m \u001b[38;5;66;03m# Make the request on the HTTPConnection object\u001b[39;00m\n\u001b[1;32m--> 791\u001b[0m response \u001b[38;5;241m=\u001b[39m \u001b[38;5;28mself\u001b[39m\u001b[38;5;241m.\u001b[39m_make_request(\n\u001b[0;32m    792\u001b[0m     conn,\n\u001b[0;32m    793\u001b[0m     method,\n\u001b[0;32m    794\u001b[0m     url,\n\u001b[0;32m    795\u001b[0m     timeout\u001b[38;5;241m=\u001b[39mtimeout_obj,\n\u001b[0;32m    796\u001b[0m     body\u001b[38;5;241m=\u001b[39mbody,\n\u001b[0;32m    797\u001b[0m     headers\u001b[38;5;241m=\u001b[39mheaders,\n\u001b[0;32m    798\u001b[0m     chunked\u001b[38;5;241m=\u001b[39mchunked,\n\u001b[0;32m    799\u001b[0m     retries\u001b[38;5;241m=\u001b[39mretries,\n\u001b[0;32m    800\u001b[0m     response_conn\u001b[38;5;241m=\u001b[39mresponse_conn,\n\u001b[0;32m    801\u001b[0m     preload_content\u001b[38;5;241m=\u001b[39mpreload_content,\n\u001b[0;32m    802\u001b[0m     decode_content\u001b[38;5;241m=\u001b[39mdecode_content,\n\u001b[0;32m    803\u001b[0m     \u001b[38;5;241m*\u001b[39m\u001b[38;5;241m*\u001b[39mresponse_kw,\n\u001b[0;32m    804\u001b[0m )\n\u001b[0;32m    806\u001b[0m \u001b[38;5;66;03m# Everything went great!\u001b[39;00m\n\u001b[0;32m    807\u001b[0m clean_exit \u001b[38;5;241m=\u001b[39m \u001b[38;5;28;01mTrue\u001b[39;00m\n",
      "File \u001b[1;32m~\\anaconda3\\Lib\\site-packages\\urllib3\\connectionpool.py:537\u001b[0m, in \u001b[0;36mHTTPConnectionPool._make_request\u001b[1;34m(self, conn, method, url, body, headers, retries, timeout, chunked, response_conn, preload_content, decode_content, enforce_content_length)\u001b[0m\n\u001b[0;32m    535\u001b[0m \u001b[38;5;66;03m# Receive the response from the server\u001b[39;00m\n\u001b[0;32m    536\u001b[0m \u001b[38;5;28;01mtry\u001b[39;00m:\n\u001b[1;32m--> 537\u001b[0m     response \u001b[38;5;241m=\u001b[39m conn\u001b[38;5;241m.\u001b[39mgetresponse()\n\u001b[0;32m    538\u001b[0m \u001b[38;5;28;01mexcept\u001b[39;00m (BaseSSLError, \u001b[38;5;167;01mOSError\u001b[39;00m) \u001b[38;5;28;01mas\u001b[39;00m e:\n\u001b[0;32m    539\u001b[0m     \u001b[38;5;28mself\u001b[39m\u001b[38;5;241m.\u001b[39m_raise_timeout(err\u001b[38;5;241m=\u001b[39me, url\u001b[38;5;241m=\u001b[39murl, timeout_value\u001b[38;5;241m=\u001b[39mread_timeout)\n",
      "File \u001b[1;32m~\\anaconda3\\Lib\\site-packages\\urllib3\\connection.py:461\u001b[0m, in \u001b[0;36mHTTPConnection.getresponse\u001b[1;34m(self)\u001b[0m\n\u001b[0;32m    458\u001b[0m \u001b[38;5;28;01mfrom\u001b[39;00m \u001b[38;5;21;01m.\u001b[39;00m\u001b[38;5;21;01mresponse\u001b[39;00m \u001b[38;5;28;01mimport\u001b[39;00m HTTPResponse\n\u001b[0;32m    460\u001b[0m \u001b[38;5;66;03m# Get the response from http.client.HTTPConnection\u001b[39;00m\n\u001b[1;32m--> 461\u001b[0m httplib_response \u001b[38;5;241m=\u001b[39m \u001b[38;5;28msuper\u001b[39m()\u001b[38;5;241m.\u001b[39mgetresponse()\n\u001b[0;32m    463\u001b[0m \u001b[38;5;28;01mtry\u001b[39;00m:\n\u001b[0;32m    464\u001b[0m     assert_header_parsing(httplib_response\u001b[38;5;241m.\u001b[39mmsg)\n",
      "File \u001b[1;32m~\\anaconda3\\Lib\\http\\client.py:1402\u001b[0m, in \u001b[0;36mHTTPConnection.getresponse\u001b[1;34m(self)\u001b[0m\n\u001b[0;32m   1400\u001b[0m     \u001b[38;5;28;01mreturn\u001b[39;00m response\n\u001b[0;32m   1401\u001b[0m \u001b[38;5;28;01mexcept\u001b[39;00m:\n\u001b[1;32m-> 1402\u001b[0m     response\u001b[38;5;241m.\u001b[39mclose()\n\u001b[0;32m   1403\u001b[0m     \u001b[38;5;28;01mraise\u001b[39;00m\n",
      "File \u001b[1;32m~\\anaconda3\\Lib\\http\\client.py:424\u001b[0m, in \u001b[0;36mHTTPResponse.close\u001b[1;34m(self)\u001b[0m\n\u001b[0;32m    421\u001b[0m     \u001b[38;5;28mself\u001b[39m\u001b[38;5;241m.\u001b[39mfp \u001b[38;5;241m=\u001b[39m \u001b[38;5;28;01mNone\u001b[39;00m\n\u001b[0;32m    422\u001b[0m     fp\u001b[38;5;241m.\u001b[39mclose()\n\u001b[1;32m--> 424\u001b[0m \u001b[38;5;28;01mdef\u001b[39;00m \u001b[38;5;21mclose\u001b[39m(\u001b[38;5;28mself\u001b[39m):\n\u001b[0;32m    425\u001b[0m     \u001b[38;5;28;01mtry\u001b[39;00m:\n\u001b[0;32m    426\u001b[0m         \u001b[38;5;28msuper\u001b[39m()\u001b[38;5;241m.\u001b[39mclose() \u001b[38;5;66;03m# set \"closed\" flag\u001b[39;00m\n",
      "\u001b[1;31mKeyboardInterrupt\u001b[0m: "
     ]
    }
   ],
   "source": [
    "df_final = pd.DataFrame(columns = ['Patient_loc', 'Responder_lon', 'Responder_lat', \n",
    "        'duration_Responder', 'AED_lon', 'AED_lat','duration_AED',\n",
    "        'Vector_lon', 'Vector_lat', 'duration_Vector'])\n",
    "for i in range(len(Patient)):\n",
    "    df = test.fastest_time(Patient.loc[i], \n",
    "                           responder_full, aed_location, Vectors)\n",
    "    df_final = pd.concat([df_final,df], ignore_index=True)"
   ]
  },
  {
   "cell_type": "code",
   "execution_count": null,
   "id": "eed2dc4d-f121-476d-8c63-ca74ed02f84f",
   "metadata": {},
   "outputs": [],
   "source": []
  }
 ],
 "metadata": {
  "kernelspec": {
   "display_name": "Python 3 (ipykernel)",
   "language": "python",
   "name": "python3"
  },
  "language_info": {
   "codemirror_mode": {
    "name": "ipython",
    "version": 3
   },
   "file_extension": ".py",
   "mimetype": "text/x-python",
   "name": "python",
   "nbconvert_exporter": "python",
   "pygments_lexer": "ipython3",
   "version": "3.11.7"
  }
 },
 "nbformat": 4,
 "nbformat_minor": 5
}
