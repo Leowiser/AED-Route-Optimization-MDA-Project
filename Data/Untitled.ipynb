{
 "cells": [
  {
   "cell_type": "code",
   "execution_count": 1,
   "id": "2b75cead-89d6-46ec-82b8-90fd6f905257",
   "metadata": {},
   "outputs": [],
   "source": [
    "import pandas as pd"
   ]
  },
  {
   "cell_type": "code",
   "execution_count": 51,
   "id": "72d10faa-8625-4380-be14-918246fccd33",
   "metadata": {},
   "outputs": [],
   "source": [
    "sim = pd.read_csv(\"sim_results_openhr8.0_cfr0.03_maxresp100_numsim3_aedYes.csv\")"
   ]
  },
  {
   "cell_type": "code",
   "execution_count": 52,
   "id": "d7a8b57f-f2ce-41e8-90e1-38fb57e3b24e",
   "metadata": {},
   "outputs": [
    {
     "data": {
      "text/plain": [
       "Index(['patient_loc', 'responder_loc_run1', 'duration_Responder_run1',\n",
       "       'Indirect_Responder_loc_run1', 'aed_loc_run1', 'duration_AED_run1',\n",
       "       'vector_loc_run1', 'duration_Vector_run1', 'prob_vec_run1',\n",
       "       'prob_resp_run1', 'filter_values_run1', 'opening_hour_run1',\n",
       "       'decline_rate_run1', 'max_number_responder_run1',\n",
       "       'proportion_of_CFR_run1', 'responder_loc_run2',\n",
       "       'duration_Responder_run2', 'Indirect_Responder_loc_run2',\n",
       "       'aed_loc_run2', 'duration_AED_run2', 'vector_loc_run2',\n",
       "       'duration_Vector_run2', 'prob_vec_run2', 'prob_resp_run2',\n",
       "       'filter_values_run2', 'opening_hour_run2', 'decline_rate_run2',\n",
       "       'max_number_responder_run2', 'proportion_of_CFR_run2',\n",
       "       'responder_loc_run3', 'duration_Responder_run3',\n",
       "       'Indirect_Responder_loc_run3', 'aed_loc_run3', 'duration_AED_run3',\n",
       "       'vector_loc_run3', 'duration_Vector_run3', 'prob_vec_run3',\n",
       "       'prob_resp_run3', 'filter_values_run3', 'opening_hour_run3',\n",
       "       'decline_rate_run3', 'max_number_responder_run3',\n",
       "       'proportion_of_CFR_run3'],\n",
       "      dtype='object')"
      ]
     },
     "execution_count": 52,
     "metadata": {},
     "output_type": "execute_result"
    }
   ],
   "source": [
    "sim.columns"
   ]
  },
  {
   "cell_type": "code",
   "execution_count": null,
   "id": "6c9588cc-a821-4850-818b-0e5565be55df",
   "metadata": {},
   "outputs": [],
   "source": []
  },
  {
   "cell_type": "code",
   "execution_count": null,
   "id": "87cead35-f946-4251-b360-81a1b8172621",
   "metadata": {},
   "outputs": [],
   "source": []
  },
  {
   "cell_type": "raw",
   "id": "34f75368-075d-4bc2-b3ce-d31e446e639c",
   "metadata": {},
   "source": [
    "sim_small = pd.read_csv(\"sim_results_openhr2.0_cfr0.005_maxresp100_numsim2_aedYes.csv\")"
   ]
  },
  {
   "cell_type": "code",
   "execution_count": 40,
   "id": "b23bf339-2743-47de-a462-12538a764500",
   "metadata": {},
   "outputs": [
    {
     "data": {
      "text/plain": [
       "0.34122123565672585"
      ]
     },
     "execution_count": 40,
     "metadata": {},
     "output_type": "execute_result"
    }
   ],
   "source": [
    "sim_small[\"prob_resp_run3\"].mean()"
   ]
  },
  {
   "cell_type": "code",
   "execution_count": null,
   "id": "b1620bf4-797d-4455-b028-efdb9546df5c",
   "metadata": {},
   "outputs": [],
   "source": []
  }
 ],
 "metadata": {
  "kernelspec": {
   "display_name": "Python 3 (ipykernel)",
   "language": "python",
   "name": "python3"
  },
  "language_info": {
   "codemirror_mode": {
    "name": "ipython",
    "version": 3
   },
   "file_extension": ".py",
   "mimetype": "text/x-python",
   "name": "python",
   "nbconvert_exporter": "python",
   "pygments_lexer": "ipython3",
   "version": "3.12.9"
  }
 },
 "nbformat": 4,
 "nbformat_minor": 5
}
