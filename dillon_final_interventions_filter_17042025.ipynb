{
 "cells": [
  {
   "cell_type": "code",
   "execution_count": 1,
   "id": "4e691b29-f8e2-451a-a56c-96644bb853a2",
   "metadata": {},
   "outputs": [],
   "source": [
    "import pandas as pd"
   ]
  },
  {
   "cell_type": "code",
   "execution_count": 2,
   "id": "e3aecdf2-925e-4203-ac9c-084f8cd1aae8",
   "metadata": {},
   "outputs": [],
   "source": [
    "interventions = pd.read_excel(\"Data/interventions_new.xlsx\")"
   ]
  },
  {
   "cell_type": "code",
   "execution_count": 11,
   "id": "23fa7417-45d4-4668-b161-35a1f76e709f",
   "metadata": {},
   "outputs": [],
   "source": [
    "interventions_P003 = (interventions\n",
    "    .loc[interventions[\"eventtype\"]\n",
    "    .str.contains(\"P003\")]\n",
    ")\n",
    "\n",
    "interventions_P004 = (interventions\n",
    "    .loc[interventions[\"eventtype\"]\n",
    "    .str.contains(\"P004\")]\n",
    ")\n",
    "\n",
    "interventions_P008 = (interventions\n",
    "    .loc[interventions[\"eventtype\"]\n",
    "    .str.contains(\"P008\")]\n",
    ")\n",
    "\n",
    "interventions_P011 = (interventions\n",
    "    .loc[interventions[\"eventtype\"]\n",
    "    .str.contains(\"P011\")]\n",
    ")\n",
    "\n",
    "intervention_subsets = [interventions_P003, interventions_P004, interventions_P008, interventions_P011]\n",
    "interventions_doubleplusnew = pd.concat(intervention_subsets)"
   ]
  },
  {
   "cell_type": "code",
   "execution_count": 15,
   "id": "c65d35c6-4271-4a98-a401-2661ba5eaa54",
   "metadata": {},
   "outputs": [
    {
     "data": {
      "text/plain": [
       "eventtype\n",
       "P004 - CVA-TIA                                   162\n",
       "P011 - PIJN OP DE BORST                          151\n",
       "P003 - HARTSTILSTAND - DOOD - OVERLEDEN           70\n",
       "P008 - PATIËNT MET DEFIBRILLATOR OF PACEMAKER      5\n",
       "Name: count, dtype: int64"
      ]
     },
     "execution_count": 15,
     "metadata": {},
     "output_type": "execute_result"
    }
   ],
   "source": [
    "interventions_doubleplusnew[\"eventtype\"].value_counts()"
   ]
  },
  {
   "cell_type": "code",
   "execution_count": 16,
   "id": "e679d607-8567-4245-8752-c79c6c48213c",
   "metadata": {},
   "outputs": [],
   "source": [
    "interventions_doubleplusnew.to_excel(\"Data/interventions_doubleplusnew.xlsx\")"
   ]
  },
  {
   "cell_type": "code",
   "execution_count": null,
   "id": "6132f174-5608-49a9-a327-d3448083da8d",
   "metadata": {},
   "outputs": [],
   "source": []
  }
 ],
 "metadata": {
  "kernelspec": {
   "display_name": "Python 3 (ipykernel)",
   "language": "python",
   "name": "python3"
  },
  "language_info": {
   "codemirror_mode": {
    "name": "ipython",
    "version": 3
   },
   "file_extension": ".py",
   "mimetype": "text/x-python",
   "name": "python",
   "nbconvert_exporter": "python",
   "pygments_lexer": "ipython3",
   "version": "3.12.9"
  }
 },
 "nbformat": 4,
 "nbformat_minor": 5
}
