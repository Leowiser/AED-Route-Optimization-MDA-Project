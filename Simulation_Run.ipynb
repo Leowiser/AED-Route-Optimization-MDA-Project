{
 "cells": [
  {
   "cell_type": "markdown",
   "metadata": {
    "id": "E4_4z36LdY6t"
   },
   "source": [
    "# Simulations of Survival rate"
   ]
  },
  {
   "cell_type": "code",
   "execution_count": 1,
   "metadata": {
    "colab": {
     "base_uri": "https://localhost:8080/"
    },
    "executionInfo": {
     "elapsed": 3324,
     "status": "ok",
     "timestamp": 1744812972573,
     "user": {
      "displayName": "Dillon Hughes",
      "userId": "16567240521340382447"
     },
     "user_tz": -120
    },
    "id": "bg1jPFzhdY6y",
    "outputId": "84ceac97-0a43-4f61-d62f-d2595c22fc1c"
   },
   "outputs": [],
   "source": [
    "import pandas as pd\n",
    "import numpy as np\n",
    "import geopandas as gpd\n",
    "import os\n",
    "import openrouteservice\n",
    "\n",
    "import warnings\n",
    "warnings.simplefilter(action='ignore', category=FutureWarning)\n",
    "\n",
    "# Own Classes\n",
    "from Simulation_Routing import *\n",
    "from Simulating import *\n",
    "from Simulation_Routing_Matrix import *\n",
    "from Simulation_Routing_Matrix_copy import *\n",
    "from Simulation_Routing_Matrix_Batch import *\n",
    "from tqdm import tqdm"
   ]
  },
  {
   "cell_type": "markdown",
   "metadata": {
    "id": "sdvV6HS2dY60"
   },
   "source": [
    "Initialize the class using the ip of the server."
   ]
  },
  {
   "cell_type": "code",
   "execution_count": 2,
   "metadata": {},
   "outputs": [],
   "source": [
    "ip = \"35.159.16.25\""
   ]
  },
  {
   "cell_type": "code",
   "execution_count": 3,
   "metadata": {},
   "outputs": [],
   "source": [
    "sim = Simulation(ip, all = True)"
   ]
  },
  {
   "cell_type": "code",
   "execution_count": 4,
   "metadata": {},
   "outputs": [
    {
     "data": {
      "text/html": [
       "<div>\n",
       "<style scoped>\n",
       "    .dataframe tbody tr th:only-of-type {\n",
       "        vertical-align: middle;\n",
       "    }\n",
       "\n",
       "    .dataframe tbody tr th {\n",
       "        vertical-align: top;\n",
       "    }\n",
       "\n",
       "    .dataframe thead th {\n",
       "        text-align: right;\n",
       "    }\n",
       "</style>\n",
       "<table border=\"1\" class=\"dataframe\">\n",
       "  <thead>\n",
       "    <tr style=\"text-align: right;\">\n",
       "      <th></th>\n",
       "      <th>latitude</th>\n",
       "      <th>longitude</th>\n",
       "      <th>available</th>\n",
       "      <th>Checked</th>\n",
       "      <th>Opens</th>\n",
       "      <th>Closes</th>\n",
       "      <th>geometry</th>\n",
       "    </tr>\n",
       "  </thead>\n",
       "  <tbody>\n",
       "    <tr>\n",
       "      <th>0</th>\n",
       "      <td>50.893353</td>\n",
       "      <td>4.707561</td>\n",
       "      <td>None</td>\n",
       "      <td>FALSE</td>\n",
       "      <td>0</td>\n",
       "      <td>24</td>\n",
       "      <td>POLYGON ((4.70674 50.89899, 4.70673 50.89892, ...</td>\n",
       "    </tr>\n",
       "    <tr>\n",
       "      <th>1</th>\n",
       "      <td>50.928122</td>\n",
       "      <td>4.724020</td>\n",
       "      <td>couldn't find</td>\n",
       "      <td>Yes</td>\n",
       "      <td>0</td>\n",
       "      <td>24</td>\n",
       "      <td>POLYGON ((4.71509 50.92497, 4.71528 50.92466, ...</td>\n",
       "    </tr>\n",
       "    <tr>\n",
       "      <th>2</th>\n",
       "      <td>50.910898</td>\n",
       "      <td>4.713118</td>\n",
       "      <td>None</td>\n",
       "      <td>Yes</td>\n",
       "      <td>0</td>\n",
       "      <td>24</td>\n",
       "      <td>POLYGON ((4.70643 50.91046, 4.70659 50.90975, ...</td>\n",
       "    </tr>\n",
       "    <tr>\n",
       "      <th>3</th>\n",
       "      <td>50.891918</td>\n",
       "      <td>4.734149</td>\n",
       "      <td>Yes</td>\n",
       "      <td>Yes</td>\n",
       "      <td>0</td>\n",
       "      <td>24</td>\n",
       "      <td>POLYGON ((4.72414 50.88829, 4.72428 50.88796, ...</td>\n",
       "    </tr>\n",
       "    <tr>\n",
       "      <th>4</th>\n",
       "      <td>50.876465</td>\n",
       "      <td>4.727593</td>\n",
       "      <td>None</td>\n",
       "      <td>No</td>\n",
       "      <td>0</td>\n",
       "      <td>24</td>\n",
       "      <td>POLYGON ((4.71895 50.87788, 4.71928 50.87302, ...</td>\n",
       "    </tr>\n",
       "    <tr>\n",
       "      <th>...</th>\n",
       "      <td>...</td>\n",
       "      <td>...</td>\n",
       "      <td>...</td>\n",
       "      <td>...</td>\n",
       "      <td>...</td>\n",
       "      <td>...</td>\n",
       "      <td>...</td>\n",
       "    </tr>\n",
       "    <tr>\n",
       "      <th>173</th>\n",
       "      <td>50.876091</td>\n",
       "      <td>4.705817</td>\n",
       "      <td>Yes</td>\n",
       "      <td>Yes</td>\n",
       "      <td>0</td>\n",
       "      <td>24</td>\n",
       "      <td>POLYGON ((4.69572 50.87563, 4.69713 50.87271, ...</td>\n",
       "    </tr>\n",
       "    <tr>\n",
       "      <th>174</th>\n",
       "      <td>50.885883</td>\n",
       "      <td>4.710646</td>\n",
       "      <td>Yes</td>\n",
       "      <td>Yes</td>\n",
       "      <td>0</td>\n",
       "      <td>24</td>\n",
       "      <td>POLYGON ((4.69977 50.88727, 4.70062 50.88519, ...</td>\n",
       "    </tr>\n",
       "    <tr>\n",
       "      <th>175</th>\n",
       "      <td>50.858007</td>\n",
       "      <td>4.678102</td>\n",
       "      <td>Yes</td>\n",
       "      <td>Yes</td>\n",
       "      <td>0</td>\n",
       "      <td>24</td>\n",
       "      <td>POLYGON ((4.67428 50.85392, 4.67454 50.85368, ...</td>\n",
       "    </tr>\n",
       "    <tr>\n",
       "      <th>176</th>\n",
       "      <td>50.860550</td>\n",
       "      <td>4.680393</td>\n",
       "      <td>Yes</td>\n",
       "      <td>Yes</td>\n",
       "      <td>0</td>\n",
       "      <td>24</td>\n",
       "      <td>POLYGON ((4.67302 50.85875, 4.67456 50.85545, ...</td>\n",
       "    </tr>\n",
       "    <tr>\n",
       "      <th>177</th>\n",
       "      <td>50.899730</td>\n",
       "      <td>4.725975</td>\n",
       "      <td>Yes</td>\n",
       "      <td>Yes</td>\n",
       "      <td>0</td>\n",
       "      <td>24</td>\n",
       "      <td>POLYGON ((4.71660 50.89794, 4.71685 50.89769, ...</td>\n",
       "    </tr>\n",
       "  </tbody>\n",
       "</table>\n",
       "<p>178 rows × 7 columns</p>\n",
       "</div>"
      ],
      "text/plain": [
       "      latitude  longitude      available Checked  Opens  Closes  \\\n",
       "0    50.893353   4.707561           None   FALSE      0      24   \n",
       "1    50.928122   4.724020  couldn't find     Yes      0      24   \n",
       "2    50.910898   4.713118           None     Yes      0      24   \n",
       "3    50.891918   4.734149            Yes     Yes      0      24   \n",
       "4    50.876465   4.727593           None      No      0      24   \n",
       "..         ...        ...            ...     ...    ...     ...   \n",
       "173  50.876091   4.705817            Yes     Yes      0      24   \n",
       "174  50.885883   4.710646            Yes     Yes      0      24   \n",
       "175  50.858007   4.678102            Yes     Yes      0      24   \n",
       "176  50.860550   4.680393            Yes     Yes      0      24   \n",
       "177  50.899730   4.725975            Yes     Yes      0      24   \n",
       "\n",
       "                                              geometry  \n",
       "0    POLYGON ((4.70674 50.89899, 4.70673 50.89892, ...  \n",
       "1    POLYGON ((4.71509 50.92497, 4.71528 50.92466, ...  \n",
       "2    POLYGON ((4.70643 50.91046, 4.70659 50.90975, ...  \n",
       "3    POLYGON ((4.72414 50.88829, 4.72428 50.88796, ...  \n",
       "4    POLYGON ((4.71895 50.87788, 4.71928 50.87302, ...  \n",
       "..                                                 ...  \n",
       "173  POLYGON ((4.69572 50.87563, 4.69713 50.87271, ...  \n",
       "174  POLYGON ((4.69977 50.88727, 4.70062 50.88519, ...  \n",
       "175  POLYGON ((4.67428 50.85392, 4.67454 50.85368, ...  \n",
       "176  POLYGON ((4.67302 50.85875, 4.67456 50.85545, ...  \n",
       "177  POLYGON ((4.71660 50.89794, 4.71685 50.89769, ...  \n",
       "\n",
       "[178 rows x 7 columns]"
      ]
     },
     "execution_count": 4,
     "metadata": {},
     "output_type": "execute_result"
    }
   ],
   "source": [
    "sim.AED_ISO"
   ]
  },
  {
   "cell_type": "markdown",
   "metadata": {},
   "source": [
    "### New function version\n",
    "Wrapped a function around so that we can better automate the simulations. Can also better keep track of what parameters we have specified and which have already been tried."
   ]
  },
  {
   "cell_type": "code",
   "execution_count": null,
   "metadata": {
    "executionInfo": {
     "elapsed": 81,
     "status": "ok",
     "timestamp": 1744812982304,
     "user": {
      "displayName": "Dillon Hughes",
      "userId": "16567240521340382447"
     },
     "user_tz": -120
    },
    "id": "7KCmAEqQdY62"
   },
   "outputs": [],
   "source": [
    "## NEW function version (old pre-function version below)\n",
    "\n",
    "def simulation_run(ip=ip,              ## server IP, must request from Ruben (or others)\n",
    "                   num_sim = 3,        ## number of simulation runs to perform for the given parameter values\n",
    "                   max_num_resp = 100, ## maximum number of responders that can be considered\n",
    "                   open_hr = 14.0,     ## given opening hour (choose one of 2.0, 8.0, 14.0, 20.0)\n",
    "                   prop_cfr = 0.1,    ## proportion of the total population who are CFRs, determines the number sampled\n",
    "                   aed_filter = [\"Yes\"],\n",
    "                   all_open = False): ## which AEDs to consider (choose None to allow all)\n",
    "    Simulations = Simulation(ip, all_open)\n",
    "    RoutingMatrixCopy = RoutingSimulationMatrixBatch(ip, all_open)\n",
    "\n",
    "    ## OTHER PARAMETERS determined by our function input\n",
    "    \n",
    "    # Likelihood of a responder declining the call to action\n",
    "    # varies according to whether it is the day, evening, or night\n",
    "    if 7.0 <= open_hr < 17.0:\n",
    "        decline_rate = 0.7\n",
    "    elif 17.0 <= open_hr < 23.0:\n",
    "        decline_rate = 0.65\n",
    "    else:\n",
    "        decline_rate = 0.75\n",
    "    \n",
    "    # time of the day\n",
    "    time_of_day = \"day\" if 8.0 <= open_hr <= 18.0 else \"night\"\n",
    "    \n",
    "    df_final = pd.DataFrame()\n",
    "\n",
    "    print(\"Input values: \\n opening_hour: \" + str(open_hr) + \n",
    "      \"\\n decline_rate: \" + str(decline_rate) + \n",
    "      \"\\n max_number_responder: \" + str(max_num_resp) + \n",
    "      \"\\n filter_values: \" + str(aed_filter) +\n",
    "      \"\\n time_of_day: \" + str(time_of_day) +\n",
    "      \"\\n proportion: \" + str(prop_cfr))\n",
    "\n",
    "    x = 1\n",
    "    df_final = []\n",
    "    while x <= num_sim:\n",
    "        try:\n",
    "            df = Simulations.simulation_run(\n",
    "                decline_rate, max_num_resp, open_hr,\n",
    "                aed_filter, time_of_day, prop_cfr\n",
    "            )\n",
    "            df['filter_values'] = ','.join(aed_filter) if isinstance(aed_filter, list) else aed_filter\n",
    "            df['opening_hour'] = open_hr\n",
    "            df['decline_rate'] = decline_rate\n",
    "            df['max_number_responder'] = max_num_resp\n",
    "            df['proportion_of_CFR'] = prop_cfr\n",
    "            # Rename all columns except 'patient_loc'\n",
    "            suffix = f\"_run{x}\"\n",
    "            df_renamed = df.rename(\n",
    "                columns={col: f\"{col}{suffix}\" for col in df.columns if col != 'patient_loc'}\n",
    "            )\n",
    "    \n",
    "            # Merge into the master DataFrame\n",
    "            df_final.append(df_renamed)\n",
    "    \n",
    "        except Exception as e:\n",
    "            print(f\"[Warning] Simulation {x} failed: {e}. Retrying...\")\n",
    "        \n",
    "        x += 1\n",
    "\n",
    "    ## combine the run results with previous runs' results\n",
    "    df_final = pd.concat(df_final, ignore_index=True)\n",
    "    \n",
    "    ## Build a string-safe version of parameters\n",
    "    aed_str = \"all\" if aed_filter is None else \"-\".join(aed_filter)\n",
    "    filename = (\n",
    "        f\"sim_results_\"\n",
    "        f\"openhr{open_hr}_\"\n",
    "        f\"cfr{prop_cfr}_\"\n",
    "        f\"maxresp{max_num_resp}_\"\n",
    "        f\"numsim{num_sim}_\"\n",
    "        f\"aed{aed_str}_\"\n",
    "        f\"all_aeds.csv\"\n",
    "    )\n",
    "    \n",
    "    # Save the results\n",
    "    df_final.to_csv(filename, index=False)\n",
    "    print(f\"Results saved to {filename}\")"
   ]
  },
  {
   "cell_type": "code",
   "execution_count": null,
   "metadata": {},
   "outputs": [
    {
     "name": "stdout",
     "output_type": "stream",
     "text": [
      "Input values: \n",
      " opening_hour: 2.0\n",
      " decline_rate: 0.75\n",
      " max_number_responder: 100\n",
      " filter_values: None\n",
      " time_of_day: night\n",
      " proportion: 0.005\n"
     ]
    },
    {
     "name": "stderr",
     "output_type": "stream",
     "text": [
      "100%|██████████| 388/388 [03:03<00:00,  2.12it/s]\n",
      "100%|██████████| 388/388 [03:29<00:00,  1.85it/s]\n",
      "100%|██████████| 388/388 [03:46<00:00,  1.71it/s]\n"
     ]
    },
    {
     "name": "stdout",
     "output_type": "stream",
     "text": [
      "Results saved to sim_results_openhr2.0_cfr0.005_maxresp100_numsim3_aedall_all_aeds.csv\n",
      "Input values: \n",
      " opening_hour: 8.0\n",
      " decline_rate: 0.7\n",
      " max_number_responder: 100\n",
      " filter_values: None\n",
      " time_of_day: day\n",
      " proportion: 0.005\n"
     ]
    },
    {
     "name": "stderr",
     "output_type": "stream",
     "text": [
      "100%|██████████| 388/388 [04:09<00:00,  1.55it/s]\n",
      "100%|██████████| 388/388 [03:49<00:00,  1.69it/s]\n",
      "100%|██████████| 388/388 [03:13<00:00,  2.00it/s]\n"
     ]
    },
    {
     "name": "stdout",
     "output_type": "stream",
     "text": [
      "Results saved to sim_results_openhr8.0_cfr0.005_maxresp100_numsim3_aedall_all_aeds.csv\n",
      "Input values: \n",
      " opening_hour: 14.0\n",
      " decline_rate: 0.7\n",
      " max_number_responder: 100\n",
      " filter_values: None\n",
      " time_of_day: day\n",
      " proportion: 0.005\n"
     ]
    },
    {
     "name": "stderr",
     "output_type": "stream",
     "text": [
      " 18%|█▊        | 71/388 [00:52<04:10,  1.27it/s]"
     ]
    },
    {
     "name": "stdout",
     "output_type": "stream",
     "text": [
      "We have a problem here\n",
      "[Warning] Error with patient: unknown. Skipping. Error: 1\n"
     ]
    },
    {
     "name": "stderr",
     "output_type": "stream",
     "text": [
      " 19%|█▊        | 72/388 [00:52<03:31,  1.49it/s]"
     ]
    },
    {
     "name": "stdout",
     "output_type": "stream",
     "text": [
      "We have a problem here\n",
      "[Warning] Error with patient: unknown. Skipping. Error: 1\n"
     ]
    },
    {
     "name": "stderr",
     "output_type": "stream",
     "text": [
      " 37%|███▋      | 143/388 [01:37<02:26,  1.67it/s]"
     ]
    },
    {
     "name": "stdout",
     "output_type": "stream",
     "text": [
      "We have a problem here\n",
      "[Warning] Error with patient: unknown. Skipping. Error: 1\n"
     ]
    },
    {
     "name": "stderr",
     "output_type": "stream",
     "text": [
      " 63%|██████▎   | 243/388 [02:39<02:06,  1.15it/s]"
     ]
    },
    {
     "name": "stdout",
     "output_type": "stream",
     "text": [
      "We have a problem here\n",
      "[Warning] Error with patient: unknown. Skipping. Error: 1\n"
     ]
    },
    {
     "name": "stderr",
     "output_type": "stream",
     "text": [
      "100%|██████████| 388/388 [04:12<00:00,  1.53it/s]\n",
      "  7%|▋         | 29/388 [00:19<02:30,  2.38it/s]"
     ]
    },
    {
     "name": "stdout",
     "output_type": "stream",
     "text": [
      "We have a problem here\n",
      "[Warning] Error with patient: unknown. Skipping. Error: 1\n"
     ]
    },
    {
     "name": "stderr",
     "output_type": "stream",
     "text": [
      "  8%|▊         | 32/388 [00:20<02:31,  2.34it/s]"
     ]
    },
    {
     "name": "stdout",
     "output_type": "stream",
     "text": [
      "We have a problem here\n",
      "[Warning] Error with patient: unknown. Skipping. Error: 1\n"
     ]
    },
    {
     "name": "stderr",
     "output_type": "stream",
     "text": [
      " 10%|▉         | 38/388 [00:24<03:22,  1.73it/s]"
     ]
    },
    {
     "name": "stdout",
     "output_type": "stream",
     "text": [
      "We have a problem here\n",
      "[Warning] Error with patient: unknown. Skipping. Error: 1\n"
     ]
    },
    {
     "name": "stderr",
     "output_type": "stream",
     "text": [
      " 19%|█▊        | 72/388 [00:53<04:29,  1.17it/s]"
     ]
    },
    {
     "name": "stdout",
     "output_type": "stream",
     "text": [
      "We have a problem here\n",
      "[Warning] Error with patient: unknown. Skipping. Error: 1\n"
     ]
    },
    {
     "name": "stderr",
     "output_type": "stream",
     "text": [
      " 24%|██▍       | 94/388 [01:11<04:09,  1.18it/s]"
     ]
    },
    {
     "name": "stdout",
     "output_type": "stream",
     "text": [
      "We have a problem here\n",
      "[Warning] Error with patient: unknown. Skipping. Error: 1\n"
     ]
    },
    {
     "name": "stderr",
     "output_type": "stream",
     "text": [
      " 63%|██████▎   | 243/388 [02:59<02:08,  1.13it/s]"
     ]
    },
    {
     "name": "stdout",
     "output_type": "stream",
     "text": [
      "We have a problem here\n",
      "[Warning] Error with patient: unknown. Skipping. Error: 1\n"
     ]
    },
    {
     "name": "stderr",
     "output_type": "stream",
     "text": [
      " 65%|██████▍   | 252/388 [03:07<01:29,  1.53it/s]"
     ]
    },
    {
     "name": "stdout",
     "output_type": "stream",
     "text": [
      "We have a problem here\n",
      "[Warning] Error with patient: unknown. Skipping. Error: 1\n"
     ]
    },
    {
     "name": "stderr",
     "output_type": "stream",
     "text": [
      "100%|██████████| 388/388 [04:38<00:00,  1.40it/s]\n",
      "  4%|▎         | 14/388 [00:09<04:22,  1.43it/s]"
     ]
    },
    {
     "name": "stdout",
     "output_type": "stream",
     "text": [
      "[Warning] Error with patient: unknown. Skipping. Error: At least one origin and one destination required.\n"
     ]
    },
    {
     "name": "stderr",
     "output_type": "stream",
     "text": [
      "  7%|▋         | 29/388 [00:19<03:26,  1.74it/s]"
     ]
    },
    {
     "name": "stdout",
     "output_type": "stream",
     "text": [
      "[Warning] Error with patient: unknown. Skipping. Error: At least one origin and one destination required.\n"
     ]
    },
    {
     "name": "stderr",
     "output_type": "stream",
     "text": [
      " 10%|▉         | 38/388 [00:25<04:19,  1.35it/s]"
     ]
    },
    {
     "name": "stdout",
     "output_type": "stream",
     "text": [
      "[Warning] Error with patient: unknown. Skipping. Error: At least one origin and one destination required.\n"
     ]
    },
    {
     "name": "stderr",
     "output_type": "stream",
     "text": [
      " 30%|███       | 117/388 [01:23<02:16,  1.99it/s]"
     ]
    },
    {
     "name": "stdout",
     "output_type": "stream",
     "text": [
      "We have a problem here\n",
      "[Warning] Error with patient: unknown. Skipping. Error: 1\n"
     ]
    },
    {
     "name": "stderr",
     "output_type": "stream",
     "text": [
      " 37%|███▋      | 143/388 [01:40<02:18,  1.77it/s]"
     ]
    },
    {
     "name": "stdout",
     "output_type": "stream",
     "text": [
      "[Warning] Error with patient: unknown. Skipping. Error: At least one origin and one destination required.\n"
     ]
    },
    {
     "name": "stderr",
     "output_type": "stream",
     "text": [
      " 43%|████▎     | 167/388 [01:54<01:52,  1.97it/s]"
     ]
    },
    {
     "name": "stdout",
     "output_type": "stream",
     "text": [
      "We have a problem here\n",
      "[Warning] Error with patient: unknown. Skipping. Error: 1\n"
     ]
    },
    {
     "name": "stderr",
     "output_type": "stream",
     "text": [
      " 47%|████▋     | 184/388 [02:06<01:49,  1.86it/s]"
     ]
    },
    {
     "name": "stdout",
     "output_type": "stream",
     "text": [
      "We have a problem here\n",
      "[Warning] Error with patient: unknown. Skipping. Error: 1\n"
     ]
    },
    {
     "name": "stderr",
     "output_type": "stream",
     "text": [
      " 50%|█████     | 195/388 [02:14<02:23,  1.35it/s]"
     ]
    },
    {
     "name": "stdout",
     "output_type": "stream",
     "text": [
      "We have a problem here\n",
      "[Warning] Error with patient: unknown. Skipping. Error: 1\n"
     ]
    },
    {
     "name": "stderr",
     "output_type": "stream",
     "text": [
      " 58%|█████▊    | 225/388 [02:30<01:37,  1.68it/s]"
     ]
    },
    {
     "name": "stdout",
     "output_type": "stream",
     "text": [
      "[Warning] Error with patient: unknown. Skipping. Error: At least one origin and one destination required.\n"
     ]
    },
    {
     "name": "stderr",
     "output_type": "stream",
     "text": [
      " 66%|██████▌   | 257/388 [02:57<01:49,  1.19it/s]"
     ]
    },
    {
     "name": "stdout",
     "output_type": "stream",
     "text": [
      "We have a problem here\n",
      "[Warning] Error with patient: unknown. Skipping. Error: 1\n"
     ]
    },
    {
     "name": "stderr",
     "output_type": "stream",
     "text": [
      " 95%|█████████▌| 369/388 [04:03<00:07,  2.67it/s]"
     ]
    },
    {
     "name": "stdout",
     "output_type": "stream",
     "text": [
      "[Warning] Error with patient: unknown. Skipping. Error: At least one origin and one destination required.\n"
     ]
    },
    {
     "name": "stderr",
     "output_type": "stream",
     "text": [
      "100%|██████████| 388/388 [04:14<00:00,  1.52it/s]\n"
     ]
    },
    {
     "name": "stdout",
     "output_type": "stream",
     "text": [
      "Results saved to sim_results_openhr14.0_cfr0.005_maxresp100_numsim3_aedall_all_aeds.csv\n",
      "Input values: \n",
      " opening_hour: 20.0\n",
      " decline_rate: 0.65\n",
      " max_number_responder: 100\n",
      " filter_values: None\n",
      " time_of_day: night\n",
      " proportion: 0.005\n"
     ]
    },
    {
     "name": "stderr",
     "output_type": "stream",
     "text": [
      " 67%|██████▋   | 261/388 [02:50<01:37,  1.30it/s]"
     ]
    },
    {
     "name": "stdout",
     "output_type": "stream",
     "text": [
      "We have a problem here\n",
      "[Warning] Error with patient: unknown. Skipping. Error: 1\n"
     ]
    },
    {
     "name": "stderr",
     "output_type": "stream",
     "text": [
      "100%|██████████| 388/388 [04:12<00:00,  1.54it/s]\n",
      "100%|██████████| 388/388 [04:49<00:00,  1.34it/s]\n",
      "100%|██████████| 388/388 [04:24<00:00,  1.47it/s]"
     ]
    },
    {
     "name": "stdout",
     "output_type": "stream",
     "text": [
      "Results saved to sim_results_openhr20.0_cfr0.005_maxresp100_numsim3_aedall_all_aeds.csv\n"
     ]
    },
    {
     "name": "stderr",
     "output_type": "stream",
     "text": [
      "\n"
     ]
    }
   ],
   "source": [
    "opening_hours = [2.0, 8.0, 14.0, 20.0]\n",
    "for i in opening_hours:\n",
    "    simulation_run(open_hr = i, prop_cfr = 0.005, aed_filter = None, all_open = True)"
   ]
  },
  {
   "cell_type": "code",
   "execution_count": 6,
   "metadata": {},
   "outputs": [
    {
     "name": "stdout",
     "output_type": "stream",
     "text": [
      "Input values: \n",
      " opening_hour: 2.0\n",
      " decline_rate: 0.75\n",
      " max_number_responder: 100\n",
      " filter_values: ['Yes']\n",
      " time_of_day: night\n",
      " proportion: 0.001\n"
     ]
    },
    {
     "name": "stderr",
     "output_type": "stream",
     "text": [
      "100%|██████████| 388/388 [01:53<00:00,  3.41it/s]\n",
      "100%|██████████| 388/388 [01:54<00:00,  3.40it/s]\n",
      "100%|██████████| 388/388 [01:55<00:00,  3.35it/s]\n"
     ]
    },
    {
     "name": "stdout",
     "output_type": "stream",
     "text": [
      "Results saved to sim_results_openhr2.0_cfr0.001_maxresp100_numsim3_aedYes.csv\n",
      "Input values: \n",
      " opening_hour: 8.0\n",
      " decline_rate: 0.7\n",
      " max_number_responder: 100\n",
      " filter_values: ['Yes']\n",
      " time_of_day: day\n",
      " proportion: 0.001\n"
     ]
    },
    {
     "name": "stderr",
     "output_type": "stream",
     "text": [
      " 41%|████      | 158/388 [00:50<01:18,  2.93it/s]"
     ]
    },
    {
     "name": "stdout",
     "output_type": "stream",
     "text": [
      "We have a problem here\n",
      "[Warning] Error with patient: unknown. Skipping. Error: 1\n"
     ]
    },
    {
     "name": "stderr",
     "output_type": "stream",
     "text": [
      " 72%|███████▏  | 280/388 [01:30<00:32,  3.37it/s]"
     ]
    },
    {
     "name": "stdout",
     "output_type": "stream",
     "text": [
      "We have a problem here\n",
      "[Warning] Error with patient: unknown. Skipping. Error: 1\n"
     ]
    },
    {
     "name": "stderr",
     "output_type": "stream",
     "text": [
      "100%|██████████| 388/388 [02:03<00:00,  3.14it/s]\n",
      " 84%|████████▍ | 327/388 [01:44<00:16,  3.71it/s]"
     ]
    },
    {
     "name": "stdout",
     "output_type": "stream",
     "text": [
      "We have a problem here\n",
      "[Warning] Error with patient: unknown. Skipping. Error: 1\n"
     ]
    },
    {
     "name": "stderr",
     "output_type": "stream",
     "text": [
      "100%|██████████| 388/388 [02:03<00:00,  3.15it/s]\n",
      "100%|██████████| 388/388 [02:00<00:00,  3.23it/s]\n"
     ]
    },
    {
     "name": "stdout",
     "output_type": "stream",
     "text": [
      "Results saved to sim_results_openhr8.0_cfr0.001_maxresp100_numsim3_aedYes.csv\n",
      "Input values: \n",
      " opening_hour: 14.0\n",
      " decline_rate: 0.7\n",
      " max_number_responder: 100\n",
      " filter_values: ['Yes']\n",
      " time_of_day: day\n",
      " proportion: 0.001\n"
     ]
    },
    {
     "name": "stderr",
     "output_type": "stream",
     "text": [
      " 14%|█▎        | 53/388 [00:17<01:30,  3.70it/s]"
     ]
    },
    {
     "name": "stdout",
     "output_type": "stream",
     "text": [
      "[Warning] Error with patient: unknown. Skipping. Error: At least one origin and one destination required.\n"
     ]
    },
    {
     "name": "stderr",
     "output_type": "stream",
     "text": [
      " 20%|█▉        | 77/388 [00:25<01:30,  3.42it/s]"
     ]
    },
    {
     "name": "stdout",
     "output_type": "stream",
     "text": [
      "[Warning] Error with patient: unknown. Skipping. Error: At least one origin and one destination required.\n"
     ]
    },
    {
     "name": "stderr",
     "output_type": "stream",
     "text": [
      " 30%|██▉       | 116/388 [00:39<01:29,  3.04it/s]"
     ]
    },
    {
     "name": "stdout",
     "output_type": "stream",
     "text": [
      "[Warning] Error with patient: unknown. Skipping. Error: At least one origin and one destination required.\n"
     ]
    },
    {
     "name": "stderr",
     "output_type": "stream",
     "text": [
      " 30%|███       | 117/388 [00:39<01:24,  3.21it/s]"
     ]
    },
    {
     "name": "stdout",
     "output_type": "stream",
     "text": [
      "We have a problem here\n",
      "[Warning] Error with patient: unknown. Skipping. Error: 1\n"
     ]
    },
    {
     "name": "stderr",
     "output_type": "stream",
     "text": [
      " 31%|███       | 121/388 [00:40<01:18,  3.39it/s]"
     ]
    },
    {
     "name": "stdout",
     "output_type": "stream",
     "text": [
      "We have a problem here\n",
      "[Warning] Error with patient: unknown. Skipping. Error: 1\n"
     ]
    },
    {
     "name": "stderr",
     "output_type": "stream",
     "text": [
      " 31%|███▏      | 122/388 [00:41<01:21,  3.26it/s]"
     ]
    },
    {
     "name": "stdout",
     "output_type": "stream",
     "text": [
      "We have a problem here\n",
      "[Warning] Error with patient: unknown. Skipping. Error: 1\n"
     ]
    },
    {
     "name": "stderr",
     "output_type": "stream",
     "text": [
      " 32%|███▏      | 124/388 [00:41<01:15,  3.48it/s]"
     ]
    },
    {
     "name": "stdout",
     "output_type": "stream",
     "text": [
      "[Warning] Error with patient: unknown. Skipping. Error: At least one origin and one destination required.\n"
     ]
    },
    {
     "name": "stderr",
     "output_type": "stream",
     "text": [
      " 37%|███▋      | 144/388 [00:48<01:09,  3.50it/s]"
     ]
    },
    {
     "name": "stdout",
     "output_type": "stream",
     "text": [
      "[Warning] Error with patient: unknown. Skipping. Error: At least one origin and one destination required.\n"
     ]
    },
    {
     "name": "stderr",
     "output_type": "stream",
     "text": [
      " 41%|████      | 158/388 [00:52<01:02,  3.69it/s]"
     ]
    },
    {
     "name": "stdout",
     "output_type": "stream",
     "text": [
      "We have a problem here\n",
      "[Warning] Error with patient: unknown. Skipping. Error: 1\n"
     ]
    },
    {
     "name": "stderr",
     "output_type": "stream",
     "text": [
      " 43%|████▎     | 165/388 [00:54<01:16,  2.92it/s]"
     ]
    },
    {
     "name": "stdout",
     "output_type": "stream",
     "text": [
      "We have a problem here\n",
      "[Warning] Error with patient: unknown. Skipping. Error: 1\n"
     ]
    },
    {
     "name": "stderr",
     "output_type": "stream",
     "text": [
      " 44%|████▍     | 171/388 [00:56<00:51,  4.25it/s]"
     ]
    },
    {
     "name": "stdout",
     "output_type": "stream",
     "text": [
      "[Warning] Error with patient: unknown. Skipping. Error: At least one origin and one destination required.\n"
     ]
    },
    {
     "name": "stderr",
     "output_type": "stream",
     "text": [
      " 51%|█████▏    | 199/388 [01:06<01:03,  2.97it/s]"
     ]
    },
    {
     "name": "stdout",
     "output_type": "stream",
     "text": [
      "We have a problem here\n",
      "[Warning] Error with patient: unknown. Skipping. Error: 1\n"
     ]
    },
    {
     "name": "stderr",
     "output_type": "stream",
     "text": [
      " 52%|█████▏    | 200/388 [01:06<00:57,  3.27it/s]"
     ]
    },
    {
     "name": "stdout",
     "output_type": "stream",
     "text": [
      "We have a problem here\n",
      "[Warning] Error with patient: unknown. Skipping. Error: 1\n"
     ]
    },
    {
     "name": "stderr",
     "output_type": "stream",
     "text": [
      " 53%|█████▎    | 205/388 [01:07<00:43,  4.19it/s]"
     ]
    },
    {
     "name": "stdout",
     "output_type": "stream",
     "text": [
      "[Warning] Error with patient: unknown. Skipping. Error: At least one origin and one destination required.\n"
     ]
    },
    {
     "name": "stderr",
     "output_type": "stream",
     "text": [
      " 78%|███████▊  | 301/388 [01:38<00:25,  3.46it/s]"
     ]
    },
    {
     "name": "stdout",
     "output_type": "stream",
     "text": [
      "We have a problem here\n",
      "[Warning] Error with patient: unknown. Skipping. Error: 1\n"
     ]
    },
    {
     "name": "stderr",
     "output_type": "stream",
     "text": [
      " 84%|████████▍ | 327/388 [01:47<00:15,  3.85it/s]"
     ]
    },
    {
     "name": "stdout",
     "output_type": "stream",
     "text": [
      "We have a problem here\n",
      "[Warning] Error with patient: unknown. Skipping. Error: 1\n"
     ]
    },
    {
     "name": "stderr",
     "output_type": "stream",
     "text": [
      " 85%|████████▌ | 331/388 [01:48<00:17,  3.33it/s]"
     ]
    },
    {
     "name": "stdout",
     "output_type": "stream",
     "text": [
      "We have a problem here\n",
      "[Warning] Error with patient: unknown. Skipping. Error: 1\n"
     ]
    },
    {
     "name": "stderr",
     "output_type": "stream",
     "text": [
      "100%|██████████| 388/388 [02:06<00:00,  3.07it/s]\n",
      " 43%|████▎     | 165/388 [00:54<01:20,  2.79it/s]"
     ]
    },
    {
     "name": "stdout",
     "output_type": "stream",
     "text": [
      "We have a problem here\n",
      "[Warning] Error with patient: unknown. Skipping. Error: 1\n"
     ]
    },
    {
     "name": "stderr",
     "output_type": "stream",
     "text": [
      " 79%|███████▉  | 307/388 [01:39<00:23,  3.49it/s]"
     ]
    },
    {
     "name": "stdout",
     "output_type": "stream",
     "text": [
      "We have a problem here\n",
      "[Warning] Error with patient: unknown. Skipping. Error: 1\n"
     ]
    },
    {
     "name": "stderr",
     "output_type": "stream",
     "text": [
      " 85%|████████▌ | 331/388 [01:48<00:25,  2.20it/s]"
     ]
    },
    {
     "name": "stdout",
     "output_type": "stream",
     "text": [
      "We have a problem here\n",
      "[Warning] Error with patient: unknown. Skipping. Error: 1\n"
     ]
    },
    {
     "name": "stderr",
     "output_type": "stream",
     "text": [
      " 90%|████████▉ | 348/388 [01:53<00:12,  3.23it/s]"
     ]
    },
    {
     "name": "stdout",
     "output_type": "stream",
     "text": [
      "We have a problem here\n",
      "[Warning] Error with patient: unknown. Skipping. Error: 1\n"
     ]
    },
    {
     "name": "stderr",
     "output_type": "stream",
     "text": [
      "100%|██████████| 388/388 [02:05<00:00,  3.10it/s]\n",
      " 22%|██▏       | 85/388 [00:25<01:27,  3.46it/s]"
     ]
    },
    {
     "name": "stdout",
     "output_type": "stream",
     "text": [
      "We have a problem here\n",
      "[Warning] Error with patient: unknown. Skipping. Error: 1\n"
     ]
    },
    {
     "name": "stderr",
     "output_type": "stream",
     "text": [
      " 41%|████      | 158/388 [00:48<01:03,  3.59it/s]"
     ]
    },
    {
     "name": "stdout",
     "output_type": "stream",
     "text": [
      "We have a problem here\n",
      "[Warning] Error with patient: unknown. Skipping. Error: 1\n"
     ]
    },
    {
     "name": "stderr",
     "output_type": "stream",
     "text": [
      " 81%|████████  | 314/388 [01:38<00:32,  2.29it/s]"
     ]
    },
    {
     "name": "stdout",
     "output_type": "stream",
     "text": [
      "We have a problem here\n",
      "[Warning] Error with patient: unknown. Skipping. Error: 1\n"
     ]
    },
    {
     "name": "stderr",
     "output_type": "stream",
     "text": [
      "100%|██████████| 388/388 [02:04<00:00,  3.12it/s]\n"
     ]
    },
    {
     "name": "stdout",
     "output_type": "stream",
     "text": [
      "Results saved to sim_results_openhr14.0_cfr0.001_maxresp100_numsim3_aedYes.csv\n",
      "Input values: \n",
      " opening_hour: 20.0\n",
      " decline_rate: 0.65\n",
      " max_number_responder: 100\n",
      " filter_values: ['Yes']\n",
      " time_of_day: night\n",
      " proportion: 0.001\n"
     ]
    },
    {
     "name": "stderr",
     "output_type": "stream",
     "text": [
      "  2%|▏         | 7/388 [00:02<01:55,  3.31it/s]"
     ]
    },
    {
     "name": "stdout",
     "output_type": "stream",
     "text": [
      "[Warning] Error with patient: unknown. Skipping. Error: At least one origin and one destination required.\n"
     ]
    },
    {
     "name": "stderr",
     "output_type": "stream",
     "text": [
      " 43%|████▎     | 165/388 [00:52<01:00,  3.71it/s]"
     ]
    },
    {
     "name": "stdout",
     "output_type": "stream",
     "text": [
      "[Warning] Error with patient: unknown. Skipping. Error: At least one origin and one destination required.\n"
     ]
    },
    {
     "name": "stderr",
     "output_type": "stream",
     "text": [
      " 51%|█████▏    | 199/388 [01:02<01:02,  3.01it/s]"
     ]
    },
    {
     "name": "stdout",
     "output_type": "stream",
     "text": [
      "We have a problem here\n",
      "[Warning] Error with patient: unknown. Skipping. Error: 1\n"
     ]
    },
    {
     "name": "stderr",
     "output_type": "stream",
     "text": [
      " 68%|██████▊   | 265/388 [01:23<00:34,  3.54it/s]"
     ]
    },
    {
     "name": "stdout",
     "output_type": "stream",
     "text": [
      "We have a problem here\n",
      "[Warning] Error with patient: unknown. Skipping. Error: 1\n"
     ]
    },
    {
     "name": "stderr",
     "output_type": "stream",
     "text": [
      " 76%|███████▌  | 293/388 [01:31<00:28,  3.39it/s]"
     ]
    },
    {
     "name": "stdout",
     "output_type": "stream",
     "text": [
      "We have a problem here\n",
      "[Warning] Error with patient: unknown. Skipping. Error: 1\n"
     ]
    },
    {
     "name": "stderr",
     "output_type": "stream",
     "text": [
      " 85%|████████▌ | 331/388 [01:43<00:16,  3.38it/s]"
     ]
    },
    {
     "name": "stdout",
     "output_type": "stream",
     "text": [
      "[Warning] Error with patient: unknown. Skipping. Error: At least one origin and one destination required.\n"
     ]
    },
    {
     "name": "stderr",
     "output_type": "stream",
     "text": [
      " 90%|████████▉ | 348/388 [01:49<00:11,  3.47it/s]"
     ]
    },
    {
     "name": "stdout",
     "output_type": "stream",
     "text": [
      "[Warning] Error with patient: unknown. Skipping. Error: At least one origin and one destination required.\n"
     ]
    },
    {
     "name": "stderr",
     "output_type": "stream",
     "text": [
      "100%|██████████| 388/388 [02:01<00:00,  3.18it/s]\n",
      "  1%|          | 4/388 [00:01<02:10,  2.95it/s]"
     ]
    },
    {
     "name": "stdout",
     "output_type": "stream",
     "text": [
      "We have a problem here\n",
      "[Warning] Error with patient: unknown. Skipping. Error: 1\n"
     ]
    },
    {
     "name": "stderr",
     "output_type": "stream",
     "text": [
      " 41%|████      | 159/388 [00:59<01:16,  3.01it/s]"
     ]
    },
    {
     "name": "stdout",
     "output_type": "stream",
     "text": [
      "We have a problem here\n",
      "[Warning] Error with patient: unknown. Skipping. Error: 1\n"
     ]
    },
    {
     "name": "stderr",
     "output_type": "stream",
     "text": [
      " 43%|████▎     | 165/388 [01:01<01:19,  2.79it/s]"
     ]
    },
    {
     "name": "stdout",
     "output_type": "stream",
     "text": [
      "We have a problem here\n",
      "[Warning] Error with patient: unknown. Skipping. Error: 1\n"
     ]
    },
    {
     "name": "stderr",
     "output_type": "stream",
     "text": [
      " 68%|██████▊   | 265/388 [01:39<00:40,  3.05it/s]"
     ]
    },
    {
     "name": "stdout",
     "output_type": "stream",
     "text": [
      "We have a problem here\n",
      "[Warning] Error with patient: unknown. Skipping. Error: 1\n"
     ]
    },
    {
     "name": "stderr",
     "output_type": "stream",
     "text": [
      " 75%|███████▌  | 291/388 [01:47<00:32,  2.96it/s]"
     ]
    },
    {
     "name": "stdout",
     "output_type": "stream",
     "text": [
      "We have a problem here\n",
      "[Warning] Error with patient: unknown. Skipping. Error: 1\n"
     ]
    },
    {
     "name": "stderr",
     "output_type": "stream",
     "text": [
      "100%|██████████| 388/388 [02:18<00:00,  2.80it/s]\n",
      "  3%|▎         | 11/388 [00:03<01:57,  3.21it/s]"
     ]
    },
    {
     "name": "stdout",
     "output_type": "stream",
     "text": [
      "We have a problem here\n",
      "[Warning] Error with patient: unknown. Skipping. Error: 1\n"
     ]
    },
    {
     "name": "stderr",
     "output_type": "stream",
     "text": [
      " 43%|████▎     | 165/388 [00:52<01:04,  3.46it/s]"
     ]
    },
    {
     "name": "stdout",
     "output_type": "stream",
     "text": [
      "[Warning] Error with patient: unknown. Skipping. Error: At least one origin and one destination required.\n"
     ]
    },
    {
     "name": "stderr",
     "output_type": "stream",
     "text": [
      " 51%|█████▏    | 199/388 [01:03<01:00,  3.14it/s]"
     ]
    },
    {
     "name": "stdout",
     "output_type": "stream",
     "text": [
      "We have a problem here\n",
      "[Warning] Error with patient: unknown. Skipping. Error: 1\n"
     ]
    },
    {
     "name": "stderr",
     "output_type": "stream",
     "text": [
      " 72%|███████▏  | 280/388 [01:29<00:27,  3.97it/s]"
     ]
    },
    {
     "name": "stdout",
     "output_type": "stream",
     "text": [
      "[Warning] Error with patient: unknown. Skipping. Error: At least one origin and one destination required.\n"
     ]
    },
    {
     "name": "stderr",
     "output_type": "stream",
     "text": [
      " 85%|████████▌ | 331/388 [01:45<00:17,  3.30it/s]"
     ]
    },
    {
     "name": "stdout",
     "output_type": "stream",
     "text": [
      "[Warning] Error with patient: unknown. Skipping. Error: At least one origin and one destination required.\n"
     ]
    },
    {
     "name": "stderr",
     "output_type": "stream",
     "text": [
      " 90%|████████▉ | 348/388 [01:51<00:10,  3.64it/s]"
     ]
    },
    {
     "name": "stdout",
     "output_type": "stream",
     "text": [
      "[Warning] Error with patient: unknown. Skipping. Error: At least one origin and one destination required.\n"
     ]
    },
    {
     "name": "stderr",
     "output_type": "stream",
     "text": [
      " 93%|█████████▎| 360/388 [01:54<00:08,  3.20it/s]"
     ]
    },
    {
     "name": "stdout",
     "output_type": "stream",
     "text": [
      "We have a problem here\n",
      "[Warning] Error with patient: unknown. Skipping. Error: 1\n"
     ]
    },
    {
     "name": "stderr",
     "output_type": "stream",
     "text": [
      "100%|██████████| 388/388 [02:03<00:00,  3.15it/s]"
     ]
    },
    {
     "name": "stdout",
     "output_type": "stream",
     "text": [
      "Results saved to sim_results_openhr20.0_cfr0.001_maxresp100_numsim3_aedYes.csv\n"
     ]
    },
    {
     "name": "stderr",
     "output_type": "stream",
     "text": [
      "\n"
     ]
    }
   ],
   "source": [
    "opening_hours = [2.0, 8.0, 14.0, 20.0]\n",
    "for i in opening_hours:\n",
    "    simulation_run(open_hr = i, prop_cfr = 0.001)"
   ]
  },
  {
   "cell_type": "code",
   "execution_count": 41,
   "metadata": {
    "colab": {
     "base_uri": "https://localhost:8080/"
    },
    "id": "0mkQG-DbdY62",
    "outputId": "c635c00b-2f96-4b10-9035-3ca9b404ee9e",
    "scrolled": true
   },
   "outputs": [
    {
     "name": "stdout",
     "output_type": "stream",
     "text": [
      "Input values: \n",
      " opening_hour: 14.0\n",
      " decline_rate: 0.7\n",
      " max_number_responder: 100\n",
      " filter_values: ['Yes']\n",
      " time_of_day: day\n",
      " proportion: 0.01\n"
     ]
    },
    {
     "name": "stderr",
     "output_type": "stream",
     "text": [
      "100%|██████████| 388/388 [04:47<00:00,  1.35it/s]\n",
      " 24%|██▍       | 94/388 [01:10<03:40,  1.33it/s]\n"
     ]
    },
    {
     "ename": "KeyboardInterrupt",
     "evalue": "",
     "output_type": "error",
     "traceback": [
      "\u001b[1;31m---------------------------------------------------------------------------\u001b[0m",
      "\u001b[1;31mKeyboardInterrupt\u001b[0m                         Traceback (most recent call last)",
      "Cell \u001b[1;32mIn[41], line 43\u001b[0m\n\u001b[0;32m     41\u001b[0m \u001b[38;5;28;01mwhile\u001b[39;00m x \u001b[38;5;241m<\u001b[39m NO_SIMULATIONS:\n\u001b[0;32m     42\u001b[0m     \u001b[38;5;28;01mtry\u001b[39;00m:\n\u001b[1;32m---> 43\u001b[0m         df \u001b[38;5;241m=\u001b[39m Simulations\u001b[38;5;241m.\u001b[39msimulation_run(\n\u001b[0;32m     44\u001b[0m             decline_rate, max_number_responder, opening_hour,\n\u001b[0;32m     45\u001b[0m             filter_values, time_of_day, proportion\n\u001b[0;32m     46\u001b[0m         )\n\u001b[0;32m     47\u001b[0m         df[\u001b[38;5;124m'\u001b[39m\u001b[38;5;124mfilter_values\u001b[39m\u001b[38;5;124m'\u001b[39m] \u001b[38;5;241m=\u001b[39m \u001b[38;5;124m'\u001b[39m\u001b[38;5;124m,\u001b[39m\u001b[38;5;124m'\u001b[39m\u001b[38;5;241m.\u001b[39mjoin(filter_values) \u001b[38;5;28;01mif\u001b[39;00m \u001b[38;5;28misinstance\u001b[39m(filter_values, \u001b[38;5;28mlist\u001b[39m) \u001b[38;5;28;01melse\u001b[39;00m filter_values\n\u001b[0;32m     48\u001b[0m         df[\u001b[38;5;124m'\u001b[39m\u001b[38;5;124mopening_hour\u001b[39m\u001b[38;5;124m'\u001b[39m] \u001b[38;5;241m=\u001b[39m opening_hour\n",
      "File \u001b[1;32m~\\Desktop\\AED-Route-Optimization-MDA-Project\\Simulating.py:140\u001b[0m, in \u001b[0;36mSimulation.simulation_run\u001b[1;34m(self, decline_rate, max_number_responder, opening_hour, filter_values, time_of_day, proportion, dist_responder, dist_AED, dist_Vector)\u001b[0m\n\u001b[0;32m    138\u001b[0m \u001b[38;5;28;01mfor\u001b[39;00m _, patient \u001b[38;5;129;01min\u001b[39;00m tqdm(\u001b[38;5;28mself\u001b[39m\u001b[38;5;241m.\u001b[39mPATIENTS\u001b[38;5;241m.\u001b[39miterrows(), total\u001b[38;5;241m=\u001b[39m\u001b[38;5;28mself\u001b[39m\u001b[38;5;241m.\u001b[39mPATIENTS\u001b[38;5;241m.\u001b[39mshape[\u001b[38;5;241m0\u001b[39m]):\n\u001b[0;32m    139\u001b[0m     \u001b[38;5;28;01mtry\u001b[39;00m:\n\u001b[1;32m--> 140\u001b[0m         df \u001b[38;5;241m=\u001b[39m routing\u001b[38;5;241m.\u001b[39mfastest_time(patient, responders, \u001b[38;5;28mself\u001b[39m\u001b[38;5;241m.\u001b[39mVECTORS, decline_rate, \n\u001b[0;32m    141\u001b[0m                                 max_number_responder, opening_hour, filter_values, dist_responder, dist_AED, dist_Vector)\n\u001b[0;32m    143\u001b[0m         \u001b[38;5;66;03m# Handle missing durations safely\u001b[39;00m\n\u001b[0;32m    144\u001b[0m         df[\u001b[38;5;124m'\u001b[39m\u001b[38;5;124mduration_AED\u001b[39m\u001b[38;5;124m'\u001b[39m] \u001b[38;5;241m=\u001b[39m df[\u001b[38;5;124m'\u001b[39m\u001b[38;5;124mduration_AED\u001b[39m\u001b[38;5;124m'\u001b[39m]\u001b[38;5;241m.\u001b[39mreplace(\u001b[38;5;124m'\u001b[39m\u001b[38;5;124mNo AED\u001b[39m\u001b[38;5;124m'\u001b[39m, \u001b[38;5;28mfloat\u001b[39m(\u001b[38;5;241m10000\u001b[39m))\n",
      "File \u001b[1;32m~\\Desktop\\AED-Route-Optimization-MDA-Project\\Simulation_Routing_Matrix_Batch.py:297\u001b[0m, in \u001b[0;36mRoutingSimulationMatrixBatch.fastest_time\u001b[1;34m(self, patient, responders, vectors, decline_rate, max_number_responders, opening_hours, filter_values, dist_responder, dist_AED, dist_Vector)\u001b[0m\n\u001b[0;32m    294\u001b[0m \u001b[38;5;28;01melse\u001b[39;00m:\n\u001b[0;32m    295\u001b[0m     \u001b[38;5;66;03m#print('Comparing responders vs. vectors')\u001b[39;00m\n\u001b[0;32m    296\u001b[0m     \u001b[38;5;28;01mtry\u001b[39;00m:\n\u001b[1;32m--> 297\u001b[0m         df_duration \u001b[38;5;241m=\u001b[39m \u001b[38;5;28mself\u001b[39m\u001b[38;5;241m.\u001b[39m__fastest_comparisson(patient, vector_loc, responder_loc, aed_loc, max_number_responders, decline_rate, opening_hours, filter_values)\n\u001b[0;32m    298\u001b[0m     \u001b[38;5;28;01mexcept\u001b[39;00m NoResponderAcceptedError \u001b[38;5;28;01mas\u001b[39;00m e:\n\u001b[0;32m    299\u001b[0m         \u001b[38;5;66;03m#print(f\"Warning: {e}. Falling back to fastest vector.\")\u001b[39;00m\n\u001b[0;32m    300\u001b[0m         df_duration \u001b[38;5;241m=\u001b[39m \u001b[38;5;28mself\u001b[39m\u001b[38;5;241m.\u001b[39m__fastest_vector(patient, vector_loc)\n",
      "File \u001b[1;32m~\\Desktop\\AED-Route-Optimization-MDA-Project\\Simulation_Routing_Matrix_Batch.py:985\u001b[0m, in \u001b[0;36mRoutingSimulationMatrixBatch.__fastest_comparisson\u001b[1;34m(self, patient, vector_loc, responder_loc, aed_loc, max_number_responders, decline_rate, opening_hours, filter_values)\u001b[0m\n\u001b[0;32m    959\u001b[0m \u001b[38;5;28;01mdef\u001b[39;00m \u001b[38;5;21m__fastest_comparisson\u001b[39m(\u001b[38;5;28mself\u001b[39m, patient, vector_loc, responder_loc, aed_loc, max_number_responders, decline_rate, opening_hours, filter_values):\n\u001b[0;32m    960\u001b[0m \u001b[38;5;250m    \u001b[39m\u001b[38;5;124;03m\"\"\"\u001b[39;00m\n\u001b[0;32m    961\u001b[0m \u001b[38;5;124;03m    Function calculating the time of the direct, indirect responder and vector to arrive at the patient.\u001b[39;00m\n\u001b[0;32m    962\u001b[0m \u001b[38;5;124;03m    Used in function: def fastest_time\u001b[39;00m\n\u001b[1;32m   (...)\u001b[0m\n\u001b[0;32m    983\u001b[0m \u001b[38;5;124;03m            'duration_Vector':Duration it takes the vector to get to the patient}\u001b[39;00m\n\u001b[0;32m    984\u001b[0m \u001b[38;5;124;03m    \"\"\"\u001b[39;00m\n\u001b[1;32m--> 985\u001b[0m     responders_send \u001b[38;5;241m=\u001b[39m \u001b[38;5;28mself\u001b[39m\u001b[38;5;241m.\u001b[39m__send_responders(patient,  responder_loc, aed_loc, max_number_responders, decline_rate, opening_hours, filter_values)\n\u001b[0;32m    986\u001b[0m     loc_Responder \u001b[38;5;241m=\u001b[39m responders_send[\u001b[38;5;124m'\u001b[39m\u001b[38;5;124mcoord_direct\u001b[39m\u001b[38;5;124m'\u001b[39m]\n\u001b[0;32m    987\u001b[0m     fastest_Responder \u001b[38;5;241m=\u001b[39m responders_send[\u001b[38;5;124m'\u001b[39m\u001b[38;5;124mduration_direct\u001b[39m\u001b[38;5;124m'\u001b[39m]\n",
      "File \u001b[1;32m~\\Desktop\\AED-Route-Optimization-MDA-Project\\Simulation_Routing_Matrix_Batch.py:851\u001b[0m, in \u001b[0;36mRoutingSimulationMatrixBatch.__send_responders\u001b[1;34m(self, patient, responder_loc, aed_loc, max_number_responders, decline_rate, opening_hours, filter_values)\u001b[0m\n\u001b[0;32m    828\u001b[0m \u001b[38;5;28;01mdef\u001b[39;00m \u001b[38;5;21m__send_responders\u001b[39m(\u001b[38;5;28mself\u001b[39m, patient, responder_loc, aed_loc, max_number_responders, decline_rate, opening_hours, filter_values):\n\u001b[0;32m    829\u001b[0m \u001b[38;5;250m    \u001b[39m\u001b[38;5;124;03m\"\"\"\u001b[39;00m\n\u001b[0;32m    830\u001b[0m \u001b[38;5;124;03m    Function to find the optimal responders to send directly or indirectly.\u001b[39;00m\n\u001b[0;32m    831\u001b[0m \u001b[38;5;124;03m    Used in function: def __fastest_comparisson\u001b[39;00m\n\u001b[1;32m   (...)\u001b[0m\n\u001b[0;32m    849\u001b[0m \u001b[38;5;124;03m            'duration_through_AED':Duration it takes the responder to get to aed and then the patient}\u001b[39;00m\n\u001b[0;32m    850\u001b[0m \u001b[38;5;124;03m    \"\"\"\u001b[39;00m\n\u001b[1;32m--> 851\u001b[0m     df_duration_direct \u001b[38;5;241m=\u001b[39m \u001b[38;5;28mself\u001b[39m\u001b[38;5;241m.\u001b[39m__possible_routing_direct(patient, responder_loc, max_number_responders)\n\u001b[0;32m    852\u001b[0m     df_duration_indirect \u001b[38;5;241m=\u001b[39m \u001b[38;5;28mself\u001b[39m\u001b[38;5;241m.\u001b[39m__possible_routing_indirect(patient, responder_loc, aed_loc,  opening_hours, filter_values)\n\u001b[0;32m    854\u001b[0m     df_duration_direct \u001b[38;5;241m=\u001b[39m df_duration_direct\u001b[38;5;241m.\u001b[39msort_values(by\u001b[38;5;241m=\u001b[39m[\u001b[38;5;124m'\u001b[39m\u001b[38;5;124mduration_direct\u001b[39m\u001b[38;5;124m'\u001b[39m], ascending\u001b[38;5;241m=\u001b[39m\u001b[38;5;28;01mTrue\u001b[39;00m)\n",
      "File \u001b[1;32m~\\Desktop\\AED-Route-Optimization-MDA-Project\\Simulation_Routing_Matrix_Batch.py:591\u001b[0m, in \u001b[0;36mRoutingSimulationMatrixBatch.__possible_routing_direct\u001b[1;34m(self, patient, responder_loc, max_number_responders)\u001b[0m\n\u001b[0;32m    583\u001b[0m coordination_list_resp \u001b[38;5;241m=\u001b[39m (\n\u001b[0;32m    584\u001b[0m     [[patient\u001b[38;5;241m.\u001b[39mloc[\u001b[38;5;241m0\u001b[39m, \u001b[38;5;124m'\u001b[39m\u001b[38;5;124mlongitude\u001b[39m\u001b[38;5;124m'\u001b[39m], patient\u001b[38;5;241m.\u001b[39mloc[\u001b[38;5;241m0\u001b[39m, \u001b[38;5;124m'\u001b[39m\u001b[38;5;124mlatitude\u001b[39m\u001b[38;5;124m'\u001b[39m]]]\n\u001b[0;32m    585\u001b[0m     \u001b[38;5;241m+\u001b[39m Responder_df\u001b[38;5;241m.\u001b[39mapply(\u001b[38;5;28;01mlambda\u001b[39;00m row: [row[\u001b[38;5;124m\"\u001b[39m\u001b[38;5;124mresponder_lon\u001b[39m\u001b[38;5;124m\"\u001b[39m], row[\u001b[38;5;124m\"\u001b[39m\u001b[38;5;124mresponder_lat\u001b[39m\u001b[38;5;124m\"\u001b[39m]], axis\u001b[38;5;241m=\u001b[39m\u001b[38;5;241m1\u001b[39m)\u001b[38;5;241m.\u001b[39mtolist()\n\u001b[0;32m    586\u001b[0m )\n\u001b[0;32m    587\u001b[0m \u001b[38;5;66;03m#print(f'There are {len(coordination_list_resp)-1} direct responder options.')\u001b[39;00m\n\u001b[0;32m    588\u001b[0m \n\u001b[0;32m    589\u001b[0m \u001b[38;5;66;03m# Use the batch function (which is assumed to split the origins into batches, process each batch, \u001b[39;00m\n\u001b[0;32m    590\u001b[0m \u001b[38;5;66;03m# and return a single list of durations corresponding to the responder options).\u001b[39;00m\n\u001b[1;32m--> 591\u001b[0m duration_results_resp \u001b[38;5;241m=\u001b[39m \u001b[38;5;28mself\u001b[39m\u001b[38;5;241m.\u001b[39mbatch_matrix_duration(coordination_list_resp, batch_size\u001b[38;5;241m=\u001b[39m\u001b[38;5;241m10\u001b[39m, profile\u001b[38;5;241m=\u001b[39m\u001b[38;5;124m\"\u001b[39m\u001b[38;5;124mfoot-walking\u001b[39m\u001b[38;5;124m\"\u001b[39m)\n\u001b[0;32m    593\u001b[0m \u001b[38;5;66;03m# Since the batch function returns only the durations for each responder (without the self-distance),\u001b[39;00m\n\u001b[0;32m    594\u001b[0m \u001b[38;5;66;03m# its output is a list with length equal to the number of responders.\u001b[39;00m\n\u001b[0;32m    595\u001b[0m Responder_df[\u001b[38;5;124m\"\u001b[39m\u001b[38;5;124mduration_direct\u001b[39m\u001b[38;5;124m\"\u001b[39m] \u001b[38;5;241m=\u001b[39m duration_results_resp\n",
      "File \u001b[1;32m~\\Desktop\\AED-Route-Optimization-MDA-Project\\Simulation_Routing_Matrix_Batch.py:804\u001b[0m, in \u001b[0;36mRoutingSimulationMatrixBatch.batch_matrix_duration\u001b[1;34m(self, coordinates, batch_size, profile)\u001b[0m\n\u001b[0;32m    802\u001b[0m batch_coords \u001b[38;5;241m=\u001b[39m [destination] \u001b[38;5;241m+\u001b[39m batch_origins\n\u001b[0;32m    803\u001b[0m \u001b[38;5;28;01mtry\u001b[39;00m:\n\u001b[1;32m--> 804\u001b[0m     matrix \u001b[38;5;241m=\u001b[39m \u001b[38;5;28mself\u001b[39m\u001b[38;5;241m.\u001b[39m__matrix_duration(coordinates\u001b[38;5;241m=\u001b[39mbatch_coords, profile\u001b[38;5;241m=\u001b[39mprofile)\n\u001b[0;32m    805\u001b[0m     \u001b[38;5;28;01mfor\u001b[39;00m j \u001b[38;5;129;01min\u001b[39;00m \u001b[38;5;28mrange\u001b[39m(\u001b[38;5;241m1\u001b[39m, \u001b[38;5;28mlen\u001b[39m(matrix[\u001b[38;5;124m'\u001b[39m\u001b[38;5;124mdurations\u001b[39m\u001b[38;5;124m'\u001b[39m])):\n\u001b[0;32m    806\u001b[0m         combined_results\u001b[38;5;241m.\u001b[39mappend(matrix[\u001b[38;5;124m'\u001b[39m\u001b[38;5;124mdurations\u001b[39m\u001b[38;5;124m'\u001b[39m][j][\u001b[38;5;241m0\u001b[39m])\n",
      "File \u001b[1;32m~\\Desktop\\AED-Route-Optimization-MDA-Project\\Simulation_Routing_Matrix_Batch.py:205\u001b[0m, in \u001b[0;36mRoutingSimulationMatrixBatch.__matrix_duration\u001b[1;34m(self, coordinates, profile)\u001b[0m\n\u001b[0;32m    203\u001b[0m custom_client \u001b[38;5;241m=\u001b[39m \u001b[38;5;28mself\u001b[39m\u001b[38;5;241m.\u001b[39mCLIENT_ORS\n\u001b[0;32m    204\u001b[0m \u001b[38;5;66;03m#time.sleep(sleep)\u001b[39;00m\n\u001b[1;32m--> 205\u001b[0m matrix \u001b[38;5;241m=\u001b[39m custom_client\u001b[38;5;241m.\u001b[39mdistance_matrix(\n\u001b[0;32m    206\u001b[0m     locations\u001b[38;5;241m=\u001b[39mcoordinates,\n\u001b[0;32m    207\u001b[0m     destinations \u001b[38;5;241m=\u001b[39m [\u001b[38;5;241m0\u001b[39m],\n\u001b[0;32m    208\u001b[0m     profile \u001b[38;5;241m=\u001b[39m profile,\n\u001b[0;32m    209\u001b[0m     metrics\u001b[38;5;241m=\u001b[39m[\u001b[38;5;124m'\u001b[39m\u001b[38;5;124mdistance\u001b[39m\u001b[38;5;124m'\u001b[39m, \u001b[38;5;124m'\u001b[39m\u001b[38;5;124mduration\u001b[39m\u001b[38;5;124m'\u001b[39m],\n\u001b[0;32m    210\u001b[0m     validate\u001b[38;5;241m=\u001b[39m\u001b[38;5;28;01mFalse\u001b[39;00m,\n\u001b[0;32m    211\u001b[0m )\n\u001b[0;32m    213\u001b[0m \u001b[38;5;28;01mreturn\u001b[39;00m matrix\n",
      "File \u001b[1;32m~\\anaconda3\\envs\\CFR\\Lib\\site-packages\\openrouteservice\\client.py:299\u001b[0m, in \u001b[0;36m_make_api_method.<locals>.wrapper\u001b[1;34m(*args, **kwargs)\u001b[0m\n\u001b[0;32m    296\u001b[0m \u001b[38;5;129m@functools\u001b[39m\u001b[38;5;241m.\u001b[39mwraps(func)\n\u001b[0;32m    297\u001b[0m \u001b[38;5;28;01mdef\u001b[39;00m \u001b[38;5;21mwrapper\u001b[39m(\u001b[38;5;241m*\u001b[39margs, \u001b[38;5;241m*\u001b[39m\u001b[38;5;241m*\u001b[39mkwargs):\n\u001b[0;32m    298\u001b[0m     args[\u001b[38;5;241m0\u001b[39m]\u001b[38;5;241m.\u001b[39m_extra_params \u001b[38;5;241m=\u001b[39m kwargs\u001b[38;5;241m.\u001b[39mpop(\u001b[38;5;124m\"\u001b[39m\u001b[38;5;124mextra_params\u001b[39m\u001b[38;5;124m\"\u001b[39m, \u001b[38;5;28;01mNone\u001b[39;00m)\n\u001b[1;32m--> 299\u001b[0m     result \u001b[38;5;241m=\u001b[39m func(\u001b[38;5;241m*\u001b[39margs, \u001b[38;5;241m*\u001b[39m\u001b[38;5;241m*\u001b[39mkwargs)\n\u001b[0;32m    300\u001b[0m     \u001b[38;5;28;01mtry\u001b[39;00m:\n\u001b[0;32m    301\u001b[0m         \u001b[38;5;28;01mdel\u001b[39;00m args[\u001b[38;5;241m0\u001b[39m]\u001b[38;5;241m.\u001b[39m_extra_params\n",
      "File \u001b[1;32m~\\anaconda3\\envs\\CFR\\Lib\\site-packages\\openrouteservice\\distance_matrix.py:116\u001b[0m, in \u001b[0;36mdistance_matrix\u001b[1;34m(client, locations, profile, sources, destinations, metrics, resolve_locations, units, optimized, validate, dry_run)\u001b[0m\n\u001b[0;32m    113\u001b[0m \u001b[38;5;28;01mif\u001b[39;00m optimized \u001b[38;5;129;01mis\u001b[39;00m \u001b[38;5;129;01mnot\u001b[39;00m \u001b[38;5;28;01mNone\u001b[39;00m:\n\u001b[0;32m    114\u001b[0m     params[\u001b[38;5;124m\"\u001b[39m\u001b[38;5;124moptimized\u001b[39m\u001b[38;5;124m\"\u001b[39m] \u001b[38;5;241m=\u001b[39m optimized\n\u001b[1;32m--> 116\u001b[0m \u001b[38;5;28;01mreturn\u001b[39;00m client\u001b[38;5;241m.\u001b[39mrequest(\u001b[38;5;124m\"\u001b[39m\u001b[38;5;124m/v2/matrix/\u001b[39m\u001b[38;5;124m\"\u001b[39m \u001b[38;5;241m+\u001b[39m profile \u001b[38;5;241m+\u001b[39m \u001b[38;5;124m'\u001b[39m\u001b[38;5;124m/json\u001b[39m\u001b[38;5;124m'\u001b[39m, {}, post_json\u001b[38;5;241m=\u001b[39mparams, dry_run\u001b[38;5;241m=\u001b[39mdry_run)\n",
      "File \u001b[1;32m~\\anaconda3\\envs\\CFR\\Lib\\site-packages\\openrouteservice\\client.py:186\u001b[0m, in \u001b[0;36mClient.request\u001b[1;34m(self, url, get_params, first_request_time, retry_counter, requests_kwargs, post_json, dry_run)\u001b[0m\n\u001b[0;32m    183\u001b[0m     \u001b[38;5;28;01mreturn\u001b[39;00m\n\u001b[0;32m    185\u001b[0m \u001b[38;5;28;01mtry\u001b[39;00m:\n\u001b[1;32m--> 186\u001b[0m     response \u001b[38;5;241m=\u001b[39m requests_method(\u001b[38;5;28mself\u001b[39m\u001b[38;5;241m.\u001b[39m_base_url \u001b[38;5;241m+\u001b[39m authed_url,\n\u001b[0;32m    187\u001b[0m                                \u001b[38;5;241m*\u001b[39m\u001b[38;5;241m*\u001b[39mfinal_requests_kwargs)\n\u001b[0;32m    188\u001b[0m     \u001b[38;5;28mself\u001b[39m\u001b[38;5;241m.\u001b[39m_req \u001b[38;5;241m=\u001b[39m response\u001b[38;5;241m.\u001b[39mrequest\n\u001b[0;32m    190\u001b[0m \u001b[38;5;28;01mexcept\u001b[39;00m requests\u001b[38;5;241m.\u001b[39mexceptions\u001b[38;5;241m.\u001b[39mTimeout:\n",
      "File \u001b[1;32m~\\anaconda3\\envs\\CFR\\Lib\\site-packages\\requests\\sessions.py:637\u001b[0m, in \u001b[0;36mSession.post\u001b[1;34m(self, url, data, json, **kwargs)\u001b[0m\n\u001b[0;32m    626\u001b[0m \u001b[38;5;28;01mdef\u001b[39;00m \u001b[38;5;21mpost\u001b[39m(\u001b[38;5;28mself\u001b[39m, url, data\u001b[38;5;241m=\u001b[39m\u001b[38;5;28;01mNone\u001b[39;00m, json\u001b[38;5;241m=\u001b[39m\u001b[38;5;28;01mNone\u001b[39;00m, \u001b[38;5;241m*\u001b[39m\u001b[38;5;241m*\u001b[39mkwargs):\n\u001b[0;32m    627\u001b[0m \u001b[38;5;250m    \u001b[39m\u001b[38;5;124mr\u001b[39m\u001b[38;5;124;03m\"\"\"Sends a POST request. Returns :class:`Response` object.\u001b[39;00m\n\u001b[0;32m    628\u001b[0m \n\u001b[0;32m    629\u001b[0m \u001b[38;5;124;03m    :param url: URL for the new :class:`Request` object.\u001b[39;00m\n\u001b[1;32m   (...)\u001b[0m\n\u001b[0;32m    634\u001b[0m \u001b[38;5;124;03m    :rtype: requests.Response\u001b[39;00m\n\u001b[0;32m    635\u001b[0m \u001b[38;5;124;03m    \"\"\"\u001b[39;00m\n\u001b[1;32m--> 637\u001b[0m     \u001b[38;5;28;01mreturn\u001b[39;00m \u001b[38;5;28mself\u001b[39m\u001b[38;5;241m.\u001b[39mrequest(\u001b[38;5;124m\"\u001b[39m\u001b[38;5;124mPOST\u001b[39m\u001b[38;5;124m\"\u001b[39m, url, data\u001b[38;5;241m=\u001b[39mdata, json\u001b[38;5;241m=\u001b[39mjson, \u001b[38;5;241m*\u001b[39m\u001b[38;5;241m*\u001b[39mkwargs)\n",
      "File \u001b[1;32m~\\anaconda3\\envs\\CFR\\Lib\\site-packages\\requests\\sessions.py:589\u001b[0m, in \u001b[0;36mSession.request\u001b[1;34m(self, method, url, params, data, headers, cookies, files, auth, timeout, allow_redirects, proxies, hooks, stream, verify, cert, json)\u001b[0m\n\u001b[0;32m    584\u001b[0m send_kwargs \u001b[38;5;241m=\u001b[39m {\n\u001b[0;32m    585\u001b[0m     \u001b[38;5;124m\"\u001b[39m\u001b[38;5;124mtimeout\u001b[39m\u001b[38;5;124m\"\u001b[39m: timeout,\n\u001b[0;32m    586\u001b[0m     \u001b[38;5;124m\"\u001b[39m\u001b[38;5;124mallow_redirects\u001b[39m\u001b[38;5;124m\"\u001b[39m: allow_redirects,\n\u001b[0;32m    587\u001b[0m }\n\u001b[0;32m    588\u001b[0m send_kwargs\u001b[38;5;241m.\u001b[39mupdate(settings)\n\u001b[1;32m--> 589\u001b[0m resp \u001b[38;5;241m=\u001b[39m \u001b[38;5;28mself\u001b[39m\u001b[38;5;241m.\u001b[39msend(prep, \u001b[38;5;241m*\u001b[39m\u001b[38;5;241m*\u001b[39msend_kwargs)\n\u001b[0;32m    591\u001b[0m \u001b[38;5;28;01mreturn\u001b[39;00m resp\n",
      "File \u001b[1;32m~\\anaconda3\\envs\\CFR\\Lib\\site-packages\\requests\\sessions.py:703\u001b[0m, in \u001b[0;36mSession.send\u001b[1;34m(self, request, **kwargs)\u001b[0m\n\u001b[0;32m    700\u001b[0m start \u001b[38;5;241m=\u001b[39m preferred_clock()\n\u001b[0;32m    702\u001b[0m \u001b[38;5;66;03m# Send the request\u001b[39;00m\n\u001b[1;32m--> 703\u001b[0m r \u001b[38;5;241m=\u001b[39m adapter\u001b[38;5;241m.\u001b[39msend(request, \u001b[38;5;241m*\u001b[39m\u001b[38;5;241m*\u001b[39mkwargs)\n\u001b[0;32m    705\u001b[0m \u001b[38;5;66;03m# Total elapsed time of the request (approximately)\u001b[39;00m\n\u001b[0;32m    706\u001b[0m elapsed \u001b[38;5;241m=\u001b[39m preferred_clock() \u001b[38;5;241m-\u001b[39m start\n",
      "File \u001b[1;32m~\\anaconda3\\envs\\CFR\\Lib\\site-packages\\requests\\adapters.py:667\u001b[0m, in \u001b[0;36mHTTPAdapter.send\u001b[1;34m(self, request, stream, timeout, verify, cert, proxies)\u001b[0m\n\u001b[0;32m    664\u001b[0m     timeout \u001b[38;5;241m=\u001b[39m TimeoutSauce(connect\u001b[38;5;241m=\u001b[39mtimeout, read\u001b[38;5;241m=\u001b[39mtimeout)\n\u001b[0;32m    666\u001b[0m \u001b[38;5;28;01mtry\u001b[39;00m:\n\u001b[1;32m--> 667\u001b[0m     resp \u001b[38;5;241m=\u001b[39m conn\u001b[38;5;241m.\u001b[39murlopen(\n\u001b[0;32m    668\u001b[0m         method\u001b[38;5;241m=\u001b[39mrequest\u001b[38;5;241m.\u001b[39mmethod,\n\u001b[0;32m    669\u001b[0m         url\u001b[38;5;241m=\u001b[39murl,\n\u001b[0;32m    670\u001b[0m         body\u001b[38;5;241m=\u001b[39mrequest\u001b[38;5;241m.\u001b[39mbody,\n\u001b[0;32m    671\u001b[0m         headers\u001b[38;5;241m=\u001b[39mrequest\u001b[38;5;241m.\u001b[39mheaders,\n\u001b[0;32m    672\u001b[0m         redirect\u001b[38;5;241m=\u001b[39m\u001b[38;5;28;01mFalse\u001b[39;00m,\n\u001b[0;32m    673\u001b[0m         assert_same_host\u001b[38;5;241m=\u001b[39m\u001b[38;5;28;01mFalse\u001b[39;00m,\n\u001b[0;32m    674\u001b[0m         preload_content\u001b[38;5;241m=\u001b[39m\u001b[38;5;28;01mFalse\u001b[39;00m,\n\u001b[0;32m    675\u001b[0m         decode_content\u001b[38;5;241m=\u001b[39m\u001b[38;5;28;01mFalse\u001b[39;00m,\n\u001b[0;32m    676\u001b[0m         retries\u001b[38;5;241m=\u001b[39m\u001b[38;5;28mself\u001b[39m\u001b[38;5;241m.\u001b[39mmax_retries,\n\u001b[0;32m    677\u001b[0m         timeout\u001b[38;5;241m=\u001b[39mtimeout,\n\u001b[0;32m    678\u001b[0m         chunked\u001b[38;5;241m=\u001b[39mchunked,\n\u001b[0;32m    679\u001b[0m     )\n\u001b[0;32m    681\u001b[0m \u001b[38;5;28;01mexcept\u001b[39;00m (ProtocolError, \u001b[38;5;167;01mOSError\u001b[39;00m) \u001b[38;5;28;01mas\u001b[39;00m err:\n\u001b[0;32m    682\u001b[0m     \u001b[38;5;28;01mraise\u001b[39;00m \u001b[38;5;167;01mConnectionError\u001b[39;00m(err, request\u001b[38;5;241m=\u001b[39mrequest)\n",
      "File \u001b[1;32m~\\anaconda3\\envs\\CFR\\Lib\\site-packages\\urllib3\\connectionpool.py:787\u001b[0m, in \u001b[0;36mHTTPConnectionPool.urlopen\u001b[1;34m(self, method, url, body, headers, retries, redirect, assert_same_host, timeout, pool_timeout, release_conn, chunked, body_pos, preload_content, decode_content, **response_kw)\u001b[0m\n\u001b[0;32m    784\u001b[0m response_conn \u001b[38;5;241m=\u001b[39m conn \u001b[38;5;28;01mif\u001b[39;00m \u001b[38;5;129;01mnot\u001b[39;00m release_conn \u001b[38;5;28;01melse\u001b[39;00m \u001b[38;5;28;01mNone\u001b[39;00m\n\u001b[0;32m    786\u001b[0m \u001b[38;5;66;03m# Make the request on the HTTPConnection object\u001b[39;00m\n\u001b[1;32m--> 787\u001b[0m response \u001b[38;5;241m=\u001b[39m \u001b[38;5;28mself\u001b[39m\u001b[38;5;241m.\u001b[39m_make_request(\n\u001b[0;32m    788\u001b[0m     conn,\n\u001b[0;32m    789\u001b[0m     method,\n\u001b[0;32m    790\u001b[0m     url,\n\u001b[0;32m    791\u001b[0m     timeout\u001b[38;5;241m=\u001b[39mtimeout_obj,\n\u001b[0;32m    792\u001b[0m     body\u001b[38;5;241m=\u001b[39mbody,\n\u001b[0;32m    793\u001b[0m     headers\u001b[38;5;241m=\u001b[39mheaders,\n\u001b[0;32m    794\u001b[0m     chunked\u001b[38;5;241m=\u001b[39mchunked,\n\u001b[0;32m    795\u001b[0m     retries\u001b[38;5;241m=\u001b[39mretries,\n\u001b[0;32m    796\u001b[0m     response_conn\u001b[38;5;241m=\u001b[39mresponse_conn,\n\u001b[0;32m    797\u001b[0m     preload_content\u001b[38;5;241m=\u001b[39mpreload_content,\n\u001b[0;32m    798\u001b[0m     decode_content\u001b[38;5;241m=\u001b[39mdecode_content,\n\u001b[0;32m    799\u001b[0m     \u001b[38;5;241m*\u001b[39m\u001b[38;5;241m*\u001b[39mresponse_kw,\n\u001b[0;32m    800\u001b[0m )\n\u001b[0;32m    802\u001b[0m \u001b[38;5;66;03m# Everything went great!\u001b[39;00m\n\u001b[0;32m    803\u001b[0m clean_exit \u001b[38;5;241m=\u001b[39m \u001b[38;5;28;01mTrue\u001b[39;00m\n",
      "File \u001b[1;32m~\\anaconda3\\envs\\CFR\\Lib\\site-packages\\urllib3\\connectionpool.py:534\u001b[0m, in \u001b[0;36mHTTPConnectionPool._make_request\u001b[1;34m(self, conn, method, url, body, headers, retries, timeout, chunked, response_conn, preload_content, decode_content, enforce_content_length)\u001b[0m\n\u001b[0;32m    532\u001b[0m \u001b[38;5;66;03m# Receive the response from the server\u001b[39;00m\n\u001b[0;32m    533\u001b[0m \u001b[38;5;28;01mtry\u001b[39;00m:\n\u001b[1;32m--> 534\u001b[0m     response \u001b[38;5;241m=\u001b[39m conn\u001b[38;5;241m.\u001b[39mgetresponse()\n\u001b[0;32m    535\u001b[0m \u001b[38;5;28;01mexcept\u001b[39;00m (BaseSSLError, \u001b[38;5;167;01mOSError\u001b[39;00m) \u001b[38;5;28;01mas\u001b[39;00m e:\n\u001b[0;32m    536\u001b[0m     \u001b[38;5;28mself\u001b[39m\u001b[38;5;241m.\u001b[39m_raise_timeout(err\u001b[38;5;241m=\u001b[39me, url\u001b[38;5;241m=\u001b[39murl, timeout_value\u001b[38;5;241m=\u001b[39mread_timeout)\n",
      "File \u001b[1;32m~\\anaconda3\\envs\\CFR\\Lib\\site-packages\\urllib3\\connection.py:516\u001b[0m, in \u001b[0;36mHTTPConnection.getresponse\u001b[1;34m(self)\u001b[0m\n\u001b[0;32m    513\u001b[0m _shutdown \u001b[38;5;241m=\u001b[39m \u001b[38;5;28mgetattr\u001b[39m(\u001b[38;5;28mself\u001b[39m\u001b[38;5;241m.\u001b[39msock, \u001b[38;5;124m\"\u001b[39m\u001b[38;5;124mshutdown\u001b[39m\u001b[38;5;124m\"\u001b[39m, \u001b[38;5;28;01mNone\u001b[39;00m)\n\u001b[0;32m    515\u001b[0m \u001b[38;5;66;03m# Get the response from http.client.HTTPConnection\u001b[39;00m\n\u001b[1;32m--> 516\u001b[0m httplib_response \u001b[38;5;241m=\u001b[39m \u001b[38;5;28msuper\u001b[39m()\u001b[38;5;241m.\u001b[39mgetresponse()\n\u001b[0;32m    518\u001b[0m \u001b[38;5;28;01mtry\u001b[39;00m:\n\u001b[0;32m    519\u001b[0m     assert_header_parsing(httplib_response\u001b[38;5;241m.\u001b[39mmsg)\n",
      "File \u001b[1;32m~\\anaconda3\\envs\\CFR\\Lib\\http\\client.py:1430\u001b[0m, in \u001b[0;36mHTTPConnection.getresponse\u001b[1;34m(self)\u001b[0m\n\u001b[0;32m   1428\u001b[0m \u001b[38;5;28;01mtry\u001b[39;00m:\n\u001b[0;32m   1429\u001b[0m     \u001b[38;5;28;01mtry\u001b[39;00m:\n\u001b[1;32m-> 1430\u001b[0m         response\u001b[38;5;241m.\u001b[39mbegin()\n\u001b[0;32m   1431\u001b[0m     \u001b[38;5;28;01mexcept\u001b[39;00m \u001b[38;5;167;01mConnectionError\u001b[39;00m:\n\u001b[0;32m   1432\u001b[0m         \u001b[38;5;28mself\u001b[39m\u001b[38;5;241m.\u001b[39mclose()\n",
      "File \u001b[1;32m~\\anaconda3\\envs\\CFR\\Lib\\http\\client.py:331\u001b[0m, in \u001b[0;36mHTTPResponse.begin\u001b[1;34m(self)\u001b[0m\n\u001b[0;32m    329\u001b[0m \u001b[38;5;66;03m# read until we get a non-100 response\u001b[39;00m\n\u001b[0;32m    330\u001b[0m \u001b[38;5;28;01mwhile\u001b[39;00m \u001b[38;5;28;01mTrue\u001b[39;00m:\n\u001b[1;32m--> 331\u001b[0m     version, status, reason \u001b[38;5;241m=\u001b[39m \u001b[38;5;28mself\u001b[39m\u001b[38;5;241m.\u001b[39m_read_status()\n\u001b[0;32m    332\u001b[0m     \u001b[38;5;28;01mif\u001b[39;00m status \u001b[38;5;241m!=\u001b[39m CONTINUE:\n\u001b[0;32m    333\u001b[0m         \u001b[38;5;28;01mbreak\u001b[39;00m\n",
      "File \u001b[1;32m~\\anaconda3\\envs\\CFR\\Lib\\http\\client.py:292\u001b[0m, in \u001b[0;36mHTTPResponse._read_status\u001b[1;34m(self)\u001b[0m\n\u001b[0;32m    291\u001b[0m \u001b[38;5;28;01mdef\u001b[39;00m \u001b[38;5;21m_read_status\u001b[39m(\u001b[38;5;28mself\u001b[39m):\n\u001b[1;32m--> 292\u001b[0m     line \u001b[38;5;241m=\u001b[39m \u001b[38;5;28mstr\u001b[39m(\u001b[38;5;28mself\u001b[39m\u001b[38;5;241m.\u001b[39mfp\u001b[38;5;241m.\u001b[39mreadline(_MAXLINE \u001b[38;5;241m+\u001b[39m \u001b[38;5;241m1\u001b[39m), \u001b[38;5;124m\"\u001b[39m\u001b[38;5;124miso-8859-1\u001b[39m\u001b[38;5;124m\"\u001b[39m)\n\u001b[0;32m    293\u001b[0m     \u001b[38;5;28;01mif\u001b[39;00m \u001b[38;5;28mlen\u001b[39m(line) \u001b[38;5;241m>\u001b[39m _MAXLINE:\n\u001b[0;32m    294\u001b[0m         \u001b[38;5;28;01mraise\u001b[39;00m LineTooLong(\u001b[38;5;124m\"\u001b[39m\u001b[38;5;124mstatus line\u001b[39m\u001b[38;5;124m\"\u001b[39m)\n",
      "File \u001b[1;32m~\\anaconda3\\envs\\CFR\\Lib\\socket.py:720\u001b[0m, in \u001b[0;36mSocketIO.readinto\u001b[1;34m(self, b)\u001b[0m\n\u001b[0;32m    718\u001b[0m \u001b[38;5;28;01mwhile\u001b[39;00m \u001b[38;5;28;01mTrue\u001b[39;00m:\n\u001b[0;32m    719\u001b[0m     \u001b[38;5;28;01mtry\u001b[39;00m:\n\u001b[1;32m--> 720\u001b[0m         \u001b[38;5;28;01mreturn\u001b[39;00m \u001b[38;5;28mself\u001b[39m\u001b[38;5;241m.\u001b[39m_sock\u001b[38;5;241m.\u001b[39mrecv_into(b)\n\u001b[0;32m    721\u001b[0m     \u001b[38;5;28;01mexcept\u001b[39;00m timeout:\n\u001b[0;32m    722\u001b[0m         \u001b[38;5;28mself\u001b[39m\u001b[38;5;241m.\u001b[39m_timeout_occurred \u001b[38;5;241m=\u001b[39m \u001b[38;5;28;01mTrue\u001b[39;00m\n",
      "\u001b[1;31mKeyboardInterrupt\u001b[0m: "
     ]
    }
   ],
   "source": [
    "\n",
    "# ## OLD pre-function\n",
    "\n",
    "# ip = \"18.193.109.153\"\n",
    "# Simulations = Simulation(ip)\n",
    "# RoutingMatrixCopy = RoutingSimulationMatrixBatch(ip)\n",
    "\n",
    "# # Number of times the simulations are run to later get an average survivability rate\n",
    "# NO_SIMULATIONS = 6\n",
    "\n",
    "# ## PARAMETERS WE SET\n",
    "# # Maximal number of responder contacted\n",
    "# max_number_responder = 100\n",
    "# # Time of the incident\n",
    "# ## choose one of the following: 2.0, 8.0, 14.0, 20.0\n",
    "# opening_hour = 14.0\n",
    "# # proportion of CFR of the total (ex.: 0.01 = 1%)\n",
    "# proportion = 0.01\n",
    "# # list of values that are in the available column\n",
    "# filter_values = [\"Yes\"]\n",
    "\n",
    "# ## OTHER PARAMETERS\n",
    "# # Likelihood of a responder declining the call to action\n",
    "# # varies according to whether it is the day, evening, or night\n",
    "# if 7.0 <= opening_hour < 17.0:\n",
    "#     decline_rate = 0.7\n",
    "# elif 17.0 <= opening_hour < 23.0:\n",
    "#     decline_rate = 0.65\n",
    "# else:\n",
    "#     decline_rate = 0.75\n",
    "\n",
    "# # time of the day\n",
    "# time_of_day = \"day\" if 8.0 <= opening_hour <= 18.0 else \"night\"\n",
    "\n",
    "# df_final = pd.DataFrame()\n",
    "\n",
    "# print(\"Input values: \\n opening_hour: \" + str(opening_hour) + \n",
    "#       \"\\n decline_rate: \" + str(decline_rate) + \n",
    "#       \"\\n max_number_responder: \" + str(max_number_responder) + \n",
    "#       \"\\n filter_values: \" + str(filter_values) +\n",
    "#       \"\\n time_of_day: \" + str(time_of_day) +\n",
    "#       \"\\n proportion: \" + str(proportion))\n",
    "\n",
    "# df_final = pd.DataFrame()\n",
    "\n",
    "# x = 0\n",
    "# df_final = []\n",
    "# while x < NO_SIMULATIONS:\n",
    "#     try:\n",
    "#         df = Simulations.simulation_run(\n",
    "#             decline_rate, max_number_responder, opening_hour,\n",
    "#             filter_values, time_of_day, proportion\n",
    "#         )\n",
    "#         df['filter_values'] = ','.join(filter_values) if isinstance(filter_values, list) else filter_values\n",
    "#         df['opening_hour'] = opening_hour\n",
    "#         df['decline_rate'] = decline_rate\n",
    "#         df['max_number_responder'] = max_number_responder\n",
    "#         df['proportion_of_CFR'] = proportion\n",
    "#         # Rename all columns except 'patient_loc'\n",
    "#         suffix = f\"_run{x+1}\"\n",
    "#         df_renamed = df.rename(\n",
    "#             columns={col: f\"{col}{suffix}\" for col in df.columns if col != 'patient_loc'}\n",
    "#         )\n",
    "\n",
    "#         # Merge into the master DataFrame\n",
    "#         df_final.append(df_renamed)\n",
    "\n",
    "#     except Exception as e:\n",
    "#         print(f\"[Warning] Simulation {x+1} failed: {e}. Retrying...\")\n",
    "\n",
    "# df_final = pd.concat(df_final, ignore_index=True)\n"
   ]
  },
  {
   "cell_type": "code",
   "execution_count": 30,
   "metadata": {
    "id": "f42LRMhudY63"
   },
   "outputs": [],
   "source": [
    "# SAVE THE DATAFRAME!!!\n",
    "df.to_csv(\"Data/sim_runs/YOUR_FILENAME_HERE.csv\")"
   ]
  },
  {
   "cell_type": "markdown",
   "metadata": {},
   "source": [
    "## Debugging\n"
   ]
  },
  {
   "cell_type": "code",
   "execution_count": 29,
   "metadata": {},
   "outputs": [
    {
     "name": "stdout",
     "output_type": "stream",
     "text": [
      "Input values: \n",
      " opening_hour: 14.0\n",
      " decline_rate: 0.7\n",
      " max_number_responder: 1000\n",
      " filter_values: ['Yes']\n",
      " time_of_day: day\n",
      " proportion: 0.02\n"
     ]
    },
    {
     "name": "stderr",
     "output_type": "stream",
     "text": [
      "100%|██████████| 388/388 [10:08<00:00,  1.57s/it]\n"
     ]
    }
   ],
   "source": [
    "## PARAMETERS WE SET\n",
    "# Maximal number of responder contacted\n",
    "max_number_responder = 1000\n",
    "# Time of the incident\n",
    "## choose one of the following: 2.0, 8.0, 14.0, 20.0\n",
    "opening_hour = 14.0\n",
    "# proportion of CFR of the total (ex.: 0.01 = 1%)\n",
    "proportion = 0.02\n",
    "\n",
    "\n",
    "print(\"Input values: \\n opening_hour: \" + str(opening_hour) + \n",
    "      \"\\n decline_rate: \" + str(decline_rate) + \n",
    "      \"\\n max_number_responder: \" + str(max_number_responder) + \n",
    "      \"\\n filter_values: \" + str(filter_values) +\n",
    "      \"\\n time_of_day: \" + str(time_of_day) +\n",
    "      \"\\n proportion: \" + str(proportion))\n",
    "\n",
    "df = Simulations.simulation_run(\n",
    "            decline_rate, max_number_responder, opening_hour,\n",
    "            filter_values, time_of_day, proportion\n",
    "        )\n"
   ]
  },
  {
   "cell_type": "code",
   "execution_count": 30,
   "metadata": {
    "id": "f42LRMhudY63"
   },
   "outputs": [],
   "source": [
    "# SAVE THE DATAFRAME!!!\n",
    "df.to_csv(\"Data/sim_runs/debug_run_3.csv\")"
   ]
  },
  {
   "cell_type": "code",
   "execution_count": 32,
   "metadata": {},
   "outputs": [],
   "source": [
    "df_1 = pd.read_csv(\"Data/sim_runs/debug_run.csv\")\n",
    "df_2 = pd.read_csv(\"Data/sim_runs/debug_run_2.csv\")"
   ]
  },
  {
   "cell_type": "code",
   "execution_count": 39,
   "metadata": {},
   "outputs": [
    {
     "data": {
      "text/plain": [
       "responder_loc\n",
       "No responder                               112\n",
       "(4.726162579635614, 50.87427682579571)       4\n",
       "(4.728076759091802, 50.8862301174485)        3\n",
       "(4.6901339607145145, 50.89294406168314)      2\n",
       "(4.729748648752874, 50.900059324561035)      2\n",
       "                                          ... \n",
       "(4.662973834193056, 50.86121395811966)       1\n",
       "(4.702060059438565, 50.88841222083602)       1\n",
       "(4.724808214661289, 50.92769673861054)       1\n",
       "(4.708022109575111, 50.8769896670177)        1\n",
       "(4.730412749638898, 50.93259863929417)       1\n",
       "Name: count, Length: 239, dtype: int64"
      ]
     },
     "execution_count": 39,
     "metadata": {},
     "output_type": "execute_result"
    }
   ],
   "source": [
    "df[\"responder_loc\"].value_counts()"
   ]
  },
  {
   "cell_type": "code",
   "execution_count": null,
   "metadata": {},
   "outputs": [],
   "source": []
  }
 ],
 "metadata": {
  "colab": {
   "provenance": []
  },
  "kernelspec": {
   "display_name": "base",
   "language": "python",
   "name": "python3"
  },
  "language_info": {
   "codemirror_mode": {
    "name": "ipython",
    "version": 3
   },
   "file_extension": ".py",
   "mimetype": "text/x-python",
   "name": "python",
   "nbconvert_exporter": "python",
   "pygments_lexer": "ipython3",
   "version": "3.11.7"
  }
 },
 "nbformat": 4,
 "nbformat_minor": 4
}
