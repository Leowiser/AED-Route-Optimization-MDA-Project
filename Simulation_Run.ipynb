{
 "cells": [
  {
   "cell_type": "markdown",
   "metadata": {},
   "source": [
    "# Simulations of Survival rate"
   ]
  },
  {
   "cell_type": "code",
   "execution_count": null,
   "metadata": {},
   "outputs": [],
   "source": [
    "import pandas as pd\n",
    "import numpy as np\n",
    "import geopandas as gpd\n",
    "\n",
    "# Own Classes\n",
    "from Simulation_Routing import *\n",
    "from Simulating import *\n",
    "from Simulation_Routing_Matrix import *\n",
    "from Simulation_Routing_Matrix_copy import *\n",
    "from Simulation_Routing_Matrix_Batch import *\n",
    "from tqdm import tqdm"
   ]
  },
  {
   "cell_type": "markdown",
   "metadata": {},
   "source": [
    "Initialize the class using the ip of the server."
   ]
  },
  {
   "cell_type": "code",
   "execution_count": 2,
   "metadata": {},
   "outputs": [],
   "source": [
    "ip = \"54.93.239.5\""
   ]
  },
  {
   "cell_type": "code",
   "execution_count": 3,
   "metadata": {},
   "outputs": [],
   "source": [
    "Simulations = Simulation(ip)"
   ]
  },
  {
   "cell_type": "code",
   "execution_count": null,
   "metadata": {},
   "outputs": [],
   "source": [
    "RoutingMatrixCopy = RoutingSimulationMatrixBatch(ip)"
   ]
  },
  {
   "cell_type": "code",
   "execution_count": null,
   "metadata": {},
   "outputs": [],
   "source": [
    "# Number of times the simulations are run to later get an average survivability rate\n",
    "NO_SIMULATIONS = 6\n",
    "\n",
    "# Likelihood of a responder declining the call to action\n",
    "decline_rate = 0.7\n",
    "# Maximal number of responder contacted\n",
    "max_number_responder = 100\n",
    "# Time of the incident\n",
    "opening_hour = 12.0\n",
    "# list of values that are in the available column\n",
    "filter_values = [\"Yes\"]\n",
    "# time of the day\n",
    "time_of_day = \"day\" if 8.0 <= opening_hour <= 18.0 else \"night\"\n",
    "# proportion of CFR of the total (ex.: 0.01 = 1%)\n",
    "proportion = 0.001\n",
    "\n",
    "df_final = pd.DataFrame()\n",
    "\n",
    "x = 0\n",
    "while x < NO_SIMULATIONS:\n",
    "    try:\n",
    "        df = Simulations.simulation_run(\n",
    "            decline_rate, max_number_responder, opening_hour,\n",
    "            filter_values, time_of_day, proportion\n",
    "        )\n",
    "        df['filter_values'] = filter_values\n",
    "        df['opening_hour'] = opening_hour\n",
    "        df['decline_rate'] = decline_rate\n",
    "        df['max_number_responder'] = max_number_responder\n",
    "        df['proportion_of_CFR'] = proportion\n",
    "        # Rename all columns except 'patient_loc'\n",
    "        suffix = f\"_run{x+1}\"\n",
    "        df_renamed = df.rename(\n",
    "            columns={col: f\"{col}{suffix}\" for col in df.columns if col != 'patient_loc'}\n",
    "        )\n",
    "\n",
    "        # Merge into the master DataFrame\n",
    "        if df_final is None:\n",
    "            df_final = df_renamed\n",
    "        else:\n",
    "            df_final = pd.merge(df_final, df_renamed, on=\"patient_loc\", how=\"outer\")\n",
    "\n",
    "    except Exception as e:\n",
    "        print(f\"[Warning] Simulation {x+1} failed: {e}. Retrying...\")"
   ]
  },
  {
   "cell_type": "code",
   "execution_count": null,
   "metadata": {},
   "outputs": [],
   "source": [
    "# SAVE THE DATAFRAME!!!\n",
    "df_final.to_csv(\"Your path here\")"
   ]
  }
 ],
 "metadata": {
  "kernelspec": {
   "display_name": "base",
   "language": "python",
   "name": "python3"
  },
  "language_info": {
   "codemirror_mode": {
    "name": "ipython",
    "version": 3
   },
   "file_extension": ".py",
   "mimetype": "text/x-python",
   "name": "python",
   "nbconvert_exporter": "python",
   "pygments_lexer": "ipython3",
   "version": "3.11.7"
  }
 },
 "nbformat": 4,
 "nbformat_minor": 2
}
