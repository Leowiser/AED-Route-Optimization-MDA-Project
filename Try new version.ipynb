{
 "cells": [
  {
   "cell_type": "code",
   "execution_count": 1,
   "metadata": {},
   "outputs": [],
   "source": [
    "import pandas as pd\n",
    "import numpy as np\n",
    "import geopandas as gpd\n",
    "\n",
    "from Simulation_Class import *"
   ]
  },
  {
   "cell_type": "code",
   "execution_count": 2,
   "metadata": {},
   "outputs": [],
   "source": [
    "ip = \"35.159.107.60\""
   ]
  },
  {
   "cell_type": "code",
   "execution_count": 3,
   "metadata": {},
   "outputs": [],
   "source": [
    "sim_try = RoutingSimulation(ip)"
   ]
  },
  {
   "cell_type": "code",
   "execution_count": 4,
   "metadata": {},
   "outputs": [],
   "source": [
    "aed = sim_try.AED_ISO"
   ]
  },
  {
   "cell_type": "code",
   "execution_count": 5,
   "metadata": {},
   "outputs": [
    {
     "data": {
      "text/html": [
       "<div>\n",
       "<style scoped>\n",
       "    .dataframe tbody tr th:only-of-type {\n",
       "        vertical-align: middle;\n",
       "    }\n",
       "\n",
       "    .dataframe tbody tr th {\n",
       "        vertical-align: top;\n",
       "    }\n",
       "\n",
       "    .dataframe thead th {\n",
       "        text-align: right;\n",
       "    }\n",
       "</style>\n",
       "<table border=\"1\" class=\"dataframe\">\n",
       "  <thead>\n",
       "    <tr style=\"text-align: right;\">\n",
       "      <th></th>\n",
       "      <th>latitude</th>\n",
       "      <th>longitude</th>\n",
       "      <th>available</th>\n",
       "      <th>Checked</th>\n",
       "      <th>Opens</th>\n",
       "      <th>Closes</th>\n",
       "      <th>geometry</th>\n",
       "    </tr>\n",
       "  </thead>\n",
       "  <tbody>\n",
       "    <tr>\n",
       "      <th>0</th>\n",
       "      <td>50.893353</td>\n",
       "      <td>4.707561</td>\n",
       "      <td>None</td>\n",
       "      <td>FALSE</td>\n",
       "      <td>NaN</td>\n",
       "      <td>NaN</td>\n",
       "      <td>POLYGON ((4.70674 50.89899, 4.70673 50.89892, ...</td>\n",
       "    </tr>\n",
       "    <tr>\n",
       "      <th>1</th>\n",
       "      <td>50.928122</td>\n",
       "      <td>4.724020</td>\n",
       "      <td>couldn't find</td>\n",
       "      <td>Yes</td>\n",
       "      <td>NaN</td>\n",
       "      <td>NaN</td>\n",
       "      <td>POLYGON ((4.71509 50.92497, 4.71528 50.92466, ...</td>\n",
       "    </tr>\n",
       "    <tr>\n",
       "      <th>2</th>\n",
       "      <td>50.910898</td>\n",
       "      <td>4.713118</td>\n",
       "      <td>None</td>\n",
       "      <td>Yes</td>\n",
       "      <td>8.5</td>\n",
       "      <td>22.5</td>\n",
       "      <td>POLYGON ((4.70643 50.91046, 4.70659 50.90975, ...</td>\n",
       "    </tr>\n",
       "    <tr>\n",
       "      <th>3</th>\n",
       "      <td>50.891918</td>\n",
       "      <td>4.734149</td>\n",
       "      <td>Yes</td>\n",
       "      <td>Yes</td>\n",
       "      <td>NaN</td>\n",
       "      <td>NaN</td>\n",
       "      <td>POLYGON ((4.72414 50.88829, 4.72428 50.88796, ...</td>\n",
       "    </tr>\n",
       "    <tr>\n",
       "      <th>4</th>\n",
       "      <td>50.876465</td>\n",
       "      <td>4.727593</td>\n",
       "      <td>None</td>\n",
       "      <td>No</td>\n",
       "      <td>NaN</td>\n",
       "      <td>NaN</td>\n",
       "      <td>POLYGON ((4.71895 50.87788, 4.71928 50.87302, ...</td>\n",
       "    </tr>\n",
       "    <tr>\n",
       "      <th>...</th>\n",
       "      <td>...</td>\n",
       "      <td>...</td>\n",
       "      <td>...</td>\n",
       "      <td>...</td>\n",
       "      <td>...</td>\n",
       "      <td>...</td>\n",
       "      <td>...</td>\n",
       "    </tr>\n",
       "    <tr>\n",
       "      <th>209</th>\n",
       "      <td>50.864457</td>\n",
       "      <td>4.745836</td>\n",
       "      <td>None</td>\n",
       "      <td>No</td>\n",
       "      <td>NaN</td>\n",
       "      <td>NaN</td>\n",
       "      <td>POLYGON ((4.73634 50.86493, 4.73766 50.85954, ...</td>\n",
       "    </tr>\n",
       "    <tr>\n",
       "      <th>210</th>\n",
       "      <td>50.885883</td>\n",
       "      <td>4.710646</td>\n",
       "      <td>Yes</td>\n",
       "      <td>Yes</td>\n",
       "      <td>NaN</td>\n",
       "      <td>NaN</td>\n",
       "      <td>POLYGON ((4.69977 50.88727, 4.70062 50.88519, ...</td>\n",
       "    </tr>\n",
       "    <tr>\n",
       "      <th>211</th>\n",
       "      <td>50.858007</td>\n",
       "      <td>4.678102</td>\n",
       "      <td>Yes</td>\n",
       "      <td>Yes</td>\n",
       "      <td>NaN</td>\n",
       "      <td>NaN</td>\n",
       "      <td>POLYGON ((4.67428 50.85392, 4.67454 50.85368, ...</td>\n",
       "    </tr>\n",
       "    <tr>\n",
       "      <th>212</th>\n",
       "      <td>50.860550</td>\n",
       "      <td>4.680393</td>\n",
       "      <td>Yes</td>\n",
       "      <td>Yes</td>\n",
       "      <td>NaN</td>\n",
       "      <td>NaN</td>\n",
       "      <td>POLYGON ((4.67302 50.85875, 4.67456 50.85545, ...</td>\n",
       "    </tr>\n",
       "    <tr>\n",
       "      <th>213</th>\n",
       "      <td>50.899730</td>\n",
       "      <td>4.725975</td>\n",
       "      <td>Yes</td>\n",
       "      <td>Yes</td>\n",
       "      <td>NaN</td>\n",
       "      <td>NaN</td>\n",
       "      <td>POLYGON ((4.71660 50.89794, 4.71685 50.89769, ...</td>\n",
       "    </tr>\n",
       "  </tbody>\n",
       "</table>\n",
       "<p>214 rows × 7 columns</p>\n",
       "</div>"
      ],
      "text/plain": [
       "      latitude  longitude      available Checked  Opens  Closes  \\\n",
       "0    50.893353   4.707561           None   FALSE    NaN     NaN   \n",
       "1    50.928122   4.724020  couldn't find     Yes    NaN     NaN   \n",
       "2    50.910898   4.713118           None     Yes    8.5    22.5   \n",
       "3    50.891918   4.734149            Yes     Yes    NaN     NaN   \n",
       "4    50.876465   4.727593           None      No    NaN     NaN   \n",
       "..         ...        ...            ...     ...    ...     ...   \n",
       "209  50.864457   4.745836           None      No    NaN     NaN   \n",
       "210  50.885883   4.710646            Yes     Yes    NaN     NaN   \n",
       "211  50.858007   4.678102            Yes     Yes    NaN     NaN   \n",
       "212  50.860550   4.680393            Yes     Yes    NaN     NaN   \n",
       "213  50.899730   4.725975            Yes     Yes    NaN     NaN   \n",
       "\n",
       "                                              geometry  \n",
       "0    POLYGON ((4.70674 50.89899, 4.70673 50.89892, ...  \n",
       "1    POLYGON ((4.71509 50.92497, 4.71528 50.92466, ...  \n",
       "2    POLYGON ((4.70643 50.91046, 4.70659 50.90975, ...  \n",
       "3    POLYGON ((4.72414 50.88829, 4.72428 50.88796, ...  \n",
       "4    POLYGON ((4.71895 50.87788, 4.71928 50.87302, ...  \n",
       "..                                                 ...  \n",
       "209  POLYGON ((4.73634 50.86493, 4.73766 50.85954, ...  \n",
       "210  POLYGON ((4.69977 50.88727, 4.70062 50.88519, ...  \n",
       "211  POLYGON ((4.67428 50.85392, 4.67454 50.85368, ...  \n",
       "212  POLYGON ((4.67302 50.85875, 4.67456 50.85545, ...  \n",
       "213  POLYGON ((4.71660 50.89794, 4.71685 50.89769, ...  \n",
       "\n",
       "[214 rows x 7 columns]"
      ]
     },
     "execution_count": 5,
     "metadata": {},
     "output_type": "execute_result"
    }
   ],
   "source": [
    "aed"
   ]
  },
  {
   "cell_type": "code",
   "execution_count": 6,
   "metadata": {},
   "outputs": [
    {
     "data": {
      "text/plain": [
       "shapely.geometry.polygon.Polygon"
      ]
     },
     "execution_count": 6,
     "metadata": {},
     "output_type": "execute_result"
    }
   ],
   "source": [
    "type(sim_try.AED_ISO['geometry'].loc[1])"
   ]
  },
  {
   "cell_type": "code",
   "execution_count": 7,
   "metadata": {},
   "outputs": [],
   "source": [
    "amb_loc = pd.read_parquet(\"Data/ambulance_locations.parquet.gzip\")\n",
    "Ambulances = amb_loc[amb_loc['province']=='Vlaams-Brabant']\n",
    "# Only keep rows that contain 30 as all postla code of Leuven start with 30\n",
    "Ambulances = Ambulances[Ambulances['departure_location'].str.contains('30')]\n",
    "Ambulances = Ambulances.reset_index(drop = True)\n",
    "df = pd.DataFrame()\n",
    "df['Name'] = Ambulances['departure_location_number']\n",
    "df['longitude'] = Ambulances['longitude']\n",
    "df['latitude'] = Ambulances['latitude']"
   ]
  },
  {
   "cell_type": "code",
   "execution_count": 8,
   "metadata": {},
   "outputs": [],
   "source": [
    "pit_loc = pd.read_parquet(\"Data/pit_locations.parquet.gzip\")\n",
    "Pit = pit_loc[pit_loc['province']=='Vlaams Brabant/Brabant flamand']\n",
    "Pit = Pit.reset_index(drop = True)\n",
    "Pit = Pit[Pit['ambucode']==288]\n",
    "Pit = Pit.reset_index(drop = True)\n",
    "df_2 = pd.DataFrame()\n",
    "df_2['Name'] = Pit['unit_id']\n",
    "df_2['longitude'] = 4.6716518\n",
    "df_2['latitude'] = 50.8791702"
   ]
  },
  {
   "cell_type": "code",
   "execution_count": 9,
   "metadata": {},
   "outputs": [],
   "source": [
    "mug_loc = pd.read_parquet(\"Data/mug_locations.parquet.gzip\")\n",
    "Mug = mug_loc[mug_loc['province']=='Vlaams-Brabant']\n",
    "Mug = Mug[Mug['postal_code']==3000]\n",
    "Mug = Mug.reset_index(drop = True)\n",
    "\n",
    "# Googled the latitude and longitude\n",
    "df_3 = pd.DataFrame()\n",
    "df_3['Name'] = Mug['hospital_id']\n",
    "df_3['longitude'] = 4.6690603\n",
    "df_3['latitude'] = 50.8784361"
   ]
  },
  {
   "cell_type": "code",
   "execution_count": 10,
   "metadata": {},
   "outputs": [],
   "source": [
    "df_vectors = pd.concat([df, df_2, df_3], ignore_index = True)\n",
    "df_vectors['coordinates'] =  list(zip(df_vectors.loc[:,'longitude'], df_vectors.loc[:,'latitude']))\n",
    "Vectors = df_vectors[['longitude', 'latitude','coordinates']]"
   ]
  },
  {
   "cell_type": "code",
   "execution_count": 11,
   "metadata": {},
   "outputs": [
    {
     "data": {
      "application/vnd.microsoft.datawrangler.viewer.v0+json": {
       "columns": [
        {
         "name": "index",
         "rawType": "int64",
         "type": "integer"
        },
        {
         "name": "longitude",
         "rawType": "float64",
         "type": "float"
        },
        {
         "name": "latitude",
         "rawType": "float64",
         "type": "float"
        },
        {
         "name": "coordinates",
         "rawType": "object",
         "type": "unknown"
        }
       ],
       "conversionMethod": "pd.DataFrame",
       "ref": "86c316c9-99dd-4067-828a-0d656ab54a3c",
       "rows": [
        [
         "0",
         "4.7243436",
         "50.8696549",
         "(4.7243436, 50.8696549)"
        ],
        [
         "1",
         "4.6953981",
         "50.8785355",
         "(4.6953981, 50.8785355)"
        ],
        [
         "2",
         "4.0983199",
         "50.8680038",
         "(4.0983199, 50.8680038)"
        ],
        [
         "3",
         "4.4727595",
         "50.8798215",
         "(4.4727595, 50.8798215)"
        ],
        [
         "4",
         "4.6658621",
         "50.8774603",
         "(4.6658621, 50.8774603)"
        ]
       ],
       "shape": {
        "columns": 3,
        "rows": 5
       }
      },
      "text/html": [
       "<div>\n",
       "<style scoped>\n",
       "    .dataframe tbody tr th:only-of-type {\n",
       "        vertical-align: middle;\n",
       "    }\n",
       "\n",
       "    .dataframe tbody tr th {\n",
       "        vertical-align: top;\n",
       "    }\n",
       "\n",
       "    .dataframe thead th {\n",
       "        text-align: right;\n",
       "    }\n",
       "</style>\n",
       "<table border=\"1\" class=\"dataframe\">\n",
       "  <thead>\n",
       "    <tr style=\"text-align: right;\">\n",
       "      <th></th>\n",
       "      <th>longitude</th>\n",
       "      <th>latitude</th>\n",
       "      <th>coordinates</th>\n",
       "    </tr>\n",
       "  </thead>\n",
       "  <tbody>\n",
       "    <tr>\n",
       "      <th>0</th>\n",
       "      <td>4.724344</td>\n",
       "      <td>50.869655</td>\n",
       "      <td>(4.7243436, 50.8696549)</td>\n",
       "    </tr>\n",
       "    <tr>\n",
       "      <th>1</th>\n",
       "      <td>4.695398</td>\n",
       "      <td>50.878535</td>\n",
       "      <td>(4.6953981, 50.8785355)</td>\n",
       "    </tr>\n",
       "    <tr>\n",
       "      <th>2</th>\n",
       "      <td>4.098320</td>\n",
       "      <td>50.868004</td>\n",
       "      <td>(4.0983199, 50.8680038)</td>\n",
       "    </tr>\n",
       "    <tr>\n",
       "      <th>3</th>\n",
       "      <td>4.472760</td>\n",
       "      <td>50.879821</td>\n",
       "      <td>(4.4727595, 50.8798215)</td>\n",
       "    </tr>\n",
       "    <tr>\n",
       "      <th>4</th>\n",
       "      <td>4.665862</td>\n",
       "      <td>50.877460</td>\n",
       "      <td>(4.6658621, 50.8774603)</td>\n",
       "    </tr>\n",
       "  </tbody>\n",
       "</table>\n",
       "</div>"
      ],
      "text/plain": [
       "   longitude   latitude              coordinates\n",
       "0   4.724344  50.869655  (4.7243436, 50.8696549)\n",
       "1   4.695398  50.878535  (4.6953981, 50.8785355)\n",
       "2   4.098320  50.868004  (4.0983199, 50.8680038)\n",
       "3   4.472760  50.879821  (4.4727595, 50.8798215)\n",
       "4   4.665862  50.877460  (4.6658621, 50.8774603)"
      ]
     },
     "execution_count": 11,
     "metadata": {},
     "output_type": "execute_result"
    }
   ],
   "source": [
    "Vectors.head()"
   ]
  },
  {
   "cell_type": "code",
   "execution_count": 12,
   "metadata": {},
   "outputs": [],
   "source": [
    "intervention = pd.read_csv(\"Data/interventions.csv\")\n",
    "intervention.rename(columns = {'Longitude intervention':'longitude', 'Latitude intervention':'latitude'}, inplace = True)\n",
    "intervention['coordinates'] = list(zip(intervention['longitude'], intervention['latitude']))"
   ]
  },
  {
   "cell_type": "code",
   "execution_count": 13,
   "metadata": {},
   "outputs": [
    {
     "data": {
      "application/vnd.microsoft.datawrangler.viewer.v0+json": {
       "columns": [
        {
         "name": "index",
         "rawType": "int64",
         "type": "integer"
        },
        {
         "name": "T1",
         "rawType": "object",
         "type": "string"
        },
        {
         "name": "T3",
         "rawType": "object",
         "type": "string"
        },
        {
         "name": "latitude",
         "rawType": "float64",
         "type": "float"
        },
        {
         "name": "longitude",
         "rawType": "float64",
         "type": "float"
        },
        {
         "name": "Response Time",
         "rawType": "float64",
         "type": "float"
        },
        {
         "name": "coordinates",
         "rawType": "object",
         "type": "unknown"
        }
       ],
       "conversionMethod": "pd.DataFrame",
       "ref": "918ff8cc-a66f-40b5-b5fa-e5ca5602618e",
       "rows": [
        [
         "0",
         "2022-06-07 07:02:17",
         "2022-06-07 07:11:24",
         "50.861866",
         "4.70821",
         "547.0",
         "(4.70821, 50.861866)"
        ],
        [
         "1",
         "2022-06-08 13:26:34",
         "2022-06-08 13:35:03",
         "50.873174",
         "4.716699",
         "509.0",
         "(4.716699, 50.873174)"
        ],
        [
         "2",
         "2022-06-08 14:35:19",
         "2022-06-08 14:47:58",
         "50.92814",
         "4.703247",
         "759.0",
         "(4.703247, 50.92814)"
        ],
        [
         "3",
         "2022-06-09 09:51:23",
         "2022-06-09 10:03:05",
         "50.87455",
         "4.730246",
         "702.0",
         "(4.730246, 50.87455)"
        ],
        [
         "4",
         "2022-06-13 12:35:22",
         "2022-06-13 12:44:12",
         "50.879098",
         "4.696672",
         "530.0",
         "(4.696672, 50.879098)"
        ]
       ],
       "shape": {
        "columns": 6,
        "rows": 5
       }
      },
      "text/html": [
       "<div>\n",
       "<style scoped>\n",
       "    .dataframe tbody tr th:only-of-type {\n",
       "        vertical-align: middle;\n",
       "    }\n",
       "\n",
       "    .dataframe tbody tr th {\n",
       "        vertical-align: top;\n",
       "    }\n",
       "\n",
       "    .dataframe thead th {\n",
       "        text-align: right;\n",
       "    }\n",
       "</style>\n",
       "<table border=\"1\" class=\"dataframe\">\n",
       "  <thead>\n",
       "    <tr style=\"text-align: right;\">\n",
       "      <th></th>\n",
       "      <th>T1</th>\n",
       "      <th>T3</th>\n",
       "      <th>latitude</th>\n",
       "      <th>longitude</th>\n",
       "      <th>Response Time</th>\n",
       "      <th>coordinates</th>\n",
       "    </tr>\n",
       "  </thead>\n",
       "  <tbody>\n",
       "    <tr>\n",
       "      <th>0</th>\n",
       "      <td>2022-06-07 07:02:17</td>\n",
       "      <td>2022-06-07 07:11:24</td>\n",
       "      <td>50.861866</td>\n",
       "      <td>4.708210</td>\n",
       "      <td>547.0</td>\n",
       "      <td>(4.70821, 50.861866)</td>\n",
       "    </tr>\n",
       "    <tr>\n",
       "      <th>1</th>\n",
       "      <td>2022-06-08 13:26:34</td>\n",
       "      <td>2022-06-08 13:35:03</td>\n",
       "      <td>50.873174</td>\n",
       "      <td>4.716699</td>\n",
       "      <td>509.0</td>\n",
       "      <td>(4.716699, 50.873174)</td>\n",
       "    </tr>\n",
       "    <tr>\n",
       "      <th>2</th>\n",
       "      <td>2022-06-08 14:35:19</td>\n",
       "      <td>2022-06-08 14:47:58</td>\n",
       "      <td>50.928140</td>\n",
       "      <td>4.703247</td>\n",
       "      <td>759.0</td>\n",
       "      <td>(4.703247, 50.92814)</td>\n",
       "    </tr>\n",
       "    <tr>\n",
       "      <th>3</th>\n",
       "      <td>2022-06-09 09:51:23</td>\n",
       "      <td>2022-06-09 10:03:05</td>\n",
       "      <td>50.874550</td>\n",
       "      <td>4.730246</td>\n",
       "      <td>702.0</td>\n",
       "      <td>(4.730246, 50.87455)</td>\n",
       "    </tr>\n",
       "    <tr>\n",
       "      <th>4</th>\n",
       "      <td>2022-06-13 12:35:22</td>\n",
       "      <td>2022-06-13 12:44:12</td>\n",
       "      <td>50.879098</td>\n",
       "      <td>4.696672</td>\n",
       "      <td>530.0</td>\n",
       "      <td>(4.696672, 50.879098)</td>\n",
       "    </tr>\n",
       "  </tbody>\n",
       "</table>\n",
       "</div>"
      ],
      "text/plain": [
       "                    T1                   T3   latitude  longitude  \\\n",
       "0  2022-06-07 07:02:17  2022-06-07 07:11:24  50.861866   4.708210   \n",
       "1  2022-06-08 13:26:34  2022-06-08 13:35:03  50.873174   4.716699   \n",
       "2  2022-06-08 14:35:19  2022-06-08 14:47:58  50.928140   4.703247   \n",
       "3  2022-06-09 09:51:23  2022-06-09 10:03:05  50.874550   4.730246   \n",
       "4  2022-06-13 12:35:22  2022-06-13 12:44:12  50.879098   4.696672   \n",
       "\n",
       "   Response Time            coordinates  \n",
       "0          547.0   (4.70821, 50.861866)  \n",
       "1          509.0  (4.716699, 50.873174)  \n",
       "2          759.0   (4.703247, 50.92814)  \n",
       "3          702.0   (4.730246, 50.87455)  \n",
       "4          530.0  (4.696672, 50.879098)  "
      ]
     },
     "execution_count": 13,
     "metadata": {},
     "output_type": "execute_result"
    }
   ],
   "source": [
    "intervention.head()"
   ]
  },
  {
   "cell_type": "code",
   "execution_count": 14,
   "metadata": {},
   "outputs": [],
   "source": [
    "patient = (intervention.loc[0])"
   ]
  },
  {
   "cell_type": "code",
   "execution_count": 15,
   "metadata": {},
   "outputs": [
    {
     "ename": "AttributeError",
     "evalue": "'RoutingSimulation' object has no attribute '__closest_location'",
     "output_type": "error",
     "traceback": [
      "\u001b[1;31m---------------------------------------------------------------------------\u001b[0m",
      "\u001b[1;31mAttributeError\u001b[0m                            Traceback (most recent call last)",
      "Cell \u001b[1;32mIn[15], line 1\u001b[0m\n\u001b[1;32m----> 1\u001b[0m sim_try\u001b[38;5;241m.\u001b[39m__closest_location(patient, sim_try\u001b[38;5;241m.\u001b[39mAED_ISO)\n",
      "\u001b[1;31mAttributeError\u001b[0m: 'RoutingSimulation' object has no attribute '__closest_location'"
     ]
    }
   ],
   "source": [
    "sim_try.__closest_location(patient, sim_try.AED_ISO)"
   ]
  },
  {
   "cell_type": "code",
   "execution_count": 16,
   "metadata": {},
   "outputs": [
    {
     "ename": "FileNotFoundError",
     "evalue": "[Errno 2] No such file or directory: 'C:/Users/leonw/OneDrive - KU Leuven/Documents/GitHub/AED-Route-Optimization-MDA-Project/Data/1%_FRs.csv'",
     "output_type": "error",
     "traceback": [
      "\u001b[1;31m---------------------------------------------------------------------------\u001b[0m",
      "\u001b[1;31mFileNotFoundError\u001b[0m                         Traceback (most recent call last)",
      "Cell \u001b[1;32mIn[16], line 1\u001b[0m\n\u001b[1;32m----> 1\u001b[0m Responder_df \u001b[38;5;241m=\u001b[39m pd\u001b[38;5;241m.\u001b[39mread_csv(\u001b[38;5;124m\"\u001b[39m\u001b[38;5;124mC:/Users/leonw/OneDrive - KU Leuven/Documents/GitHub/AED-Route-Optimization-MDA-Project/Data/1\u001b[39m\u001b[38;5;124m%\u001b[39m\u001b[38;5;124m_FRs.csv\u001b[39m\u001b[38;5;124m\"\u001b[39m)\n",
      "File \u001b[1;32mc:\\Users\\leonw\\anaconda3\\Lib\\site-packages\\pandas\\io\\parsers\\readers.py:948\u001b[0m, in \u001b[0;36mread_csv\u001b[1;34m(filepath_or_buffer, sep, delimiter, header, names, index_col, usecols, dtype, engine, converters, true_values, false_values, skipinitialspace, skiprows, skipfooter, nrows, na_values, keep_default_na, na_filter, verbose, skip_blank_lines, parse_dates, infer_datetime_format, keep_date_col, date_parser, date_format, dayfirst, cache_dates, iterator, chunksize, compression, thousands, decimal, lineterminator, quotechar, quoting, doublequote, escapechar, comment, encoding, encoding_errors, dialect, on_bad_lines, delim_whitespace, low_memory, memory_map, float_precision, storage_options, dtype_backend)\u001b[0m\n\u001b[0;32m    935\u001b[0m kwds_defaults \u001b[38;5;241m=\u001b[39m _refine_defaults_read(\n\u001b[0;32m    936\u001b[0m     dialect,\n\u001b[0;32m    937\u001b[0m     delimiter,\n\u001b[1;32m   (...)\u001b[0m\n\u001b[0;32m    944\u001b[0m     dtype_backend\u001b[38;5;241m=\u001b[39mdtype_backend,\n\u001b[0;32m    945\u001b[0m )\n\u001b[0;32m    946\u001b[0m kwds\u001b[38;5;241m.\u001b[39mupdate(kwds_defaults)\n\u001b[1;32m--> 948\u001b[0m \u001b[38;5;28;01mreturn\u001b[39;00m _read(filepath_or_buffer, kwds)\n",
      "File \u001b[1;32mc:\\Users\\leonw\\anaconda3\\Lib\\site-packages\\pandas\\io\\parsers\\readers.py:611\u001b[0m, in \u001b[0;36m_read\u001b[1;34m(filepath_or_buffer, kwds)\u001b[0m\n\u001b[0;32m    608\u001b[0m _validate_names(kwds\u001b[38;5;241m.\u001b[39mget(\u001b[38;5;124m\"\u001b[39m\u001b[38;5;124mnames\u001b[39m\u001b[38;5;124m\"\u001b[39m, \u001b[38;5;28;01mNone\u001b[39;00m))\n\u001b[0;32m    610\u001b[0m \u001b[38;5;66;03m# Create the parser.\u001b[39;00m\n\u001b[1;32m--> 611\u001b[0m parser \u001b[38;5;241m=\u001b[39m TextFileReader(filepath_or_buffer, \u001b[38;5;241m*\u001b[39m\u001b[38;5;241m*\u001b[39mkwds)\n\u001b[0;32m    613\u001b[0m \u001b[38;5;28;01mif\u001b[39;00m chunksize \u001b[38;5;129;01mor\u001b[39;00m iterator:\n\u001b[0;32m    614\u001b[0m     \u001b[38;5;28;01mreturn\u001b[39;00m parser\n",
      "File \u001b[1;32mc:\\Users\\leonw\\anaconda3\\Lib\\site-packages\\pandas\\io\\parsers\\readers.py:1448\u001b[0m, in \u001b[0;36mTextFileReader.__init__\u001b[1;34m(self, f, engine, **kwds)\u001b[0m\n\u001b[0;32m   1445\u001b[0m     \u001b[38;5;28mself\u001b[39m\u001b[38;5;241m.\u001b[39moptions[\u001b[38;5;124m\"\u001b[39m\u001b[38;5;124mhas_index_names\u001b[39m\u001b[38;5;124m\"\u001b[39m] \u001b[38;5;241m=\u001b[39m kwds[\u001b[38;5;124m\"\u001b[39m\u001b[38;5;124mhas_index_names\u001b[39m\u001b[38;5;124m\"\u001b[39m]\n\u001b[0;32m   1447\u001b[0m \u001b[38;5;28mself\u001b[39m\u001b[38;5;241m.\u001b[39mhandles: IOHandles \u001b[38;5;241m|\u001b[39m \u001b[38;5;28;01mNone\u001b[39;00m \u001b[38;5;241m=\u001b[39m \u001b[38;5;28;01mNone\u001b[39;00m\n\u001b[1;32m-> 1448\u001b[0m \u001b[38;5;28mself\u001b[39m\u001b[38;5;241m.\u001b[39m_engine \u001b[38;5;241m=\u001b[39m \u001b[38;5;28mself\u001b[39m\u001b[38;5;241m.\u001b[39m_make_engine(f, \u001b[38;5;28mself\u001b[39m\u001b[38;5;241m.\u001b[39mengine)\n",
      "File \u001b[1;32mc:\\Users\\leonw\\anaconda3\\Lib\\site-packages\\pandas\\io\\parsers\\readers.py:1705\u001b[0m, in \u001b[0;36mTextFileReader._make_engine\u001b[1;34m(self, f, engine)\u001b[0m\n\u001b[0;32m   1703\u001b[0m     \u001b[38;5;28;01mif\u001b[39;00m \u001b[38;5;124m\"\u001b[39m\u001b[38;5;124mb\u001b[39m\u001b[38;5;124m\"\u001b[39m \u001b[38;5;129;01mnot\u001b[39;00m \u001b[38;5;129;01min\u001b[39;00m mode:\n\u001b[0;32m   1704\u001b[0m         mode \u001b[38;5;241m+\u001b[39m\u001b[38;5;241m=\u001b[39m \u001b[38;5;124m\"\u001b[39m\u001b[38;5;124mb\u001b[39m\u001b[38;5;124m\"\u001b[39m\n\u001b[1;32m-> 1705\u001b[0m \u001b[38;5;28mself\u001b[39m\u001b[38;5;241m.\u001b[39mhandles \u001b[38;5;241m=\u001b[39m get_handle(\n\u001b[0;32m   1706\u001b[0m     f,\n\u001b[0;32m   1707\u001b[0m     mode,\n\u001b[0;32m   1708\u001b[0m     encoding\u001b[38;5;241m=\u001b[39m\u001b[38;5;28mself\u001b[39m\u001b[38;5;241m.\u001b[39moptions\u001b[38;5;241m.\u001b[39mget(\u001b[38;5;124m\"\u001b[39m\u001b[38;5;124mencoding\u001b[39m\u001b[38;5;124m\"\u001b[39m, \u001b[38;5;28;01mNone\u001b[39;00m),\n\u001b[0;32m   1709\u001b[0m     compression\u001b[38;5;241m=\u001b[39m\u001b[38;5;28mself\u001b[39m\u001b[38;5;241m.\u001b[39moptions\u001b[38;5;241m.\u001b[39mget(\u001b[38;5;124m\"\u001b[39m\u001b[38;5;124mcompression\u001b[39m\u001b[38;5;124m\"\u001b[39m, \u001b[38;5;28;01mNone\u001b[39;00m),\n\u001b[0;32m   1710\u001b[0m     memory_map\u001b[38;5;241m=\u001b[39m\u001b[38;5;28mself\u001b[39m\u001b[38;5;241m.\u001b[39moptions\u001b[38;5;241m.\u001b[39mget(\u001b[38;5;124m\"\u001b[39m\u001b[38;5;124mmemory_map\u001b[39m\u001b[38;5;124m\"\u001b[39m, \u001b[38;5;28;01mFalse\u001b[39;00m),\n\u001b[0;32m   1711\u001b[0m     is_text\u001b[38;5;241m=\u001b[39mis_text,\n\u001b[0;32m   1712\u001b[0m     errors\u001b[38;5;241m=\u001b[39m\u001b[38;5;28mself\u001b[39m\u001b[38;5;241m.\u001b[39moptions\u001b[38;5;241m.\u001b[39mget(\u001b[38;5;124m\"\u001b[39m\u001b[38;5;124mencoding_errors\u001b[39m\u001b[38;5;124m\"\u001b[39m, \u001b[38;5;124m\"\u001b[39m\u001b[38;5;124mstrict\u001b[39m\u001b[38;5;124m\"\u001b[39m),\n\u001b[0;32m   1713\u001b[0m     storage_options\u001b[38;5;241m=\u001b[39m\u001b[38;5;28mself\u001b[39m\u001b[38;5;241m.\u001b[39moptions\u001b[38;5;241m.\u001b[39mget(\u001b[38;5;124m\"\u001b[39m\u001b[38;5;124mstorage_options\u001b[39m\u001b[38;5;124m\"\u001b[39m, \u001b[38;5;28;01mNone\u001b[39;00m),\n\u001b[0;32m   1714\u001b[0m )\n\u001b[0;32m   1715\u001b[0m \u001b[38;5;28;01massert\u001b[39;00m \u001b[38;5;28mself\u001b[39m\u001b[38;5;241m.\u001b[39mhandles \u001b[38;5;129;01mis\u001b[39;00m \u001b[38;5;129;01mnot\u001b[39;00m \u001b[38;5;28;01mNone\u001b[39;00m\n\u001b[0;32m   1716\u001b[0m f \u001b[38;5;241m=\u001b[39m \u001b[38;5;28mself\u001b[39m\u001b[38;5;241m.\u001b[39mhandles\u001b[38;5;241m.\u001b[39mhandle\n",
      "File \u001b[1;32mc:\\Users\\leonw\\anaconda3\\Lib\\site-packages\\pandas\\io\\common.py:863\u001b[0m, in \u001b[0;36mget_handle\u001b[1;34m(path_or_buf, mode, encoding, compression, memory_map, is_text, errors, storage_options)\u001b[0m\n\u001b[0;32m    858\u001b[0m \u001b[38;5;28;01melif\u001b[39;00m \u001b[38;5;28misinstance\u001b[39m(handle, \u001b[38;5;28mstr\u001b[39m):\n\u001b[0;32m    859\u001b[0m     \u001b[38;5;66;03m# Check whether the filename is to be opened in binary mode.\u001b[39;00m\n\u001b[0;32m    860\u001b[0m     \u001b[38;5;66;03m# Binary mode does not support 'encoding' and 'newline'.\u001b[39;00m\n\u001b[0;32m    861\u001b[0m     \u001b[38;5;28;01mif\u001b[39;00m ioargs\u001b[38;5;241m.\u001b[39mencoding \u001b[38;5;129;01mand\u001b[39;00m \u001b[38;5;124m\"\u001b[39m\u001b[38;5;124mb\u001b[39m\u001b[38;5;124m\"\u001b[39m \u001b[38;5;129;01mnot\u001b[39;00m \u001b[38;5;129;01min\u001b[39;00m ioargs\u001b[38;5;241m.\u001b[39mmode:\n\u001b[0;32m    862\u001b[0m         \u001b[38;5;66;03m# Encoding\u001b[39;00m\n\u001b[1;32m--> 863\u001b[0m         handle \u001b[38;5;241m=\u001b[39m \u001b[38;5;28mopen\u001b[39m(\n\u001b[0;32m    864\u001b[0m             handle,\n\u001b[0;32m    865\u001b[0m             ioargs\u001b[38;5;241m.\u001b[39mmode,\n\u001b[0;32m    866\u001b[0m             encoding\u001b[38;5;241m=\u001b[39mioargs\u001b[38;5;241m.\u001b[39mencoding,\n\u001b[0;32m    867\u001b[0m             errors\u001b[38;5;241m=\u001b[39merrors,\n\u001b[0;32m    868\u001b[0m             newline\u001b[38;5;241m=\u001b[39m\u001b[38;5;124m\"\u001b[39m\u001b[38;5;124m\"\u001b[39m,\n\u001b[0;32m    869\u001b[0m         )\n\u001b[0;32m    870\u001b[0m     \u001b[38;5;28;01melse\u001b[39;00m:\n\u001b[0;32m    871\u001b[0m         \u001b[38;5;66;03m# Binary mode\u001b[39;00m\n\u001b[0;32m    872\u001b[0m         handle \u001b[38;5;241m=\u001b[39m \u001b[38;5;28mopen\u001b[39m(handle, ioargs\u001b[38;5;241m.\u001b[39mmode)\n",
      "\u001b[1;31mFileNotFoundError\u001b[0m: [Errno 2] No such file or directory: 'C:/Users/leonw/OneDrive - KU Leuven/Documents/GitHub/AED-Route-Optimization-MDA-Project/Data/1%_FRs.csv'"
     ]
    }
   ],
   "source": [
    "Responder_df = pd.read_csv(\"C:/Users/leonw/OneDrive - KU Leuven/Documents/GitHub/AED-Route-Optimization-MDA-Project/Data/1%_FRs.csv\")"
   ]
  },
  {
   "cell_type": "code",
   "execution_count": null,
   "metadata": {},
   "outputs": [],
   "source": [
    "Responder_df.rename(columns = {'x':'longitude', 'y':'latitude'}, inplace = True)"
   ]
  },
  {
   "cell_type": "code",
   "execution_count": 17,
   "metadata": {},
   "outputs": [
    {
     "ename": "NameError",
     "evalue": "name 'Responder_df' is not defined",
     "output_type": "error",
     "traceback": [
      "\u001b[1;31m---------------------------------------------------------------------------\u001b[0m",
      "\u001b[1;31mNameError\u001b[0m                                 Traceback (most recent call last)",
      "Cell \u001b[1;32mIn[17], line 1\u001b[0m\n\u001b[1;32m----> 1\u001b[0m Responder_df\n",
      "\u001b[1;31mNameError\u001b[0m: name 'Responder_df' is not defined"
     ]
    }
   ],
   "source": [
    "Responder_df"
   ]
  },
  {
   "cell_type": "code",
   "execution_count": 16,
   "metadata": {},
   "outputs": [
    {
     "data": {
      "application/vnd.microsoft.datawrangler.viewer.v0+json": {
       "columns": [
        {
         "name": "index",
         "rawType": "int64",
         "type": "integer"
        },
        {
         "name": "longitude",
         "rawType": "float64",
         "type": "float"
        },
        {
         "name": "latitude",
         "rawType": "float64",
         "type": "float"
        },
        {
         "name": "Responder_loc",
         "rawType": "object",
         "type": "unknown"
        }
       ],
       "conversionMethod": "pd.DataFrame",
       "ref": "eb0b68d7-e8a2-4325-b4c9-33c9ed1989af",
       "rows": [
        [
         "0",
         "4.69842867219676",
         "50.87927278196763",
         "(4.69842867219676, 50.87927278196763)"
        ],
        [
         "1",
         "4.698855427508087",
         "50.87821673417719",
         "(4.698855427508087, 50.87821673417719)"
        ],
        [
         "2",
         "4.699214462495674",
         "50.87842783739427",
         "(4.699214462495674, 50.87842783739427)"
        ],
        [
         "3",
         "4.69992043459836",
         "50.87892229583287",
         "(4.69992043459836, 50.87892229583287)"
        ],
        [
         "4",
         "4.700471419435447",
         "50.87917227212231",
         "(4.700471419435447, 50.87917227212231)"
        ]
       ],
       "shape": {
        "columns": 3,
        "rows": 5
       }
      },
      "text/html": [
       "<div>\n",
       "<style scoped>\n",
       "    .dataframe tbody tr th:only-of-type {\n",
       "        vertical-align: middle;\n",
       "    }\n",
       "\n",
       "    .dataframe tbody tr th {\n",
       "        vertical-align: top;\n",
       "    }\n",
       "\n",
       "    .dataframe thead th {\n",
       "        text-align: right;\n",
       "    }\n",
       "</style>\n",
       "<table border=\"1\" class=\"dataframe\">\n",
       "  <thead>\n",
       "    <tr style=\"text-align: right;\">\n",
       "      <th></th>\n",
       "      <th>longitude</th>\n",
       "      <th>latitude</th>\n",
       "      <th>Responder_loc</th>\n",
       "    </tr>\n",
       "  </thead>\n",
       "  <tbody>\n",
       "    <tr>\n",
       "      <th>0</th>\n",
       "      <td>4.698429</td>\n",
       "      <td>50.879273</td>\n",
       "      <td>(4.69842867219676, 50.87927278196763)</td>\n",
       "    </tr>\n",
       "    <tr>\n",
       "      <th>1</th>\n",
       "      <td>4.698855</td>\n",
       "      <td>50.878217</td>\n",
       "      <td>(4.698855427508087, 50.87821673417719)</td>\n",
       "    </tr>\n",
       "    <tr>\n",
       "      <th>2</th>\n",
       "      <td>4.699214</td>\n",
       "      <td>50.878428</td>\n",
       "      <td>(4.699214462495674, 50.87842783739427)</td>\n",
       "    </tr>\n",
       "    <tr>\n",
       "      <th>3</th>\n",
       "      <td>4.699920</td>\n",
       "      <td>50.878922</td>\n",
       "      <td>(4.69992043459836, 50.87892229583287)</td>\n",
       "    </tr>\n",
       "    <tr>\n",
       "      <th>4</th>\n",
       "      <td>4.700471</td>\n",
       "      <td>50.879172</td>\n",
       "      <td>(4.700471419435447, 50.87917227212231)</td>\n",
       "    </tr>\n",
       "  </tbody>\n",
       "</table>\n",
       "</div>"
      ],
      "text/plain": [
       "   longitude   latitude                           Responder_loc\n",
       "0   4.698429  50.879273   (4.69842867219676, 50.87927278196763)\n",
       "1   4.698855  50.878217  (4.698855427508087, 50.87821673417719)\n",
       "2   4.699214  50.878428  (4.699214462495674, 50.87842783739427)\n",
       "3   4.699920  50.878922   (4.69992043459836, 50.87892229583287)\n",
       "4   4.700471  50.879172  (4.700471419435447, 50.87917227212231)"
      ]
     },
     "execution_count": 16,
     "metadata": {},
     "output_type": "execute_result"
    }
   ],
   "source": [
    "\n",
    "Responder_df['Responder_loc'] = list(zip(Responder_df['longitude'],Responder_df['latitude']))\n",
    "Responder_df.head()"
   ]
  },
  {
   "cell_type": "code",
   "execution_count": 18,
   "metadata": {},
   "outputs": [],
   "source": [
    "AED_location = pd.read_csv(\"Data/filtered_AED_loc.csv\")"
   ]
  },
  {
   "cell_type": "code",
   "execution_count": 19,
   "metadata": {},
   "outputs": [
    {
     "name": "stdout",
     "output_type": "stream",
     "text": [
      "<class 'pandas.core.frame.DataFrame'>\n",
      "RangeIndex: 139 entries, 0 to 138\n",
      "Data columns (total 14 columns):\n",
      " #   Column            Non-Null Count  Dtype  \n",
      "---  ------            --------------  -----  \n",
      " 0   id                139 non-null    float64\n",
      " 1   type              28 non-null     object \n",
      " 2   address           139 non-null    object \n",
      " 3   number            127 non-null    float64\n",
      " 4   postal_code       139 non-null    float64\n",
      " 5   municipality      139 non-null    object \n",
      " 6   province          139 non-null    object \n",
      " 7   location          72 non-null     object \n",
      " 8   public            139 non-null    object \n",
      " 9   available         25 non-null     object \n",
      " 10  hours             10 non-null     object \n",
      " 11  complete_address  139 non-null    object \n",
      " 12  latitude          139 non-null    float64\n",
      " 13  longitude         139 non-null    float64\n",
      "dtypes: float64(5), object(9)\n",
      "memory usage: 15.3+ KB\n"
     ]
    }
   ],
   "source": [
    "AED_location.info()"
   ]
  },
  {
   "cell_type": "code",
   "execution_count": 19,
   "metadata": {},
   "outputs": [
    {
     "name": "stdout",
     "output_type": "stream",
     "text": [
      "Comparing responders vs. vectors\n",
      "Warning: No AED responder accepted the request.. Falling back to direct vs. vector.\n",
      "Duration for Responders found\n",
      "Duration for Vectors found\n"
     ]
    }
   ],
   "source": [
    "df_result = sim_try.fastest_time(intervention.loc[0], Responder_df, AED_location, Vectors, decline_rate = 0.2, N_responder=50, opening_hour=12, Dist_responder = 600, Dist_AED = 600, Dist_Vector = 600, available = True, all = False, Private = False, Company = False)"
   ]
  },
  {
   "cell_type": "code",
   "execution_count": 27,
   "metadata": {},
   "outputs": [
    {
     "data": {
      "application/vnd.microsoft.datawrangler.viewer.v0+json": {
       "columns": [
        {
         "name": "index",
         "rawType": "int64",
         "type": "integer"
        },
        {
         "name": "Patient_loc",
         "rawType": "object",
         "type": "unknown"
        },
        {
         "name": "Responder_loc",
         "rawType": "object",
         "type": "unknown"
        },
        {
         "name": "duration_Responder",
         "rawType": "float64",
         "type": "float"
        },
        {
         "name": "Indirect_Responder_loc",
         "rawType": "object",
         "type": "string"
        },
        {
         "name": "AED_loc",
         "rawType": "object",
         "type": "string"
        },
        {
         "name": "duration_AED",
         "rawType": "object",
         "type": "string"
        },
        {
         "name": "Vector_loc",
         "rawType": "object",
         "type": "unknown"
        },
        {
         "name": "duration_Vector",
         "rawType": "float64",
         "type": "float"
        }
       ],
       "conversionMethod": "pd.DataFrame",
       "ref": "7bceaf88-4616-46d7-af01-fe39cdab8bf5",
       "rows": [
        [
         "0",
         "(4.70821, 50.861866)",
         "(4.709183668090811, 50.86241750357891)",
         "68.7",
         "No AED",
         "No AED",
         "No AED",
         "(4.6998331, 50.8723536)",
         "339.2"
        ]
       ],
       "shape": {
        "columns": 8,
        "rows": 1
       }
      },
      "text/html": [
       "<div>\n",
       "<style scoped>\n",
       "    .dataframe tbody tr th:only-of-type {\n",
       "        vertical-align: middle;\n",
       "    }\n",
       "\n",
       "    .dataframe tbody tr th {\n",
       "        vertical-align: top;\n",
       "    }\n",
       "\n",
       "    .dataframe thead th {\n",
       "        text-align: right;\n",
       "    }\n",
       "</style>\n",
       "<table border=\"1\" class=\"dataframe\">\n",
       "  <thead>\n",
       "    <tr style=\"text-align: right;\">\n",
       "      <th></th>\n",
       "      <th>Patient_loc</th>\n",
       "      <th>Responder_loc</th>\n",
       "      <th>duration_Responder</th>\n",
       "      <th>Indirect_Responder_loc</th>\n",
       "      <th>AED_loc</th>\n",
       "      <th>duration_AED</th>\n",
       "      <th>Vector_loc</th>\n",
       "      <th>duration_Vector</th>\n",
       "    </tr>\n",
       "  </thead>\n",
       "  <tbody>\n",
       "    <tr>\n",
       "      <th>0</th>\n",
       "      <td>(4.70821, 50.861866)</td>\n",
       "      <td>(4.709183668090811, 50.86241750357891)</td>\n",
       "      <td>68.7</td>\n",
       "      <td>No AED</td>\n",
       "      <td>No AED</td>\n",
       "      <td>No AED</td>\n",
       "      <td>(4.6998331, 50.8723536)</td>\n",
       "      <td>339.2</td>\n",
       "    </tr>\n",
       "  </tbody>\n",
       "</table>\n",
       "</div>"
      ],
      "text/plain": [
       "            Patient_loc                           Responder_loc  \\\n",
       "0  (4.70821, 50.861866)  (4.709183668090811, 50.86241750357891)   \n",
       "\n",
       "   duration_Responder Indirect_Responder_loc AED_loc duration_AED  \\\n",
       "0                68.7                 No AED  No AED       No AED   \n",
       "\n",
       "                Vector_loc  duration_Vector  \n",
       "0  (4.6998331, 50.8723536)            339.2  "
      ]
     },
     "execution_count": 27,
     "metadata": {},
     "output_type": "execute_result"
    }
   ],
   "source": [
    "df_result"
   ]
  },
  {
   "cell_type": "code",
   "execution_count": 17,
   "metadata": {},
   "outputs": [
    {
     "name": "stdout",
     "output_type": "stream",
     "text": [
      "Comparing responders vs. vectors\n",
      "Warning: Neither AED responder nor direct responder accepted the request.. Falling back to fastest vector.\n",
      "Duration for Vectors found\n"
     ]
    }
   ],
   "source": [
    "df_result_all = sim_try.fastest_time(intervention.loc[0], Responder_df, AED_location, Vectors, decline_rate = 1, N_responder=50, opening_hour=12, Dist_responder = 600, Dist_AED = 600, Dist_Vector = 600, available = False, all = True, Private = False, Company = False)"
   ]
  },
  {
   "cell_type": "code",
   "execution_count": 45,
   "metadata": {},
   "outputs": [
    {
     "data": {
      "application/vnd.microsoft.datawrangler.viewer.v0+json": {
       "columns": [
        {
         "name": "index",
         "rawType": "int64",
         "type": "integer"
        },
        {
         "name": "Patient_loc",
         "rawType": "object",
         "type": "unknown"
        },
        {
         "name": "Responder_loc",
         "rawType": "object",
         "type": "string"
        },
        {
         "name": "duration_Responder",
         "rawType": "object",
         "type": "string"
        },
        {
         "name": "Indirect_Responder_loc",
         "rawType": "object",
         "type": "string"
        },
        {
         "name": "AED_loc",
         "rawType": "object",
         "type": "string"
        },
        {
         "name": "duration_AED",
         "rawType": "object",
         "type": "string"
        },
        {
         "name": "Vector_loc",
         "rawType": "object",
         "type": "unknown"
        },
        {
         "name": "duration_Vector",
         "rawType": "float64",
         "type": "float"
        }
       ],
       "conversionMethod": "pd.DataFrame",
       "ref": "024f0761-6a72-404f-bafc-9dfd135b562b",
       "rows": [
        [
         "0",
         "(4.70821, 50.861866)",
         "No responder",
         "No responder",
         "No AED",
         "No AED",
         "No AED",
         "(4.6998331, 50.8723536)",
         "339.2"
        ]
       ],
       "shape": {
        "columns": 8,
        "rows": 1
       }
      },
      "text/html": [
       "<div>\n",
       "<style scoped>\n",
       "    .dataframe tbody tr th:only-of-type {\n",
       "        vertical-align: middle;\n",
       "    }\n",
       "\n",
       "    .dataframe tbody tr th {\n",
       "        vertical-align: top;\n",
       "    }\n",
       "\n",
       "    .dataframe thead th {\n",
       "        text-align: right;\n",
       "    }\n",
       "</style>\n",
       "<table border=\"1\" class=\"dataframe\">\n",
       "  <thead>\n",
       "    <tr style=\"text-align: right;\">\n",
       "      <th></th>\n",
       "      <th>Patient_loc</th>\n",
       "      <th>Responder_loc</th>\n",
       "      <th>duration_Responder</th>\n",
       "      <th>Indirect_Responder_loc</th>\n",
       "      <th>AED_loc</th>\n",
       "      <th>duration_AED</th>\n",
       "      <th>Vector_loc</th>\n",
       "      <th>duration_Vector</th>\n",
       "    </tr>\n",
       "  </thead>\n",
       "  <tbody>\n",
       "    <tr>\n",
       "      <th>0</th>\n",
       "      <td>(4.70821, 50.861866)</td>\n",
       "      <td>No responder</td>\n",
       "      <td>No responder</td>\n",
       "      <td>No AED</td>\n",
       "      <td>No AED</td>\n",
       "      <td>No AED</td>\n",
       "      <td>(4.6998331, 50.8723536)</td>\n",
       "      <td>339.2</td>\n",
       "    </tr>\n",
       "  </tbody>\n",
       "</table>\n",
       "</div>"
      ],
      "text/plain": [
       "            Patient_loc Responder_loc duration_Responder  \\\n",
       "0  (4.70821, 50.861866)  No responder       No responder   \n",
       "\n",
       "  Indirect_Responder_loc AED_loc duration_AED               Vector_loc  \\\n",
       "0                 No AED  No AED       No AED  (4.6998331, 50.8723536)   \n",
       "\n",
       "   duration_Vector  \n",
       "0            339.2  "
      ]
     },
     "execution_count": 45,
     "metadata": {},
     "output_type": "execute_result"
    }
   ],
   "source": [
    "df_result"
   ]
  },
  {
   "cell_type": "code",
   "execution_count": null,
   "metadata": {},
   "outputs": [],
   "source": []
  },
  {
   "cell_type": "code",
   "execution_count": 19,
   "metadata": {},
   "outputs": [],
   "source": [
    "from Simulating import *"
   ]
  },
  {
   "cell_type": "code",
   "execution_count": 20,
   "metadata": {},
   "outputs": [],
   "source": [
    "simulations = simulation(ip)"
   ]
  },
  {
   "cell_type": "code",
   "execution_count": 21,
   "metadata": {},
   "outputs": [
    {
     "name": "stdout",
     "output_type": "stream",
     "text": [
      "<class 'pandas.core.frame.DataFrame'>\n",
      "RangeIndex: 10 entries, 0 to 9\n",
      "Data columns (total 6 columns):\n",
      " #   Column         Non-Null Count  Dtype  \n",
      "---  ------         --------------  -----  \n",
      " 0   T1             10 non-null     object \n",
      " 1   T3             10 non-null     object \n",
      " 2   latitude       10 non-null     float64\n",
      " 3   longitude      10 non-null     float64\n",
      " 4   Response Time  10 non-null     float64\n",
      " 5   coordinates    10 non-null     object \n",
      "dtypes: float64(3), object(3)\n",
      "memory usage: 612.0+ bytes\n"
     ]
    }
   ],
   "source": [
    "simulations.Patients.info()"
   ]
  },
  {
   "cell_type": "code",
   "execution_count": 22,
   "metadata": {},
   "outputs": [
    {
     "name": "stdout",
     "output_type": "stream",
     "text": [
      "T1                2022-06-07 07:02:17\n",
      "T3                2022-06-07 07:11:24\n",
      "latitude                    50.861866\n",
      "longitude                     4.70821\n",
      "Response Time                   547.0\n",
      "coordinates      (4.70821, 50.861866)\n",
      "Name: 0, dtype: object\n",
      "T1                 2022-06-08 13:26:34\n",
      "T3                 2022-06-08 13:35:03\n",
      "latitude                     50.873174\n",
      "longitude                     4.716699\n",
      "Response Time                    509.0\n",
      "coordinates      (4.716699, 50.873174)\n",
      "Name: 1, dtype: object\n",
      "T1                2022-06-08 14:35:19\n",
      "T3                2022-06-08 14:47:58\n",
      "latitude                     50.92814\n",
      "longitude                    4.703247\n",
      "Response Time                   759.0\n",
      "coordinates      (4.703247, 50.92814)\n",
      "Name: 2, dtype: object\n",
      "T1                2022-06-09 09:51:23\n",
      "T3                2022-06-09 10:03:05\n",
      "latitude                     50.87455\n",
      "longitude                    4.730246\n",
      "Response Time                   702.0\n",
      "coordinates      (4.730246, 50.87455)\n",
      "Name: 3, dtype: object\n",
      "T1                 2022-06-13 12:35:22\n",
      "T3                 2022-06-13 12:44:12\n",
      "latitude                     50.879098\n",
      "longitude                     4.696672\n",
      "Response Time                    530.0\n",
      "coordinates      (4.696672, 50.879098)\n",
      "Name: 4, dtype: object\n",
      "T1                 2022-06-22 15:53:32\n",
      "T3                 2022-06-22 16:02:33\n",
      "latitude                     50.886687\n",
      "longitude                     4.705947\n",
      "Response Time                    541.0\n",
      "coordinates      (4.705947, 50.886687)\n",
      "Name: 5, dtype: object\n",
      "T1                2022-07-05 07:58:53\n",
      "T3                2022-07-05 08:05:02\n",
      "latitude                     50.89003\n",
      "longitude                    4.690584\n",
      "Response Time                   369.0\n",
      "coordinates      (4.690584, 50.89003)\n",
      "Name: 6, dtype: object\n",
      "T1                 2022-07-05 23:38:06\n",
      "T3                 2022-07-05 23:45:01\n",
      "latitude                     50.865466\n",
      "longitude                     4.692755\n",
      "Response Time                    415.0\n",
      "coordinates      (4.692755, 50.865466)\n",
      "Name: 7, dtype: object\n",
      "T1                2022-07-08 19:23:50\n",
      "T3                2022-07-08 19:34:36\n",
      "latitude                     50.87929\n",
      "longitude                    4.700683\n",
      "Response Time                   646.0\n",
      "coordinates      (4.700683, 50.87929)\n",
      "Name: 8, dtype: object\n",
      "T1                 2022-07-13 18:48:21\n",
      "T3                 2022-07-13 19:08:06\n",
      "latitude                     50.854151\n",
      "longitude                     4.681497\n",
      "Response Time                   1185.0\n",
      "coordinates      (4.681497, 50.854151)\n",
      "Name: 9, dtype: object\n"
     ]
    }
   ],
   "source": [
    "for _,patient in simulations.Patients.iterrows():\n",
    "    print(patient)"
   ]
  },
  {
   "cell_type": "code",
   "execution_count": 23,
   "metadata": {},
   "outputs": [
    {
     "name": "stdout",
     "output_type": "stream",
     "text": [
      "Comparing responders vs. vectors\n",
      "Warning: No AED responder accepted the request.. Falling back to direct vs. vector.\n",
      "Duration for Responders found\n",
      "Duration for Vectors found\n",
      "Comparing responders vs. vectors\n"
     ]
    },
    {
     "name": "stderr",
     "output_type": "stream",
     "text": [
      "c:\\Users\\leonw\\OneDrive - KU Leuven\\Documents\\GitHub\\AED-Route-Optimization-MDA-Project\\Simulating.py:64: FutureWarning: The behavior of DataFrame concatenation with empty or all-NA entries is deprecated. In a future version, this will no longer exclude empty or all-NA columns when determining the result dtypes. To retain the old behavior, exclude the relevant entries before the concat operation.\n",
      "  df_final = pd.concat([df_final,df])\n"
     ]
    },
    {
     "name": "stdout",
     "output_type": "stream",
     "text": [
      "Warning: No AED responder accepted the request.. Falling back to direct vs. vector.\n",
      "Duration for Responders found\n",
      "Duration for Vectors found\n",
      "No vector is close by. Increase of thresholds\n",
      "Comparing responders vs. vectors\n",
      "Warning: No AED responder accepted the request.. Falling back to direct vs. vector.\n",
      "Duration for Responders found\n",
      "Duration for Vectors found\n",
      "Comparing responders vs. vectors\n",
      "Warning: No AED responder accepted the request.. Falling back to direct vs. vector.\n",
      "Duration for Responders found\n",
      "Duration for Vectors found\n",
      "Comparing responders vs. vectors\n",
      "Warning: No AED responder accepted the request.. Falling back to direct vs. vector.\n",
      "Duration for Responders found\n",
      "Duration for Vectors found\n",
      "Comparing responders vs. vectors\n",
      "Warning: No AED responder accepted the request.. Falling back to direct vs. vector.\n",
      "Duration for Responders found\n",
      "Duration for Vectors found\n",
      "Comparing direct responder vs. vectors\n",
      "Duration for Responders found\n",
      "Duration for Vectors found\n",
      "Comparing responders vs. vectors\n",
      "Warning: No AED responder accepted the request.. Falling back to direct vs. vector.\n",
      "Duration for Responders found\n",
      "Duration for Vectors found\n",
      "Comparing responders vs. vectors\n"
     ]
    },
    {
     "ename": "KeyboardInterrupt",
     "evalue": "",
     "output_type": "error",
     "traceback": [
      "\u001b[1;31m---------------------------------------------------------------------------\u001b[0m",
      "\u001b[1;31mKeyboardInterrupt\u001b[0m                         Traceback (most recent call last)",
      "Cell \u001b[1;32mIn[23], line 1\u001b[0m\n\u001b[1;32m----> 1\u001b[0m df_first_results \u001b[38;5;241m=\u001b[39m simulations\u001b[38;5;241m.\u001b[39msimulation_run(Responder_df, AED_location, Vectors, decline_rate\u001b[38;5;241m=\u001b[39m\u001b[38;5;241m0.3\u001b[39m, N_responder\u001b[38;5;241m=\u001b[39m\u001b[38;5;241m50\u001b[39m, opening_hour\u001b[38;5;241m=\u001b[39m\u001b[38;5;241m12\u001b[39m, Dist_responder \u001b[38;5;241m=\u001b[39m \u001b[38;5;241m600\u001b[39m, Dist_AED \u001b[38;5;241m=\u001b[39m \u001b[38;5;241m600\u001b[39m, Dist_Vector \u001b[38;5;241m=\u001b[39m \u001b[38;5;241m600\u001b[39m, available \u001b[38;5;241m=\u001b[39m \u001b[38;5;28;01mTrue\u001b[39;00m, \u001b[38;5;28mall\u001b[39m \u001b[38;5;241m=\u001b[39m \u001b[38;5;28;01mFalse\u001b[39;00m, Private \u001b[38;5;241m=\u001b[39m \u001b[38;5;28;01mFalse\u001b[39;00m, Company \u001b[38;5;241m=\u001b[39m \u001b[38;5;28;01mFalse\u001b[39;00m)\n",
      "File \u001b[1;32mc:\\Users\\leonw\\OneDrive - KU Leuven\\Documents\\GitHub\\AED-Route-Optimization-MDA-Project\\Simulating.py:63\u001b[0m, in \u001b[0;36msimulation.simulation_run\u001b[1;34m(self, Responders, AEDs, Vectors, decline_rate, N_responder, opening_hour, Dist_responder, Dist_AED, Dist_Vector, available, all, Private, Company)\u001b[0m\n\u001b[0;32m     61\u001b[0m routing \u001b[38;5;241m=\u001b[39m routing_simulation(ip)\n\u001b[0;32m     62\u001b[0m \u001b[38;5;28;01mfor\u001b[39;00m _, patient \u001b[38;5;129;01min\u001b[39;00m \u001b[38;5;28mself\u001b[39m\u001b[38;5;241m.\u001b[39mPatients\u001b[38;5;241m.\u001b[39miterrows():\n\u001b[1;32m---> 63\u001b[0m     df \u001b[38;5;241m=\u001b[39m routing\u001b[38;5;241m.\u001b[39mfastest_time(patient, Responders, AEDs, Vectors, decline_rate, N_responder, opening_hour, Dist_responder \u001b[38;5;241m=\u001b[39m \u001b[38;5;241m600\u001b[39m, Dist_AED \u001b[38;5;241m=\u001b[39m \u001b[38;5;241m600\u001b[39m, Dist_Vector \u001b[38;5;241m=\u001b[39m \u001b[38;5;241m600\u001b[39m, available \u001b[38;5;241m=\u001b[39m \u001b[38;5;28;01mTrue\u001b[39;00m, \u001b[38;5;28mall\u001b[39m \u001b[38;5;241m=\u001b[39m \u001b[38;5;28;01mFalse\u001b[39;00m, Private \u001b[38;5;241m=\u001b[39m \u001b[38;5;28;01mFalse\u001b[39;00m, Company \u001b[38;5;241m=\u001b[39m \u001b[38;5;28;01mFalse\u001b[39;00m)\n\u001b[0;32m     64\u001b[0m     df_final \u001b[38;5;241m=\u001b[39m pd\u001b[38;5;241m.\u001b[39mconcat([df_final,df])\n\u001b[0;32m     65\u001b[0m     df_final \u001b[38;5;241m=\u001b[39m df_final\u001b[38;5;241m.\u001b[39mreset_index(drop \u001b[38;5;241m=\u001b[39m \u001b[38;5;28;01mTrue\u001b[39;00m)\n",
      "File \u001b[1;32mc:\\Users\\leonw\\OneDrive - KU Leuven\\Documents\\GitHub\\AED-Route-Optimization-MDA-Project\\Simulation_Class_update_2nd.py:296\u001b[0m, in \u001b[0;36mrouting_simulation.fastest_time\u001b[1;34m(self, Patient, Responders, AEDs, Vectors, decline_rate, N_responder, opening_hour, Dist_responder, Dist_AED, Dist_Vector, available, all, Private, Company)\u001b[0m\n\u001b[0;32m    294\u001b[0m \u001b[38;5;28mprint\u001b[39m(\u001b[38;5;124m'\u001b[39m\u001b[38;5;124mComparing responders vs. vectors\u001b[39m\u001b[38;5;124m'\u001b[39m)\n\u001b[0;32m    295\u001b[0m \u001b[38;5;28;01mtry\u001b[39;00m:\n\u001b[1;32m--> 296\u001b[0m     df_duration \u001b[38;5;241m=\u001b[39m \u001b[38;5;28mself\u001b[39m\u001b[38;5;241m.\u001b[39mfastest_comparisson(Patient, Vector_loc, Responders_loc, AED_loc, N_responder, decline_rate, opening_hour, available \u001b[38;5;241m=\u001b[39m \u001b[38;5;28;01mTrue\u001b[39;00m, \u001b[38;5;28mall\u001b[39m \u001b[38;5;241m=\u001b[39m \u001b[38;5;28;01mFalse\u001b[39;00m, Private \u001b[38;5;241m=\u001b[39m \u001b[38;5;28;01mFalse\u001b[39;00m, Company \u001b[38;5;241m=\u001b[39m \u001b[38;5;28;01mFalse\u001b[39;00m)\n\u001b[0;32m    297\u001b[0m \u001b[38;5;28;01mexcept\u001b[39;00m NoResponderAcceptedError \u001b[38;5;28;01mas\u001b[39;00m e:\n\u001b[0;32m    298\u001b[0m     \u001b[38;5;28mprint\u001b[39m(\u001b[38;5;124mf\u001b[39m\u001b[38;5;124m\"\u001b[39m\u001b[38;5;124mWarning: \u001b[39m\u001b[38;5;132;01m{\u001b[39;00me\u001b[38;5;132;01m}\u001b[39;00m\u001b[38;5;124m. Falling back to fastest vector.\u001b[39m\u001b[38;5;124m\"\u001b[39m)\n",
      "File \u001b[1;32mc:\\Users\\leonw\\OneDrive - KU Leuven\\Documents\\GitHub\\AED-Route-Optimization-MDA-Project\\Simulation_Class_update_2nd.py:689\u001b[0m, in \u001b[0;36mrouting_simulation.fastest_comparisson\u001b[1;34m(self, Patient, Vector_loc, Responder_loc, AED_loc, N_responders, decline_rate, opening_hour, available, all, Private, Company)\u001b[0m\n\u001b[0;32m    663\u001b[0m \u001b[38;5;28;01mdef\u001b[39;00m \u001b[38;5;21mfastest_comparisson\u001b[39m(\u001b[38;5;28mself\u001b[39m, Patient, Vector_loc, Responder_loc, AED_loc, N_responders, decline_rate, opening_hour, available \u001b[38;5;241m=\u001b[39m \u001b[38;5;28;01mTrue\u001b[39;00m, \u001b[38;5;28mall\u001b[39m \u001b[38;5;241m=\u001b[39m \u001b[38;5;28;01mFalse\u001b[39;00m, Private \u001b[38;5;241m=\u001b[39m \u001b[38;5;28;01mFalse\u001b[39;00m, Company \u001b[38;5;241m=\u001b[39m \u001b[38;5;28;01mFalse\u001b[39;00m):\n\u001b[0;32m    664\u001b[0m \u001b[38;5;250m    \u001b[39m\u001b[38;5;124;03m\"\"\"\u001b[39;00m\n\u001b[0;32m    665\u001b[0m \u001b[38;5;124;03m    Function calculating the time there are no AEDs close by.\u001b[39;00m\n\u001b[0;32m    666\u001b[0m \u001b[38;5;124;03m    Used in function: def fastest_time\u001b[39;00m\n\u001b[1;32m   (...)\u001b[0m\n\u001b[0;32m    687\u001b[0m \u001b[38;5;124;03m            'duration_Vector':Duration it takes the vector to get to the patient}\u001b[39;00m\n\u001b[0;32m    688\u001b[0m \u001b[38;5;124;03m    \"\"\"\u001b[39;00m\n\u001b[1;32m--> 689\u001b[0m     responders_send \u001b[38;5;241m=\u001b[39m \u001b[38;5;28mself\u001b[39m\u001b[38;5;241m.\u001b[39msend_responders(Patient,  Responder_loc, AED_loc, N_responders, decline_rate, opening_hour, available \u001b[38;5;241m=\u001b[39m \u001b[38;5;28;01mTrue\u001b[39;00m, \u001b[38;5;28mall\u001b[39m \u001b[38;5;241m=\u001b[39m \u001b[38;5;28;01mFalse\u001b[39;00m, Private \u001b[38;5;241m=\u001b[39m \u001b[38;5;28;01mFalse\u001b[39;00m, Company \u001b[38;5;241m=\u001b[39m \u001b[38;5;28;01mFalse\u001b[39;00m)\n\u001b[0;32m    690\u001b[0m     loc_Responder \u001b[38;5;241m=\u001b[39m responders_send[\u001b[38;5;124m'\u001b[39m\u001b[38;5;124mcoord_direct\u001b[39m\u001b[38;5;124m'\u001b[39m]\n\u001b[0;32m    691\u001b[0m     fastest_Responder \u001b[38;5;241m=\u001b[39m responders_send[\u001b[38;5;124m'\u001b[39m\u001b[38;5;124mduration_direct\u001b[39m\u001b[38;5;124m'\u001b[39m]\n",
      "File \u001b[1;32mc:\\Users\\leonw\\OneDrive - KU Leuven\\Documents\\GitHub\\AED-Route-Optimization-MDA-Project\\Simulation_Class_update_2nd.py:571\u001b[0m, in \u001b[0;36mrouting_simulation.send_responders\u001b[1;34m(self, Patient, Responders, AEDs, N_responders, decline_rate, opening_hours, available, all, Private, Company)\u001b[0m\n\u001b[0;32m    570\u001b[0m \u001b[38;5;28;01mdef\u001b[39;00m \u001b[38;5;21msend_responders\u001b[39m(\u001b[38;5;28mself\u001b[39m, Patient, Responders, AEDs, N_responders, decline_rate, opening_hours, available \u001b[38;5;241m=\u001b[39m \u001b[38;5;28;01mTrue\u001b[39;00m, \u001b[38;5;28mall\u001b[39m \u001b[38;5;241m=\u001b[39m \u001b[38;5;28;01mFalse\u001b[39;00m, Private \u001b[38;5;241m=\u001b[39m \u001b[38;5;28;01mFalse\u001b[39;00m, Company \u001b[38;5;241m=\u001b[39m \u001b[38;5;28;01mFalse\u001b[39;00m):\n\u001b[1;32m--> 571\u001b[0m     df_duration_direct \u001b[38;5;241m=\u001b[39m \u001b[38;5;28mself\u001b[39m\u001b[38;5;241m.\u001b[39mpossible_routing_direct(Patient, Responders)\n\u001b[0;32m    572\u001b[0m     df_duration_indirect \u001b[38;5;241m=\u001b[39m \u001b[38;5;28mself\u001b[39m\u001b[38;5;241m.\u001b[39mpossible_routing_indirect(Patient, Responders, AEDs,  opening_hours, available \u001b[38;5;241m=\u001b[39m \u001b[38;5;28;01mTrue\u001b[39;00m, \u001b[38;5;28mall\u001b[39m \u001b[38;5;241m=\u001b[39m \u001b[38;5;28;01mFalse\u001b[39;00m, Private \u001b[38;5;241m=\u001b[39m \u001b[38;5;28;01mFalse\u001b[39;00m, Company \u001b[38;5;241m=\u001b[39m \u001b[38;5;28;01mFalse\u001b[39;00m)\n\u001b[0;32m    574\u001b[0m     df_duration_direct \u001b[38;5;241m=\u001b[39m df_duration_direct\u001b[38;5;241m.\u001b[39msort_values(by\u001b[38;5;241m=\u001b[39m[\u001b[38;5;124m'\u001b[39m\u001b[38;5;124mduration_direct\u001b[39m\u001b[38;5;124m'\u001b[39m], ascending\u001b[38;5;241m=\u001b[39m\u001b[38;5;28;01mTrue\u001b[39;00m)\n",
      "File \u001b[1;32mc:\\Users\\leonw\\OneDrive - KU Leuven\\Documents\\GitHub\\AED-Route-Optimization-MDA-Project\\Simulation_Class_update_2nd.py:480\u001b[0m, in \u001b[0;36mrouting_simulation.possible_routing_direct\u001b[1;34m(self, Patient, Responders)\u001b[0m\n\u001b[0;32m    474\u001b[0m Responder_df[\u001b[38;5;124m'\u001b[39m\u001b[38;5;124mPatient_loc\u001b[39m\u001b[38;5;124m'\u001b[39m] \u001b[38;5;241m=\u001b[39m \u001b[38;5;28mlist\u001b[39m(\u001b[38;5;28mzip\u001b[39m(Responder_df[\u001b[38;5;124m'\u001b[39m\u001b[38;5;124mPatient_lon\u001b[39m\u001b[38;5;124m'\u001b[39m],Responder_df[\u001b[38;5;124m'\u001b[39m\u001b[38;5;124mPatient_lat\u001b[39m\u001b[38;5;124m'\u001b[39m]))\n\u001b[0;32m    475\u001b[0m \u001b[38;5;66;03m# Uncomment to filter out the ones that have a far away distance as the crow flies\u001b[39;00m\n\u001b[0;32m    476\u001b[0m \u001b[38;5;66;03m# Responder_df['dist_patient'] = Responder_df.apply(lambda row: geopy.distance.distance(row['Responder_loc'], row['Patient_loc']).meters, axis=1)\u001b[39;00m\n\u001b[0;32m    477\u001b[0m \u001b[38;5;66;03m# only keep the 15 closest responders. keep='all' so that more that all responders with the 15 lowest values are kept.\u001b[39;00m\n\u001b[0;32m    478\u001b[0m \u001b[38;5;66;03m# Responder_df = Responder_df.nsmallest(15, 'dist_patient')#, keep='all'\u001b[39;00m\n\u001b[0;32m    479\u001b[0m \u001b[38;5;66;03m# Responder_df = Responder_df.reset_index(drop=True)\u001b[39;00m\n\u001b[1;32m--> 480\u001b[0m Responder_df[\u001b[38;5;124m'\u001b[39m\u001b[38;5;124mduration_direct\u001b[39m\u001b[38;5;124m'\u001b[39m]\u001b[38;5;241m=\u001b[39m[\u001b[38;5;28mself\u001b[39m\u001b[38;5;241m.\u001b[39mdirections([i, Patient_cood], profile \u001b[38;5;241m=\u001b[39m \u001b[38;5;124m'\u001b[39m\u001b[38;5;124mfoot-walking\u001b[39m\u001b[38;5;124m'\u001b[39m)[\u001b[38;5;124m'\u001b[39m\u001b[38;5;124mduration\u001b[39m\u001b[38;5;124m'\u001b[39m] \u001b[38;5;28;01mfor\u001b[39;00m i, \n\u001b[0;32m    481\u001b[0m                                   Patient_cood \u001b[38;5;129;01min\u001b[39;00m \u001b[38;5;28mzip\u001b[39m(Responder_df[\u001b[38;5;124m'\u001b[39m\u001b[38;5;124mResponder_loc\u001b[39m\u001b[38;5;124m'\u001b[39m], Responder_df[\u001b[38;5;124m'\u001b[39m\u001b[38;5;124mPatient_loc\u001b[39m\u001b[38;5;124m'\u001b[39m])]\n\u001b[0;32m    483\u001b[0m \u001b[38;5;28;01mreturn\u001b[39;00m Responder_df\n",
      "File \u001b[1;32mc:\\Users\\leonw\\OneDrive - KU Leuven\\Documents\\GitHub\\AED-Route-Optimization-MDA-Project\\Simulation_Class_update_2nd.py:480\u001b[0m, in \u001b[0;36m<listcomp>\u001b[1;34m(.0)\u001b[0m\n\u001b[0;32m    474\u001b[0m Responder_df[\u001b[38;5;124m'\u001b[39m\u001b[38;5;124mPatient_loc\u001b[39m\u001b[38;5;124m'\u001b[39m] \u001b[38;5;241m=\u001b[39m \u001b[38;5;28mlist\u001b[39m(\u001b[38;5;28mzip\u001b[39m(Responder_df[\u001b[38;5;124m'\u001b[39m\u001b[38;5;124mPatient_lon\u001b[39m\u001b[38;5;124m'\u001b[39m],Responder_df[\u001b[38;5;124m'\u001b[39m\u001b[38;5;124mPatient_lat\u001b[39m\u001b[38;5;124m'\u001b[39m]))\n\u001b[0;32m    475\u001b[0m \u001b[38;5;66;03m# Uncomment to filter out the ones that have a far away distance as the crow flies\u001b[39;00m\n\u001b[0;32m    476\u001b[0m \u001b[38;5;66;03m# Responder_df['dist_patient'] = Responder_df.apply(lambda row: geopy.distance.distance(row['Responder_loc'], row['Patient_loc']).meters, axis=1)\u001b[39;00m\n\u001b[0;32m    477\u001b[0m \u001b[38;5;66;03m# only keep the 15 closest responders. keep='all' so that more that all responders with the 15 lowest values are kept.\u001b[39;00m\n\u001b[0;32m    478\u001b[0m \u001b[38;5;66;03m# Responder_df = Responder_df.nsmallest(15, 'dist_patient')#, keep='all'\u001b[39;00m\n\u001b[0;32m    479\u001b[0m \u001b[38;5;66;03m# Responder_df = Responder_df.reset_index(drop=True)\u001b[39;00m\n\u001b[1;32m--> 480\u001b[0m Responder_df[\u001b[38;5;124m'\u001b[39m\u001b[38;5;124mduration_direct\u001b[39m\u001b[38;5;124m'\u001b[39m]\u001b[38;5;241m=\u001b[39m[\u001b[38;5;28mself\u001b[39m\u001b[38;5;241m.\u001b[39mdirections([i, Patient_cood], profile \u001b[38;5;241m=\u001b[39m \u001b[38;5;124m'\u001b[39m\u001b[38;5;124mfoot-walking\u001b[39m\u001b[38;5;124m'\u001b[39m)[\u001b[38;5;124m'\u001b[39m\u001b[38;5;124mduration\u001b[39m\u001b[38;5;124m'\u001b[39m] \u001b[38;5;28;01mfor\u001b[39;00m i, \n\u001b[0;32m    481\u001b[0m                                   Patient_cood \u001b[38;5;129;01min\u001b[39;00m \u001b[38;5;28mzip\u001b[39m(Responder_df[\u001b[38;5;124m'\u001b[39m\u001b[38;5;124mResponder_loc\u001b[39m\u001b[38;5;124m'\u001b[39m], Responder_df[\u001b[38;5;124m'\u001b[39m\u001b[38;5;124mPatient_loc\u001b[39m\u001b[38;5;124m'\u001b[39m])]\n\u001b[0;32m    483\u001b[0m \u001b[38;5;28;01mreturn\u001b[39;00m Responder_df\n",
      "File \u001b[1;32mc:\\Users\\leonw\\OneDrive - KU Leuven\\Documents\\GitHub\\AED-Route-Optimization-MDA-Project\\Simulation_Class_update_2nd.py:169\u001b[0m, in \u001b[0;36mrouting_simulation.directions\u001b[1;34m(self, coordinates, profile, sleep)\u001b[0m\n\u001b[0;32m    155\u001b[0m \u001b[38;5;250m\u001b[39m\u001b[38;5;124;03m\"\"\"\u001b[39;00m\n\u001b[0;32m    156\u001b[0m \u001b[38;5;124;03mFunction that gets the duration, route and coordinates of a route. The route can be direct or go through other points first\u001b[39;00m\n\u001b[0;32m    157\u001b[0m \u001b[38;5;124;03mUsed in function: def fastest_vector, def direct_vs_vector, def possible_routing_direct, def possible_routing_indirect, def fastest_comparisson\u001b[39;00m\n\u001b[1;32m   (...)\u001b[0m\n\u001b[0;32m    166\u001b[0m \u001b[38;5;124;03mditionary: Returns dictionary with duration, route and coordinates of the route.\u001b[39;00m\n\u001b[0;32m    167\u001b[0m \u001b[38;5;124;03m\"\"\"\u001b[39;00m\n\u001b[0;32m    168\u001b[0m client \u001b[38;5;241m=\u001b[39m \u001b[38;5;28mself\u001b[39m\u001b[38;5;241m.\u001b[39mClient_ors\n\u001b[1;32m--> 169\u001b[0m time\u001b[38;5;241m.\u001b[39msleep(sleep)\n\u001b[0;32m    170\u001b[0m route \u001b[38;5;241m=\u001b[39m client\u001b[38;5;241m.\u001b[39mdirections(coordinates\u001b[38;5;241m=\u001b[39mcoordinates,\n\u001b[0;32m    171\u001b[0m                            profile\u001b[38;5;241m=\u001b[39mprofile,\n\u001b[0;32m    172\u001b[0m                            \u001b[38;5;28mformat\u001b[39m\u001b[38;5;241m=\u001b[39m\u001b[38;5;124m'\u001b[39m\u001b[38;5;124mgeojson\u001b[39m\u001b[38;5;124m'\u001b[39m,\n\u001b[0;32m    173\u001b[0m                            validate\u001b[38;5;241m=\u001b[39m\u001b[38;5;28;01mFalse\u001b[39;00m)\n\u001b[0;32m    174\u001b[0m \u001b[38;5;66;03m# empty dictionary to be filled later\u001b[39;00m\n",
      "\u001b[1;31mKeyboardInterrupt\u001b[0m: "
     ]
    }
   ],
   "source": [
    "df_first_results = simulations.simulation_run(Responder_df, AED_location, Vectors, decline_rate=0.3, N_responder=50, opening_hour=12, Dist_responder = 600, Dist_AED = 600, Dist_Vector = 600, available = True, all = False, Private = False, Company = False)"
   ]
  },
  {
   "cell_type": "code",
   "execution_count": 24,
   "metadata": {},
   "outputs": [
    {
     "ename": "NameError",
     "evalue": "name 'df_first_results' is not defined",
     "output_type": "error",
     "traceback": [
      "\u001b[1;31m---------------------------------------------------------------------------\u001b[0m",
      "\u001b[1;31mNameError\u001b[0m                                 Traceback (most recent call last)",
      "Cell \u001b[1;32mIn[24], line 1\u001b[0m\n\u001b[1;32m----> 1\u001b[0m df_first_results\n",
      "\u001b[1;31mNameError\u001b[0m: name 'df_first_results' is not defined"
     ]
    }
   ],
   "source": [
    "df_first_results"
   ]
  },
  {
   "cell_type": "code",
   "execution_count": 8,
   "metadata": {},
   "outputs": [
    {
     "data": {
      "text/html": [
       "<div>\n",
       "<style scoped>\n",
       "    .dataframe tbody tr th:only-of-type {\n",
       "        vertical-align: middle;\n",
       "    }\n",
       "\n",
       "    .dataframe tbody tr th {\n",
       "        vertical-align: top;\n",
       "    }\n",
       "\n",
       "    .dataframe thead th {\n",
       "        text-align: right;\n",
       "    }\n",
       "</style>\n",
       "<table border=\"1\" class=\"dataframe\">\n",
       "  <thead>\n",
       "    <tr style=\"text-align: right;\">\n",
       "      <th></th>\n",
       "      <th>latitude</th>\n",
       "      <th>longitude</th>\n",
       "      <th>available</th>\n",
       "      <th>Checked</th>\n",
       "      <th>Opens</th>\n",
       "      <th>Closes</th>\n",
       "      <th>geometry</th>\n",
       "    </tr>\n",
       "  </thead>\n",
       "  <tbody>\n",
       "    <tr>\n",
       "      <th>0</th>\n",
       "      <td>50.893353</td>\n",
       "      <td>4.707561</td>\n",
       "      <td>None</td>\n",
       "      <td>FALSE</td>\n",
       "      <td>0</td>\n",
       "      <td>0</td>\n",
       "      <td>POLYGON ((4.70674 50.89899, 4.70673 50.89892, ...</td>\n",
       "    </tr>\n",
       "    <tr>\n",
       "      <th>1</th>\n",
       "      <td>50.928122</td>\n",
       "      <td>4.724020</td>\n",
       "      <td>couldn't find</td>\n",
       "      <td>Yes</td>\n",
       "      <td>0</td>\n",
       "      <td>0</td>\n",
       "      <td>POLYGON ((4.71509 50.92497, 4.71528 50.92466, ...</td>\n",
       "    </tr>\n",
       "    <tr>\n",
       "      <th>2</th>\n",
       "      <td>50.910898</td>\n",
       "      <td>4.713118</td>\n",
       "      <td>None</td>\n",
       "      <td>Yes</td>\n",
       "      <td>8:30</td>\n",
       "      <td>22:30</td>\n",
       "      <td>POLYGON ((4.70643 50.91046, 4.70659 50.90975, ...</td>\n",
       "    </tr>\n",
       "    <tr>\n",
       "      <th>3</th>\n",
       "      <td>50.891918</td>\n",
       "      <td>4.734149</td>\n",
       "      <td>Yes</td>\n",
       "      <td>Yes</td>\n",
       "      <td>0</td>\n",
       "      <td>24</td>\n",
       "      <td>POLYGON ((4.72414 50.88829, 4.72428 50.88796, ...</td>\n",
       "    </tr>\n",
       "    <tr>\n",
       "      <th>4</th>\n",
       "      <td>50.876465</td>\n",
       "      <td>4.727593</td>\n",
       "      <td>None</td>\n",
       "      <td>No</td>\n",
       "      <td>0</td>\n",
       "      <td>0</td>\n",
       "      <td>POLYGON ((4.71895 50.87788, 4.71928 50.87302, ...</td>\n",
       "    </tr>\n",
       "  </tbody>\n",
       "</table>\n",
       "</div>"
      ],
      "text/plain": [
       "    latitude  longitude      available Checked Opens Closes  \\\n",
       "0  50.893353   4.707561           None   FALSE     0      0   \n",
       "1  50.928122   4.724020  couldn't find     Yes     0      0   \n",
       "2  50.910898   4.713118           None     Yes  8:30  22:30   \n",
       "3  50.891918   4.734149            Yes     Yes     0     24   \n",
       "4  50.876465   4.727593           None      No     0      0   \n",
       "\n",
       "                                            geometry  \n",
       "0  POLYGON ((4.70674 50.89899, 4.70673 50.89892, ...  \n",
       "1  POLYGON ((4.71509 50.92497, 4.71528 50.92466, ...  \n",
       "2  POLYGON ((4.70643 50.91046, 4.70659 50.90975, ...  \n",
       "3  POLYGON ((4.72414 50.88829, 4.72428 50.88796, ...  \n",
       "4  POLYGON ((4.71895 50.87788, 4.71928 50.87302, ...  "
      ]
     },
     "execution_count": 8,
     "metadata": {},
     "output_type": "execute_result"
    }
   ],
   "source": [
    "AEDs = sim_try.AED_Iso\n",
    "AEDs.head()"
   ]
  },
  {
   "cell_type": "code",
   "execution_count": 9,
   "metadata": {},
   "outputs": [],
   "source": [
    "new_open = AEDs[\"Opens\"].str.split(\":\", n=1, expand=True)"
   ]
  },
  {
   "cell_type": "code",
   "execution_count": 20,
   "metadata": {},
   "outputs": [
    {
     "data": {
      "text/plain": [
       "[0, 1, 0, 0, 0]"
      ]
     },
     "execution_count": 20,
     "metadata": {},
     "output_type": "execute_result"
    }
   ],
   "source": [
    "decline_rate = 0.5\n",
    "list(np.random.choice([0,1], p=[decline_rate, (1-decline_rate)], size = 5))"
   ]
  },
  {
   "cell_type": "code",
   "execution_count": 4,
   "metadata": {},
   "outputs": [
    {
     "name": "stdout",
     "output_type": "stream",
     "text": [
      "   longitude  latitude\n",
      "0     4.6701   50.8897\n",
      "1     4.6701   50.8697\n",
      "2     4.6801   50.8797\n",
      "3     4.6601   50.8797\n"
     ]
    }
   ],
   "source": [
    "# Create mock data for responders\n",
    "center_lat = 50.8797\n",
    "center_lon = 4.6701\n",
    "\n",
    "offset = 0.01  \n",
    "\n",
    "points = [\n",
    "    (center_lon, center_lat + offset),  # North\n",
    "    (center_lon, center_lat - offset),  # South\n",
    "    (center_lon + offset, center_lat),  # East\n",
    "    (center_lon - offset, center_lat)   # West\n",
    "]\n",
    "\n",
    "# Create a DataFrame\n",
    "df = pd.DataFrame(points, columns=['longitude', 'latitude'])\n",
    "print(df)"
   ]
  },
  {
   "cell_type": "code",
   "execution_count": 21,
   "metadata": {},
   "outputs": [],
   "source": [
    "AEDs = pd.read_csv(\"Data/filtered_AED_loc.csv\")"
   ]
  },
  {
   "cell_type": "code",
   "execution_count": 22,
   "metadata": {},
   "outputs": [
    {
     "data": {
      "text/plain": [
       "<bound method NDFrame.head of           id          type               address  number  postal_code  \\\n",
       "0      318.0           NaN      Interleuvenlaan     58.0       3001.0   \n",
       "1      323.0           NaN           Interleuven    58.0       3001.0   \n",
       "2      385.0           NaN  Kolonel Begaultlaan     15.0       3012.0   \n",
       "3      419.0           NaN     Katjeswilgenlaan      NaN       3010.0   \n",
       "4      427.0           NaN         Tervuursevest   101.0       3001.0   \n",
       "..       ...           ...                   ...     ...          ...   \n",
       "134  15338.0  Fixed Device           Kapeldreef     75.0       3001.0   \n",
       "135  15340.0  Fixed Device            Kapeldreef    75.0       3001.0   \n",
       "136  15682.0  Fixed Device           Philipssite     NaN       3001.0   \n",
       "137  16184.0  Fixed Device      Pellenbergstraat   160.0       3010.0   \n",
       "138  10448.0  Fixed Device      Interleuvenlaan      NaN       3001.0   \n",
       "\n",
       "    municipality        province                          location public  \\\n",
       "0         Leuven  Vlaams-Brabant                               NaN      Y   \n",
       "1         Leuven  Vlaams-Brabant                               NaN      Y   \n",
       "2        Wilsele  Vlaams-Brabant                               NaN      Y   \n",
       "3      Kessel-Lo  Vlaams-Brabant                               NaN      N   \n",
       "4       Heverlee  Vlaams-Brabant                               NaN      Y   \n",
       "..           ...             ...                               ...    ...   \n",
       "134     Heverlee  Vlaams-Brabant     Imec-CUB-gebouw, gelijkvloers      N   \n",
       "135     Heverlee  Vlaams-Brabant  imec- imec1 inkomhal-gelikvloers      N   \n",
       "136       Leuven  Vlaams-Brabant              Centrale hall gebouw      Y   \n",
       "137    Kessel-Lo  Vlaams-Brabant       Gelijkvloers centrale inkom      Y   \n",
       "138     Heverlee  Vlaams-Brabant  2de verdiep, bureau secretaresse      N   \n",
       "\n",
       "    available                               hours  \\\n",
       "0         NaN                                 NaN   \n",
       "1         NaN                                 NaN   \n",
       "2         NaN                                 NaN   \n",
       "3         NaN                                 NaN   \n",
       "4         NaN                                 NaN   \n",
       "..        ...                                 ...   \n",
       "134    Oui-Ja                                 NaN   \n",
       "135    Oui-Ja                                 NaN   \n",
       "136   Non-Nee  8u30 - 12u van maandag tot vrijdag   \n",
       "137    Oui-Ja                                 NaN   \n",
       "138   Non-Nee                               9-17h   \n",
       "\n",
       "                                      complete_address   latitude  longitude  \n",
       "0    58 Interleuvenlaan, Leuven, Vlaams-Brabant, Be...  50.847642   4.737563  \n",
       "1      58 Interleuven, Leuven, Vlaams-Brabant, Belgium  50.882662   4.696771  \n",
       "2    15 Kolonel Begaultlaan, Wilsele, Vlaams-Braban...  50.891915   4.705893  \n",
       "3    Katjeswilgenlaan, Kessel-Lo, Vlaams-Brabant, B...  50.893646   4.718684  \n",
       "4    101 Tervuursevest, Heverlee, Vlaams-Brabant, B...  50.869499   4.693191  \n",
       "..                                                 ...        ...        ...  \n",
       "134   75 Kapeldreef, Heverlee, Vlaams-Brabant, Belgium  50.865563   4.676583  \n",
       "135   75 Kapeldreef, Heverlee, Vlaams-Brabant, Belgium  50.865563   4.676583  \n",
       "136       Philipssite, Leuven, Vlaams-Brabant, Belgium  50.868075   4.711970  \n",
       "137  160 Pellenbergstraat, Kessel-Lo, Vlaams-Braban...  50.870141   4.748855  \n",
       "138  Interleuvenlaan, Heverlee, Vlaams-Brabant, Bel...  50.850719   4.730367  \n",
       "\n",
       "[139 rows x 14 columns]>"
      ]
     },
     "execution_count": 22,
     "metadata": {},
     "output_type": "execute_result"
    }
   ],
   "source": [
    "AEDs.head"
   ]
  },
  {
   "cell_type": "code",
   "execution_count": 6,
   "metadata": {},
   "outputs": [
    {
     "data": {
      "application/vnd.microsoft.datawrangler.viewer.v0+json": {
       "columns": [
        {
         "name": "index",
         "rawType": "int64",
         "type": "integer"
        },
        {
         "name": "longitude",
         "rawType": "float64",
         "type": "float"
        },
        {
         "name": "latitude",
         "rawType": "float64",
         "type": "float"
        },
        {
         "name": "Responder_loc",
         "rawType": "object",
         "type": "unknown"
        }
       ],
       "conversionMethod": "pd.DataFrame",
       "ref": "bca6e08a-9647-435c-8d95-43d970c05e2b",
       "rows": [
        [
         "0",
         "4.6701",
         "50.8897",
         "(4.6701, 50.8897)"
        ],
        [
         "1",
         "4.6701",
         "50.8697",
         "(4.6701, 50.8697)"
        ],
        [
         "2",
         "4.6800999999999995",
         "50.8797",
         "(4.6800999999999995, 50.8797)"
        ],
        [
         "3",
         "4.6601",
         "50.8797",
         "(4.6601, 50.8797)"
        ]
       ],
       "shape": {
        "columns": 3,
        "rows": 4
       }
      },
      "text/html": [
       "<div>\n",
       "<style scoped>\n",
       "    .dataframe tbody tr th:only-of-type {\n",
       "        vertical-align: middle;\n",
       "    }\n",
       "\n",
       "    .dataframe tbody tr th {\n",
       "        vertical-align: top;\n",
       "    }\n",
       "\n",
       "    .dataframe thead th {\n",
       "        text-align: right;\n",
       "    }\n",
       "</style>\n",
       "<table border=\"1\" class=\"dataframe\">\n",
       "  <thead>\n",
       "    <tr style=\"text-align: right;\">\n",
       "      <th></th>\n",
       "      <th>longitude</th>\n",
       "      <th>latitude</th>\n",
       "      <th>Responder_loc</th>\n",
       "    </tr>\n",
       "  </thead>\n",
       "  <tbody>\n",
       "    <tr>\n",
       "      <th>0</th>\n",
       "      <td>4.6701</td>\n",
       "      <td>50.8897</td>\n",
       "      <td>(4.6701, 50.8897)</td>\n",
       "    </tr>\n",
       "    <tr>\n",
       "      <th>1</th>\n",
       "      <td>4.6701</td>\n",
       "      <td>50.8697</td>\n",
       "      <td>(4.6701, 50.8697)</td>\n",
       "    </tr>\n",
       "    <tr>\n",
       "      <th>2</th>\n",
       "      <td>4.6801</td>\n",
       "      <td>50.8797</td>\n",
       "      <td>(4.6800999999999995, 50.8797)</td>\n",
       "    </tr>\n",
       "    <tr>\n",
       "      <th>3</th>\n",
       "      <td>4.6601</td>\n",
       "      <td>50.8797</td>\n",
       "      <td>(4.6601, 50.8797)</td>\n",
       "    </tr>\n",
       "  </tbody>\n",
       "</table>\n",
       "</div>"
      ],
      "text/plain": [
       "   longitude  latitude                  Responder_loc\n",
       "0     4.6701   50.8897              (4.6701, 50.8897)\n",
       "1     4.6701   50.8697              (4.6701, 50.8697)\n",
       "2     4.6801   50.8797  (4.6800999999999995, 50.8797)\n",
       "3     4.6601   50.8797              (4.6601, 50.8797)"
      ]
     },
     "execution_count": 6,
     "metadata": {},
     "output_type": "execute_result"
    }
   ],
   "source": [
    "# create a data frame based on the coordinates of the close responders\n",
    "Responder_df = pd.DataFrame(df, columns =['longitude', 'latitude'])\n",
    "# also get the coordinates as a tuple\n",
    "Responder_df['Responder_loc'] = list(zip(Responder_df['longitude'],Responder_df['latitude']))\n",
    "Responder_df.head()"
   ]
  },
  {
   "cell_type": "code",
   "execution_count": 7,
   "metadata": {},
   "outputs": [],
   "source": [
    "def assign_decline_rates(possible_responder, target_decline_prob):\n",
    "    \"\"\"\n",
    "    Adjust individual responder decline rates so that the overall probability of all responders declining matches target.\n",
    "    \n",
    "    Parameters:\n",
    "    possible_responder (list): List of responder IDs or locations.\n",
    "    target_decline_prob (float): Desired probability that all responders decline.\n",
    "    \n",
    "    Returns:\n",
    "    pd.DataFrame: DataFrame with responders and their individual probability of accepting.\n",
    "    \"\"\"\n",
    "    N = len(possible_responder)\n",
    "    if N == 0:\n",
    "        raise ValueError(\"No responders available.\")\n",
    "    \n",
    "    # Solve for individual decline rate: decline_rate = target_decline_prob^(1/N)\n",
    "    decline_rate = target_decline_prob ** (1 / N)\n",
    "    \n",
    "    # Generate acceptance probabilities\n",
    "    acceptance = np.random.choice([0, 1], p=[decline_rate, 1 - decline_rate], size=N)\n",
    "    \n",
    "    return pd.DataFrame({'Responder_loc': possible_responder, 'Probability': acceptance})\n"
   ]
  },
  {
   "cell_type": "code",
   "execution_count": 8,
   "metadata": {},
   "outputs": [
    {
     "ename": "ValueError",
     "evalue": "2",
     "output_type": "error",
     "traceback": [
      "\u001b[1;31m---------------------------------------------------------------------------\u001b[0m",
      "\u001b[1;31mValueError\u001b[0m                                Traceback (most recent call last)",
      "Cell \u001b[1;32mIn[8], line 1\u001b[0m\n\u001b[1;32m----> 1\u001b[0m xd \u001b[38;5;241m=\u001b[39m assign_decline_rates(Responder_df, \u001b[38;5;241m0.6\u001b[39m)\n",
      "Cell \u001b[1;32mIn[7], line 22\u001b[0m, in \u001b[0;36massign_decline_rates\u001b[1;34m(possible_responder, target_decline_prob)\u001b[0m\n\u001b[0;32m     19\u001b[0m \u001b[38;5;66;03m# Generate acceptance probabilities\u001b[39;00m\n\u001b[0;32m     20\u001b[0m acceptance \u001b[38;5;241m=\u001b[39m np\u001b[38;5;241m.\u001b[39mrandom\u001b[38;5;241m.\u001b[39mchoice([\u001b[38;5;241m0\u001b[39m, \u001b[38;5;241m1\u001b[39m], p\u001b[38;5;241m=\u001b[39m[decline_rate, \u001b[38;5;241m1\u001b[39m \u001b[38;5;241m-\u001b[39m decline_rate], size\u001b[38;5;241m=\u001b[39mN)\n\u001b[1;32m---> 22\u001b[0m \u001b[38;5;28;01mreturn\u001b[39;00m pd\u001b[38;5;241m.\u001b[39mDataFrame({\u001b[38;5;124m'\u001b[39m\u001b[38;5;124mResponder_loc\u001b[39m\u001b[38;5;124m'\u001b[39m: possible_responder, \u001b[38;5;124m'\u001b[39m\u001b[38;5;124mProbability\u001b[39m\u001b[38;5;124m'\u001b[39m: acceptance})\n",
      "File \u001b[1;32mc:\\Users\\leonw\\anaconda3\\Lib\\site-packages\\pandas\\core\\frame.py:733\u001b[0m, in \u001b[0;36mDataFrame.__init__\u001b[1;34m(self, data, index, columns, dtype, copy)\u001b[0m\n\u001b[0;32m    727\u001b[0m     mgr \u001b[38;5;241m=\u001b[39m \u001b[38;5;28mself\u001b[39m\u001b[38;5;241m.\u001b[39m_init_mgr(\n\u001b[0;32m    728\u001b[0m         data, axes\u001b[38;5;241m=\u001b[39m{\u001b[38;5;124m\"\u001b[39m\u001b[38;5;124mindex\u001b[39m\u001b[38;5;124m\"\u001b[39m: index, \u001b[38;5;124m\"\u001b[39m\u001b[38;5;124mcolumns\u001b[39m\u001b[38;5;124m\"\u001b[39m: columns}, dtype\u001b[38;5;241m=\u001b[39mdtype, copy\u001b[38;5;241m=\u001b[39mcopy\n\u001b[0;32m    729\u001b[0m     )\n\u001b[0;32m    731\u001b[0m \u001b[38;5;28;01melif\u001b[39;00m \u001b[38;5;28misinstance\u001b[39m(data, \u001b[38;5;28mdict\u001b[39m):\n\u001b[0;32m    732\u001b[0m     \u001b[38;5;66;03m# GH#38939 de facto copy defaults to False only in non-dict cases\u001b[39;00m\n\u001b[1;32m--> 733\u001b[0m     mgr \u001b[38;5;241m=\u001b[39m dict_to_mgr(data, index, columns, dtype\u001b[38;5;241m=\u001b[39mdtype, copy\u001b[38;5;241m=\u001b[39mcopy, typ\u001b[38;5;241m=\u001b[39mmanager)\n\u001b[0;32m    734\u001b[0m \u001b[38;5;28;01melif\u001b[39;00m \u001b[38;5;28misinstance\u001b[39m(data, ma\u001b[38;5;241m.\u001b[39mMaskedArray):\n\u001b[0;32m    735\u001b[0m     \u001b[38;5;28;01mfrom\u001b[39;00m \u001b[38;5;21;01mnumpy\u001b[39;00m\u001b[38;5;21;01m.\u001b[39;00m\u001b[38;5;21;01mma\u001b[39;00m \u001b[38;5;28;01mimport\u001b[39;00m mrecords\n",
      "File \u001b[1;32mc:\\Users\\leonw\\anaconda3\\Lib\\site-packages\\pandas\\core\\internals\\construction.py:503\u001b[0m, in \u001b[0;36mdict_to_mgr\u001b[1;34m(data, index, columns, dtype, typ, copy)\u001b[0m\n\u001b[0;32m    499\u001b[0m     \u001b[38;5;28;01melse\u001b[39;00m:\n\u001b[0;32m    500\u001b[0m         \u001b[38;5;66;03m# dtype check to exclude e.g. range objects, scalars\u001b[39;00m\n\u001b[0;32m    501\u001b[0m         arrays \u001b[38;5;241m=\u001b[39m [x\u001b[38;5;241m.\u001b[39mcopy() \u001b[38;5;28;01mif\u001b[39;00m \u001b[38;5;28mhasattr\u001b[39m(x, \u001b[38;5;124m\"\u001b[39m\u001b[38;5;124mdtype\u001b[39m\u001b[38;5;124m\"\u001b[39m) \u001b[38;5;28;01melse\u001b[39;00m x \u001b[38;5;28;01mfor\u001b[39;00m x \u001b[38;5;129;01min\u001b[39;00m arrays]\n\u001b[1;32m--> 503\u001b[0m \u001b[38;5;28;01mreturn\u001b[39;00m arrays_to_mgr(arrays, columns, index, dtype\u001b[38;5;241m=\u001b[39mdtype, typ\u001b[38;5;241m=\u001b[39mtyp, consolidate\u001b[38;5;241m=\u001b[39mcopy)\n",
      "File \u001b[1;32mc:\\Users\\leonw\\anaconda3\\Lib\\site-packages\\pandas\\core\\internals\\construction.py:119\u001b[0m, in \u001b[0;36marrays_to_mgr\u001b[1;34m(arrays, columns, index, dtype, verify_integrity, typ, consolidate)\u001b[0m\n\u001b[0;32m    116\u001b[0m         index \u001b[38;5;241m=\u001b[39m ensure_index(index)\n\u001b[0;32m    118\u001b[0m     \u001b[38;5;66;03m# don't force copy because getting jammed in an ndarray anyway\u001b[39;00m\n\u001b[1;32m--> 119\u001b[0m     arrays, refs \u001b[38;5;241m=\u001b[39m _homogenize(arrays, index, dtype)\n\u001b[0;32m    120\u001b[0m     \u001b[38;5;66;03m# _homogenize ensures\u001b[39;00m\n\u001b[0;32m    121\u001b[0m     \u001b[38;5;66;03m#  - all(len(x) == len(index) for x in arrays)\u001b[39;00m\n\u001b[0;32m    122\u001b[0m     \u001b[38;5;66;03m#  - all(x.ndim == 1 for x in arrays)\u001b[39;00m\n\u001b[1;32m   (...)\u001b[0m\n\u001b[0;32m    125\u001b[0m \n\u001b[0;32m    126\u001b[0m \u001b[38;5;28;01melse\u001b[39;00m:\n\u001b[0;32m    127\u001b[0m     index \u001b[38;5;241m=\u001b[39m ensure_index(index)\n",
      "File \u001b[1;32mc:\\Users\\leonw\\anaconda3\\Lib\\site-packages\\pandas\\core\\internals\\construction.py:629\u001b[0m, in \u001b[0;36m_homogenize\u001b[1;34m(data, index, dtype)\u001b[0m\n\u001b[0;32m    626\u001b[0m         val \u001b[38;5;241m=\u001b[39m \u001b[38;5;28mdict\u001b[39m(val)\n\u001b[0;32m    627\u001b[0m     val \u001b[38;5;241m=\u001b[39m lib\u001b[38;5;241m.\u001b[39mfast_multiget(val, oindex\u001b[38;5;241m.\u001b[39m_values, default\u001b[38;5;241m=\u001b[39mnp\u001b[38;5;241m.\u001b[39mnan)\n\u001b[1;32m--> 629\u001b[0m val \u001b[38;5;241m=\u001b[39m sanitize_array(val, index, dtype\u001b[38;5;241m=\u001b[39mdtype, copy\u001b[38;5;241m=\u001b[39m\u001b[38;5;28;01mFalse\u001b[39;00m)\n\u001b[0;32m    630\u001b[0m com\u001b[38;5;241m.\u001b[39mrequire_length_match(val, index)\n\u001b[0;32m    631\u001b[0m refs\u001b[38;5;241m.\u001b[39mappend(\u001b[38;5;28;01mNone\u001b[39;00m)\n",
      "File \u001b[1;32mc:\\Users\\leonw\\anaconda3\\Lib\\site-packages\\pandas\\core\\construction.py:632\u001b[0m, in \u001b[0;36msanitize_array\u001b[1;34m(data, index, dtype, copy, allow_2d)\u001b[0m\n\u001b[0;32m    629\u001b[0m \u001b[38;5;28;01melif\u001b[39;00m \u001b[38;5;28mhasattr\u001b[39m(data, \u001b[38;5;124m\"\u001b[39m\u001b[38;5;124m__array__\u001b[39m\u001b[38;5;124m\"\u001b[39m):\n\u001b[0;32m    630\u001b[0m     \u001b[38;5;66;03m# e.g. dask array GH#38645\u001b[39;00m\n\u001b[0;32m    631\u001b[0m     data \u001b[38;5;241m=\u001b[39m np\u001b[38;5;241m.\u001b[39marray(data, copy\u001b[38;5;241m=\u001b[39mcopy)\n\u001b[1;32m--> 632\u001b[0m     \u001b[38;5;28;01mreturn\u001b[39;00m sanitize_array(\n\u001b[0;32m    633\u001b[0m         data,\n\u001b[0;32m    634\u001b[0m         index\u001b[38;5;241m=\u001b[39mindex,\n\u001b[0;32m    635\u001b[0m         dtype\u001b[38;5;241m=\u001b[39mdtype,\n\u001b[0;32m    636\u001b[0m         copy\u001b[38;5;241m=\u001b[39m\u001b[38;5;28;01mFalse\u001b[39;00m,\n\u001b[0;32m    637\u001b[0m         allow_2d\u001b[38;5;241m=\u001b[39mallow_2d,\n\u001b[0;32m    638\u001b[0m     )\n\u001b[0;32m    640\u001b[0m \u001b[38;5;28;01melse\u001b[39;00m:\n\u001b[0;32m    641\u001b[0m     _sanitize_non_ordered(data)\n",
      "File \u001b[1;32mc:\\Users\\leonw\\anaconda3\\Lib\\site-packages\\pandas\\core\\construction.py:608\u001b[0m, in \u001b[0;36msanitize_array\u001b[1;34m(data, index, dtype, copy, allow_2d)\u001b[0m\n\u001b[0;32m    606\u001b[0m subarr \u001b[38;5;241m=\u001b[39m data\n\u001b[0;32m    607\u001b[0m \u001b[38;5;28;01mif\u001b[39;00m data\u001b[38;5;241m.\u001b[39mdtype \u001b[38;5;241m==\u001b[39m \u001b[38;5;28mobject\u001b[39m:\n\u001b[1;32m--> 608\u001b[0m     subarr \u001b[38;5;241m=\u001b[39m maybe_infer_to_datetimelike(data)\n\u001b[0;32m    609\u001b[0m     \u001b[38;5;28;01mif\u001b[39;00m (\n\u001b[0;32m    610\u001b[0m         object_index\n\u001b[0;32m    611\u001b[0m         \u001b[38;5;129;01mand\u001b[39;00m using_pyarrow_string_dtype()\n\u001b[0;32m    612\u001b[0m         \u001b[38;5;129;01mand\u001b[39;00m is_string_dtype(subarr)\n\u001b[0;32m    613\u001b[0m     ):\n\u001b[0;32m    614\u001b[0m         \u001b[38;5;66;03m# Avoid inference when string option is set\u001b[39;00m\n\u001b[0;32m    615\u001b[0m         subarr \u001b[38;5;241m=\u001b[39m data\n",
      "File \u001b[1;32mc:\\Users\\leonw\\anaconda3\\Lib\\site-packages\\pandas\\core\\dtypes\\cast.py:1172\u001b[0m, in \u001b[0;36mmaybe_infer_to_datetimelike\u001b[1;34m(value)\u001b[0m\n\u001b[0;32m   1169\u001b[0m     \u001b[38;5;28;01mraise\u001b[39;00m \u001b[38;5;167;01mTypeError\u001b[39;00m(\u001b[38;5;28mtype\u001b[39m(value))  \u001b[38;5;66;03m# pragma: no cover\u001b[39;00m\n\u001b[0;32m   1170\u001b[0m \u001b[38;5;28;01mif\u001b[39;00m value\u001b[38;5;241m.\u001b[39mndim \u001b[38;5;241m!=\u001b[39m \u001b[38;5;241m1\u001b[39m:\n\u001b[0;32m   1171\u001b[0m     \u001b[38;5;66;03m# Caller is responsible\u001b[39;00m\n\u001b[1;32m-> 1172\u001b[0m     \u001b[38;5;28;01mraise\u001b[39;00m \u001b[38;5;167;01mValueError\u001b[39;00m(value\u001b[38;5;241m.\u001b[39mndim)  \u001b[38;5;66;03m# pragma: no cover\u001b[39;00m\n\u001b[0;32m   1174\u001b[0m \u001b[38;5;28;01mif\u001b[39;00m \u001b[38;5;129;01mnot\u001b[39;00m \u001b[38;5;28mlen\u001b[39m(value):\n\u001b[0;32m   1175\u001b[0m     \u001b[38;5;28;01mreturn\u001b[39;00m value\n",
      "\u001b[1;31mValueError\u001b[0m: 2"
     ]
    }
   ],
   "source": [
    "xd = assign_decline_rates(Responder_df, 0.6)"
   ]
  },
  {
   "cell_type": "code",
   "execution_count": 203,
   "metadata": {},
   "outputs": [
    {
     "name": "stdout",
     "output_type": "stream",
     "text": [
      "        lon        lat                                           geometry  \\\n",
      "0  4.680963  50.883906  POLYGON ((4.66959 50.88601, 4.67000 50.88470, ...   \n",
      "1  4.668996  50.878281  POLYGON ((4.66245 50.87689, 4.66353 50.87490, ...   \n",
      "2  4.661188  50.875833  POLYGON ((4.65599 50.87288, 4.66057 50.87125, ...   \n",
      "\n",
      "                               AED  longitude   latitude  Patient_lon  \\\n",
      "0  (4.680962699999999, 50.8839064)   4.680963  50.883906       4.6701   \n",
      "1           (4.668996, 50.8782805)   4.668996  50.878281       4.6701   \n",
      "2          (4.6611883, 50.8758335)   4.661188  50.875833       4.6701   \n",
      "\n",
      "   Patient_lat        Patient_loc  \n",
      "0      50.8797  (4.6701, 50.8797)  \n",
      "1      50.8797  (4.6701, 50.8797)  \n",
      "2      50.8797  (4.6701, 50.8797)  \n"
     ]
    }
   ],
   "source": [
    "x = route_try.send_responders(patient, Responder_df, AEDs)"
   ]
  },
  {
   "cell_type": "code",
   "execution_count": 204,
   "metadata": {},
   "outputs": [
    {
     "data": {
      "text/plain": [
       "{'coord_direct': (4.6601, 50.8797),\n",
       " 'coord_AED': (4.6800999999999995, 50.8797),\n",
       " 'AED_coordinates': (4.680962699999999, 50.8839064)}"
      ]
     },
     "execution_count": 204,
     "metadata": {},
     "output_type": "execute_result"
    }
   ],
   "source": [
    "x"
   ]
  },
  {
   "cell_type": "code",
   "execution_count": 292,
   "metadata": {},
   "outputs": [],
   "source": [
    "dir = route_try.directions([[4.6800999999999995, 50.8797], [4.680962699999999, 50.8839064],[4.6701, 50.8797]])"
   ]
  },
  {
   "cell_type": "code",
   "execution_count": 296,
   "metadata": {},
   "outputs": [
    {
     "data": {
      "text/plain": [
       "[[4.680094, 50.879736],\n",
       " [4.67993, 50.879725],\n",
       " [4.679923, 50.879746],\n",
       " [4.67989, 50.879939],\n",
       " [4.680292, 50.879958],\n",
       " [4.680492, 50.879987],\n",
       " [4.680521, 50.879951],\n",
       " [4.680872, 50.879958],\n",
       " [4.680977, 50.879998],\n",
       " [4.681561, 50.8801],\n",
       " [4.681677, 50.880137],\n",
       " [4.681717, 50.880179],\n",
       " [4.681678, 50.880258],\n",
       " [4.681666, 50.880365],\n",
       " [4.681843, 50.880861],\n",
       " [4.6821, 50.881585],\n",
       " [4.682735, 50.882599],\n",
       " [4.682744, 50.882614],\n",
       " [4.682814, 50.882687],\n",
       " [4.682786, 50.882772],\n",
       " [4.682696, 50.882874],\n",
       " [4.682023, 50.883285],\n",
       " [4.681902, 50.883446],\n",
       " [4.680839, 50.883707],\n",
       " [4.68034, 50.883829],\n",
       " [4.679681, 50.883976],\n",
       " [4.678864, 50.884157],\n",
       " [4.678772, 50.884177],\n",
       " [4.678536, 50.884227],\n",
       " [4.678355, 50.884266],\n",
       " [4.678193, 50.884299],\n",
       " [4.678082, 50.884323],\n",
       " [4.677862, 50.884106],\n",
       " [4.677709, 50.884008],\n",
       " [4.677502, 50.883918],\n",
       " [4.676806, 50.88377],\n",
       " [4.676683, 50.883725],\n",
       " [4.676622, 50.883645],\n",
       " [4.676267, 50.883662],\n",
       " [4.676015, 50.883496],\n",
       " [4.675934, 50.883442],\n",
       " [4.675411, 50.883426],\n",
       " [4.675483, 50.883267],\n",
       " [4.675548, 50.883124],\n",
       " [4.675732, 50.882723],\n",
       " [4.675723, 50.882695],\n",
       " [4.675488, 50.882634],\n",
       " [4.675497, 50.882617],\n",
       " [4.674672, 50.882454],\n",
       " [4.674351, 50.882391],\n",
       " [4.673606, 50.882243],\n",
       " [4.673549, 50.882244],\n",
       " [4.673561, 50.882169],\n",
       " [4.673366, 50.882087],\n",
       " [4.672986, 50.8819],\n",
       " [4.67293, 50.88164],\n",
       " [4.672908, 50.881514],\n",
       " [4.672843, 50.881246],\n",
       " [4.672794, 50.881169],\n",
       " [4.672595, 50.88116],\n",
       " [4.672462, 50.881133],\n",
       " [4.672483, 50.881103],\n",
       " [4.67221, 50.88102],\n",
       " [4.672032, 50.880925],\n",
       " [4.670871, 50.880489],\n",
       " [4.670706, 50.880455],\n",
       " [4.670575, 50.880452],\n",
       " [4.670308, 50.880444],\n",
       " [4.670147, 50.880409],\n",
       " [4.669749, 50.880228],\n",
       " [4.669498, 50.880105],\n",
       " [4.669542, 50.880054],\n",
       " [4.669634, 50.879955],\n",
       " [4.669867, 50.879778],\n",
       " [4.670005, 50.879672],\n",
       " [4.670087, 50.879711]]"
      ]
     },
     "execution_count": 296,
     "metadata": {},
     "output_type": "execute_result"
    }
   ],
   "source": [
    "dir['coordinates']"
   ]
  },
  {
   "cell_type": "code",
   "execution_count": 305,
   "metadata": {},
   "outputs": [
    {
     "data": {
      "application/vnd.microsoft.datawrangler.viewer.v0+json": {
       "columns": [
        {
         "name": "index",
         "rawType": "int64",
         "type": "integer"
        },
        {
         "name": "longitude",
         "rawType": "float64",
         "type": "float"
        },
        {
         "name": "latitude",
         "rawType": "float64",
         "type": "float"
        },
        {
         "name": "Responder_loc",
         "rawType": "object",
         "type": "unknown"
        }
       ],
       "conversionMethod": "pd.DataFrame",
       "ref": "baf7a792-00a0-4a53-a334-99ad0fd8e461",
       "rows": [
        [
         "0",
         "4.6701",
         "50.8897",
         "(4.6701, 50.8897)"
        ],
        [
         "1",
         "4.6701",
         "50.8697",
         "(4.6701, 50.8697)"
        ],
        [
         "2",
         "4.6800999999999995",
         "50.8797",
         "(4.6800999999999995, 50.8797)"
        ],
        [
         "3",
         "4.6601",
         "50.8797",
         "(4.6601, 50.8797)"
        ]
       ],
       "shape": {
        "columns": 3,
        "rows": 4
       }
      },
      "text/html": [
       "<div>\n",
       "<style scoped>\n",
       "    .dataframe tbody tr th:only-of-type {\n",
       "        vertical-align: middle;\n",
       "    }\n",
       "\n",
       "    .dataframe tbody tr th {\n",
       "        vertical-align: top;\n",
       "    }\n",
       "\n",
       "    .dataframe thead th {\n",
       "        text-align: right;\n",
       "    }\n",
       "</style>\n",
       "<table border=\"1\" class=\"dataframe\">\n",
       "  <thead>\n",
       "    <tr style=\"text-align: right;\">\n",
       "      <th></th>\n",
       "      <th>longitude</th>\n",
       "      <th>latitude</th>\n",
       "      <th>Responder_loc</th>\n",
       "    </tr>\n",
       "  </thead>\n",
       "  <tbody>\n",
       "    <tr>\n",
       "      <th>0</th>\n",
       "      <td>4.6701</td>\n",
       "      <td>50.8897</td>\n",
       "      <td>(4.6701, 50.8897)</td>\n",
       "    </tr>\n",
       "    <tr>\n",
       "      <th>1</th>\n",
       "      <td>4.6701</td>\n",
       "      <td>50.8697</td>\n",
       "      <td>(4.6701, 50.8697)</td>\n",
       "    </tr>\n",
       "    <tr>\n",
       "      <th>2</th>\n",
       "      <td>4.6801</td>\n",
       "      <td>50.8797</td>\n",
       "      <td>(4.6800999999999995, 50.8797)</td>\n",
       "    </tr>\n",
       "    <tr>\n",
       "      <th>3</th>\n",
       "      <td>4.6601</td>\n",
       "      <td>50.8797</td>\n",
       "      <td>(4.6601, 50.8797)</td>\n",
       "    </tr>\n",
       "  </tbody>\n",
       "</table>\n",
       "</div>"
      ],
      "text/plain": [
       "   longitude  latitude                  Responder_loc\n",
       "0     4.6701   50.8897              (4.6701, 50.8897)\n",
       "1     4.6701   50.8697              (4.6701, 50.8697)\n",
       "2     4.6801   50.8797  (4.6800999999999995, 50.8797)\n",
       "3     4.6601   50.8797              (4.6601, 50.8797)"
      ]
     },
     "execution_count": 305,
     "metadata": {},
     "output_type": "execute_result"
    }
   ],
   "source": [
    "Responder_df"
   ]
  },
  {
   "cell_type": "code",
   "execution_count": 210,
   "metadata": {},
   "outputs": [],
   "source": [
    "gt = list(Responder_df['Responder_loc'])"
   ]
  },
  {
   "cell_type": "code",
   "execution_count": 211,
   "metadata": {},
   "outputs": [
    {
     "data": {
      "text/plain": [
       "[(4.6701, 50.8897),\n",
       " (4.6701, 50.8697),\n",
       " (4.6800999999999995, 50.8797),\n",
       " (4.6601, 50.8797)]"
      ]
     },
     "execution_count": 211,
     "metadata": {},
     "output_type": "execute_result"
    }
   ],
   "source": [
    "gt"
   ]
  },
  {
   "cell_type": "code",
   "execution_count": 214,
   "metadata": {},
   "outputs": [],
   "source": [
    "ft = pd.DataFrame([(4.4701, 50.8897), (4.6701, 50.8697), (4.8800999999999995, 50.8797), (4.9601, 50.8797)])\n",
    "ft['Responder_loc'] = list(zip(ft[0],ft[1]))"
   ]
  },
  {
   "cell_type": "code",
   "execution_count": 215,
   "metadata": {},
   "outputs": [
    {
     "data": {
      "application/vnd.microsoft.datawrangler.viewer.v0+json": {
       "columns": [
        {
         "name": "index",
         "rawType": "int64",
         "type": "integer"
        },
        {
         "name": "0",
         "rawType": "float64",
         "type": "float"
        },
        {
         "name": "1",
         "rawType": "float64",
         "type": "float"
        },
        {
         "name": "Responder_loc",
         "rawType": "object",
         "type": "unknown"
        }
       ],
       "conversionMethod": "pd.DataFrame",
       "ref": "b60879d3-97e0-474a-9c17-e5ad1f54bd0c",
       "rows": [
        [
         "0",
         "4.4701",
         "50.8897",
         "(4.4701, 50.8897)"
        ],
        [
         "1",
         "4.6701",
         "50.8697",
         "(4.6701, 50.8697)"
        ],
        [
         "2",
         "4.8801",
         "50.8797",
         "(4.8801, 50.8797)"
        ],
        [
         "3",
         "4.9601",
         "50.8797",
         "(4.9601, 50.8797)"
        ]
       ],
       "shape": {
        "columns": 3,
        "rows": 4
       }
      },
      "text/html": [
       "<div>\n",
       "<style scoped>\n",
       "    .dataframe tbody tr th:only-of-type {\n",
       "        vertical-align: middle;\n",
       "    }\n",
       "\n",
       "    .dataframe tbody tr th {\n",
       "        vertical-align: top;\n",
       "    }\n",
       "\n",
       "    .dataframe thead th {\n",
       "        text-align: right;\n",
       "    }\n",
       "</style>\n",
       "<table border=\"1\" class=\"dataframe\">\n",
       "  <thead>\n",
       "    <tr style=\"text-align: right;\">\n",
       "      <th></th>\n",
       "      <th>0</th>\n",
       "      <th>1</th>\n",
       "      <th>Responder_loc</th>\n",
       "    </tr>\n",
       "  </thead>\n",
       "  <tbody>\n",
       "    <tr>\n",
       "      <th>0</th>\n",
       "      <td>4.4701</td>\n",
       "      <td>50.8897</td>\n",
       "      <td>(4.4701, 50.8897)</td>\n",
       "    </tr>\n",
       "    <tr>\n",
       "      <th>1</th>\n",
       "      <td>4.6701</td>\n",
       "      <td>50.8697</td>\n",
       "      <td>(4.6701, 50.8697)</td>\n",
       "    </tr>\n",
       "    <tr>\n",
       "      <th>2</th>\n",
       "      <td>4.8801</td>\n",
       "      <td>50.8797</td>\n",
       "      <td>(4.8801, 50.8797)</td>\n",
       "    </tr>\n",
       "    <tr>\n",
       "      <th>3</th>\n",
       "      <td>4.9601</td>\n",
       "      <td>50.8797</td>\n",
       "      <td>(4.9601, 50.8797)</td>\n",
       "    </tr>\n",
       "  </tbody>\n",
       "</table>\n",
       "</div>"
      ],
      "text/plain": [
       "        0        1      Responder_loc\n",
       "0  4.4701  50.8897  (4.4701, 50.8897)\n",
       "1  4.6701  50.8697  (4.6701, 50.8697)\n",
       "2  4.8801  50.8797  (4.8801, 50.8797)\n",
       "3  4.9601  50.8797  (4.9601, 50.8797)"
      ]
     },
     "execution_count": 215,
     "metadata": {},
     "output_type": "execute_result"
    }
   ],
   "source": [
    "ft"
   ]
  },
  {
   "cell_type": "code",
   "execution_count": 216,
   "metadata": {},
   "outputs": [],
   "source": [
    "f = list(ft['Responder_loc'])"
   ]
  },
  {
   "cell_type": "code",
   "execution_count": 217,
   "metadata": {},
   "outputs": [],
   "source": [
    "unique = f + gt"
   ]
  },
  {
   "cell_type": "code",
   "execution_count": 220,
   "metadata": {},
   "outputs": [],
   "source": [
    "seen = set()\n",
    "unique = [val for val in unique if val not in seen and (seen.add(val) or True)]"
   ]
  },
  {
   "cell_type": "code",
   "execution_count": 221,
   "metadata": {},
   "outputs": [
    {
     "data": {
      "text/plain": [
       "[(4.4701, 50.8897),\n",
       " (4.6701, 50.8697),\n",
       " (4.8801, 50.8797),\n",
       " (4.9601, 50.8797),\n",
       " (4.6701, 50.8897),\n",
       " (4.6800999999999995, 50.8797),\n",
       " (4.6601, 50.8797)]"
      ]
     },
     "execution_count": 221,
     "metadata": {},
     "output_type": "execute_result"
    }
   ],
   "source": [
    "unique"
   ]
  },
  {
   "cell_type": "code",
   "execution_count": 223,
   "metadata": {},
   "outputs": [],
   "source": [
    "from numpy import random"
   ]
  },
  {
   "cell_type": "code",
   "execution_count": 256,
   "metadata": {},
   "outputs": [],
   "source": [
    "decline_rate = 0.5"
   ]
  },
  {
   "cell_type": "code",
   "execution_count": 257,
   "metadata": {},
   "outputs": [],
   "source": [
    "x = list(random.choice([0,1], p=[decline_rate, (1-decline_rate)], size=10))"
   ]
  },
  {
   "cell_type": "code",
   "execution_count": 258,
   "metadata": {},
   "outputs": [
    {
     "data": {
      "text/plain": [
       "[1, 0, 1, 1, 0, 0, 0, 0, 1, 0]"
      ]
     },
     "execution_count": 258,
     "metadata": {},
     "output_type": "execute_result"
    }
   ],
   "source": [
    "x"
   ]
  },
  {
   "cell_type": "code",
   "execution_count": 239,
   "metadata": {},
   "outputs": [],
   "source": [
    "df = pd.DataFrame({'Responder_loc' : unique,\n",
    "                                'prob' : x})"
   ]
  },
  {
   "cell_type": "code",
   "execution_count": 241,
   "metadata": {},
   "outputs": [
    {
     "data": {
      "application/vnd.microsoft.datawrangler.viewer.v0+json": {
       "columns": [
        {
         "name": "index",
         "rawType": "int64",
         "type": "integer"
        },
        {
         "name": "Responder_loc",
         "rawType": "object",
         "type": "unknown"
        },
        {
         "name": "prob",
         "rawType": "int32",
         "type": "integer"
        }
       ],
       "conversionMethod": "pd.DataFrame",
       "ref": "ab340a33-01be-4ba8-b187-e6bf2deed964",
       "rows": [
        [
         "0",
         "(4.4701, 50.8897)",
         "1"
        ],
        [
         "1",
         "(4.6701, 50.8697)",
         "1"
        ],
        [
         "2",
         "(4.8801, 50.8797)",
         "1"
        ],
        [
         "3",
         "(4.9601, 50.8797)",
         "1"
        ],
        [
         "4",
         "(4.6701, 50.8897)",
         "1"
        ]
       ],
       "shape": {
        "columns": 2,
        "rows": 5
       }
      },
      "text/html": [
       "<div>\n",
       "<style scoped>\n",
       "    .dataframe tbody tr th:only-of-type {\n",
       "        vertical-align: middle;\n",
       "    }\n",
       "\n",
       "    .dataframe tbody tr th {\n",
       "        vertical-align: top;\n",
       "    }\n",
       "\n",
       "    .dataframe thead th {\n",
       "        text-align: right;\n",
       "    }\n",
       "</style>\n",
       "<table border=\"1\" class=\"dataframe\">\n",
       "  <thead>\n",
       "    <tr style=\"text-align: right;\">\n",
       "      <th></th>\n",
       "      <th>Responder_loc</th>\n",
       "      <th>prob</th>\n",
       "    </tr>\n",
       "  </thead>\n",
       "  <tbody>\n",
       "    <tr>\n",
       "      <th>0</th>\n",
       "      <td>(4.4701, 50.8897)</td>\n",
       "      <td>1</td>\n",
       "    </tr>\n",
       "    <tr>\n",
       "      <th>1</th>\n",
       "      <td>(4.6701, 50.8697)</td>\n",
       "      <td>1</td>\n",
       "    </tr>\n",
       "    <tr>\n",
       "      <th>2</th>\n",
       "      <td>(4.8801, 50.8797)</td>\n",
       "      <td>1</td>\n",
       "    </tr>\n",
       "    <tr>\n",
       "      <th>3</th>\n",
       "      <td>(4.9601, 50.8797)</td>\n",
       "      <td>1</td>\n",
       "    </tr>\n",
       "    <tr>\n",
       "      <th>4</th>\n",
       "      <td>(4.6701, 50.8897)</td>\n",
       "      <td>1</td>\n",
       "    </tr>\n",
       "  </tbody>\n",
       "</table>\n",
       "</div>"
      ],
      "text/plain": [
       "       Responder_loc  prob\n",
       "0  (4.4701, 50.8897)     1\n",
       "1  (4.6701, 50.8697)     1\n",
       "2  (4.8801, 50.8797)     1\n",
       "3  (4.9601, 50.8797)     1\n",
       "4  (4.6701, 50.8897)     1"
      ]
     },
     "execution_count": 241,
     "metadata": {},
     "output_type": "execute_result"
    }
   ],
   "source": [
    "df.head()"
   ]
  },
  {
   "cell_type": "code",
   "execution_count": 269,
   "metadata": {},
   "outputs": [
    {
     "name": "stdout",
     "output_type": "stream",
     "text": [
      "<class 'pandas.core.frame.DataFrame'>\n",
      "RangeIndex: 25 entries, 0 to 24\n",
      "Data columns (total 6 columns):\n",
      " #   Column                Non-Null Count  Dtype  \n",
      "---  ------                --------------  -----  \n",
      " 0   Responder_loc         25 non-null     object \n",
      " 1   Patient_loc           25 non-null     object \n",
      " 2   latitude              25 non-null     float64\n",
      " 3   longitude             25 non-null     float64\n",
      " 4   AED_coordinates       25 non-null     object \n",
      " 5   duration_through_AED  25 non-null     int32  \n",
      "dtypes: float64(2), int32(1), object(3)\n",
      "memory usage: 1.2+ KB\n"
     ]
    }
   ],
   "source": [
    "df_duration_indirect.info()"
   ]
  },
  {
   "cell_type": "code",
   "execution_count": 288,
   "metadata": {},
   "outputs": [],
   "source": [
    "a = dict()"
   ]
  },
  {
   "cell_type": "code",
   "execution_count": 289,
   "metadata": {},
   "outputs": [],
   "source": [
    "a.update(df_duration_direct.iloc[1])"
   ]
  },
  {
   "cell_type": "code",
   "execution_count": 290,
   "metadata": {},
   "outputs": [
    {
     "data": {
      "text/plain": [
       "{'Responder_loc': (-78.290713, 161.598793),\n",
       " 'Patient_loc': (54.660974, -112.834779),\n",
       " 'latitude': 73.48785947399767,\n",
       " 'longitude': -117.22808555820308,\n",
       " 'duration_direct': 108}"
      ]
     },
     "execution_count": 290,
     "metadata": {},
     "output_type": "execute_result"
    }
   ],
   "source": [
    "a"
   ]
  },
  {
   "cell_type": "code",
   "execution_count": null,
   "metadata": {},
   "outputs": [],
   "source": [
    "import openrouteservice\n",
    "from openrouteservice import client\n",
    "Client_ors = openrouteservice.Client(key='5b3ce3597851110001cf6248a8348d6a74544602bd7cbc7936c635d1')"
   ]
  },
  {
   "cell_type": "code",
   "execution_count": null,
   "metadata": {},
   "outputs": [],
   "source": [
    "Responder_df['duration_direct']=[self.directions([i, Patient_cood], profile = 'foot-walking')['duration'] for i, \n",
    "                                          Patient_cood in zip(Responder_df['Responder_loc'], Responder_df['Patient_loc'])]"
   ]
  },
  {
   "cell_type": "code",
   "execution_count": 317,
   "metadata": {},
   "outputs": [
    {
     "data": {
      "text/plain": [
       "24"
      ]
     },
     "execution_count": 317,
     "metadata": {},
     "output_type": "execute_result"
    }
   ],
   "source": [
    "direct_index"
   ]
  },
  {
   "cell_type": "code",
   "execution_count": 322,
   "metadata": {},
   "outputs": [
    {
     "data": {
      "text/plain": [
       "25"
      ]
     },
     "execution_count": 322,
     "metadata": {},
     "output_type": "execute_result"
    }
   ],
   "source": [
    "len(df_duration_direct)"
   ]
  },
  {
   "cell_type": "code",
   "execution_count": 324,
   "metadata": {},
   "outputs": [
    {
     "data": {
      "text/plain": [
       "Responder_loc      (-12.249897, -75.15751)\n",
       "Patient_loc         (-33.415923, 3.085449)\n",
       "latitude                        -35.841904\n",
       "longitude                      -165.320949\n",
       "duration_direct                        996\n",
       "Name: 24, dtype: object"
      ]
     },
     "execution_count": 324,
     "metadata": {},
     "output_type": "execute_result"
    }
   ],
   "source": [
    "df_duration_direct.iloc[24]"
   ]
  },
  {
   "cell_type": "code",
   "execution_count": 314,
   "metadata": {},
   "outputs": [],
   "source": [
    "indirect_index = 0"
   ]
  },
  {
   "cell_type": "code",
   "execution_count": null,
   "metadata": {},
   "outputs": [
    {
     "ename": "IndexError",
     "evalue": "single positional indexer is out-of-bounds",
     "output_type": "error",
     "traceback": [
      "\u001b[1;31m---------------------------------------------------------------------------\u001b[0m",
      "\u001b[1;31mIndexError\u001b[0m                                Traceback (most recent call last)",
      "Cell \u001b[1;32mIn[329], line 28\u001b[0m\n\u001b[0;32m     26\u001b[0m indirect_row \u001b[38;5;241m=\u001b[39m df_duration_indirect\u001b[38;5;241m.\u001b[39miloc[indirect_index]\n\u001b[0;32m     27\u001b[0m \u001b[38;5;28;01mif\u001b[39;00m indirect_row[\u001b[38;5;124m'\u001b[39m\u001b[38;5;124mResponder_loc\u001b[39m\u001b[38;5;124m'\u001b[39m] \u001b[38;5;129;01min\u001b[39;00m used_locations:\n\u001b[1;32m---> 28\u001b[0m     indirect_row \u001b[38;5;241m=\u001b[39m df_duration_indirect\u001b[38;5;241m.\u001b[39miloc[indirect_index \u001b[38;5;241m+\u001b[39m \u001b[38;5;241m1\u001b[39m]\n\u001b[0;32m     29\u001b[0m     indirect_index \u001b[38;5;241m+\u001b[39m\u001b[38;5;241m=\u001b[39m \u001b[38;5;241m2\u001b[39m\n\u001b[0;32m     30\u001b[0m \u001b[38;5;28;01melse\u001b[39;00m:\n",
      "File \u001b[1;32mc:\\Users\\leonw\\anaconda3\\Lib\\site-packages\\pandas\\core\\indexing.py:1153\u001b[0m, in \u001b[0;36m_LocationIndexer.__getitem__\u001b[1;34m(self, key)\u001b[0m\n\u001b[0;32m   1150\u001b[0m axis \u001b[38;5;241m=\u001b[39m \u001b[38;5;28mself\u001b[39m\u001b[38;5;241m.\u001b[39maxis \u001b[38;5;129;01mor\u001b[39;00m \u001b[38;5;241m0\u001b[39m\n\u001b[0;32m   1152\u001b[0m maybe_callable \u001b[38;5;241m=\u001b[39m com\u001b[38;5;241m.\u001b[39mapply_if_callable(key, \u001b[38;5;28mself\u001b[39m\u001b[38;5;241m.\u001b[39mobj)\n\u001b[1;32m-> 1153\u001b[0m \u001b[38;5;28;01mreturn\u001b[39;00m \u001b[38;5;28mself\u001b[39m\u001b[38;5;241m.\u001b[39m_getitem_axis(maybe_callable, axis\u001b[38;5;241m=\u001b[39maxis)\n",
      "File \u001b[1;32mc:\\Users\\leonw\\anaconda3\\Lib\\site-packages\\pandas\\core\\indexing.py:1714\u001b[0m, in \u001b[0;36m_iLocIndexer._getitem_axis\u001b[1;34m(self, key, axis)\u001b[0m\n\u001b[0;32m   1711\u001b[0m     \u001b[38;5;28;01mraise\u001b[39;00m \u001b[38;5;167;01mTypeError\u001b[39;00m(\u001b[38;5;124m\"\u001b[39m\u001b[38;5;124mCannot index by location index with a non-integer key\u001b[39m\u001b[38;5;124m\"\u001b[39m)\n\u001b[0;32m   1713\u001b[0m \u001b[38;5;66;03m# validate the location\u001b[39;00m\n\u001b[1;32m-> 1714\u001b[0m \u001b[38;5;28mself\u001b[39m\u001b[38;5;241m.\u001b[39m_validate_integer(key, axis)\n\u001b[0;32m   1716\u001b[0m \u001b[38;5;28;01mreturn\u001b[39;00m \u001b[38;5;28mself\u001b[39m\u001b[38;5;241m.\u001b[39mobj\u001b[38;5;241m.\u001b[39m_ixs(key, axis\u001b[38;5;241m=\u001b[39maxis)\n",
      "File \u001b[1;32mc:\\Users\\leonw\\anaconda3\\Lib\\site-packages\\pandas\\core\\indexing.py:1647\u001b[0m, in \u001b[0;36m_iLocIndexer._validate_integer\u001b[1;34m(self, key, axis)\u001b[0m\n\u001b[0;32m   1645\u001b[0m len_axis \u001b[38;5;241m=\u001b[39m \u001b[38;5;28mlen\u001b[39m(\u001b[38;5;28mself\u001b[39m\u001b[38;5;241m.\u001b[39mobj\u001b[38;5;241m.\u001b[39m_get_axis(axis))\n\u001b[0;32m   1646\u001b[0m \u001b[38;5;28;01mif\u001b[39;00m key \u001b[38;5;241m>\u001b[39m\u001b[38;5;241m=\u001b[39m len_axis \u001b[38;5;129;01mor\u001b[39;00m key \u001b[38;5;241m<\u001b[39m \u001b[38;5;241m-\u001b[39mlen_axis:\n\u001b[1;32m-> 1647\u001b[0m     \u001b[38;5;28;01mraise\u001b[39;00m \u001b[38;5;167;01mIndexError\u001b[39;00m(\u001b[38;5;124m\"\u001b[39m\u001b[38;5;124msingle positional indexer is out-of-bounds\u001b[39m\u001b[38;5;124m\"\u001b[39m)\n",
      "\u001b[1;31mIndexError\u001b[0m: single positional indexer is out-of-bounds"
     ]
    }
   ],
   "source": [
    "coord_direct = []\n",
    "coord_AED = []\n",
    "AED_coordinates = []\n",
    "\n",
    "direct_index = 0\n",
    "indirect_index = 0\n",
    "total_direct = len(df_duration_direct)\n",
    "total_indirect = len(df_duration_indirect)\n",
    "\n",
    "while direct_index < total_direct and indirect_index < total_indirect:\n",
    "    # Handle the direct selection\n",
    "    direct_row = df_duration_direct.iloc[direct_index]\n",
    "    if direct_row['Responder_loc'] in used_locations:\n",
    "        if direct_index+1 < len(df_duration_direct):\n",
    "            direct_row = df_duration_direct.iloc[direct_index + 1]\n",
    "            direct_index += 2\n",
    "        else:\n",
    "            pass\n",
    "    else:\n",
    "        direct_index += 1\n",
    "\n",
    "    coord_direct.append(direct_row['Responder_loc'])\n",
    "    used_locations.add(direct_row['Responder_loc'])\n",
    "\n",
    "    # Handle the indirect selection\n",
    "    indirect_row = df_duration_indirect.iloc[indirect_index]\n",
    "    if indirect_row['Responder_loc'] in used_locations:\n",
    "        if indirect_index+1 < len(df_duration_direct):\n",
    "            indirect_row = df_duration_indirect.iloc[indirect_index + 1]\n",
    "            indirect_index += 2\n",
    "        else:\n",
    "            pass\n",
    "    else:\n",
    "        indirect_index += 1\n",
    "\n",
    "    coord_AED.append(indirect_row['Responder_loc'])\n",
    "    AED_coordinates.append(indirect_row['AED_coordinates'])\n",
    "    used_locations.add(indirect_row['Responder_loc'])\n",
    "\n",
    "# Add remaining rows if one DataFrame is exhausted\n",
    "if direct_index < total_direct:\n",
    "    remaining_direct = df_duration_direct.iloc[direct_index:]\n",
    "    coord_direct.extend(remaining_direct['Responder_loc'].tolist())\n",
    "\n",
    "elif indirect_index < total_indirect:\n",
    "    remaining_indirect = df_duration_indirect.iloc[indirect_index:]\n",
    "    coord_AED.extend(remaining_indirect['Responder_loc'].tolist())\n",
    "    AED_coordinates.extend(remaining_indirect['AED_coordinates'].tolist())\n",
    "\n",
    "# Convert to DataFrame if needed\n",
    "#result_df = pd.DataFrame(selected_rows)\n",
    "#print(result_df.head())\n",
    "\n",
    "\n"
   ]
  },
  {
   "cell_type": "code",
   "execution_count": 328,
   "metadata": {},
   "outputs": [
    {
     "data": {
      "application/vnd.microsoft.datawrangler.viewer.v0+json": {
       "columns": [
        {
         "name": "index",
         "rawType": "int64",
         "type": "integer"
        },
        {
         "name": "Indirect responder",
         "rawType": "object",
         "type": "unknown"
        },
        {
         "name": "AED",
         "rawType": "object",
         "type": "unknown"
        }
       ],
       "conversionMethod": "pd.DataFrame",
       "ref": "839a89f2-21fc-4b5d-9c27-ff31be11ad75",
       "rows": [
        [
         "0",
         "(59.172752, -51.568802)",
         "(-11.578878, 82.814154)"
        ],
        [
         "1",
         "(-86.294791, 169.167547)",
         "(-18.212238, -23.932534)"
        ],
        [
         "2",
         "(37.234322, 82.44258)",
         "(-86.911002, 94.811192)"
        ],
        [
         "3",
         "(-61.916645, -123.841973)",
         "(35.912198, -130.192887)"
        ],
        [
         "4",
         "(-81.859088, -62.881081)",
         "(78.23052, 49.777414)"
        ],
        [
         "5",
         "(48.828662, -153.343925)",
         "(55.244336, -55.330444)"
        ],
        [
         "6",
         "(-30.438356, -157.118994)",
         "(69.60247, -86.078296)"
        ],
        [
         "7",
         "(-76.580884, 175.279297)",
         "(-28.46166, -146.952336)"
        ],
        [
         "8",
         "(49.004058, -108.462355)",
         "(-73.051742, -67.891209)"
        ],
        [
         "9",
         "(17.621996, 151.874725)",
         "(-10.376599, -93.676551)"
        ],
        [
         "10",
         "(18.200702, 74.906128)",
         "(38.627119, -165.215694)"
        ],
        [
         "11",
         "(-64.63364, 108.790913)",
         "(-61.443639, -136.740727)"
        ],
        [
         "12",
         "(-20.038088, -82.314349)",
         "(3.005326, 56.560078)"
        ]
       ],
       "shape": {
        "columns": 2,
        "rows": 13
       }
      },
      "text/html": [
       "<div>\n",
       "<style scoped>\n",
       "    .dataframe tbody tr th:only-of-type {\n",
       "        vertical-align: middle;\n",
       "    }\n",
       "\n",
       "    .dataframe tbody tr th {\n",
       "        vertical-align: top;\n",
       "    }\n",
       "\n",
       "    .dataframe thead th {\n",
       "        text-align: right;\n",
       "    }\n",
       "</style>\n",
       "<table border=\"1\" class=\"dataframe\">\n",
       "  <thead>\n",
       "    <tr style=\"text-align: right;\">\n",
       "      <th></th>\n",
       "      <th>Indirect responder</th>\n",
       "      <th>AED</th>\n",
       "    </tr>\n",
       "  </thead>\n",
       "  <tbody>\n",
       "    <tr>\n",
       "      <th>0</th>\n",
       "      <td>(59.172752, -51.568802)</td>\n",
       "      <td>(-11.578878, 82.814154)</td>\n",
       "    </tr>\n",
       "    <tr>\n",
       "      <th>1</th>\n",
       "      <td>(-86.294791, 169.167547)</td>\n",
       "      <td>(-18.212238, -23.932534)</td>\n",
       "    </tr>\n",
       "    <tr>\n",
       "      <th>2</th>\n",
       "      <td>(37.234322, 82.44258)</td>\n",
       "      <td>(-86.911002, 94.811192)</td>\n",
       "    </tr>\n",
       "    <tr>\n",
       "      <th>3</th>\n",
       "      <td>(-61.916645, -123.841973)</td>\n",
       "      <td>(35.912198, -130.192887)</td>\n",
       "    </tr>\n",
       "    <tr>\n",
       "      <th>4</th>\n",
       "      <td>(-81.859088, -62.881081)</td>\n",
       "      <td>(78.23052, 49.777414)</td>\n",
       "    </tr>\n",
       "    <tr>\n",
       "      <th>5</th>\n",
       "      <td>(48.828662, -153.343925)</td>\n",
       "      <td>(55.244336, -55.330444)</td>\n",
       "    </tr>\n",
       "    <tr>\n",
       "      <th>6</th>\n",
       "      <td>(-30.438356, -157.118994)</td>\n",
       "      <td>(69.60247, -86.078296)</td>\n",
       "    </tr>\n",
       "    <tr>\n",
       "      <th>7</th>\n",
       "      <td>(-76.580884, 175.279297)</td>\n",
       "      <td>(-28.46166, -146.952336)</td>\n",
       "    </tr>\n",
       "    <tr>\n",
       "      <th>8</th>\n",
       "      <td>(49.004058, -108.462355)</td>\n",
       "      <td>(-73.051742, -67.891209)</td>\n",
       "    </tr>\n",
       "    <tr>\n",
       "      <th>9</th>\n",
       "      <td>(17.621996, 151.874725)</td>\n",
       "      <td>(-10.376599, -93.676551)</td>\n",
       "    </tr>\n",
       "    <tr>\n",
       "      <th>10</th>\n",
       "      <td>(18.200702, 74.906128)</td>\n",
       "      <td>(38.627119, -165.215694)</td>\n",
       "    </tr>\n",
       "    <tr>\n",
       "      <th>11</th>\n",
       "      <td>(-64.63364, 108.790913)</td>\n",
       "      <td>(-61.443639, -136.740727)</td>\n",
       "    </tr>\n",
       "    <tr>\n",
       "      <th>12</th>\n",
       "      <td>(-20.038088, -82.314349)</td>\n",
       "      <td>(3.005326, 56.560078)</td>\n",
       "    </tr>\n",
       "  </tbody>\n",
       "</table>\n",
       "</div>"
      ],
      "text/plain": [
       "           Indirect responder                        AED\n",
       "0     (59.172752, -51.568802)    (-11.578878, 82.814154)\n",
       "1    (-86.294791, 169.167547)   (-18.212238, -23.932534)\n",
       "2       (37.234322, 82.44258)    (-86.911002, 94.811192)\n",
       "3   (-61.916645, -123.841973)   (35.912198, -130.192887)\n",
       "4    (-81.859088, -62.881081)      (78.23052, 49.777414)\n",
       "5    (48.828662, -153.343925)    (55.244336, -55.330444)\n",
       "6   (-30.438356, -157.118994)     (69.60247, -86.078296)\n",
       "7    (-76.580884, 175.279297)   (-28.46166, -146.952336)\n",
       "8    (49.004058, -108.462355)   (-73.051742, -67.891209)\n",
       "9     (17.621996, 151.874725)   (-10.376599, -93.676551)\n",
       "10     (18.200702, 74.906128)   (38.627119, -165.215694)\n",
       "11    (-64.63364, 108.790913)  (-61.443639, -136.740727)\n",
       "12   (-20.038088, -82.314349)      (3.005326, 56.560078)"
      ]
     },
     "execution_count": 328,
     "metadata": {},
     "output_type": "execute_result"
    }
   ],
   "source": [
    "pd.DataFrame(\n",
    "    {'Indirect responder': coord_AED,\n",
    "     'AED': AED_coordinates\n",
    "    })"
   ]
  },
  {
   "cell_type": "code",
   "execution_count": null,
   "metadata": {},
   "outputs": [],
   "source": [
    "        fastest_aed = df_duration_indirect.loc[0]\n",
    "        fastest_gpr = df_duration_direct.loc[0]\n",
    "        second_fastest_aed = df_duration_indirect.loc[1]\n",
    "        second_fastest_gpr = df_duration_direct.loc[1]\n",
    "\n",
    "        # Fastest responder going for the AED\n",
    "        # Check if the 2nd fastest direct responder is faster than the fastes direct through AED\n",
    "        if second_fastest_gpr['duration_direct'] < fastest_aed['duration_through_AED']:\n",
    "            # if so, z equal to CPR by 2nd fastest responder\n",
    "            CPR_time = fastest_aed['duration_through_AED'] - second_fastest_gpr['duration_direct']\n",
    "            surv_A = self.survival_probability(second_fastest_gpr['duration_direct'], CPR_time)\n",
    "        else:\n",
    "            # - z equals zero as no one does any CPR\n",
    "            surv_A = self.survival_probability(fastest_aed['duration_through_AED'], 0)\n",
    "        # 2nd fastest responder arriving with AED\n",
    "        # - time until AED arrives minus time CPR arrives is the time without CPR\n",
    "        surv_B = self.survival_probability(fastest_gpr['duration_direct'], second_fastest_aed['duration_through_AED']-fastest_gpr['duration_direct'])    \n",
    "            \n",
    "        # Check if the fastest through AED is the same as the fastest direct \n",
    "        if fastest_aed['Responder_loc']==fastest_gpr['Responder_loc']:\n",
    "            # Find best strategy which is the maximal survival chances\n",
    "            best_strategy = max(surv_A, surv_B)\n",
    "            # Send responders\n",
    "            if best_strategy == surv_A:\n",
    "                # - Second fastest direct time will be send directly  \n",
    "                # - Fastest direct and AED responder will be send through the AED\n",
    "                coord_direct = second_fastest_gpr['Responder_loc']\n",
    "                coord_AED =  fastest_aed['Responder_loc']\n",
    "                AED_coordinates = fastest_aed['AED_coordinates']\n",
    "            # If this is not true:\n",
    "            # - Fastes direct responder will be send directly\n",
    "            # - Second fastest through AED responder will be send through the AED\n",
    "            else:\n",
    "                coord_direct = fastest_gpr['Responder_loc']\n",
    "                coord_AED = second_fastest_aed['Responder_loc']\n",
    "                AED_coordinates = second_fastest_aed['AED_coordinates']\n",
    "        else:\n",
    "            # If the fastest direct responder and thorugh AED responder are different:\n",
    "            # - Take the fastest responders for both\n",
    "            coord_direct = fastest_gpr['Responder_loc']\n",
    "            coord_AED = fastest_aed['Responder_loc']\n",
    "            AED_coordinates = fastest_aed['AED_coordinates']"
   ]
  },
  {
   "cell_type": "code",
   "execution_count": null,
   "metadata": {},
   "outputs": [],
   "source": [
    "# Initialize sets and lists\n",
    "used_locations = set()\n",
    "selected_rows = []"
   ]
  },
  {
   "cell_type": "code",
   "execution_count": null,
   "metadata": {},
   "outputs": [],
   "source": [
    "n = 25\n",
    "Amount of people in  = list(range(0,n+1))"
   ]
  }
 ],
 "metadata": {
  "kernelspec": {
   "display_name": "base",
   "language": "python",
   "name": "python3"
  },
  "language_info": {
   "codemirror_mode": {
    "name": "ipython",
    "version": 3
   },
   "file_extension": ".py",
   "mimetype": "text/x-python",
   "name": "python",
   "nbconvert_exporter": "python",
   "pygments_lexer": "ipython3",
   "version": "3.11.7"
  }
 },
 "nbformat": 4,
 "nbformat_minor": 2
}
