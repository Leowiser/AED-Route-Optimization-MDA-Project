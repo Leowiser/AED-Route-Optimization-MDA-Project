{
 "cells": [
  {
   "cell_type": "code",
   "execution_count": 21,
   "metadata": {},
   "outputs": [],
   "source": [
    "# imports \n",
    "import pandas as pd\n",
    "import numpy as np\n",
    "from Survival_prob_Class import survival_prob"
   ]
  },
  {
   "cell_type": "code",
   "execution_count": 22,
   "metadata": {},
   "outputs": [],
   "source": [
    "# initialize simulation \n",
    "surv_prob = survival_prob()"
   ]
  },
  {
   "cell_type": "code",
   "execution_count": 49,
   "metadata": {},
   "outputs": [],
   "source": [
    "# read the simulation datasets \n",
    "sim_1_1 = pd.read_csv('Data/simulation_one_1st.csv')\n",
    "sim_1_2 = pd.read_csv('Data/simulation_one_2nd.csv')\n",
    "sim_1_3 = pd.read_csv('Data/simulation_one_3rd.csv')"
   ]
  },
  {
   "cell_type": "code",
   "execution_count": 50,
   "metadata": {},
   "outputs": [],
   "source": [
    "# concatenate the three simulation datasets \n",
    "sim_1 = pd.concat([sim_1_1, sim_1_2, sim_1_3])\n",
    "# reset index \n",
    "sim_1 = sim_1.reset_index(drop=True)"
   ]
  },
  {
   "cell_type": "code",
   "execution_count": 51,
   "metadata": {},
   "outputs": [],
   "source": [
    "# remove unecessary columns, only need duration_Responder, duration_AED and duration_Vector \n",
    "# columns to drop\n",
    "columns_to_drop = ['Patient_loc', 'Responder_lon', 'Responder_lat', 'AED_lon', 'AED_lat', 'Vector_lon', 'Vector_lat']  \n",
    "sim_1.drop(columns=columns_to_drop, inplace=True)"
   ]
  },
  {
   "cell_type": "code",
   "execution_count": 52,
   "metadata": {},
   "outputs": [
    {
     "data": {
      "text/plain": [
       "703.8"
      ]
     },
     "execution_count": 52,
     "metadata": {},
     "output_type": "execute_result"
    }
   ],
   "source": [
    "# calculate time for the slowest vector \n",
    "np.max(sim_1['duration_Vector'])"
   ]
  },
  {
   "cell_type": "code",
   "execution_count": 53,
   "metadata": {},
   "outputs": [],
   "source": [
    "# in some cases the AED never arrives (it is too far away), need to put this to a value for Survival_prob_Class.py\n",
    "# choose a very large value (10 000) then we know that the vector always will be faster, slowest vector 703.8 s \n",
    "\n",
    "# find instances where duration_AED is 'No AED' and replace them with 10000\n",
    "sim_1['duration_AED'] = sim_1['duration_AED'].replace('No AED', float(10000))\n"
   ]
  },
  {
   "cell_type": "code",
   "execution_count": 59,
   "metadata": {},
   "outputs": [
    {
     "name": "stdout",
     "output_type": "stream",
     "text": [
      "<class 'float'>\n"
     ]
    }
   ],
   "source": [
    "print(type(sim_1['duration_AED'][9]))"
   ]
  },
  {
   "cell_type": "code",
   "execution_count": 56,
   "metadata": {},
   "outputs": [
    {
     "ename": "TypeError",
     "evalue": "'<' not supported between instances of 'float' and 'str'",
     "output_type": "error",
     "traceback": [
      "\u001b[0;31m---------------------------------------------------------------------------\u001b[0m",
      "\u001b[0;31mTypeError\u001b[0m                                 Traceback (most recent call last)",
      "Cell \u001b[0;32mIn[56], line 8\u001b[0m\n\u001b[1;32m      6\u001b[0m \u001b[38;5;66;03m# loop through df \u001b[39;00m\n\u001b[1;32m      7\u001b[0m \u001b[38;5;28;01mfor\u001b[39;00m index, row \u001b[38;5;129;01min\u001b[39;00m sim_1\u001b[38;5;241m.\u001b[39miterrows():\n\u001b[0;32m----> 8\u001b[0m     prob_resp, prob_vec \u001b[38;5;241m=\u001b[39m \u001b[43msurv_prob\u001b[49m\u001b[38;5;241;43m.\u001b[39;49m\u001b[43mprobability_survival\u001b[49m\u001b[43m(\u001b[49m\u001b[43mrow\u001b[49m\u001b[43m[\u001b[49m\u001b[38;5;124;43m'\u001b[39;49m\u001b[38;5;124;43mduration_Responder\u001b[39;49m\u001b[38;5;124;43m'\u001b[39;49m\u001b[43m]\u001b[49m\u001b[43m,\u001b[49m\u001b[43m \u001b[49m\u001b[43mrow\u001b[49m\u001b[43m[\u001b[49m\u001b[38;5;124;43m'\u001b[39;49m\u001b[38;5;124;43mduration_AED\u001b[39;49m\u001b[38;5;124;43m'\u001b[39;49m\u001b[43m]\u001b[49m\u001b[43m,\u001b[49m\u001b[43m \u001b[49m\u001b[43mrow\u001b[49m\u001b[43m[\u001b[49m\u001b[38;5;124;43m'\u001b[39;49m\u001b[38;5;124;43mduration_Vector\u001b[39;49m\u001b[38;5;124;43m'\u001b[39;49m\u001b[43m]\u001b[49m\u001b[43m)\u001b[49m\n\u001b[1;32m      9\u001b[0m     \u001b[38;5;66;03m# add calcualted probabilities to df \u001b[39;00m\n\u001b[1;32m     10\u001b[0m     df_prob_1\u001b[38;5;241m.\u001b[39mloc[index] \u001b[38;5;241m=\u001b[39m {\u001b[38;5;124m'\u001b[39m\u001b[38;5;124mprob_resp\u001b[39m\u001b[38;5;124m'\u001b[39m: prob_resp, \u001b[38;5;124m'\u001b[39m\u001b[38;5;124mprob_vec\u001b[39m\u001b[38;5;124m'\u001b[39m: prob_vec}\n",
      "File \u001b[0;32m~/MDA/AED-Route-Optimization-MDA-Project/Survival_prob_Class.py:25\u001b[0m, in \u001b[0;36msurvival_prob.probability_survival\u001b[0;34m(self, duration_responder, duration_AED, duration_vector, decrease_with_cpr, decrease_no_cpr)\u001b[0m\n\u001b[1;32m     22\u001b[0m prob_vec \u001b[38;5;241m=\u001b[39m prob_vec \u001b[38;5;241m*\u001b[39m decrease_no_cpr \u001b[38;5;241m*\u001b[39m\u001b[38;5;241m*\u001b[39m time_vec_min\n\u001b[1;32m     24\u001b[0m \u001b[38;5;66;03m# also add vector to calcualtion since we never have only first responder \u001b[39;00m\n\u001b[0;32m---> 25\u001b[0m fastest_aed \u001b[38;5;241m=\u001b[39m \u001b[38;5;28;43mmin\u001b[39;49m\u001b[43m(\u001b[49m\u001b[43mduration_AED\u001b[49m\u001b[43m,\u001b[49m\u001b[43m \u001b[49m\u001b[43mduration_vector\u001b[49m\u001b[43m)\u001b[49m \u001b[38;5;66;03m# get the fastest of the aed and vector that can arrive with aed \u001b[39;00m\n\u001b[1;32m     27\u001b[0m \u001b[38;5;28;01mif\u001b[39;00m(fastest_aed \u001b[38;5;241m<\u001b[39m\u001b[38;5;241m=\u001b[39m duration_responder): \u001b[38;5;66;03m# if AED/vector is faster or as fast as first responder, no cpr is started\u001b[39;00m\n\u001b[1;32m     28\u001b[0m     time_aed_min \u001b[38;5;241m=\u001b[39m fastest_aed\u001b[38;5;241m/\u001b[39m\u001b[38;5;241m60\u001b[39m \u001b[38;5;66;03m# time to aed arrives in min \u001b[39;00m\n",
      "\u001b[0;31mTypeError\u001b[0m: '<' not supported between instances of 'float' and 'str'"
     ]
    }
   ],
   "source": [
    "# estimate probability of survival\n",
    "\n",
    "# save probabilites in df\n",
    "df_prob_1 = pd.DataFrame(columns=['prob_resp', 'prob_vec'])\n",
    "\n",
    "# loop through df \n",
    "for index, row in sim_1.iterrows():\n",
    "    prob_resp, prob_vec = surv_prob.probability_survival(row['duration_Responder'], row['duration_AED'], row['duration_Vector'])\n",
    "    # add calcualted probabilities to df \n",
    "    df_prob_1.loc[index] = {'prob_resp': prob_resp, 'prob_vec': prob_vec}"
   ]
  },
  {
   "cell_type": "code",
   "execution_count": null,
   "metadata": {},
   "outputs": [],
   "source": [
    "# for prob class when  no aed put it to a very large value so vector always arrives first "
   ]
  }
 ],
 "metadata": {
  "kernelspec": {
   "display_name": "Python 3",
   "language": "python",
   "name": "python3"
  },
  "language_info": {
   "codemirror_mode": {
    "name": "ipython",
    "version": 3
   },
   "file_extension": ".py",
   "mimetype": "text/x-python",
   "name": "python",
   "nbconvert_exporter": "python",
   "pygments_lexer": "ipython3",
   "version": "3.9.18"
  }
 },
 "nbformat": 4,
 "nbformat_minor": 2
}
