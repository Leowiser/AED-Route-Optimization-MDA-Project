{
 "cells": [
  {
   "cell_type": "code",
   "execution_count": 1,
   "metadata": {},
   "outputs": [],
   "source": [
    "# imports \n",
    "import pandas as pd\n",
    "import numpy as np\n",
    "from Survival_prob_Class import survival_prob"
   ]
  },
  {
   "cell_type": "code",
   "execution_count": 2,
   "metadata": {},
   "outputs": [],
   "source": [
    "# initialize simulation \n",
    "surv_prob = survival_prob()"
   ]
  },
  {
   "cell_type": "code",
   "execution_count": 3,
   "metadata": {},
   "outputs": [],
   "source": [
    "# read the simulation datasets \n",
    "sim_05_1 = pd.read_csv('Data/simulation_half_1st.csv')\n",
    "sim_05_2 = pd.read_csv('Data/simulation_half_2nd.csv')\n",
    "sim_05_3 = pd.read_csv('Data/simulation_half_3rd.csv')\n",
    "sim_1_1 = pd.read_csv('Data/simulation_one_1st.csv')\n",
    "sim_1_2 = pd.read_csv('Data/simulation_one_2nd.csv')\n",
    "sim_1_3 = pd.read_csv('Data/simulation_one_3rd.csv')"
   ]
  },
  {
   "cell_type": "code",
   "execution_count": 4,
   "metadata": {},
   "outputs": [],
   "source": [
    "# concatenate the three simulation datasets per percentage \n",
    "# 0.5%\n",
    "sim_05 = pd.concat([sim_05_1, sim_05_2, sim_05_3])\n",
    "# reset index \n",
    "sim_05 = sim_05.reset_index(drop=True)\n",
    "# 1% \n",
    "sim_1 = pd.concat([sim_1_1, sim_1_2, sim_1_3])\n",
    "# reset index \n",
    "sim_1 = sim_1.reset_index(drop=True)"
   ]
  },
  {
   "cell_type": "code",
   "execution_count": 5,
   "metadata": {},
   "outputs": [],
   "source": [
    "# remove unecessary columns, only need duration_Responder, duration_AED and duration_Vector \n",
    "# columns to drop\n",
    "columns_to_drop = ['Patient_loc', 'Responder_lon', 'Responder_lat', 'AED_lon', 'AED_lat', 'Vector_lon', 'Vector_lat']  \n",
    "sim_05.drop(columns=columns_to_drop, inplace=True)\n",
    "sim_1.drop(columns=columns_to_drop, inplace=True)"
   ]
  },
  {
   "cell_type": "code",
   "execution_count": 6,
   "metadata": {},
   "outputs": [
    {
     "data": {
      "text/plain": [
       "703.8"
      ]
     },
     "execution_count": 6,
     "metadata": {},
     "output_type": "execute_result"
    }
   ],
   "source": [
    "# calculate time for the slowest vector \n",
    "np.max(sim_1['duration_Vector'])"
   ]
  },
  {
   "cell_type": "code",
   "execution_count": 7,
   "metadata": {},
   "outputs": [],
   "source": [
    "# in some cases the AED never arrives (it is too far away), need to put this to a value for Survival_prob_Class.py\n",
    "# choose a very large value (10 000) then we know that the vector always will be faster, slowest vector 703.8 s \n",
    "\n",
    "# find instances where duration_AED is 'No AED' and replace them with 10000\n",
    "sim_05['duration_AED'] = sim_05['duration_AED'].replace('No AED', float(10000))\n",
    "sim_1['duration_AED'] = sim_1['duration_AED'].replace('No AED', float(10000))\n"
   ]
  },
  {
   "cell_type": "code",
   "execution_count": 18,
   "metadata": {},
   "outputs": [],
   "source": [
    "# in the case we don't have a responder, too far away from the patient\n",
    "# put time of patient to something very large -> same probability of survival with and without fcr, what we would have with only vector\n",
    "\n",
    "# find instances where duration_Respinder is 'No responder' and replace them with 10000\n",
    "sim_05['duration_Responder'] = sim_05['duration_Responder'].replace('No responder', float(10000))\n",
    "sim_1['duration_Responder'] = sim_1['duration_Responder'].replace('No responder', float(10000))"
   ]
  },
  {
   "cell_type": "code",
   "execution_count": 30,
   "metadata": {},
   "outputs": [],
   "source": [
    "# estimate probability of survival\n",
    "\n",
    "# save probabilites in df\n",
    "db_prob_05 = pd.DataFrame(columns=['prob_resp', 'prob_vec'])\n",
    "df_prob_1 = pd.DataFrame(columns=['prob_resp', 'prob_vec'])\n",
    "\n",
    "# loop through df 0.5 \n",
    "for index, row in sim_05.iterrows():\n",
    "    prob_resp, prob_vec = surv_prob.probability_survival(float(row['duration_Responder']), float(row['duration_AED']), row['duration_Vector'])\n",
    "    # add calcualted probabilities to df \n",
    "    db_prob_05.loc[index] = {'prob_resp': prob_resp, 'prob_vec': prob_vec}\n",
    "\n",
    "# loop through df 1\n",
    "for index, row in sim_1.iterrows():\n",
    "    prob_resp, prob_vec = surv_prob.probability_survival(float(row['duration_Responder']), float(row['duration_AED']), row['duration_Vector'])\n",
    "    # add calcualted probabilities to df \n",
    "    df_prob_1.loc[index] = {'prob_resp': prob_resp, 'prob_vec': prob_vec}"
   ]
  },
  {
   "cell_type": "code",
   "execution_count": null,
   "metadata": {},
   "outputs": [],
   "source": []
  }
 ],
 "metadata": {
  "kernelspec": {
   "display_name": "Python 3",
   "language": "python",
   "name": "python3"
  },
  "language_info": {
   "codemirror_mode": {
    "name": "ipython",
    "version": 3
   },
   "file_extension": ".py",
   "mimetype": "text/x-python",
   "name": "python",
   "nbconvert_exporter": "python",
   "pygments_lexer": "ipython3",
   "version": "3.9.18"
  }
 },
 "nbformat": 4,
 "nbformat_minor": 2
}
