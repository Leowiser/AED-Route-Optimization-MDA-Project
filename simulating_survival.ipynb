{
 "cells": [
  {
   "cell_type": "code",
   "execution_count": 4,
   "metadata": {},
   "outputs": [],
   "source": [
    "# imports\n",
    "import pandas as pd\n",
    "from Simulation_Class import simulation"
   ]
  },
  {
   "cell_type": "code",
   "execution_count": 5,
   "metadata": {},
   "outputs": [],
   "source": [
    "# initialize simulation \n",
    "sim = simulation()"
   ]
  },
  {
   "cell_type": "code",
   "execution_count": 2,
   "metadata": {},
   "outputs": [],
   "source": [
    "# import dataset of real real interventions \n",
    "# contains patient location, time for vector to get there \n",
    "df_interventions = pd.read_csv('Data/interventions.csv')"
   ]
  },
  {
   "cell_type": "code",
   "execution_count": 3,
   "metadata": {},
   "outputs": [
    {
     "data": {
      "text/html": [
       "<div>\n",
       "<style scoped>\n",
       "    .dataframe tbody tr th:only-of-type {\n",
       "        vertical-align: middle;\n",
       "    }\n",
       "\n",
       "    .dataframe tbody tr th {\n",
       "        vertical-align: top;\n",
       "    }\n",
       "\n",
       "    .dataframe thead th {\n",
       "        text-align: right;\n",
       "    }\n",
       "</style>\n",
       "<table border=\"1\" class=\"dataframe\">\n",
       "  <thead>\n",
       "    <tr style=\"text-align: right;\">\n",
       "      <th></th>\n",
       "      <th>T1</th>\n",
       "      <th>T3</th>\n",
       "      <th>Latitude intervention</th>\n",
       "      <th>Longitude intervention</th>\n",
       "      <th>Response Time</th>\n",
       "    </tr>\n",
       "  </thead>\n",
       "  <tbody>\n",
       "    <tr>\n",
       "      <th>0</th>\n",
       "      <td>2022-06-07 07:02:17</td>\n",
       "      <td>2022-06-07 07:11:24</td>\n",
       "      <td>50.861866</td>\n",
       "      <td>4.708210</td>\n",
       "      <td>547.0</td>\n",
       "    </tr>\n",
       "    <tr>\n",
       "      <th>1</th>\n",
       "      <td>2022-06-07 07:02:29</td>\n",
       "      <td>2022-06-07 07:11:24</td>\n",
       "      <td>50.861866</td>\n",
       "      <td>4.708210</td>\n",
       "      <td>535.0</td>\n",
       "    </tr>\n",
       "    <tr>\n",
       "      <th>2</th>\n",
       "      <td>2022-06-08 13:26:34</td>\n",
       "      <td>2022-06-08 13:35:03</td>\n",
       "      <td>50.873174</td>\n",
       "      <td>4.716699</td>\n",
       "      <td>509.0</td>\n",
       "    </tr>\n",
       "    <tr>\n",
       "      <th>3</th>\n",
       "      <td>2022-06-08 13:26:36</td>\n",
       "      <td>2022-06-08 13:35:03</td>\n",
       "      <td>50.873174</td>\n",
       "      <td>4.716699</td>\n",
       "      <td>507.0</td>\n",
       "    </tr>\n",
       "    <tr>\n",
       "      <th>4</th>\n",
       "      <td>2022-06-08 14:35:19</td>\n",
       "      <td>2022-06-08 14:47:58</td>\n",
       "      <td>50.928140</td>\n",
       "      <td>4.703247</td>\n",
       "      <td>759.0</td>\n",
       "    </tr>\n",
       "    <tr>\n",
       "      <th>...</th>\n",
       "      <td>...</td>\n",
       "      <td>...</td>\n",
       "      <td>...</td>\n",
       "      <td>...</td>\n",
       "      <td>...</td>\n",
       "    </tr>\n",
       "    <tr>\n",
       "      <th>141</th>\n",
       "      <td>2023-05-03 17:38:46</td>\n",
       "      <td>2023-05-03 17:46:05</td>\n",
       "      <td>50.861650</td>\n",
       "      <td>4.681370</td>\n",
       "      <td>439.0</td>\n",
       "    </tr>\n",
       "    <tr>\n",
       "      <th>142</th>\n",
       "      <td>2023-05-03 17:40:41</td>\n",
       "      <td>2023-05-03 17:46:05</td>\n",
       "      <td>50.861650</td>\n",
       "      <td>4.681370</td>\n",
       "      <td>324.0</td>\n",
       "    </tr>\n",
       "    <tr>\n",
       "      <th>143</th>\n",
       "      <td>2023-05-13 11:26:53</td>\n",
       "      <td>2023-05-13 11:50:12</td>\n",
       "      <td>50.885531</td>\n",
       "      <td>4.684591</td>\n",
       "      <td>1399.0</td>\n",
       "    </tr>\n",
       "    <tr>\n",
       "      <th>144</th>\n",
       "      <td>2023-05-13 11:26:54</td>\n",
       "      <td>2023-05-13 11:50:12</td>\n",
       "      <td>50.885531</td>\n",
       "      <td>4.684591</td>\n",
       "      <td>1398.0</td>\n",
       "    </tr>\n",
       "    <tr>\n",
       "      <th>145</th>\n",
       "      <td>2023-05-13 23:28:43</td>\n",
       "      <td>2023-05-13 23:37:00</td>\n",
       "      <td>50.856026</td>\n",
       "      <td>4.695739</td>\n",
       "      <td>497.0</td>\n",
       "    </tr>\n",
       "  </tbody>\n",
       "</table>\n",
       "<p>146 rows × 5 columns</p>\n",
       "</div>"
      ],
      "text/plain": [
       "                      T1                   T3  Latitude intervention  \\\n",
       "0    2022-06-07 07:02:17  2022-06-07 07:11:24              50.861866   \n",
       "1    2022-06-07 07:02:29  2022-06-07 07:11:24              50.861866   \n",
       "2    2022-06-08 13:26:34  2022-06-08 13:35:03              50.873174   \n",
       "3    2022-06-08 13:26:36  2022-06-08 13:35:03              50.873174   \n",
       "4    2022-06-08 14:35:19  2022-06-08 14:47:58              50.928140   \n",
       "..                   ...                  ...                    ...   \n",
       "141  2023-05-03 17:38:46  2023-05-03 17:46:05              50.861650   \n",
       "142  2023-05-03 17:40:41  2023-05-03 17:46:05              50.861650   \n",
       "143  2023-05-13 11:26:53  2023-05-13 11:50:12              50.885531   \n",
       "144  2023-05-13 11:26:54  2023-05-13 11:50:12              50.885531   \n",
       "145  2023-05-13 23:28:43  2023-05-13 23:37:00              50.856026   \n",
       "\n",
       "     Longitude intervention  Response Time  \n",
       "0                  4.708210          547.0  \n",
       "1                  4.708210          535.0  \n",
       "2                  4.716699          509.0  \n",
       "3                  4.716699          507.0  \n",
       "4                  4.703247          759.0  \n",
       "..                      ...            ...  \n",
       "141                4.681370          439.0  \n",
       "142                4.681370          324.0  \n",
       "143                4.684591         1399.0  \n",
       "144                4.684591         1398.0  \n",
       "145                4.695739          497.0  \n",
       "\n",
       "[146 rows x 5 columns]"
      ]
     },
     "execution_count": 3,
     "metadata": {},
     "output_type": "execute_result"
    }
   ],
   "source": [
    "# display df \n",
    "df_interventions"
   ]
  },
  {
   "cell_type": "code",
   "execution_count": 19,
   "metadata": {},
   "outputs": [],
   "source": [
    "# save the patient locations in a dataframe \n",
    "# save longitude and latitude of patient to tuple \n",
    "patient_longitudes = df_interventions['Longitude intervention'].values\n",
    "patient_latitudes = df_interventions['Latitude intervention'].values\n",
    "\n",
    "# zip to one tuple \n",
    "patient = list(zip(patient_longitudes, patient_latitudes))"
   ]
  },
  {
   "cell_type": "code",
   "execution_count": 25,
   "metadata": {},
   "outputs": [
    {
     "name": "stdout",
     "output_type": "stream",
     "text": [
      "[(4.70821, 50.861866), (4.70821, 50.861866), (4.716699, 50.873174), (4.716699, 50.873174), (4.703247, 50.92814), (4.703247, 50.92814), (4.730246, 50.87455), (4.730246, 50.87455), (4.696672, 50.879098), (4.705947, 50.886687), (4.705947, 50.886687), (4.690584, 50.89003), (4.690584, 50.89003), (4.692755, 50.865466), (4.700683, 50.87929), (4.700683, 50.87929), (4.681497, 50.854151), (4.698357, 50.880213), (4.698357, 50.880213), (4.684785, 50.879319), (4.700753, 50.887833), (4.700753, 50.887833), (4.699796, 50.87634), (4.699796, 50.87634), (4.700977, 50.883089), (4.695717, 50.855068), (4.695717, 50.855068), (4.67431, 50.877462), (4.698691, 50.865606), (4.698691, 50.865606), (4.688853, 50.879023), (4.694036, 50.8606), (4.694036, 50.8606), (4.736733, 50.862799), (4.733566, 50.898585), (4.738449, 50.901604), (4.738449, 50.901604), (4.698003, 50.868334), (4.698003, 50.868334), (4.712916, 50.869559), (4.712916, 50.869559), (4.693243, 50.885472), (4.693243, 50.885472), (4.734176, 50.878237), (4.734176, 50.878237), (4.715765, 50.877798), (4.715765, 50.877798), (4.700611, 50.877705), (4.700611, 50.877705), (4.712741, 50.876974), (4.712741, 50.876974), (4.700399, 50.923948), (4.700399, 50.923948), (4.71539, 50.88122), (4.71539, 50.88122), (4.71745, 50.874271), (4.71745, 50.874271), (4.69952, 50.866911), (4.69952, 50.866911), (4.711828, 50.871651), (4.711828, 50.871651), (4.730961, 50.850728), (4.663558, 50.876016), (4.663558, 50.876016), (4.735979, 50.888449), (4.735979, 50.888449), (4.728948, 50.868191), (4.728948, 50.868191), (4.698691, 50.865606), (4.698691, 50.865606), (4.674596, 50.871597), (4.674596, 50.871597), (4.674596, 50.871597), (4.735139, 50.879159), (4.735139, 50.879159), (4.70586, 50.881605), (4.70586, 50.881605), (4.702134, 50.897263), (4.702134, 50.897263), (4.657334, 50.861426), (4.657334, 50.861426), (4.712731, 50.879035), (4.712731, 50.879035), (4.711828, 50.871651), (4.711828, 50.871651), (4.711256, 50.871245), (4.728813, 50.898917), (4.728813, 50.898917), (4.729334, 50.886379), (4.729334, 50.886379), (4.706287, 50.868107), (4.706287, 50.868107), (4.724486, 50.875134), (4.724486, 50.875134), (4.663458, 50.872624), (4.663458, 50.872624), (4.724385, 50.888254), (4.724385, 50.888254), (4.710888, 50.862229), (4.710888, 50.862229), (4.741317, 50.886149), (4.741317, 50.886149), (4.723903, 50.92664), (4.723903, 50.92664), (4.7093, 50.870361), (4.7093, 50.870361), (4.715466, 50.881037), (4.715466, 50.881037), (4.693275, 50.875681), (4.695989, 50.865144), (4.695989, 50.865144), (4.726644, 50.873674), (4.726644, 50.873674), (4.72935, 50.900387), (4.690636, 50.876538), (4.690636, 50.876538), (4.704618, 50.887542), (4.704618, 50.887542), (4.722256, 50.880999), (4.73756, 50.862344), (4.73756, 50.862344), (4.698691, 50.865606), (4.698691, 50.865606), (4.722139, 50.86866), (4.736791, 50.863533), (4.736791, 50.863533), (4.736791, 50.863533), (4.714931, 50.880851), (4.714931, 50.880851), (4.696876, 50.893705), (4.726534, 50.887677), (4.726534, 50.887677), (4.717382, 50.882139), (4.717382, 50.882139), (4.735101, 50.876686), (4.699619, 50.879152), (4.699619, 50.879152), (4.653801, 50.856571), (4.653801, 50.856571), (4.69352, 50.85851), (4.69352, 50.85851), (4.68137, 50.86165), (4.68137, 50.86165), (4.684591, 50.885531), (4.684591, 50.885531), (4.695739, 50.856026)]\n"
     ]
    }
   ],
   "source": [
    "# display pateint\n",
    "print(patient)"
   ]
  },
  {
   "cell_type": "code",
   "execution_count": 20,
   "metadata": {},
   "outputs": [],
   "source": [
    "# import dataset with the locations of the AEDs \n",
    "df_aed = pd.read_csv('filtered_AED_loc.csv')"
   ]
  },
  {
   "cell_type": "code",
   "execution_count": 21,
   "metadata": {},
   "outputs": [],
   "source": [
    "# save longitude and latitude of AED to tuple \n",
    "AED_longitudes = df_aed['longitude'].values\n",
    "AED_latitudes = df_aed['latitude'].values\n",
    "\n",
    "# zip to one tuple \n",
    "AED = list(zip(AED_longitudes, AED_latitudes))"
   ]
  },
  {
   "cell_type": "code",
   "execution_count": 22,
   "metadata": {},
   "outputs": [],
   "source": [
    "# transform aed to dataframe with headings\n",
    "AED = pd.DataFrame(AED, columns=['longitude', 'latitude'])"
   ]
  },
  {
   "cell_type": "code",
   "execution_count": 23,
   "metadata": {},
   "outputs": [
    {
     "data": {
      "text/html": [
       "<div>\n",
       "<style scoped>\n",
       "    .dataframe tbody tr th:only-of-type {\n",
       "        vertical-align: middle;\n",
       "    }\n",
       "\n",
       "    .dataframe tbody tr th {\n",
       "        vertical-align: top;\n",
       "    }\n",
       "\n",
       "    .dataframe thead th {\n",
       "        text-align: right;\n",
       "    }\n",
       "</style>\n",
       "<table border=\"1\" class=\"dataframe\">\n",
       "  <thead>\n",
       "    <tr style=\"text-align: right;\">\n",
       "      <th></th>\n",
       "      <th>longitude</th>\n",
       "      <th>latitude</th>\n",
       "    </tr>\n",
       "  </thead>\n",
       "  <tbody>\n",
       "    <tr>\n",
       "      <th>0</th>\n",
       "      <td>4.737563</td>\n",
       "      <td>50.847642</td>\n",
       "    </tr>\n",
       "    <tr>\n",
       "      <th>1</th>\n",
       "      <td>4.696771</td>\n",
       "      <td>50.882662</td>\n",
       "    </tr>\n",
       "    <tr>\n",
       "      <th>2</th>\n",
       "      <td>4.705893</td>\n",
       "      <td>50.891915</td>\n",
       "    </tr>\n",
       "    <tr>\n",
       "      <th>3</th>\n",
       "      <td>4.718684</td>\n",
       "      <td>50.893646</td>\n",
       "    </tr>\n",
       "    <tr>\n",
       "      <th>4</th>\n",
       "      <td>4.693191</td>\n",
       "      <td>50.869499</td>\n",
       "    </tr>\n",
       "    <tr>\n",
       "      <th>...</th>\n",
       "      <td>...</td>\n",
       "      <td>...</td>\n",
       "    </tr>\n",
       "    <tr>\n",
       "      <th>134</th>\n",
       "      <td>4.676583</td>\n",
       "      <td>50.865563</td>\n",
       "    </tr>\n",
       "    <tr>\n",
       "      <th>135</th>\n",
       "      <td>4.676583</td>\n",
       "      <td>50.865563</td>\n",
       "    </tr>\n",
       "    <tr>\n",
       "      <th>136</th>\n",
       "      <td>4.711970</td>\n",
       "      <td>50.868075</td>\n",
       "    </tr>\n",
       "    <tr>\n",
       "      <th>137</th>\n",
       "      <td>4.748855</td>\n",
       "      <td>50.870141</td>\n",
       "    </tr>\n",
       "    <tr>\n",
       "      <th>138</th>\n",
       "      <td>4.730367</td>\n",
       "      <td>50.850719</td>\n",
       "    </tr>\n",
       "  </tbody>\n",
       "</table>\n",
       "<p>139 rows × 2 columns</p>\n",
       "</div>"
      ],
      "text/plain": [
       "     longitude   latitude\n",
       "0     4.737563  50.847642\n",
       "1     4.696771  50.882662\n",
       "2     4.705893  50.891915\n",
       "3     4.718684  50.893646\n",
       "4     4.693191  50.869499\n",
       "..         ...        ...\n",
       "134   4.676583  50.865563\n",
       "135   4.676583  50.865563\n",
       "136   4.711970  50.868075\n",
       "137   4.748855  50.870141\n",
       "138   4.730367  50.850719\n",
       "\n",
       "[139 rows x 2 columns]"
      ]
     },
     "execution_count": 23,
     "metadata": {},
     "output_type": "execute_result"
    }
   ],
   "source": [
    "# display aed\n",
    "AED"
   ]
  },
  {
   "cell_type": "code",
   "execution_count": 26,
   "metadata": {},
   "outputs": [],
   "source": [
    "# import data for first responder locations \n",
    "# Load the CSV file into a DataFrame\n",
    "FR_05 = pd.read_csv('0.5%_FRs.csv')\n",
    "FR_1 = pd.read_csv('1%_FRs.csv')"
   ]
  },
  {
   "cell_type": "code",
   "execution_count": 27,
   "metadata": {},
   "outputs": [
    {
     "data": {
      "text/html": [
       "<div>\n",
       "<style scoped>\n",
       "    .dataframe tbody tr th:only-of-type {\n",
       "        vertical-align: middle;\n",
       "    }\n",
       "\n",
       "    .dataframe tbody tr th {\n",
       "        vertical-align: top;\n",
       "    }\n",
       "\n",
       "    .dataframe thead th {\n",
       "        text-align: right;\n",
       "    }\n",
       "</style>\n",
       "<table border=\"1\" class=\"dataframe\">\n",
       "  <thead>\n",
       "    <tr style=\"text-align: right;\">\n",
       "      <th></th>\n",
       "      <th>x</th>\n",
       "      <th>y</th>\n",
       "    </tr>\n",
       "  </thead>\n",
       "  <tbody>\n",
       "    <tr>\n",
       "      <th>0</th>\n",
       "      <td>4.700665</td>\n",
       "      <td>50.878356</td>\n",
       "    </tr>\n",
       "    <tr>\n",
       "      <th>1</th>\n",
       "      <td>4.700855</td>\n",
       "      <td>50.878922</td>\n",
       "    </tr>\n",
       "    <tr>\n",
       "      <th>2</th>\n",
       "      <td>4.700938</td>\n",
       "      <td>50.878428</td>\n",
       "    </tr>\n",
       "    <tr>\n",
       "      <th>3</th>\n",
       "      <td>4.702417</td>\n",
       "      <td>50.878322</td>\n",
       "    </tr>\n",
       "    <tr>\n",
       "      <th>4</th>\n",
       "      <td>4.698315</td>\n",
       "      <td>50.881002</td>\n",
       "    </tr>\n",
       "    <tr>\n",
       "      <th>...</th>\n",
       "      <td>...</td>\n",
       "      <td>...</td>\n",
       "    </tr>\n",
       "    <tr>\n",
       "      <th>511</th>\n",
       "      <td>4.690463</td>\n",
       "      <td>50.933269</td>\n",
       "    </tr>\n",
       "    <tr>\n",
       "      <th>512</th>\n",
       "      <td>4.692093</td>\n",
       "      <td>50.931006</td>\n",
       "    </tr>\n",
       "    <tr>\n",
       "      <th>513</th>\n",
       "      <td>4.677287</td>\n",
       "      <td>50.932955</td>\n",
       "    </tr>\n",
       "    <tr>\n",
       "      <th>514</th>\n",
       "      <td>4.694451</td>\n",
       "      <td>50.935168</td>\n",
       "    </tr>\n",
       "    <tr>\n",
       "      <th>515</th>\n",
       "      <td>4.711421</td>\n",
       "      <td>50.930805</td>\n",
       "    </tr>\n",
       "  </tbody>\n",
       "</table>\n",
       "<p>516 rows × 2 columns</p>\n",
       "</div>"
      ],
      "text/plain": [
       "            x          y\n",
       "0    4.700665  50.878356\n",
       "1    4.700855  50.878922\n",
       "2    4.700938  50.878428\n",
       "3    4.702417  50.878322\n",
       "4    4.698315  50.881002\n",
       "..        ...        ...\n",
       "511  4.690463  50.933269\n",
       "512  4.692093  50.931006\n",
       "513  4.677287  50.932955\n",
       "514  4.694451  50.935168\n",
       "515  4.711421  50.930805\n",
       "\n",
       "[516 rows x 2 columns]"
      ]
     },
     "execution_count": 27,
     "metadata": {},
     "output_type": "execute_result"
    }
   ],
   "source": [
    "FR_05"
   ]
  },
  {
   "cell_type": "code",
   "execution_count": 39,
   "metadata": {},
   "outputs": [],
   "source": [
    "Patient = {\n",
    "    'longitude': 4.690620,\n",
    "    'latitude': 50.862980\n",
    "}\n",
    "\n",
    "Patient = pd.DataFrame([Patient])\n",
    "Patient = Patient.transpose()"
   ]
  },
  {
   "cell_type": "code",
   "execution_count": 48,
   "metadata": {},
   "outputs": [],
   "source": [
    "responders = {\n",
    "    'coordinates': [(4.736563, 50.877642), (4.736763, 50.878742)]\n",
    "}"
   ]
  },
  {
   "cell_type": "code",
   "execution_count": 49,
   "metadata": {},
   "outputs": [
    {
     "name": "stdout",
     "output_type": "stream",
     "text": [
      "Transformed dictionary:\n",
      "{'coordinates': [(4.737563, 50.8476423), (4.6967705, 50.8826624), (4.7058934, 50.89191539999999), (4.7186837, 50.8936461), (4.6931907, 50.869499), (4.7017286, 50.8743307), (4.7127525, 50.8670637), (4.682384799999999, 50.8778935), (4.6964705, 50.8713027), (4.7127446, 50.867102), (4.7168358, 50.8769717), (4.701441099999999, 50.88228909999999), (4.7062523, 50.8958652), (4.7156895, 50.8813682), (4.7330828, 50.85112360000001), (4.734445700000001, 50.8823756), (4.724020299999999, 50.9281215), (4.6916883, 50.8705595), (4.7458358, 50.8644573), (4.6958563, 50.8470644), (4.7116128, 50.867677), (4.7515505, 50.8883109), (4.680962699999999, 50.8839064), (4.7106457, 50.8858827), (4.7146301, 50.8841416), (4.712077799999999, 50.8786396), (4.7152536, 50.874393), (4.7075612, 50.8933532), (4.7031832, 50.8816687), (4.7130637, 50.9108976), (4.7022043, 50.90354660000001), (4.7313633, 50.8845695), (4.743396499999999, 50.8674498), (4.704471000000001, 50.8560364), (4.7063333, 50.92585949999999), (4.720390099999999, 50.8988012), (4.676585999999999, 50.8718562), (4.7160817, 50.8797741), (4.6939597, 50.868071), (4.720390099999999, 50.8988012), (4.714348600000001, 50.8744331), (4.711944799999999, 50.8813563), (4.7300619, 50.8524681), (4.718262999999999, 50.8834141), (4.7069755, 50.8782258), (4.6753669, 50.8627473), (4.668996, 50.8782805), (4.703816, 50.874094), (4.7041349, 50.8776436), (4.7082684, 50.8740913), (4.7031955, 50.8763292), (4.732186599999999, 50.8478666), (4.7005637, 50.8778857), (4.7275933, 50.8764651), (4.7047368, 50.8803956), (4.7057077, 50.8555502), (4.7343369, 50.8528664), (4.6723105, 50.8628119), (4.6723105, 50.8628119), (4.6723105, 50.8628119), (4.7370091, 50.8444703), (4.7232384, 50.84761169999999), (4.7054199, 50.8830582), (4.7019874, 50.8804127), (4.7311424, 50.8450309), (4.7058934, 50.89191539999999), (4.728376, 50.8553066), (4.728376, 50.8553066), (4.7056545, 50.8795773), (4.7086963, 50.8809818), (4.6775291, 50.885645), (4.716279, 50.8791637), (4.6738647, 50.9050354), (4.7137954, 50.8774564), (4.7303674, 50.8507187), (4.7381287, 50.84546049999999), (4.726769399999999, 50.831734), (4.7253871, 50.8468318), (4.7081308, 50.8747859), (4.6861822, 50.8624668), (4.6753669, 50.8627473), (4.6723105, 50.8628119), (4.7153244, 50.8508645), (4.729934, 50.850768), (4.7045671, 50.8789497), (4.734019, 50.8503127), (4.7203215, 50.854781), (4.704496199999999, 50.8859605), (4.700369999999999, 50.8793), (4.704839, 50.8811427), (4.712977, 50.8784211), (4.712295, 50.8617055), (4.7255083, 50.8528969), (4.7096178, 50.88150109999999), (4.7248107, 50.9283047), (4.7132325, 50.88081529999999), (4.6939597, 50.868071), (4.6939597, 50.868071), (4.714049, 50.8827386), (4.7061156, 50.8741756), (4.729686399999999, 50.8869565), (4.734271199999999, 50.8919487), (4.737563, 50.8476423), (4.6967705, 50.8826624), (4.7311424, 50.8450309), (4.667943000000001, 50.8648678), (4.7515505, 50.8883109), (4.7062523, 50.8958652), (4.6710378, 50.8654367), (4.725385, 50.829584), (4.7365227, 50.8455664), (4.70195, 50.92624), (4.7220448, 50.8457862), (4.716440299999999, 50.8465918), (4.728626999999999, 50.845606), (4.728626999999999, 50.845606), (4.7020005, 50.8808505), (4.7182558, 50.848691), (4.7007067, 50.8851678), (4.7283621, 50.8514371), (4.7063333, 50.92585949999999), (4.6939597, 50.868071), (4.6939597, 50.868071), (4.6939597, 50.868071), (4.724752100000001, 50.8495093), (4.7080615, 50.8758104), (4.727723999999999, 50.8502816), (4.725275, 50.8742581), (4.709544699999999, 50.877337), (4.6611883, 50.8758335), (4.731698199999999, 50.8557424), (4.7019874, 50.8804127), (4.7183111, 50.8510697), (4.7303674, 50.8507187), (4.6765833, 50.8655626), (4.6765833, 50.8655626), (4.7119704, 50.8680749), (4.7488553, 50.8701412), (4.7303674, 50.8507187)]}\n"
     ]
    }
   ],
   "source": [
    "# Combine 'longitude' and 'latitude' into a list of tuples\n",
    "coordinates = list(zip(AED['longitude'], AED['latitude']))\n",
    "# Create the dictionary\n",
    "responders = {'coordinates': coordinates}\n",
    "\n",
    "print(\"Transformed dictionary:\")\n",
    "print(responders)"
   ]
  },
  {
   "cell_type": "code",
   "execution_count": 50,
   "metadata": {},
   "outputs": [
    {
     "name": "stdout",
     "output_type": "stream",
     "text": [
      "Duration for responders found\n",
      "You did a lot take a 30 second break.\n"
     ]
    },
    {
     "ename": "KeyError",
     "evalue": "'AED_coordinates'",
     "output_type": "error",
     "traceback": [
      "\u001b[0;31m---------------------------------------------------------------------------\u001b[0m",
      "\u001b[0;31mKeyError\u001b[0m                                  Traceback (most recent call last)",
      "File \u001b[0;32m~/MDA/.conda/lib/python3.9/site-packages/pandas/core/indexes/base.py:3805\u001b[0m, in \u001b[0;36mIndex.get_loc\u001b[0;34m(self, key)\u001b[0m\n\u001b[1;32m   3804\u001b[0m \u001b[38;5;28;01mtry\u001b[39;00m:\n\u001b[0;32m-> 3805\u001b[0m     \u001b[38;5;28;01mreturn\u001b[39;00m \u001b[38;5;28;43mself\u001b[39;49m\u001b[38;5;241;43m.\u001b[39;49m\u001b[43m_engine\u001b[49m\u001b[38;5;241;43m.\u001b[39;49m\u001b[43mget_loc\u001b[49m\u001b[43m(\u001b[49m\u001b[43mcasted_key\u001b[49m\u001b[43m)\u001b[49m\n\u001b[1;32m   3806\u001b[0m \u001b[38;5;28;01mexcept\u001b[39;00m \u001b[38;5;167;01mKeyError\u001b[39;00m \u001b[38;5;28;01mas\u001b[39;00m err:\n",
      "File \u001b[0;32mindex.pyx:167\u001b[0m, in \u001b[0;36mpandas._libs.index.IndexEngine.get_loc\u001b[0;34m()\u001b[0m\n",
      "File \u001b[0;32mindex.pyx:196\u001b[0m, in \u001b[0;36mpandas._libs.index.IndexEngine.get_loc\u001b[0;34m()\u001b[0m\n",
      "File \u001b[0;32mpandas/_libs/hashtable_class_helper.pxi:7081\u001b[0m, in \u001b[0;36mpandas._libs.hashtable.PyObjectHashTable.get_item\u001b[0;34m()\u001b[0m\n",
      "File \u001b[0;32mpandas/_libs/hashtable_class_helper.pxi:7089\u001b[0m, in \u001b[0;36mpandas._libs.hashtable.PyObjectHashTable.get_item\u001b[0;34m()\u001b[0m\n",
      "\u001b[0;31mKeyError\u001b[0m: 'AED_coordinates'",
      "\nThe above exception was the direct cause of the following exception:\n",
      "\u001b[0;31mKeyError\u001b[0m                                  Traceback (most recent call last)",
      "Cell \u001b[0;32mIn[50], line 2\u001b[0m\n\u001b[1;32m      1\u001b[0m \u001b[38;5;66;03m# simulate the repsonse time \u001b[39;00m\n\u001b[0;32m----> 2\u001b[0m df_resp_time \u001b[38;5;241m=\u001b[39m \u001b[43msim\u001b[49m\u001b[38;5;241;43m.\u001b[39;49m\u001b[43mfastest_comparisson\u001b[49m\u001b[43m(\u001b[49m\u001b[43mPatient\u001b[49m\u001b[43m,\u001b[49m\u001b[43m \u001b[49m\u001b[43mAED\u001b[49m\u001b[43m,\u001b[49m\u001b[43m \u001b[49m\u001b[43mresponders\u001b[49m\u001b[43m,\u001b[49m\u001b[43m \u001b[49m\u001b[43mAED\u001b[49m\u001b[43m)\u001b[49m\n",
      "File \u001b[0;32m~/MDA/AED-Route-Optimization-MDA-Project/Simulation_Class.py:240\u001b[0m, in \u001b[0;36msimulation.fastest_comparisson\u001b[0;34m(self, Patient, Vector_loc, Responder_loc, AED_loc)\u001b[0m\n\u001b[1;32m    237\u001b[0m AED_df\u001b[38;5;241m.\u001b[39mrename(columns \u001b[38;5;241m=\u001b[39m {\u001b[38;5;124m'\u001b[39m\u001b[38;5;124mcoordinates\u001b[39m\u001b[38;5;124m'\u001b[39m:\u001b[38;5;124m'\u001b[39m\u001b[38;5;124mAED_coordinates\u001b[39m\u001b[38;5;124m'\u001b[39m}, inplace \u001b[38;5;241m=\u001b[39m \u001b[38;5;28;01mTrue\u001b[39;00m)\n\u001b[1;32m    238\u001b[0m df_merged \u001b[38;5;241m=\u001b[39m pd\u001b[38;5;241m.\u001b[39mmerge(subset_responder\u001b[38;5;241m.\u001b[39massign(key\u001b[38;5;241m=\u001b[39m\u001b[38;5;241m1\u001b[39m), AED_df\u001b[38;5;241m.\u001b[39massign(key\u001b[38;5;241m=\u001b[39m\u001b[38;5;241m1\u001b[39m),\n\u001b[1;32m    239\u001b[0m                 on\u001b[38;5;241m=\u001b[39m\u001b[38;5;124m'\u001b[39m\u001b[38;5;124mkey\u001b[39m\u001b[38;5;124m'\u001b[39m)\u001b[38;5;241m.\u001b[39mdrop(\u001b[38;5;124m'\u001b[39m\u001b[38;5;124mkey\u001b[39m\u001b[38;5;124m'\u001b[39m, axis\u001b[38;5;241m=\u001b[39m\u001b[38;5;241m1\u001b[39m)\n\u001b[0;32m--> 240\u001b[0m df_merged[\u001b[38;5;124m'\u001b[39m\u001b[38;5;124mdist_AED\u001b[39m\u001b[38;5;124m'\u001b[39m] \u001b[38;5;241m=\u001b[39m \u001b[43mdf_merged\u001b[49m\u001b[38;5;241;43m.\u001b[39;49m\u001b[43mapply\u001b[49m\u001b[43m(\u001b[49m\u001b[38;5;28;43;01mlambda\u001b[39;49;00m\u001b[43m \u001b[49m\u001b[43mrow\u001b[49m\u001b[43m:\u001b[49m\u001b[43m \u001b[49m\u001b[43mgeopy\u001b[49m\u001b[38;5;241;43m.\u001b[39;49m\u001b[43mdistance\u001b[49m\u001b[38;5;241;43m.\u001b[39;49m\u001b[43mdistance\u001b[49m\u001b[43m(\u001b[49m\u001b[43mrow\u001b[49m\u001b[43m[\u001b[49m\u001b[38;5;124;43m'\u001b[39;49m\u001b[38;5;124;43mResponder_loc\u001b[39;49m\u001b[38;5;124;43m'\u001b[39;49m\u001b[43m]\u001b[49m\u001b[43m,\u001b[49m\u001b[43m \u001b[49m\u001b[43mrow\u001b[49m\u001b[43m[\u001b[49m\u001b[38;5;124;43m'\u001b[39;49m\u001b[38;5;124;43mAED_coordinates\u001b[39;49m\u001b[38;5;124;43m'\u001b[39;49m\u001b[43m]\u001b[49m\u001b[43m)\u001b[49m\u001b[38;5;241;43m.\u001b[39;49m\u001b[43mmeters\u001b[49m\u001b[43m,\u001b[49m\u001b[43m \u001b[49m\u001b[43maxis\u001b[49m\u001b[38;5;241;43m=\u001b[39;49m\u001b[38;5;241;43m1\u001b[39;49m\u001b[43m)\u001b[49m\n\u001b[1;32m    242\u001b[0m df_merged[\u001b[38;5;124m'\u001b[39m\u001b[38;5;124mduration_through_AED\u001b[39m\u001b[38;5;124m'\u001b[39m]\u001b[38;5;241m=\u001b[39m[\u001b[38;5;28mself\u001b[39m\u001b[38;5;241m.\u001b[39mdirections([df_merged[\u001b[38;5;124m'\u001b[39m\u001b[38;5;124mResponder_loc\u001b[39m\u001b[38;5;124m'\u001b[39m][i], df_merged[\u001b[38;5;124m'\u001b[39m\u001b[38;5;124mAED_coordinates\u001b[39m\u001b[38;5;124m'\u001b[39m][i],\n\u001b[1;32m    243\u001b[0m                                                     df_merged[\u001b[38;5;124m'\u001b[39m\u001b[38;5;124mPatient_loc\u001b[39m\u001b[38;5;124m'\u001b[39m][i]], sleep \u001b[38;5;241m=\u001b[39m \u001b[38;5;241m2.0\u001b[39m)[\u001b[38;5;124m'\u001b[39m\u001b[38;5;124mduration\u001b[39m\u001b[38;5;124m'\u001b[39m]  \u001b[38;5;28;01mif\u001b[39;00m df_merged[\u001b[38;5;124m'\u001b[39m\u001b[38;5;124mdist_AED\u001b[39m\u001b[38;5;124m'\u001b[39m][i] \u001b[38;5;241m<\u001b[39m \u001b[38;5;241m700\u001b[39m \u001b[38;5;28;01melse\u001b[39;00m \u001b[38;5;241m5000\u001b[39m \u001b[38;5;28;01mfor\u001b[39;00m i \u001b[38;5;129;01min\u001b[39;00m \u001b[38;5;28mrange\u001b[39m(\u001b[38;5;28mlen\u001b[39m(df_merged[\u001b[38;5;124m'\u001b[39m\u001b[38;5;124mdist_AED\u001b[39m\u001b[38;5;124m'\u001b[39m]))]\n\u001b[1;32m    244\u001b[0m \u001b[38;5;28mprint\u001b[39m(\u001b[38;5;124m'\u001b[39m\u001b[38;5;124mDuration for AEDs found\u001b[39m\u001b[38;5;124m'\u001b[39m)\n",
      "File \u001b[0;32m~/MDA/.conda/lib/python3.9/site-packages/pandas/core/frame.py:10361\u001b[0m, in \u001b[0;36mDataFrame.apply\u001b[0;34m(self, func, axis, raw, result_type, args, by_row, engine, engine_kwargs, **kwargs)\u001b[0m\n\u001b[1;32m  10347\u001b[0m \u001b[38;5;28;01mfrom\u001b[39;00m \u001b[38;5;21;01mpandas\u001b[39;00m\u001b[38;5;21;01m.\u001b[39;00m\u001b[38;5;21;01mcore\u001b[39;00m\u001b[38;5;21;01m.\u001b[39;00m\u001b[38;5;21;01mapply\u001b[39;00m \u001b[38;5;28;01mimport\u001b[39;00m frame_apply\n\u001b[1;32m  10349\u001b[0m op \u001b[38;5;241m=\u001b[39m frame_apply(\n\u001b[1;32m  10350\u001b[0m     \u001b[38;5;28mself\u001b[39m,\n\u001b[1;32m  10351\u001b[0m     func\u001b[38;5;241m=\u001b[39mfunc,\n\u001b[0;32m   (...)\u001b[0m\n\u001b[1;32m  10359\u001b[0m     kwargs\u001b[38;5;241m=\u001b[39mkwargs,\n\u001b[1;32m  10360\u001b[0m )\n\u001b[0;32m> 10361\u001b[0m \u001b[38;5;28;01mreturn\u001b[39;00m \u001b[43mop\u001b[49m\u001b[38;5;241;43m.\u001b[39;49m\u001b[43mapply\u001b[49m\u001b[43m(\u001b[49m\u001b[43m)\u001b[49m\u001b[38;5;241m.\u001b[39m__finalize__(\u001b[38;5;28mself\u001b[39m, method\u001b[38;5;241m=\u001b[39m\u001b[38;5;124m\"\u001b[39m\u001b[38;5;124mapply\u001b[39m\u001b[38;5;124m\"\u001b[39m)\n",
      "File \u001b[0;32m~/MDA/.conda/lib/python3.9/site-packages/pandas/core/apply.py:916\u001b[0m, in \u001b[0;36mFrameApply.apply\u001b[0;34m(self)\u001b[0m\n\u001b[1;32m    913\u001b[0m \u001b[38;5;28;01melif\u001b[39;00m \u001b[38;5;28mself\u001b[39m\u001b[38;5;241m.\u001b[39mraw:\n\u001b[1;32m    914\u001b[0m     \u001b[38;5;28;01mreturn\u001b[39;00m \u001b[38;5;28mself\u001b[39m\u001b[38;5;241m.\u001b[39mapply_raw(engine\u001b[38;5;241m=\u001b[39m\u001b[38;5;28mself\u001b[39m\u001b[38;5;241m.\u001b[39mengine, engine_kwargs\u001b[38;5;241m=\u001b[39m\u001b[38;5;28mself\u001b[39m\u001b[38;5;241m.\u001b[39mengine_kwargs)\n\u001b[0;32m--> 916\u001b[0m \u001b[38;5;28;01mreturn\u001b[39;00m \u001b[38;5;28;43mself\u001b[39;49m\u001b[38;5;241;43m.\u001b[39;49m\u001b[43mapply_standard\u001b[49m\u001b[43m(\u001b[49m\u001b[43m)\u001b[49m\n",
      "File \u001b[0;32m~/MDA/.conda/lib/python3.9/site-packages/pandas/core/apply.py:1063\u001b[0m, in \u001b[0;36mFrameApply.apply_standard\u001b[0;34m(self)\u001b[0m\n\u001b[1;32m   1061\u001b[0m \u001b[38;5;28;01mdef\u001b[39;00m \u001b[38;5;21mapply_standard\u001b[39m(\u001b[38;5;28mself\u001b[39m):\n\u001b[1;32m   1062\u001b[0m     \u001b[38;5;28;01mif\u001b[39;00m \u001b[38;5;28mself\u001b[39m\u001b[38;5;241m.\u001b[39mengine \u001b[38;5;241m==\u001b[39m \u001b[38;5;124m\"\u001b[39m\u001b[38;5;124mpython\u001b[39m\u001b[38;5;124m\"\u001b[39m:\n\u001b[0;32m-> 1063\u001b[0m         results, res_index \u001b[38;5;241m=\u001b[39m \u001b[38;5;28;43mself\u001b[39;49m\u001b[38;5;241;43m.\u001b[39;49m\u001b[43mapply_series_generator\u001b[49m\u001b[43m(\u001b[49m\u001b[43m)\u001b[49m\n\u001b[1;32m   1064\u001b[0m     \u001b[38;5;28;01melse\u001b[39;00m:\n\u001b[1;32m   1065\u001b[0m         results, res_index \u001b[38;5;241m=\u001b[39m \u001b[38;5;28mself\u001b[39m\u001b[38;5;241m.\u001b[39mapply_series_numba()\n",
      "File \u001b[0;32m~/MDA/.conda/lib/python3.9/site-packages/pandas/core/apply.py:1081\u001b[0m, in \u001b[0;36mFrameApply.apply_series_generator\u001b[0;34m(self)\u001b[0m\n\u001b[1;32m   1078\u001b[0m \u001b[38;5;28;01mwith\u001b[39;00m option_context(\u001b[38;5;124m\"\u001b[39m\u001b[38;5;124mmode.chained_assignment\u001b[39m\u001b[38;5;124m\"\u001b[39m, \u001b[38;5;28;01mNone\u001b[39;00m):\n\u001b[1;32m   1079\u001b[0m     \u001b[38;5;28;01mfor\u001b[39;00m i, v \u001b[38;5;129;01min\u001b[39;00m \u001b[38;5;28menumerate\u001b[39m(series_gen):\n\u001b[1;32m   1080\u001b[0m         \u001b[38;5;66;03m# ignore SettingWithCopy here in case the user mutates\u001b[39;00m\n\u001b[0;32m-> 1081\u001b[0m         results[i] \u001b[38;5;241m=\u001b[39m \u001b[38;5;28;43mself\u001b[39;49m\u001b[38;5;241;43m.\u001b[39;49m\u001b[43mfunc\u001b[49m\u001b[43m(\u001b[49m\u001b[43mv\u001b[49m\u001b[43m,\u001b[49m\u001b[43m \u001b[49m\u001b[38;5;241;43m*\u001b[39;49m\u001b[38;5;28;43mself\u001b[39;49m\u001b[38;5;241;43m.\u001b[39;49m\u001b[43margs\u001b[49m\u001b[43m,\u001b[49m\u001b[43m \u001b[49m\u001b[38;5;241;43m*\u001b[39;49m\u001b[38;5;241;43m*\u001b[39;49m\u001b[38;5;28;43mself\u001b[39;49m\u001b[38;5;241;43m.\u001b[39;49m\u001b[43mkwargs\u001b[49m\u001b[43m)\u001b[49m\n\u001b[1;32m   1082\u001b[0m         \u001b[38;5;28;01mif\u001b[39;00m \u001b[38;5;28misinstance\u001b[39m(results[i], ABCSeries):\n\u001b[1;32m   1083\u001b[0m             \u001b[38;5;66;03m# If we have a view on v, we need to make a copy because\u001b[39;00m\n\u001b[1;32m   1084\u001b[0m             \u001b[38;5;66;03m#  series_generator will swap out the underlying data\u001b[39;00m\n\u001b[1;32m   1085\u001b[0m             results[i] \u001b[38;5;241m=\u001b[39m results[i]\u001b[38;5;241m.\u001b[39mcopy(deep\u001b[38;5;241m=\u001b[39m\u001b[38;5;28;01mFalse\u001b[39;00m)\n",
      "File \u001b[0;32m~/MDA/AED-Route-Optimization-MDA-Project/Simulation_Class.py:240\u001b[0m, in \u001b[0;36msimulation.fastest_comparisson.<locals>.<lambda>\u001b[0;34m(row)\u001b[0m\n\u001b[1;32m    237\u001b[0m AED_df\u001b[38;5;241m.\u001b[39mrename(columns \u001b[38;5;241m=\u001b[39m {\u001b[38;5;124m'\u001b[39m\u001b[38;5;124mcoordinates\u001b[39m\u001b[38;5;124m'\u001b[39m:\u001b[38;5;124m'\u001b[39m\u001b[38;5;124mAED_coordinates\u001b[39m\u001b[38;5;124m'\u001b[39m}, inplace \u001b[38;5;241m=\u001b[39m \u001b[38;5;28;01mTrue\u001b[39;00m)\n\u001b[1;32m    238\u001b[0m df_merged \u001b[38;5;241m=\u001b[39m pd\u001b[38;5;241m.\u001b[39mmerge(subset_responder\u001b[38;5;241m.\u001b[39massign(key\u001b[38;5;241m=\u001b[39m\u001b[38;5;241m1\u001b[39m), AED_df\u001b[38;5;241m.\u001b[39massign(key\u001b[38;5;241m=\u001b[39m\u001b[38;5;241m1\u001b[39m),\n\u001b[1;32m    239\u001b[0m                 on\u001b[38;5;241m=\u001b[39m\u001b[38;5;124m'\u001b[39m\u001b[38;5;124mkey\u001b[39m\u001b[38;5;124m'\u001b[39m)\u001b[38;5;241m.\u001b[39mdrop(\u001b[38;5;124m'\u001b[39m\u001b[38;5;124mkey\u001b[39m\u001b[38;5;124m'\u001b[39m, axis\u001b[38;5;241m=\u001b[39m\u001b[38;5;241m1\u001b[39m)\n\u001b[0;32m--> 240\u001b[0m df_merged[\u001b[38;5;124m'\u001b[39m\u001b[38;5;124mdist_AED\u001b[39m\u001b[38;5;124m'\u001b[39m] \u001b[38;5;241m=\u001b[39m df_merged\u001b[38;5;241m.\u001b[39mapply(\u001b[38;5;28;01mlambda\u001b[39;00m row: geopy\u001b[38;5;241m.\u001b[39mdistance\u001b[38;5;241m.\u001b[39mdistance(row[\u001b[38;5;124m'\u001b[39m\u001b[38;5;124mResponder_loc\u001b[39m\u001b[38;5;124m'\u001b[39m], \u001b[43mrow\u001b[49m\u001b[43m[\u001b[49m\u001b[38;5;124;43m'\u001b[39;49m\u001b[38;5;124;43mAED_coordinates\u001b[39;49m\u001b[38;5;124;43m'\u001b[39;49m\u001b[43m]\u001b[49m)\u001b[38;5;241m.\u001b[39mmeters, axis\u001b[38;5;241m=\u001b[39m\u001b[38;5;241m1\u001b[39m)\n\u001b[1;32m    242\u001b[0m df_merged[\u001b[38;5;124m'\u001b[39m\u001b[38;5;124mduration_through_AED\u001b[39m\u001b[38;5;124m'\u001b[39m]\u001b[38;5;241m=\u001b[39m[\u001b[38;5;28mself\u001b[39m\u001b[38;5;241m.\u001b[39mdirections([df_merged[\u001b[38;5;124m'\u001b[39m\u001b[38;5;124mResponder_loc\u001b[39m\u001b[38;5;124m'\u001b[39m][i], df_merged[\u001b[38;5;124m'\u001b[39m\u001b[38;5;124mAED_coordinates\u001b[39m\u001b[38;5;124m'\u001b[39m][i],\n\u001b[1;32m    243\u001b[0m                                                     df_merged[\u001b[38;5;124m'\u001b[39m\u001b[38;5;124mPatient_loc\u001b[39m\u001b[38;5;124m'\u001b[39m][i]], sleep \u001b[38;5;241m=\u001b[39m \u001b[38;5;241m2.0\u001b[39m)[\u001b[38;5;124m'\u001b[39m\u001b[38;5;124mduration\u001b[39m\u001b[38;5;124m'\u001b[39m]  \u001b[38;5;28;01mif\u001b[39;00m df_merged[\u001b[38;5;124m'\u001b[39m\u001b[38;5;124mdist_AED\u001b[39m\u001b[38;5;124m'\u001b[39m][i] \u001b[38;5;241m<\u001b[39m \u001b[38;5;241m700\u001b[39m \u001b[38;5;28;01melse\u001b[39;00m \u001b[38;5;241m5000\u001b[39m \u001b[38;5;28;01mfor\u001b[39;00m i \u001b[38;5;129;01min\u001b[39;00m \u001b[38;5;28mrange\u001b[39m(\u001b[38;5;28mlen\u001b[39m(df_merged[\u001b[38;5;124m'\u001b[39m\u001b[38;5;124mdist_AED\u001b[39m\u001b[38;5;124m'\u001b[39m]))]\n\u001b[1;32m    244\u001b[0m \u001b[38;5;28mprint\u001b[39m(\u001b[38;5;124m'\u001b[39m\u001b[38;5;124mDuration for AEDs found\u001b[39m\u001b[38;5;124m'\u001b[39m)\n",
      "File \u001b[0;32m~/MDA/.conda/lib/python3.9/site-packages/pandas/core/series.py:1112\u001b[0m, in \u001b[0;36mSeries.__getitem__\u001b[0;34m(self, key)\u001b[0m\n\u001b[1;32m   1109\u001b[0m     \u001b[38;5;28;01mreturn\u001b[39;00m \u001b[38;5;28mself\u001b[39m\u001b[38;5;241m.\u001b[39m_values[key]\n\u001b[1;32m   1111\u001b[0m \u001b[38;5;28;01melif\u001b[39;00m key_is_scalar:\n\u001b[0;32m-> 1112\u001b[0m     \u001b[38;5;28;01mreturn\u001b[39;00m \u001b[38;5;28;43mself\u001b[39;49m\u001b[38;5;241;43m.\u001b[39;49m\u001b[43m_get_value\u001b[49m\u001b[43m(\u001b[49m\u001b[43mkey\u001b[49m\u001b[43m)\u001b[49m\n\u001b[1;32m   1114\u001b[0m \u001b[38;5;66;03m# Convert generator to list before going through hashable part\u001b[39;00m\n\u001b[1;32m   1115\u001b[0m \u001b[38;5;66;03m# (We will iterate through the generator there to check for slices)\u001b[39;00m\n\u001b[1;32m   1116\u001b[0m \u001b[38;5;28;01mif\u001b[39;00m is_iterator(key):\n",
      "File \u001b[0;32m~/MDA/.conda/lib/python3.9/site-packages/pandas/core/series.py:1228\u001b[0m, in \u001b[0;36mSeries._get_value\u001b[0;34m(self, label, takeable)\u001b[0m\n\u001b[1;32m   1225\u001b[0m     \u001b[38;5;28;01mreturn\u001b[39;00m \u001b[38;5;28mself\u001b[39m\u001b[38;5;241m.\u001b[39m_values[label]\n\u001b[1;32m   1227\u001b[0m \u001b[38;5;66;03m# Similar to Index.get_value, but we do not fall back to positional\u001b[39;00m\n\u001b[0;32m-> 1228\u001b[0m loc \u001b[38;5;241m=\u001b[39m \u001b[38;5;28;43mself\u001b[39;49m\u001b[38;5;241;43m.\u001b[39;49m\u001b[43mindex\u001b[49m\u001b[38;5;241;43m.\u001b[39;49m\u001b[43mget_loc\u001b[49m\u001b[43m(\u001b[49m\u001b[43mlabel\u001b[49m\u001b[43m)\u001b[49m\n\u001b[1;32m   1230\u001b[0m \u001b[38;5;28;01mif\u001b[39;00m is_integer(loc):\n\u001b[1;32m   1231\u001b[0m     \u001b[38;5;28;01mreturn\u001b[39;00m \u001b[38;5;28mself\u001b[39m\u001b[38;5;241m.\u001b[39m_values[loc]\n",
      "File \u001b[0;32m~/MDA/.conda/lib/python3.9/site-packages/pandas/core/indexes/base.py:3812\u001b[0m, in \u001b[0;36mIndex.get_loc\u001b[0;34m(self, key)\u001b[0m\n\u001b[1;32m   3807\u001b[0m     \u001b[38;5;28;01mif\u001b[39;00m \u001b[38;5;28misinstance\u001b[39m(casted_key, \u001b[38;5;28mslice\u001b[39m) \u001b[38;5;129;01mor\u001b[39;00m (\n\u001b[1;32m   3808\u001b[0m         \u001b[38;5;28misinstance\u001b[39m(casted_key, abc\u001b[38;5;241m.\u001b[39mIterable)\n\u001b[1;32m   3809\u001b[0m         \u001b[38;5;129;01mand\u001b[39;00m \u001b[38;5;28many\u001b[39m(\u001b[38;5;28misinstance\u001b[39m(x, \u001b[38;5;28mslice\u001b[39m) \u001b[38;5;28;01mfor\u001b[39;00m x \u001b[38;5;129;01min\u001b[39;00m casted_key)\n\u001b[1;32m   3810\u001b[0m     ):\n\u001b[1;32m   3811\u001b[0m         \u001b[38;5;28;01mraise\u001b[39;00m InvalidIndexError(key)\n\u001b[0;32m-> 3812\u001b[0m     \u001b[38;5;28;01mraise\u001b[39;00m \u001b[38;5;167;01mKeyError\u001b[39;00m(key) \u001b[38;5;28;01mfrom\u001b[39;00m \u001b[38;5;21;01merr\u001b[39;00m\n\u001b[1;32m   3813\u001b[0m \u001b[38;5;28;01mexcept\u001b[39;00m \u001b[38;5;167;01mTypeError\u001b[39;00m:\n\u001b[1;32m   3814\u001b[0m     \u001b[38;5;66;03m# If we have a listlike key, _check_indexing_error will raise\u001b[39;00m\n\u001b[1;32m   3815\u001b[0m     \u001b[38;5;66;03m#  InvalidIndexError. Otherwise we fall through and re-raise\u001b[39;00m\n\u001b[1;32m   3816\u001b[0m     \u001b[38;5;66;03m#  the TypeError.\u001b[39;00m\n\u001b[1;32m   3817\u001b[0m     \u001b[38;5;28mself\u001b[39m\u001b[38;5;241m.\u001b[39m_check_indexing_error(key)\n",
      "\u001b[0;31mKeyError\u001b[0m: 'AED_coordinates'"
     ]
    }
   ],
   "source": [
    "# simulate the repsonse time \n",
    "df_resp_time = sim.fastest_comparisson(Patient, AED, responders, AED)"
   ]
  },
  {
   "cell_type": "code",
   "execution_count": 28,
   "metadata": {},
   "outputs": [
    {
     "data": {
      "text/plain": [
       "(4.70821, 50.861866)"
      ]
     },
     "execution_count": 28,
     "metadata": {},
     "output_type": "execute_result"
    }
   ],
   "source": [
    "patient[0]"
   ]
  },
  {
   "cell_type": "code",
   "execution_count": null,
   "metadata": {},
   "outputs": [],
   "source": [
    "df_resp_time"
   ]
  },
  {
   "cell_type": "code",
   "execution_count": null,
   "metadata": {},
   "outputs": [],
   "source": []
  }
 ],
 "metadata": {
  "kernelspec": {
   "display_name": "Python 3",
   "language": "python",
   "name": "python3"
  },
  "language_info": {
   "codemirror_mode": {
    "name": "ipython",
    "version": 3
   },
   "file_extension": ".py",
   "mimetype": "text/x-python",
   "name": "python",
   "nbconvert_exporter": "python",
   "pygments_lexer": "ipython3",
   "version": "3.9.18"
  }
 },
 "nbformat": 4,
 "nbformat_minor": 2
}
