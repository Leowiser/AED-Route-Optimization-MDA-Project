{
 "cells": [
  {
   "cell_type": "code",
   "execution_count": 62,
   "metadata": {},
   "outputs": [],
   "source": [
    "# imports\n",
    "import pandas as pd\n",
    "from Simulation_Class import simulation\n",
    "from Survival_prob_Class import survival_prob"
   ]
  },
  {
   "cell_type": "code",
   "execution_count": 32,
   "metadata": {},
   "outputs": [],
   "source": [
    "# initialize simulation \n",
    "sim = simulation()"
   ]
  },
  {
   "cell_type": "code",
   "execution_count": 63,
   "metadata": {},
   "outputs": [],
   "source": [
    "# initialize survival_prob\n",
    "survival = survival_prob()"
   ]
  },
  {
   "cell_type": "code",
   "execution_count": 33,
   "metadata": {},
   "outputs": [],
   "source": [
    "# import dataset of real real interventions \n",
    "# contains patient location, time for vector to get there \n",
    "df_interventions = pd.read_csv('Data/interventions.csv')"
   ]
  },
  {
   "cell_type": "code",
   "execution_count": 34,
   "metadata": {},
   "outputs": [
    {
     "data": {
      "text/html": [
       "<div>\n",
       "<style scoped>\n",
       "    .dataframe tbody tr th:only-of-type {\n",
       "        vertical-align: middle;\n",
       "    }\n",
       "\n",
       "    .dataframe tbody tr th {\n",
       "        vertical-align: top;\n",
       "    }\n",
       "\n",
       "    .dataframe thead th {\n",
       "        text-align: right;\n",
       "    }\n",
       "</style>\n",
       "<table border=\"1\" class=\"dataframe\">\n",
       "  <thead>\n",
       "    <tr style=\"text-align: right;\">\n",
       "      <th></th>\n",
       "      <th>T1</th>\n",
       "      <th>T3</th>\n",
       "      <th>Latitude intervention</th>\n",
       "      <th>Longitude intervention</th>\n",
       "      <th>Response Time</th>\n",
       "    </tr>\n",
       "  </thead>\n",
       "  <tbody>\n",
       "    <tr>\n",
       "      <th>0</th>\n",
       "      <td>2022-06-07 07:02:17</td>\n",
       "      <td>2022-06-07 07:11:24</td>\n",
       "      <td>50.861866</td>\n",
       "      <td>4.708210</td>\n",
       "      <td>547.0</td>\n",
       "    </tr>\n",
       "    <tr>\n",
       "      <th>1</th>\n",
       "      <td>2022-06-08 13:26:34</td>\n",
       "      <td>2022-06-08 13:35:03</td>\n",
       "      <td>50.873174</td>\n",
       "      <td>4.716699</td>\n",
       "      <td>509.0</td>\n",
       "    </tr>\n",
       "    <tr>\n",
       "      <th>2</th>\n",
       "      <td>2022-06-08 14:35:19</td>\n",
       "      <td>2022-06-08 14:47:58</td>\n",
       "      <td>50.928140</td>\n",
       "      <td>4.703247</td>\n",
       "      <td>759.0</td>\n",
       "    </tr>\n",
       "    <tr>\n",
       "      <th>3</th>\n",
       "      <td>2022-06-09 09:51:23</td>\n",
       "      <td>2022-06-09 10:03:05</td>\n",
       "      <td>50.874550</td>\n",
       "      <td>4.730246</td>\n",
       "      <td>702.0</td>\n",
       "    </tr>\n",
       "    <tr>\n",
       "      <th>4</th>\n",
       "      <td>2022-06-13 12:35:22</td>\n",
       "      <td>2022-06-13 12:44:12</td>\n",
       "      <td>50.879098</td>\n",
       "      <td>4.696672</td>\n",
       "      <td>530.0</td>\n",
       "    </tr>\n",
       "    <tr>\n",
       "      <th>...</th>\n",
       "      <td>...</td>\n",
       "      <td>...</td>\n",
       "      <td>...</td>\n",
       "      <td>...</td>\n",
       "      <td>...</td>\n",
       "    </tr>\n",
       "    <tr>\n",
       "      <th>76</th>\n",
       "      <td>2023-04-27 09:45:18</td>\n",
       "      <td>2023-04-27 09:54:43</td>\n",
       "      <td>50.856571</td>\n",
       "      <td>4.653801</td>\n",
       "      <td>565.0</td>\n",
       "    </tr>\n",
       "    <tr>\n",
       "      <th>77</th>\n",
       "      <td>2023-05-02 18:36:37</td>\n",
       "      <td>2023-05-02 18:45:01</td>\n",
       "      <td>50.858510</td>\n",
       "      <td>4.693520</td>\n",
       "      <td>504.0</td>\n",
       "    </tr>\n",
       "    <tr>\n",
       "      <th>78</th>\n",
       "      <td>2023-05-03 17:38:46</td>\n",
       "      <td>2023-05-03 17:46:05</td>\n",
       "      <td>50.861650</td>\n",
       "      <td>4.681370</td>\n",
       "      <td>439.0</td>\n",
       "    </tr>\n",
       "    <tr>\n",
       "      <th>79</th>\n",
       "      <td>2023-05-13 11:26:53</td>\n",
       "      <td>2023-05-13 11:50:12</td>\n",
       "      <td>50.885531</td>\n",
       "      <td>4.684591</td>\n",
       "      <td>1399.0</td>\n",
       "    </tr>\n",
       "    <tr>\n",
       "      <th>80</th>\n",
       "      <td>2023-05-13 23:28:43</td>\n",
       "      <td>2023-05-13 23:37:00</td>\n",
       "      <td>50.856026</td>\n",
       "      <td>4.695739</td>\n",
       "      <td>497.0</td>\n",
       "    </tr>\n",
       "  </tbody>\n",
       "</table>\n",
       "<p>81 rows × 5 columns</p>\n",
       "</div>"
      ],
      "text/plain": [
       "                     T1                   T3  Latitude intervention  \\\n",
       "0   2022-06-07 07:02:17  2022-06-07 07:11:24              50.861866   \n",
       "1   2022-06-08 13:26:34  2022-06-08 13:35:03              50.873174   \n",
       "2   2022-06-08 14:35:19  2022-06-08 14:47:58              50.928140   \n",
       "3   2022-06-09 09:51:23  2022-06-09 10:03:05              50.874550   \n",
       "4   2022-06-13 12:35:22  2022-06-13 12:44:12              50.879098   \n",
       "..                  ...                  ...                    ...   \n",
       "76  2023-04-27 09:45:18  2023-04-27 09:54:43              50.856571   \n",
       "77  2023-05-02 18:36:37  2023-05-02 18:45:01              50.858510   \n",
       "78  2023-05-03 17:38:46  2023-05-03 17:46:05              50.861650   \n",
       "79  2023-05-13 11:26:53  2023-05-13 11:50:12              50.885531   \n",
       "80  2023-05-13 23:28:43  2023-05-13 23:37:00              50.856026   \n",
       "\n",
       "    Longitude intervention  Response Time  \n",
       "0                 4.708210          547.0  \n",
       "1                 4.716699          509.0  \n",
       "2                 4.703247          759.0  \n",
       "3                 4.730246          702.0  \n",
       "4                 4.696672          530.0  \n",
       "..                     ...            ...  \n",
       "76                4.653801          565.0  \n",
       "77                4.693520          504.0  \n",
       "78                4.681370          439.0  \n",
       "79                4.684591         1399.0  \n",
       "80                4.695739          497.0  \n",
       "\n",
       "[81 rows x 5 columns]"
      ]
     },
     "execution_count": 34,
     "metadata": {},
     "output_type": "execute_result"
    }
   ],
   "source": [
    "# display df \n",
    "df_interventions"
   ]
  },
  {
   "cell_type": "code",
   "execution_count": 35,
   "metadata": {},
   "outputs": [],
   "source": [
    "# save the patient locations in a dataframe \n",
    "# save longitude and latitude of patient to tuple \n",
    "patient_longitudes = df_interventions['Longitude intervention'].values\n",
    "patient_latitudes = df_interventions['Latitude intervention'].values\n",
    "\n",
    "# zip to one tuple \n",
    "patient = list(zip(patient_longitudes, patient_latitudes))"
   ]
  },
  {
   "cell_type": "code",
   "execution_count": 36,
   "metadata": {},
   "outputs": [
    {
     "name": "stdout",
     "output_type": "stream",
     "text": [
      "[(4.70821, 50.861866), (4.716699, 50.873174), (4.703247, 50.92814), (4.730246, 50.87455), (4.696672, 50.879098), (4.705947, 50.886687), (4.690584, 50.89003), (4.692755, 50.865466), (4.700683, 50.87929), (4.681497, 50.854151), (4.698357, 50.880213), (4.684785, 50.879319), (4.700753, 50.887833), (4.699796, 50.87634), (4.700977, 50.883089), (4.695717, 50.855068), (4.67431, 50.877462), (4.698691, 50.865606), (4.688853, 50.879023), (4.694036, 50.8606), (4.736733, 50.862799), (4.733566, 50.898585), (4.738449, 50.901604), (4.698003, 50.868334), (4.712916, 50.869559), (4.693243, 50.885472), (4.734176, 50.878237), (4.715765, 50.877798), (4.700611, 50.877705), (4.712741, 50.876974), (4.700399, 50.923948), (4.71539, 50.88122), (4.71745, 50.874271), (4.69952, 50.866911), (4.711828, 50.871651), (4.730961, 50.850728), (4.663558, 50.876016), (4.735979, 50.888449), (4.728948, 50.868191), (4.698691, 50.865606), (4.674596, 50.871597), (4.735139, 50.879159), (4.70586, 50.881605), (4.702134, 50.897263), (4.657334, 50.861426), (4.712731, 50.879035), (4.711828, 50.871651), (4.711256, 50.871245), (4.728813, 50.898917), (4.729334, 50.886379), (4.706287, 50.868107), (4.724486, 50.875134), (4.663458, 50.872624), (4.724385, 50.888254), (4.710888, 50.862229), (4.741317, 50.886149), (4.723903, 50.92664), (4.7093, 50.870361), (4.715466, 50.881037), (4.693275, 50.875681), (4.695989, 50.865144), (4.726644, 50.873674), (4.72935, 50.900387), (4.690636, 50.876538), (4.704618, 50.887542), (4.722256, 50.880999), (4.73756, 50.862344), (4.698691, 50.865606), (4.722139, 50.86866), (4.736791, 50.863533), (4.714931, 50.880851), (4.696876, 50.893705), (4.726534, 50.887677), (4.717382, 50.882139), (4.735101, 50.876686), (4.699619, 50.879152), (4.653801, 50.856571), (4.69352, 50.85851), (4.68137, 50.86165), (4.684591, 50.885531), (4.695739, 50.856026)]\n"
     ]
    }
   ],
   "source": [
    "# display pateint\n",
    "print(patient)"
   ]
  },
  {
   "cell_type": "code",
   "execution_count": 37,
   "metadata": {},
   "outputs": [],
   "source": [
    "# import dataset with the locations of the AEDs \n",
    "df_aed = pd.read_csv('filtered_AED_loc.csv')"
   ]
  },
  {
   "cell_type": "code",
   "execution_count": 38,
   "metadata": {},
   "outputs": [],
   "source": [
    "# save longitude and latitude of AED to tuple \n",
    "AED_longitudes = df_aed['longitude'].values\n",
    "AED_latitudes = df_aed['latitude'].values\n",
    "\n",
    "# zip to one tuple \n",
    "AED = list(zip(AED_longitudes, AED_latitudes))"
   ]
  },
  {
   "cell_type": "code",
   "execution_count": 39,
   "metadata": {},
   "outputs": [],
   "source": [
    "# transform aed to dataframe with headings\n",
    "AED = pd.DataFrame(AED, columns=['longitude', 'latitude'])"
   ]
  },
  {
   "cell_type": "code",
   "execution_count": 40,
   "metadata": {},
   "outputs": [
    {
     "data": {
      "text/html": [
       "<div>\n",
       "<style scoped>\n",
       "    .dataframe tbody tr th:only-of-type {\n",
       "        vertical-align: middle;\n",
       "    }\n",
       "\n",
       "    .dataframe tbody tr th {\n",
       "        vertical-align: top;\n",
       "    }\n",
       "\n",
       "    .dataframe thead th {\n",
       "        text-align: right;\n",
       "    }\n",
       "</style>\n",
       "<table border=\"1\" class=\"dataframe\">\n",
       "  <thead>\n",
       "    <tr style=\"text-align: right;\">\n",
       "      <th></th>\n",
       "      <th>longitude</th>\n",
       "      <th>latitude</th>\n",
       "    </tr>\n",
       "  </thead>\n",
       "  <tbody>\n",
       "    <tr>\n",
       "      <th>0</th>\n",
       "      <td>4.737563</td>\n",
       "      <td>50.847642</td>\n",
       "    </tr>\n",
       "    <tr>\n",
       "      <th>1</th>\n",
       "      <td>4.696771</td>\n",
       "      <td>50.882662</td>\n",
       "    </tr>\n",
       "    <tr>\n",
       "      <th>2</th>\n",
       "      <td>4.705893</td>\n",
       "      <td>50.891915</td>\n",
       "    </tr>\n",
       "    <tr>\n",
       "      <th>3</th>\n",
       "      <td>4.718684</td>\n",
       "      <td>50.893646</td>\n",
       "    </tr>\n",
       "    <tr>\n",
       "      <th>4</th>\n",
       "      <td>4.693191</td>\n",
       "      <td>50.869499</td>\n",
       "    </tr>\n",
       "    <tr>\n",
       "      <th>...</th>\n",
       "      <td>...</td>\n",
       "      <td>...</td>\n",
       "    </tr>\n",
       "    <tr>\n",
       "      <th>134</th>\n",
       "      <td>4.676583</td>\n",
       "      <td>50.865563</td>\n",
       "    </tr>\n",
       "    <tr>\n",
       "      <th>135</th>\n",
       "      <td>4.676583</td>\n",
       "      <td>50.865563</td>\n",
       "    </tr>\n",
       "    <tr>\n",
       "      <th>136</th>\n",
       "      <td>4.711970</td>\n",
       "      <td>50.868075</td>\n",
       "    </tr>\n",
       "    <tr>\n",
       "      <th>137</th>\n",
       "      <td>4.748855</td>\n",
       "      <td>50.870141</td>\n",
       "    </tr>\n",
       "    <tr>\n",
       "      <th>138</th>\n",
       "      <td>4.730367</td>\n",
       "      <td>50.850719</td>\n",
       "    </tr>\n",
       "  </tbody>\n",
       "</table>\n",
       "<p>139 rows × 2 columns</p>\n",
       "</div>"
      ],
      "text/plain": [
       "     longitude   latitude\n",
       "0     4.737563  50.847642\n",
       "1     4.696771  50.882662\n",
       "2     4.705893  50.891915\n",
       "3     4.718684  50.893646\n",
       "4     4.693191  50.869499\n",
       "..         ...        ...\n",
       "134   4.676583  50.865563\n",
       "135   4.676583  50.865563\n",
       "136   4.711970  50.868075\n",
       "137   4.748855  50.870141\n",
       "138   4.730367  50.850719\n",
       "\n",
       "[139 rows x 2 columns]"
      ]
     },
     "execution_count": 40,
     "metadata": {},
     "output_type": "execute_result"
    }
   ],
   "source": [
    "# display aed\n",
    "AED"
   ]
  },
  {
   "cell_type": "code",
   "execution_count": 41,
   "metadata": {},
   "outputs": [],
   "source": [
    "# import data for first responder locations \n",
    "# Load the CSV file into a DataFrame\n",
    "FR_05 = pd.read_csv('0.5%_FRs.csv')\n",
    "FR_1 = pd.read_csv('1%_FRs.csv')"
   ]
  },
  {
   "cell_type": "code",
   "execution_count": 42,
   "metadata": {},
   "outputs": [
    {
     "data": {
      "text/html": [
       "<div>\n",
       "<style scoped>\n",
       "    .dataframe tbody tr th:only-of-type {\n",
       "        vertical-align: middle;\n",
       "    }\n",
       "\n",
       "    .dataframe tbody tr th {\n",
       "        vertical-align: top;\n",
       "    }\n",
       "\n",
       "    .dataframe thead th {\n",
       "        text-align: right;\n",
       "    }\n",
       "</style>\n",
       "<table border=\"1\" class=\"dataframe\">\n",
       "  <thead>\n",
       "    <tr style=\"text-align: right;\">\n",
       "      <th></th>\n",
       "      <th>x</th>\n",
       "      <th>y</th>\n",
       "    </tr>\n",
       "  </thead>\n",
       "  <tbody>\n",
       "    <tr>\n",
       "      <th>0</th>\n",
       "      <td>4.700665</td>\n",
       "      <td>50.878356</td>\n",
       "    </tr>\n",
       "    <tr>\n",
       "      <th>1</th>\n",
       "      <td>4.700855</td>\n",
       "      <td>50.878922</td>\n",
       "    </tr>\n",
       "    <tr>\n",
       "      <th>2</th>\n",
       "      <td>4.700938</td>\n",
       "      <td>50.878428</td>\n",
       "    </tr>\n",
       "    <tr>\n",
       "      <th>3</th>\n",
       "      <td>4.702417</td>\n",
       "      <td>50.878322</td>\n",
       "    </tr>\n",
       "    <tr>\n",
       "      <th>4</th>\n",
       "      <td>4.698315</td>\n",
       "      <td>50.881002</td>\n",
       "    </tr>\n",
       "    <tr>\n",
       "      <th>...</th>\n",
       "      <td>...</td>\n",
       "      <td>...</td>\n",
       "    </tr>\n",
       "    <tr>\n",
       "      <th>511</th>\n",
       "      <td>4.690463</td>\n",
       "      <td>50.933269</td>\n",
       "    </tr>\n",
       "    <tr>\n",
       "      <th>512</th>\n",
       "      <td>4.692093</td>\n",
       "      <td>50.931006</td>\n",
       "    </tr>\n",
       "    <tr>\n",
       "      <th>513</th>\n",
       "      <td>4.677287</td>\n",
       "      <td>50.932955</td>\n",
       "    </tr>\n",
       "    <tr>\n",
       "      <th>514</th>\n",
       "      <td>4.694451</td>\n",
       "      <td>50.935168</td>\n",
       "    </tr>\n",
       "    <tr>\n",
       "      <th>515</th>\n",
       "      <td>4.711421</td>\n",
       "      <td>50.930805</td>\n",
       "    </tr>\n",
       "  </tbody>\n",
       "</table>\n",
       "<p>516 rows × 2 columns</p>\n",
       "</div>"
      ],
      "text/plain": [
       "            x          y\n",
       "0    4.700665  50.878356\n",
       "1    4.700855  50.878922\n",
       "2    4.700938  50.878428\n",
       "3    4.702417  50.878322\n",
       "4    4.698315  50.881002\n",
       "..        ...        ...\n",
       "511  4.690463  50.933269\n",
       "512  4.692093  50.931006\n",
       "513  4.677287  50.932955\n",
       "514  4.694451  50.935168\n",
       "515  4.711421  50.930805\n",
       "\n",
       "[516 rows x 2 columns]"
      ]
     },
     "execution_count": 42,
     "metadata": {},
     "output_type": "execute_result"
    }
   ],
   "source": [
    "FR_05"
   ]
  },
  {
   "cell_type": "code",
   "execution_count": 43,
   "metadata": {},
   "outputs": [
    {
     "name": "stdout",
     "output_type": "stream",
     "text": [
      "Transformed dictionary:\n",
      "{'coordinates': [(4.737563, 50.8476423), (4.6967705, 50.8826624), (4.7058934, 50.89191539999999), (4.7186837, 50.8936461), (4.6931907, 50.869499), (4.7017286, 50.8743307), (4.7127525, 50.8670637), (4.682384799999999, 50.8778935), (4.6964705, 50.8713027), (4.7127446, 50.867102), (4.7168358, 50.8769717), (4.701441099999999, 50.88228909999999), (4.7062523, 50.8958652), (4.7156895, 50.8813682), (4.7330828, 50.85112360000001), (4.734445700000001, 50.8823756), (4.724020299999999, 50.9281215), (4.6916883, 50.8705595), (4.7458358, 50.8644573), (4.6958563, 50.8470644), (4.7116128, 50.867677), (4.7515505, 50.8883109), (4.680962699999999, 50.8839064), (4.7106457, 50.8858827), (4.7146301, 50.8841416), (4.712077799999999, 50.8786396), (4.7152536, 50.874393), (4.7075612, 50.8933532), (4.7031832, 50.8816687), (4.7130637, 50.9108976), (4.7022043, 50.90354660000001), (4.7313633, 50.8845695), (4.743396499999999, 50.8674498), (4.704471000000001, 50.8560364), (4.7063333, 50.92585949999999), (4.720390099999999, 50.8988012), (4.676585999999999, 50.8718562), (4.7160817, 50.8797741), (4.6939597, 50.868071), (4.720390099999999, 50.8988012), (4.714348600000001, 50.8744331), (4.711944799999999, 50.8813563), (4.7300619, 50.8524681), (4.718262999999999, 50.8834141), (4.7069755, 50.8782258), (4.6753669, 50.8627473), (4.668996, 50.8782805), (4.703816, 50.874094), (4.7041349, 50.8776436), (4.7082684, 50.8740913), (4.7031955, 50.8763292), (4.732186599999999, 50.8478666), (4.7005637, 50.8778857), (4.7275933, 50.8764651), (4.7047368, 50.8803956), (4.7057077, 50.8555502), (4.7343369, 50.8528664), (4.6723105, 50.8628119), (4.6723105, 50.8628119), (4.6723105, 50.8628119), (4.7370091, 50.8444703), (4.7232384, 50.84761169999999), (4.7054199, 50.8830582), (4.7019874, 50.8804127), (4.7311424, 50.8450309), (4.7058934, 50.89191539999999), (4.728376, 50.8553066), (4.728376, 50.8553066), (4.7056545, 50.8795773), (4.7086963, 50.8809818), (4.6775291, 50.885645), (4.716279, 50.8791637), (4.6738647, 50.9050354), (4.7137954, 50.8774564), (4.7303674, 50.8507187), (4.7381287, 50.84546049999999), (4.726769399999999, 50.831734), (4.7253871, 50.8468318), (4.7081308, 50.8747859), (4.6861822, 50.8624668), (4.6753669, 50.8627473), (4.6723105, 50.8628119), (4.7153244, 50.8508645), (4.729934, 50.850768), (4.7045671, 50.8789497), (4.734019, 50.8503127), (4.7203215, 50.854781), (4.704496199999999, 50.8859605), (4.700369999999999, 50.8793), (4.704839, 50.8811427), (4.712977, 50.8784211), (4.712295, 50.8617055), (4.7255083, 50.8528969), (4.7096178, 50.88150109999999), (4.7248107, 50.9283047), (4.7132325, 50.88081529999999), (4.6939597, 50.868071), (4.6939597, 50.868071), (4.714049, 50.8827386), (4.7061156, 50.8741756), (4.729686399999999, 50.8869565), (4.734271199999999, 50.8919487), (4.737563, 50.8476423), (4.6967705, 50.8826624), (4.7311424, 50.8450309), (4.667943000000001, 50.8648678), (4.7515505, 50.8883109), (4.7062523, 50.8958652), (4.6710378, 50.8654367), (4.725385, 50.829584), (4.7365227, 50.8455664), (4.70195, 50.92624), (4.7220448, 50.8457862), (4.716440299999999, 50.8465918), (4.728626999999999, 50.845606), (4.728626999999999, 50.845606), (4.7020005, 50.8808505), (4.7182558, 50.848691), (4.7007067, 50.8851678), (4.7283621, 50.8514371), (4.7063333, 50.92585949999999), (4.6939597, 50.868071), (4.6939597, 50.868071), (4.6939597, 50.868071), (4.724752100000001, 50.8495093), (4.7080615, 50.8758104), (4.727723999999999, 50.8502816), (4.725275, 50.8742581), (4.709544699999999, 50.877337), (4.6611883, 50.8758335), (4.731698199999999, 50.8557424), (4.7019874, 50.8804127), (4.7183111, 50.8510697), (4.7303674, 50.8507187), (4.6765833, 50.8655626), (4.6765833, 50.8655626), (4.7119704, 50.8680749), (4.7488553, 50.8701412), (4.7303674, 50.8507187)]}\n"
     ]
    }
   ],
   "source": [
    "# Combine 'longitude' and 'latitude' into a list of tuples\n",
    "coordinates = list(zip(AED['longitude'], AED['latitude']))\n",
    "# Create the dictionary\n",
    "AED = {'coordinates': coordinates}\n",
    "\n",
    "print(\"Transformed dictionary:\")\n",
    "print(AED)"
   ]
  },
  {
   "cell_type": "code",
   "execution_count": 18,
   "metadata": {},
   "outputs": [
    {
     "name": "stdout",
     "output_type": "stream",
     "text": [
      "Duration for responders found\n",
      "You did a lot take a 30 second break.\n",
      "Duration for AEDs found\n",
      "Fastest Direct and Indirect are the same\n",
      "Time to sleep even longer otherwise the API gets tired.\n"
     ]
    }
   ],
   "source": [
    "# simulate the repsonse time \n",
    "df_time = sim.fastest_fcr_aed(Patient, responders, AED, 1)"
   ]
  },
  {
   "cell_type": "code",
   "execution_count": 19,
   "metadata": {},
   "outputs": [
    {
     "data": {
      "text/html": [
       "<div>\n",
       "<style scoped>\n",
       "    .dataframe tbody tr th:only-of-type {\n",
       "        vertical-align: middle;\n",
       "    }\n",
       "\n",
       "    .dataframe tbody tr th {\n",
       "        vertical-align: top;\n",
       "    }\n",
       "\n",
       "    .dataframe thead th {\n",
       "        text-align: right;\n",
       "    }\n",
       "</style>\n",
       "<table border=\"1\" class=\"dataframe\">\n",
       "  <thead>\n",
       "    <tr style=\"text-align: right;\">\n",
       "      <th></th>\n",
       "      <th>Responder_lon</th>\n",
       "      <th>Responder_lat</th>\n",
       "      <th>duration_Responder</th>\n",
       "      <th>AED_lon</th>\n",
       "      <th>AED_lat</th>\n",
       "      <th>duration_AED</th>\n",
       "    </tr>\n",
       "  </thead>\n",
       "  <tbody>\n",
       "    <tr>\n",
       "      <th>1</th>\n",
       "      <td>4.736763</td>\n",
       "      <td>50.878742</td>\n",
       "      <td>3106.9</td>\n",
       "      <td>4.734446</td>\n",
       "      <td>50.882376</td>\n",
       "      <td>3681.7</td>\n",
       "    </tr>\n",
       "  </tbody>\n",
       "</table>\n",
       "</div>"
      ],
      "text/plain": [
       "   Responder_lon  Responder_lat  duration_Responder   AED_lon    AED_lat  \\\n",
       "1       4.736763      50.878742              3106.9  4.734446  50.882376   \n",
       "\n",
       "   duration_AED  \n",
       "1        3681.7  "
      ]
     },
     "execution_count": 19,
     "metadata": {},
     "output_type": "execute_result"
    }
   ],
   "source": [
    "df_time"
   ]
  },
  {
   "cell_type": "code",
   "execution_count": 44,
   "metadata": {},
   "outputs": [],
   "source": [
    "# responders to right format \n",
    "# Convert the 'x' and 'y' columns into a list of tuples\n",
    "coordinates = [(row['x'], row['y']) for _, row in FR_05.iterrows()]\n",
    "# Create the responders dictionary with the coordinates\n",
    "responders_05 = {'coordinates': coordinates}"
   ]
  },
  {
   "cell_type": "code",
   "execution_count": 46,
   "metadata": {},
   "outputs": [
    {
     "name": "stdout",
     "output_type": "stream",
     "text": [
      "Duration for responders found\n",
      "You did a lot take a 30 second break.\n",
      "Duration for AEDs found\n",
      "Fastest Direct and Indirect are not the same\n",
      "Time to sleep even longer otherwise the API gets tired.\n",
      "Duration for responders found\n",
      "You did a lot take a 30 second break.\n",
      "Duration for AEDs found\n",
      "Fastest Direct and Indirect are not the same\n",
      "Time to sleep even longer otherwise the API gets tired.\n"
     ]
    }
   ],
   "source": [
    "# make loop for all patients for one FR percentage\n",
    "# will not loop over several FR percentages, takes to long with the APIs \n",
    "# don't really care about the vectors, alreasy have that \n",
    "\n",
    "# Initialize an empty list to store individual df_time DataFrames\n",
    "all_times = []\n",
    "\n",
    "i = 0 # index \n",
    "\n",
    "for p in patient: \n",
    "    # used for testing \n",
    "    if i == 2:\n",
    "        break  # Exit the loop if i equals 2\n",
    "    # patient to right format \n",
    "    Patient = {\n",
    "    'longitude': p[0],\n",
    "    'latitude': p[1]\n",
    "    }\n",
    "    Patient = pd.DataFrame([Patient])\n",
    "    Patient = Patient.transpose()\n",
    "\n",
    "    # simulate the repsonse time \n",
    "    df_time = sim.fastest_fcr_aed(Patient, responders_05, AED, 1)\n",
    "\n",
    "    # Append df_time to the list\n",
    "    all_times.append(df_time)\n",
    "\n",
    "    # update index\n",
    "    i+=1"
   ]
  },
  {
   "cell_type": "code",
   "execution_count": 48,
   "metadata": {},
   "outputs": [],
   "source": [
    "# make one big dataframe of the times\n",
    "df_fr_05 = pd.concat(all_times, ignore_index=True)"
   ]
  },
  {
   "cell_type": "code",
   "execution_count": 49,
   "metadata": {},
   "outputs": [
    {
     "data": {
      "text/html": [
       "<div>\n",
       "<style scoped>\n",
       "    .dataframe tbody tr th:only-of-type {\n",
       "        vertical-align: middle;\n",
       "    }\n",
       "\n",
       "    .dataframe tbody tr th {\n",
       "        vertical-align: top;\n",
       "    }\n",
       "\n",
       "    .dataframe thead th {\n",
       "        text-align: right;\n",
       "    }\n",
       "</style>\n",
       "<table border=\"1\" class=\"dataframe\">\n",
       "  <thead>\n",
       "    <tr style=\"text-align: right;\">\n",
       "      <th></th>\n",
       "      <th>Responder_lon</th>\n",
       "      <th>Responder_lat</th>\n",
       "      <th>duration_Responder</th>\n",
       "      <th>AED_lon</th>\n",
       "      <th>AED_lat</th>\n",
       "      <th>duration_AED</th>\n",
       "    </tr>\n",
       "  </thead>\n",
       "  <tbody>\n",
       "    <tr>\n",
       "      <th>0</th>\n",
       "      <td>4.707418</td>\n",
       "      <td>50.861589</td>\n",
       "      <td>42.7</td>\n",
       "      <td>4.711330</td>\n",
       "      <td>50.862418</td>\n",
       "      <td>413.2</td>\n",
       "    </tr>\n",
       "    <tr>\n",
       "      <th>1</th>\n",
       "      <td>4.718282</td>\n",
       "      <td>50.872875</td>\n",
       "      <td>89.8</td>\n",
       "      <td>4.714928</td>\n",
       "      <td>50.874492</td>\n",
       "      <td>272.7</td>\n",
       "    </tr>\n",
       "  </tbody>\n",
       "</table>\n",
       "</div>"
      ],
      "text/plain": [
       "   Responder_lon  Responder_lat  duration_Responder   AED_lon    AED_lat  \\\n",
       "0       4.707418      50.861589                42.7  4.711330  50.862418   \n",
       "1       4.718282      50.872875                89.8  4.714928  50.874492   \n",
       "\n",
       "   duration_AED  \n",
       "0         413.2  \n",
       "1         272.7  "
      ]
     },
     "execution_count": 49,
     "metadata": {},
     "output_type": "execute_result"
    }
   ],
   "source": [
    "df_fr_05 # took 17 min to get 2 :(("
   ]
  },
  {
   "cell_type": "code",
   "execution_count": 50,
   "metadata": {},
   "outputs": [],
   "source": [
    "# do this for more pateints and for other FR percentages"
   ]
  },
  {
   "cell_type": "code",
   "execution_count": 51,
   "metadata": {},
   "outputs": [],
   "source": [
    "# columns to drop\n",
    "columns_to_drop = ['Responder_lon', 'Responder_lat', 'AED_lon', 'AED_lat']  "
   ]
  },
  {
   "cell_type": "code",
   "execution_count": 52,
   "metadata": {},
   "outputs": [],
   "source": [
    "# make a dataframe with the times for repsponder, aed and vector \n",
    "df_fr_05.drop(columns=columns_to_drop, inplace=True)"
   ]
  },
  {
   "cell_type": "code",
   "execution_count": 56,
   "metadata": {},
   "outputs": [
    {
     "name": "stdout",
     "output_type": "stream",
     "text": [
      "   duration_Responder  duration_AED\n",
      "0                42.7         413.2\n",
      "1                89.8         272.7\n"
     ]
    }
   ],
   "source": [
    "print(df_fr_05)"
   ]
  },
  {
   "cell_type": "code",
   "execution_count": 59,
   "metadata": {},
   "outputs": [],
   "source": [
    "# add the vector time \n",
    "# Collect the first 5 rows of the \"Response Time\" column\n",
    "vector_times = df_interventions.iloc[:2, df_interventions.columns.get_loc('Response Time')]\n",
    "df_fr_05['duration_vector'] = vector_times"
   ]
  },
  {
   "cell_type": "code",
   "execution_count": 60,
   "metadata": {},
   "outputs": [
    {
     "data": {
      "text/html": [
       "<div>\n",
       "<style scoped>\n",
       "    .dataframe tbody tr th:only-of-type {\n",
       "        vertical-align: middle;\n",
       "    }\n",
       "\n",
       "    .dataframe tbody tr th {\n",
       "        vertical-align: top;\n",
       "    }\n",
       "\n",
       "    .dataframe thead th {\n",
       "        text-align: right;\n",
       "    }\n",
       "</style>\n",
       "<table border=\"1\" class=\"dataframe\">\n",
       "  <thead>\n",
       "    <tr style=\"text-align: right;\">\n",
       "      <th></th>\n",
       "      <th>duration_Responder</th>\n",
       "      <th>duration_AED</th>\n",
       "      <th>duration_vector</th>\n",
       "    </tr>\n",
       "  </thead>\n",
       "  <tbody>\n",
       "    <tr>\n",
       "      <th>0</th>\n",
       "      <td>42.7</td>\n",
       "      <td>413.2</td>\n",
       "      <td>547.0</td>\n",
       "    </tr>\n",
       "    <tr>\n",
       "      <th>1</th>\n",
       "      <td>89.8</td>\n",
       "      <td>272.7</td>\n",
       "      <td>509.0</td>\n",
       "    </tr>\n",
       "  </tbody>\n",
       "</table>\n",
       "</div>"
      ],
      "text/plain": [
       "   duration_Responder  duration_AED  duration_vector\n",
       "0                42.7         413.2            547.0\n",
       "1                89.8         272.7            509.0"
      ]
     },
     "execution_count": 60,
     "metadata": {},
     "output_type": "execute_result"
    }
   ],
   "source": [
    "df_fr_05"
   ]
  },
  {
   "cell_type": "code",
   "execution_count": 61,
   "metadata": {},
   "outputs": [],
   "source": [
    "# save df now so i can use later\n",
    "df_fr_05.to_csv('Data/try_sim.csv', index=False)"
   ]
  },
  {
   "cell_type": "code",
   "execution_count": 76,
   "metadata": {},
   "outputs": [],
   "source": [
    "# estimate probability of survival \n",
    "\n",
    "# save probabilites in df\n",
    "df_prob_05 = pd.DataFrame(columns=['prob_resp', 'prob_vec'])\n",
    "\n",
    "# loop through df \n",
    "for index, row in df_fr_05.iterrows():\n",
    "    prob_resp, prob_vec = survival.probability_survival(row['duration_Responder'], row['duration_AED'], row['duration_vector'])\n",
    "    # add calcualted probabilities to df \n",
    "    df_prob_05.loc[index] = {'prob_resp': prob_resp, 'prob_vec': prob_vec}"
   ]
  },
  {
   "cell_type": "code",
   "execution_count": 77,
   "metadata": {},
   "outputs": [
    {
     "data": {
      "text/html": [
       "<div>\n",
       "<style scoped>\n",
       "    .dataframe tbody tr th:only-of-type {\n",
       "        vertical-align: middle;\n",
       "    }\n",
       "\n",
       "    .dataframe tbody tr th {\n",
       "        vertical-align: top;\n",
       "    }\n",
       "\n",
       "    .dataframe thead th {\n",
       "        text-align: right;\n",
       "    }\n",
       "</style>\n",
       "<table border=\"1\" class=\"dataframe\">\n",
       "  <thead>\n",
       "    <tr style=\"text-align: right;\">\n",
       "      <th></th>\n",
       "      <th>prob_resp</th>\n",
       "      <th>prob_vec</th>\n",
       "    </tr>\n",
       "  </thead>\n",
       "  <tbody>\n",
       "    <tr>\n",
       "      <th>0</th>\n",
       "      <td>0.768690</td>\n",
       "      <td>0.382687</td>\n",
       "    </tr>\n",
       "    <tr>\n",
       "      <th>1</th>\n",
       "      <td>0.778381</td>\n",
       "      <td>0.409095</td>\n",
       "    </tr>\n",
       "  </tbody>\n",
       "</table>\n",
       "</div>"
      ],
      "text/plain": [
       "   prob_resp  prob_vec\n",
       "0   0.768690  0.382687\n",
       "1   0.778381  0.409095"
      ]
     },
     "execution_count": 77,
     "metadata": {},
     "output_type": "execute_result"
    }
   ],
   "source": [
    "df_prob_05"
   ]
  },
  {
   "cell_type": "code",
   "execution_count": 78,
   "metadata": {},
   "outputs": [],
   "source": [
    "# make some plots and some mean values... "
   ]
  },
  {
   "cell_type": "code",
   "execution_count": null,
   "metadata": {},
   "outputs": [],
   "source": []
  }
 ],
 "metadata": {
  "kernelspec": {
   "display_name": "Python 3",
   "language": "python",
   "name": "python3"
  },
  "language_info": {
   "codemirror_mode": {
    "name": "ipython",
    "version": 3
   },
   "file_extension": ".py",
   "mimetype": "text/x-python",
   "name": "python",
   "nbconvert_exporter": "python",
   "pygments_lexer": "ipython3",
   "version": "3.9.18"
  }
 },
 "nbformat": 4,
 "nbformat_minor": 2
}
